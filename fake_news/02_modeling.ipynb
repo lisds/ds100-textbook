{
 "cells": [
  {
   "cell_type": "markdown",
   "id": "e199bdba-aad3-4eb4-bb98-2003248b9bb2",
   "metadata": {},
   "source": [
    "# fitting logistic regression models"
   ]
  },
  {
   "cell_type": "code",
   "execution_count": 2,
   "id": "84d2846b-5cd9-4446-9d1f-b01c6d634409",
   "metadata": {},
   "outputs": [],
   "source": [
    "import sys\n",
    "import os\n",
    "if not any(path.endswith('textbook') for path in sys.path):\n",
    "    sys.path.append(os.path.abspath('../../..'))\n",
    "from textbook_utils import *"
   ]
  },
  {
   "cell_type": "markdown",
   "id": "ee32a3b8-7118-4a0f-8777-7f54eedd6274",
   "metadata": {},
   "source": [
    "## cleaning up text"
   ]
  },
  {
   "cell_type": "code",
   "execution_count": 3,
   "id": "ae9fafb3-9dc2-4c51-9690-1cae268af9bf",
   "metadata": {},
   "outputs": [
    {
     "data": {
      "text/html": [
       "<div>\n",
       "<style scoped>\n",
       "    .dataframe tbody tr th:only-of-type {\n",
       "        vertical-align: middle;\n",
       "    }\n",
       "\n",
       "    .dataframe tbody tr th {\n",
       "        vertical-align: top;\n",
       "    }\n",
       "\n",
       "    .dataframe thead th {\n",
       "        text-align: right;\n",
       "    }\n",
       "</style>\n",
       "<table border=\"1\" class=\"dataframe\">\n",
       "  <thead>\n",
       "    <tr style=\"text-align: right;\">\n",
       "      <th></th>\n",
       "      <th>baseurl</th>\n",
       "      <th>label</th>\n",
       "      <th>content</th>\n",
       "    </tr>\n",
       "  </thead>\n",
       "  <tbody>\n",
       "    <tr>\n",
       "      <th>0</th>\n",
       "      <td>dailybuzzlive.com</td>\n",
       "      <td>fake</td>\n",
       "      <td>cannibals arrested in florida claim eating hum...</td>\n",
       "    </tr>\n",
       "    <tr>\n",
       "      <th>1</th>\n",
       "      <td>houstonchronicle-tv.com</td>\n",
       "      <td>fake</td>\n",
       "      <td>breaking: trump fires deputy attorney general ...</td>\n",
       "    </tr>\n",
       "    <tr>\n",
       "      <th>2</th>\n",
       "      <td>higherperspectives.com</td>\n",
       "      <td>fake</td>\n",
       "      <td>keanu reeves shook the world with another powe...</td>\n",
       "    </tr>\n",
       "    <tr>\n",
       "      <th>...</th>\n",
       "      <td>...</td>\n",
       "      <td>...</td>\n",
       "      <td>...</td>\n",
       "    </tr>\n",
       "    <tr>\n",
       "      <th>824</th>\n",
       "      <td>msnbc.msn.com</td>\n",
       "      <td>real</td>\n",
       "      <td>oct. 11: levin, graham, mccaffrey, myers, roun...</td>\n",
       "    </tr>\n",
       "    <tr>\n",
       "      <th>825</th>\n",
       "      <td>foxnews.com</td>\n",
       "      <td>real</td>\n",
       "      <td>an open letter to 'all barack channel' - greta...</td>\n",
       "    </tr>\n",
       "    <tr>\n",
       "      <th>826</th>\n",
       "      <td>whitehouse.gov</td>\n",
       "      <td>real</td>\n",
       "      <td>state of the union 2013\\nthe state of the unio...</td>\n",
       "    </tr>\n",
       "  </tbody>\n",
       "</table>\n",
       "<p>827 rows × 3 columns</p>\n",
       "</div>"
      ],
      "text/plain": [
       "                     baseurl label  \\\n",
       "0          dailybuzzlive.com  fake   \n",
       "1    houstonchronicle-tv.com  fake   \n",
       "2     higherperspectives.com  fake   \n",
       "..                       ...   ...   \n",
       "824            msnbc.msn.com  real   \n",
       "825              foxnews.com  real   \n",
       "826           whitehouse.gov  real   \n",
       "\n",
       "                                               content  \n",
       "0    cannibals arrested in florida claim eating hum...  \n",
       "1    breaking: trump fires deputy attorney general ...  \n",
       "2    keanu reeves shook the world with another powe...  \n",
       "..                                                 ...  \n",
       "824  oct. 11: levin, graham, mccaffrey, myers, roun...  \n",
       "825  an open letter to 'all barack channel' - greta...  \n",
       "826  state of the union 2013\\nthe state of the unio...  \n",
       "\n",
       "[827 rows x 3 columns]"
      ]
     },
     "execution_count": 3,
     "metadata": {},
     "output_type": "execute_result"
    }
   ],
   "source": [
    "def combine_content(df):\n",
    "    return (df.assign(content=df['title'] + '\\n' + df['text'])\n",
    "            .drop(columns=['title', 'text']))\n",
    "\n",
    "def lowercase(df):\n",
    "    return df.assign(content=df['content'].str.lower())\n",
    "\n",
    "df = (pd.read_csv('fake_news.csv')\n",
    "      .fillna('')\n",
    "      .pipe(combine_content)\n",
    "      .pipe(lowercase)\n",
    "     )\n",
    "df"
   ]
  },
  {
   "cell_type": "markdown",
   "id": "cf4e0063-45cc-48f6-a0a2-815a6dc8b6cc",
   "metadata": {},
   "source": [
    "## train-test split"
   ]
  },
  {
   "cell_type": "code",
   "execution_count": 4,
   "id": "9dce22d3-7e57-4849-95ef-89a7a2e9c6b2",
   "metadata": {},
   "outputs": [
    {
     "data": {
      "text/html": [
       "<div>\n",
       "<style scoped>\n",
       "    .dataframe tbody tr th:only-of-type {\n",
       "        vertical-align: middle;\n",
       "    }\n",
       "\n",
       "    .dataframe tbody tr th {\n",
       "        vertical-align: top;\n",
       "    }\n",
       "\n",
       "    .dataframe thead th {\n",
       "        text-align: right;\n",
       "    }\n",
       "</style>\n",
       "<table border=\"1\" class=\"dataframe\">\n",
       "  <thead>\n",
       "    <tr style=\"text-align: right;\">\n",
       "      <th></th>\n",
       "      <th>baseurl</th>\n",
       "      <th>content</th>\n",
       "    </tr>\n",
       "  </thead>\n",
       "  <tbody>\n",
       "    <tr>\n",
       "      <th>529</th>\n",
       "      <td>twitter.com</td>\n",
       "      <td>\\njavascript is not available.\\n\\nwe’ve detect...</td>\n",
       "    </tr>\n",
       "    <tr>\n",
       "      <th>596</th>\n",
       "      <td>whitehouse.gov</td>\n",
       "      <td>remarks by the president at campaign event -- ...</td>\n",
       "    </tr>\n",
       "    <tr>\n",
       "      <th>396</th>\n",
       "      <td>web.archive.org</td>\n",
       "      <td>the committee on energy and commerce\\nbarton: ...</td>\n",
       "    </tr>\n",
       "    <tr>\n",
       "      <th>...</th>\n",
       "      <td>...</td>\n",
       "      <td>...</td>\n",
       "    </tr>\n",
       "    <tr>\n",
       "      <th>270</th>\n",
       "      <td>politico.com</td>\n",
       "      <td>full text: jeff flake on trump speech transcri...</td>\n",
       "    </tr>\n",
       "    <tr>\n",
       "      <th>435</th>\n",
       "      <td>pol.moveon.org</td>\n",
       "      <td>moveon.org political action: 10 things to know...</td>\n",
       "    </tr>\n",
       "    <tr>\n",
       "      <th>102</th>\n",
       "      <td>uspostman.com</td>\n",
       "      <td>uspostman.com is for sale\\nyes, you can transf...</td>\n",
       "    </tr>\n",
       "  </tbody>\n",
       "</table>\n",
       "<p>661 rows × 2 columns</p>\n",
       "</div>"
      ],
      "text/plain": [
       "             baseurl                                            content\n",
       "529      twitter.com  \\njavascript is not available.\\n\\nwe’ve detect...\n",
       "596   whitehouse.gov  remarks by the president at campaign event -- ...\n",
       "396  web.archive.org  the committee on energy and commerce\\nbarton: ...\n",
       "..               ...                                                ...\n",
       "270     politico.com  full text: jeff flake on trump speech transcri...\n",
       "435   pol.moveon.org  moveon.org political action: 10 things to know...\n",
       "102    uspostman.com  uspostman.com is for sale\\nyes, you can transf...\n",
       "\n",
       "[661 rows x 2 columns]"
      ]
     },
     "execution_count": 4,
     "metadata": {},
     "output_type": "execute_result"
    }
   ],
   "source": [
    "from sklearn.model_selection import train_test_split\n",
    "\n",
    "X = df[['baseurl', 'content']]\n",
    "y = df['label']\n",
    "\n",
    "X_train, X_test, y_train, y_test = train_test_split(\n",
    "    X, y, test_size=0.2, random_state=42,\n",
    ")\n",
    "X_train"
   ]
  },
  {
   "cell_type": "code",
   "execution_count": 7,
   "id": "d168fd7e-962c-48a2-a61e-f196586ef2f2",
   "metadata": {},
   "outputs": [],
   "source": [
    "training_set = X_train.assign(label=y_train)\n",
    "training_set.to_csv('fake_news_training.csv', index=False)"
   ]
  },
  {
   "cell_type": "markdown",
   "id": "d53baf3a-861a-48d0-a1e4-73c7cecb675d",
   "metadata": {},
   "source": [
    "## tf-idf"
   ]
  },
  {
   "cell_type": "markdown",
   "id": "9ec8a6e1-5f68-4f0b-8066-da0f14a74375",
   "metadata": {},
   "source": [
    "takes about 15 seconds to run:"
   ]
  },
  {
   "cell_type": "code",
   "execution_count": 4,
   "id": "6bf51b23-9dba-41bf-8bb1-8bb738fc6c7b",
   "metadata": {},
   "outputs": [
    {
     "name": "stdout",
     "output_type": "stream",
     "text": [
      "CPU times: user 14.4 s, sys: 203 ms, total: 14.6 s\n",
      "Wall time: 15.7 s\n"
     ]
    },
    {
     "data": {
      "text/plain": [
       "(661, 27904)"
      ]
     },
     "execution_count": 4,
     "metadata": {},
     "output_type": "execute_result"
    }
   ],
   "source": [
    "%%time\n",
    "\n",
    "import nltk\n",
    "from nltk.stem.porter import PorterStemmer\n",
    "from sklearn.feature_extraction.text import TfidfVectorizer\n",
    "\n",
    "stop_words = set(nltk.corpus.stopwords.words('english'))\n",
    "porter_stemmer = PorterStemmer()\n",
    "\n",
    "def stemming_tokenizer(document):\n",
    "    return [porter_stemmer.stem(word)\n",
    "            for word in nltk.word_tokenize(document)\n",
    "            if word not in stop_words]\n",
    "    return words\n",
    "\n",
    "tfidf = TfidfVectorizer(tokenizer=stemming_tokenizer)\n",
    "article_vectors = tfidf.fit_transform(X_train['content'])\n",
    "article_vectors.shape"
   ]
  },
  {
   "cell_type": "markdown",
   "id": "54f46e01-9aea-4532-9e7d-c3ab8a6eef9c",
   "metadata": {},
   "source": [
    "## pca"
   ]
  },
  {
   "cell_type": "code",
   "execution_count": 5,
   "id": "961f16e0-3ada-4870-b2aa-e09ffc9b7c29",
   "metadata": {},
   "outputs": [
    {
     "data": {
      "text/html": [
       "<div>\n",
       "<style scoped>\n",
       "    .dataframe tbody tr th:only-of-type {\n",
       "        vertical-align: middle;\n",
       "    }\n",
       "\n",
       "    .dataframe tbody tr th {\n",
       "        vertical-align: top;\n",
       "    }\n",
       "\n",
       "    .dataframe thead th {\n",
       "        text-align: right;\n",
       "    }\n",
       "</style>\n",
       "<table border=\"1\" class=\"dataframe\">\n",
       "  <thead>\n",
       "    <tr style=\"text-align: right;\">\n",
       "      <th></th>\n",
       "      <th>baseurl</th>\n",
       "      <th>content</th>\n",
       "      <th>pc1</th>\n",
       "      <th>pc2</th>\n",
       "      <th>label</th>\n",
       "    </tr>\n",
       "  </thead>\n",
       "  <tbody>\n",
       "    <tr>\n",
       "      <th>529</th>\n",
       "      <td>twitter.com</td>\n",
       "      <td>\\njavascript is not available.\\n\\nwe’ve detect...</td>\n",
       "      <td>0.07</td>\n",
       "      <td>0.30</td>\n",
       "      <td>real</td>\n",
       "    </tr>\n",
       "    <tr>\n",
       "      <th>596</th>\n",
       "      <td>whitehouse.gov</td>\n",
       "      <td>remarks by the president at campaign event -- ...</td>\n",
       "      <td>-0.14</td>\n",
       "      <td>-0.44</td>\n",
       "      <td>real</td>\n",
       "    </tr>\n",
       "    <tr>\n",
       "      <th>396</th>\n",
       "      <td>web.archive.org</td>\n",
       "      <td>the committee on energy and commerce\\nbarton: ...</td>\n",
       "      <td>-0.12</td>\n",
       "      <td>-0.13</td>\n",
       "      <td>real</td>\n",
       "    </tr>\n",
       "    <tr>\n",
       "      <th>...</th>\n",
       "      <td>...</td>\n",
       "      <td>...</td>\n",
       "      <td>...</td>\n",
       "      <td>...</td>\n",
       "      <td>...</td>\n",
       "    </tr>\n",
       "    <tr>\n",
       "      <th>270</th>\n",
       "      <td>politico.com</td>\n",
       "      <td>full text: jeff flake on trump speech transcri...</td>\n",
       "      <td>0.12</td>\n",
       "      <td>-0.30</td>\n",
       "      <td>fake</td>\n",
       "    </tr>\n",
       "    <tr>\n",
       "      <th>435</th>\n",
       "      <td>pol.moveon.org</td>\n",
       "      <td>moveon.org political action: 10 things to know...</td>\n",
       "      <td>-0.16</td>\n",
       "      <td>-0.14</td>\n",
       "      <td>real</td>\n",
       "    </tr>\n",
       "    <tr>\n",
       "      <th>102</th>\n",
       "      <td>uspostman.com</td>\n",
       "      <td>uspostman.com is for sale\\nyes, you can transf...</td>\n",
       "      <td>-0.01</td>\n",
       "      <td>0.20</td>\n",
       "      <td>fake</td>\n",
       "    </tr>\n",
       "  </tbody>\n",
       "</table>\n",
       "<p>661 rows × 5 columns</p>\n",
       "</div>"
      ],
      "text/plain": [
       "             baseurl                                            content   pc1  \\\n",
       "529      twitter.com  \\njavascript is not available.\\n\\nwe’ve detect...  0.07   \n",
       "596   whitehouse.gov  remarks by the president at campaign event -- ... -0.14   \n",
       "396  web.archive.org  the committee on energy and commerce\\nbarton: ... -0.12   \n",
       "..               ...                                                ...   ...   \n",
       "270     politico.com  full text: jeff flake on trump speech transcri...  0.12   \n",
       "435   pol.moveon.org  moveon.org political action: 10 things to know... -0.16   \n",
       "102    uspostman.com  uspostman.com is for sale\\nyes, you can transf... -0.01   \n",
       "\n",
       "      pc2 label  \n",
       "529  0.30  real  \n",
       "596 -0.44  real  \n",
       "396 -0.13  real  \n",
       "..    ...   ...  \n",
       "270 -0.30  fake  \n",
       "435 -0.14  real  \n",
       "102  0.20  fake  \n",
       "\n",
       "[661 rows x 5 columns]"
      ]
     },
     "execution_count": 5,
     "metadata": {},
     "output_type": "execute_result"
    }
   ],
   "source": [
    "from scipy.sparse.linalg import svds\n",
    "\n",
    "def compute_pcs(data, k):\n",
    "    centered = data - data.mean(axis=0)\n",
    "    U, s, Vt = svds(centered, k=k)\n",
    "    return U @ np.diag(s)\n",
    "\n",
    "# Setting the random seed doesn't affect svds(), so re-running this code\n",
    "# might flip the points along the x or y-axes.\n",
    "pcs = compute_pcs(article_vectors, k=2)\n",
    "\n",
    "# So we'll use a hack: we make sure the first row's PCs are both positive to get\n",
    "# the same plot each time.\n",
    "if pcs[0, 0] < 0:\n",
    "    pcs[:, 0] *= -1\n",
    "if pcs[0, 1] < 0:\n",
    "    pcs[:, 1] *= -1\n",
    "\n",
    "with_pcs1 = X_train.assign(pc1=pcs[:, 0], pc2=pcs[:, 1]).assign(label=y_train)\n",
    "with_pcs1"
   ]
  },
  {
   "cell_type": "code",
   "execution_count": 6,
   "id": "c4ab7525-91fa-4a0e-8ca1-557a4097e2a3",
   "metadata": {},
   "outputs": [
    {
     "data": {
      "application/vnd.plotly.v1+json": {
       "config": {
        "plotlyServerURL": "https://plot.ly"
       },
       "data": [
        {
         "customdata": [
          [
           "twitter.com"
          ],
          [
           "whitehouse.gov"
          ],
          [
           "web.archive.org"
          ],
          [
           "gop.gov"
          ],
          [
           "time.com"
          ],
          [
           "nbc.com"
          ],
          [
           "politicsdaily.com"
          ],
          [
           "democracynow.org"
          ],
          [
           "query.nytimes.com"
          ],
          [
           "senate.gov"
          ],
          [
           "politicaladarchive.org"
          ],
          [
           "politifact.com"
          ],
          [
           "medium.com"
          ],
          [
           "cq.com"
          ],
          [
           "abcnews.go.com"
          ],
          [
           "guttmacher.org"
          ],
          [
           "bobmcdonnell.com"
          ],
          [
           "washingtonpost.com"
          ],
          [
           "vote-smart.org"
          ],
          [
           "frontpagemagazine.com"
          ],
          [
           "politifact.com"
          ],
          [
           "tampabay.com"
          ],
          [
           "johnmccain.com"
          ],
          [
           "legis.state.ak.us"
          ],
          [
           "cbo.gov"
          ],
          [
           "politifact.com"
          ],
          [
           "nytimes.com"
          ],
          [
           "politicalticker.blogs.cnn.com"
          ],
          [
           "tonto.eia.doe.gov"
          ],
          [
           "teddeutch.house.gov"
          ],
          [
           "whitehouse.gov"
          ],
          [
           "nytimes.com"
          ],
          [
           "whitehouse.gov"
          ],
          [
           "nytimes.com"
          ],
          [
           "nytimes.com"
          ],
          [
           "whitehouse.gov"
          ],
          [
           "whitehouse.gov"
          ],
          [
           "nytimes.com"
          ],
          [
           "abcnews.go.com"
          ],
          [
           "abcnews.go.com"
          ],
          [
           "msnbc.msn.com"
          ],
          [
           "medium.com"
          ],
          [
           "www6.lexisnexis.com"
          ],
          [
           "pbs.org"
          ],
          [
           "whitehouse.gov"
          ],
          [
           "barackobamaexperiment.com"
          ],
          [
           "msnbc.msn.com"
          ],
          [
           "nbcnews.com"
          ],
          [
           "teamster.org"
          ],
          [
           "time.com"
          ],
          [
           "nbcnews.com"
          ],
          [
           "abcnews.go.com"
          ],
          [
           "govtrack.us"
          ],
          [
           "politifact.com"
          ],
          [
           "politifact.com"
          ],
          [
           "rockymountainnews.com"
          ],
          [
           "nymag.com"
          ],
          [
           "cq.com"
          ],
          [
           "flake.senate.gov"
          ],
          [
           "whitehouse.gov"
          ],
          [
           "paul.senate.gov"
          ],
          [
           "whitehouse.gov"
          ],
          [
           "evanjenkins.house.gov"
          ],
          [
           "washingtonpost.com"
          ],
          [
           "foxnews.com"
          ],
          [
           "whitehouse.gov"
          ],
          [
           "msnbc.msn.com"
          ],
          [
           "abcnews.go.com"
          ],
          [
           "sotu.blogs.cnn.com"
          ],
          [
           "greentechmedia.com"
          ],
          [
           "nytimes.com"
          ],
          [
           "thomas.loc.gov"
          ],
          [
           "blogs.rollcall.com"
          ],
          [
           "dems.gov"
          ],
          [
           "guardian.co.uk"
          ],
          [
           "ilga.gov"
          ],
          [
           "cnn.com"
          ],
          [
           "obama.senate.gov"
          ],
          [
           "iqmediacorp.com"
          ],
          [
           "washingtonpost.com"
          ],
          [
           "medium.com"
          ],
          [
           "press.org"
          ],
          [
           "irs.gov"
          ],
          [
           "washingtonpost.com"
          ],
          [
           "politifact.com"
          ],
          [
           "washingtonpost.com"
          ],
          [
           "rawstory.com"
          ],
          [
           "nytimes.com"
          ],
          [
           "west.congressnewsletter.net"
          ],
          [
           "time.com"
          ],
          [
           "nfib-sbet.org"
          ],
          [
           "senate.gov"
          ],
          [
           "frwebgate.access.gpo.gov"
          ],
          [
           "defenselink.mil"
          ],
          [
           "alexander.senate.gov"
          ],
          [
           "washingtonpost.com"
          ],
          [
           "abcnews.go.com"
          ],
          [
           "cq.com"
          ],
          [
           "video.foxnews.com"
          ],
          [
           "foxnews.com"
          ],
          [
           "foxnews.com"
          ],
          [
           "cq.com"
          ],
          [
           "washingtonpost.com"
          ],
          [
           "abcnews.go.com"
          ],
          [
           "edition.cnn.com"
          ],
          [
           "msnbc.msn.com"
          ],
          [
           "nbcnews.com"
          ],
          [
           "cuinsight.com"
          ],
          [
           "nytimes.com"
          ],
          [
           "my.barackobama.com"
          ],
          [
           "transcriptswire.cq.com"
          ],
          [
           "msnbc.msn.com"
          ],
          [
           "barackobama.com"
          ],
          [
           "foxnews.com"
          ],
          [
           "whitehouse.gov"
          ],
          [
           "businessinsider.com"
          ],
          [
           "bioguide.congress.gov"
          ],
          [
           "asce.org"
          ],
          [
           "washingtonpost.com"
          ],
          [
           "bls.gov"
          ],
          [
           "politics.blogs.foxnews.com"
          ],
          [
           "whitehouse.gov"
          ],
          [
           "foxnews.com"
          ],
          [
           "abcnews.go.com"
          ],
          [
           "politifact.com"
          ],
          [
           "pol.moveon.org"
          ],
          [
           "nytimes.com"
          ],
          [
           "tampabay.com"
          ],
          [
           "nytimes.com"
          ],
          [
           "politifact.com"
          ],
          [
           "blogs.desmoinesregister.com"
          ],
          [
           "youtu.be"
          ],
          [
           "politifact.com"
          ],
          [
           "cnn.com"
          ],
          [
           "opensecrets.org"
          ],
          [
           "whitehouse.gov"
          ],
          [
           "pbs.org"
          ],
          [
           "cq.com"
          ],
          [
           "boston.com"
          ],
          [
           "msnbc.msn.com"
          ],
          [
           "politifact.com"
          ],
          [
           "facebook.com"
          ],
          [
           "query.nytimes.com"
          ],
          [
           "mass.gov"
          ],
          [
           "twitter.com"
          ],
          [
           "nytimes.com"
          ],
          [
           "taxpolicycenter.org"
          ],
          [
           "senate.gov"
          ],
          [
           "politifact.com"
          ],
          [
           "cbsnews.com"
          ],
          [
           "senate.gov"
          ],
          [
           "cnn.com"
          ],
          [
           "my.barackobama.com"
          ],
          [
           "johnmccain.com"
          ],
          [
           "projects.washingtonpost.com"
          ],
          [
           "dni.gov"
          ],
          [
           "tsa.gov"
          ],
          [
           "globalsecurity.org"
          ],
          [
           "medium.com"
          ],
          [
           "thedailyshow.com"
          ],
          [
           "abcnews.go.com"
          ],
          [
           "kff.org"
          ],
          [
           "senate.gov"
          ],
          [
           "obama.senate.gov"
          ],
          [
           "plannedparenthoodaction.org"
          ],
          [
           "eia.gov"
          ],
          [
           "demconvention.com"
          ],
          [
           "msnbc.msn.com"
          ],
          [
           "whitehouse.gov"
          ],
          [
           "fedupthebook.com"
          ],
          [
           "cq.com"
          ],
          [
           "cbsnews.com"
          ],
          [
           "abcnews.go.com"
          ],
          [
           "abcnews.go.com"
          ],
          [
           "time.com"
          ],
          [
           "www6.lexisnexis.com"
          ],
          [
           "cnn.com"
          ],
          [
           "nytimes.com"
          ],
          [
           "barackobama.com"
          ],
          [
           "nap.edu"
          ],
          [
           "politifact.com"
          ],
          [
           "politifact.com"
          ],
          [
           "webcache.googleusercontent.com"
          ],
          [
           "foxnews.com"
          ],
          [
           "stabenow.senate.gov"
          ],
          [
           "washingtonpost.com"
          ],
          [
           "huffingtonpost.com"
          ],
          [
           "whitehouse.gov"
          ],
          [
           "msnbc.msn.com"
          ],
          [
           "bls.gov"
          ],
          [
           "ssa.gov"
          ],
          [
           "whitehouse.gov"
          ],
          [
           "mittvmitt.com"
          ],
          [
           "rollcall.com"
          ],
          [
           "facebook.com"
          ],
          [
           "time.com"
          ],
          [
           "abcnews.go.com"
          ],
          [
           "ecfr.gov"
          ],
          [
           "cnn.com"
          ],
          [
           "whitehouse.gov"
          ],
          [
           "foxnews.com"
          ],
          [
           "data.unhcr.org"
          ],
          [
           "nytimes.com"
          ],
          [
           "thecaucus.blogs.nytimes.com"
          ],
          [
           "abcnews.go.com"
          ],
          [
           "adn.com"
          ],
          [
           "whitehouse.gov"
          ],
          [
           "twitter.com"
          ],
          [
           "azdps.gov"
          ],
          [
           "law.cornell.edu"
          ],
          [
           "msnbc.com"
          ],
          [
           "msnbc.msn.com"
          ],
          [
           "colbertnation.com"
          ],
          [
           "energycommerce.house.gov"
          ],
          [
           "nytimes.com"
          ],
          [
           "pollingreport.com"
          ],
          [
           "obama.senate.gov"
          ],
          [
           "medium.com"
          ],
          [
           "whitehouse.gov"
          ],
          [
           "clinton.senate.gov"
          ],
          [
           "kff.org"
          ],
          [
           "medium.com"
          ],
          [
           "medium.com"
          ],
          [
           "politifact.com"
          ],
          [
           "video.foxnews.com"
          ],
          [
           "abcnews.go.com"
          ],
          [
           "demint.senate.gov"
          ],
          [
           "berniesanders.com"
          ],
          [
           "thomas.loc.gov"
          ],
          [
           "whitehouse.gov"
          ],
          [
           "cdc.gov"
          ],
          [
           "politifact.com"
          ],
          [
           "foxnews.com"
          ],
          [
           "www6.lexisnexis.com"
          ],
          [
           "politifact.com"
          ],
          [
           "nobelprize.org"
          ],
          [
           "hillaryclinton.com"
          ],
          [
           "cnn.com"
          ],
          [
           "whitehouse.gov"
          ],
          [
           "cbsnews.com"
          ],
          [
           "abcnews.go.com"
          ],
          [
           "cq.com"
          ],
          [
           "johnmccain.com"
          ],
          [
           "abcnews.go.com"
          ],
          [
           "afp.google.com"
          ],
          [
           "berniesanders.com"
          ],
          [
           "bls.gov"
          ],
          [
           "abcnews.go.com"
          ],
          [
           "twitter.com"
          ],
          [
           "beta.criticalmention.com"
          ],
          [
           "thehill.com"
          ],
          [
           "pewforum.org"
          ],
          [
           "washingtonpost.com"
          ],
          [
           "politico.com"
          ],
          [
           "mcclatchydc.com"
          ],
          [
           "npr.org"
          ],
          [
           "query.nytimes.com"
          ],
          [
           "foreignaffairs.org"
          ],
          [
           "c-span.org"
          ],
          [
           "whitehouse.gov"
          ],
          [
           "whitehouse.gov"
          ],
          [
           "mittromney.com"
          ],
          [
           "ryannewman.org"
          ],
          [
           "cq.com"
          ],
          [
           "barackobama.com"
          ],
          [
           "whitehouse.gov"
          ],
          [
           "crime.chicagotribune.com"
          ],
          [
           "bloomberg.com"
          ],
          [
           "medium.com"
          ],
          [
           "state.gov"
          ],
          [
           "politicaladarchive.org"
          ],
          [
           "c-span.org"
          ],
          [
           "thepage.time.com"
          ],
          [
           "clinton.senate.gov"
          ],
          [
           "america.aljazeera.com"
          ],
          [
           "thehill.com"
          ],
          [
           "news.yahoo.com"
          ],
          [
           "nrdc.org"
          ],
          [
           "politicaladarchive.org"
          ],
          [
           "ams.usda.gov"
          ],
          [
           "brighthorizons.com"
          ],
          [
           "republicanleader.house.gov"
          ],
          [
           "politicaladarchive.org"
          ],
          [
           "abcnews.go.com"
          ],
          [
           "action.getourtroopsout.com"
          ],
          [
           "twitter.com"
          ],
          [
           "govtrack.us"
          ],
          [
           "nytimes.com"
          ],
          [
           "politifact.com"
          ],
          [
           "cbsnews.com"
          ],
          [
           "unhcr.org"
          ],
          [
           "nytimes.com"
          ],
          [
           "pbs.org"
          ],
          [
           "politifact.com"
          ],
          [
           "latimesblogs.latimes.com"
          ],
          [
           "cq.com"
          ],
          [
           "barackobama.com"
          ],
          [
           "cq.com"
          ],
          [
           "talkingpointsmemo.com"
          ],
          [
           "cqpolitics.com"
          ],
          [
           "query.nytimes.com"
          ],
          [
           "kff.org"
          ],
          [
           "politifact.com"
          ],
          [
           "google.com"
          ],
          [
           "foxnews.com"
          ],
          [
           "msnbc.msn.com"
          ],
          [
           "nytimes.com"
          ],
          [
           "action.citizen.org"
          ],
          [
           "reuters.com"
          ],
          [
           "politicalticker.blogs.cnn.com"
          ],
          [
           "newschannel5.com"
          ],
          [
           "fuelgaugereport.com"
          ],
          [
           "pol.moveon.org"
          ],
          [
           "washingtonpost.com"
          ],
          [
           "www6.lexisnexis.com"
          ],
          [
           "politico.com"
          ],
          [
           "epi.org"
          ],
          [
           "time.com"
          ],
          [
           "minnesota.cbslocal.com"
          ],
          [
           "msnbc.msn.com"
          ],
          [
           "themoscowtimes.com"
          ],
          [
           "cqpolitics.com"
          ],
          [
           "abcnews.go.com"
          ],
          [
           "nytimes.com"
          ],
          [
           "hillaryclinton.com"
          ],
          [
           "politifact.com"
          ],
          [
           "nytimes.com"
          ],
          [
           "colbertnation.com"
          ],
          [
           "politifact.com"
          ],
          [
           "hitwise.com"
          ],
          [
           "nbcnews.com"
          ],
          [
           "blogs.wsj.com"
          ],
          [
           "ap.google.com"
          ],
          [
           "blog.aflcio.org"
          ],
          [
           "documentcloud.org"
          ],
          [
           "cq.com"
          ],
          [
           "documents.nytimes.com"
          ],
          [
           "plannedparenthoodaction.org"
          ],
          [
           "ohioart.com"
          ],
          [
           "foxnews.com"
          ],
          [
           "senate.gov"
          ],
          [
           "select.nytimes.com"
          ],
          [
           "cnn.com"
          ],
          [
           "cq.com"
          ],
          [
           "taxpolicycenter.org"
          ],
          [
           "opensecrets.org"
          ],
          [
           "sasse.senate.gov"
          ],
          [
           "twitter.com"
          ],
          [
           "popularmechanics.com"
          ],
          [
           "judiciary.house.gov"
          ],
          [
           "edition.cnn.com"
          ],
          [
           "economist.com"
          ],
          [
           "medium.com"
          ],
          [
           "chicagotribune.com"
          ],
          [
           "debates.org"
          ],
          [
           "pollingreport.com"
          ],
          [
           "findarticles.com"
          ],
          [
           "unionleader.com"
          ],
          [
           "twitter.com"
          ],
          [
           "vote-smart.org"
          ],
          [
           "bls.gov"
          ],
          [
           "data.bls.gov"
          ],
          [
           "pol.moveon.org"
          ]
         ],
         "hovertemplate": "label=real<br>pc1=%{x}<br>pc2=%{y}<br>baseurl=%{customdata[0]}<extra></extra>",
         "legendgroup": "real",
         "marker": {
          "color": "#1F77B4",
          "symbol": "circle"
         },
         "mode": "markers",
         "name": "real",
         "orientation": "v",
         "showlegend": true,
         "type": "scatter",
         "x": [
          0.07350336534101642,
          -0.14388043809292994,
          -0.11790986982646558,
          -0.15043461492364216,
          0.3329300248065554,
          -0.03964572314856955,
          -0.17732496185039015,
          0.0878203326646957,
          -0.027387910275051414,
          -0.024319512140667084,
          -0.00740809699433264,
          -0.027087065334896143,
          0.08531726158392708,
          -0.16640262035717773,
          0.07657122987477313,
          -0.011367113976673423,
          -0.014297807715654032,
          0.1436878499278205,
          -0.03787790338141554,
          -0.0902745447409486,
          0.05966816565760838,
          -0.10457654115708294,
          -0.09199976206758256,
          0.003821158383857652,
          -0.04439923661360355,
          -0.12780702355103674,
          -0.12308087485802394,
          -0.19430399731238737,
          -0.0016028917369456564,
          -0.03905779427006343,
          0.02333827986586937,
          0.059443605281607505,
          0.03242487870507663,
          -0.11635371718572814,
          0.07708139208230967,
          0.09150435523663575,
          0.06400794380029261,
          -0.12185105203562052,
          -0.2239232238619598,
          -0.23417338499623608,
          -0.016355564062326224,
          0.15317756076776487,
          -0.01465162180132874,
          -0.041206296098520695,
          -0.23283000616328028,
          0.12043029242831153,
          -0.016355564062325918,
          0.1406623703730086,
          -0.05925152608850047,
          0.004452374325604379,
          0.012945018731934705,
          -0.20523153067200386,
          -0.024993274425960135,
          -0.10036460095428638,
          -0.048584682217190436,
          -0.0945255359737986,
          0.16344340950132974,
          -0.17916969128407326,
          0.06521912432414424,
          -0.0035458330310198256,
          -0.016219273288642255,
          -0.1971436625772679,
          -0.04449007097181983,
          0.0010136607368163414,
          -0.18356210098812367,
          0.07444880557305039,
          -0.016355564062326255,
          -0.20655958843161054,
          0.041556174010241045,
          -0.018023874063850257,
          -0.11585479051938309,
          -0.02416152276804518,
          0.12233600502142562,
          0.13745891716787845,
          -0.1472803366904106,
          -0.0198152687665857,
          -0.02061242717744746,
          -0.026742488326189775,
          -0.0025458975123365995,
          -0.1344348823964269,
          0.1489102366053256,
          0.005331279879410189,
          -0.04610947239000873,
          -0.17325110070561744,
          0.007468957477165964,
          0.2410135887204241,
          0.11890548374664726,
          0.06943602168609433,
          -0.004269117874268453,
          0.2108170573100873,
          -0.07003252875678899,
          -0.02431951214066727,
          -0.028270225274452124,
          -0.06083447566619327,
          -0.01075362185313925,
          0.2520348233182832,
          -0.1729995372708418,
          -0.12687672177175705,
          5.012915334123027e-05,
          -0.13484857437497375,
          -0.07256425167606732,
          -0.003726503622174655,
          0.07233054630375098,
          -0.2019040189687696,
          -0.22055862451798458,
          -0.016355564062326074,
          0.011918894884550984,
          -0.01014112909437292,
          -0.11635371718572844,
          -0.03719630225591764,
          -0.0032761268577823927,
          -0.016355564062326026,
          -0.14857245955519416,
          -0.1470530258533998,
          0.032424878705076834,
          -0.05314185895652481,
          0.002069092381619597,
          -0.10997737670029077,
          -0.1615220221919332,
          -0.05141950192900661,
          -0.14366324035764103,
          -0.1635821023982027,
          -0.026732521240799733,
          -0.21517446098388945,
          -0.057995476129929495,
          -0.16339195630208433,
          0.17333701055156606,
          -0.10256016963793593,
          0.004964926871557998,
          -0.01698382764955977,
          -0.017027685548061833,
          -0.010349207207677623,
          0.02687448650696636,
          -0.19369707272730669,
          -0.02039971875534844,
          0.0620906434523918,
          -0.15600247576724757,
          -0.07107772762302435,
          0.26819751939775427,
          -0.016355564062326165,
          -0.09575899078565099,
          0.0024031051829370926,
          -0.05877451737489429,
          -0.02642838459115403,
          0.07350336534101624,
          0.051132880225955905,
          -0.027687362647706232,
          -0.02528711698879737,
          0.046602457073969525,
          -0.1124465385962099,
          -0.024319512140667285,
          -0.2503619686714678,
          0.07903350776089794,
          -0.018638639726513077,
          -0.2042189952129547,
          5.380205688479567e-05,
          -0.0007159151952313283,
          -0.0936175792944283,
          0.15317756076776454,
          -0.007476034087558112,
          -0.19085379845165124,
          -0.12020254572863914,
          -0.041017857692772546,
          -0.012270796092022631,
          -0.05013943906718082,
          -0.020047147122408952,
          0.1262942485623846,
          -0.016355564062326126,
          -0.1226863036922321,
          -0.030382321097567062,
          -0.15972827332558612,
          -0.11127581012769658,
          -0.22825145218570433,
          -0.21664171380302397,
          0.11859480893903367,
          -0.01465162180132889,
          -0.10608259940974406,
          0.04413033245638886,
          -0.13440024019078947,
          -0.023199578036527085,
          -0.016778902913551504,
          -0.150441055602872,
          0.027047988991319646,
          -0.11264287064219983,
          0.028956587982776293,
          -0.026837775425209986,
          -0.09941918884137173,
          0.012791400489331067,
          -0.016355564062325932,
          -0.051419501929006434,
          -0.09207969793537027,
          -0.006036337341577802,
          0.07433680676475357,
          -0.05901228232279915,
          0.0024031051829370422,
          0.058487456590451445,
          -0.22498927667820054,
          -0.027367293118955707,
          -0.15044643344485453,
          0.11791752345888386,
          -0.15279812893956632,
          -0.026631887342453538,
          0.06822650243005117,
          0.2231117876258465,
          -0.1800078784728998,
          -0.08281120909867588,
          -0.04631138471291187,
          0.07350336534101617,
          -0.004464462280999676,
          0.0161127654103991,
          0.04479676152363219,
          -0.01635556406232595,
          -0.011954677820413729,
          -0.035144998429704616,
          -0.016780636199797264,
          -0.02504928201282248,
          -0.02276435074362292,
          0.19635852585742783,
          -0.08087021400793258,
          0.007146721547678377,
          -0.007771539718681354,
          0.022404838759995518,
          0.1729492217088211,
          -0.08320511987552101,
          0.03894417031789568,
          -0.20026709532040943,
          0.10329775928021458,
          0.07414161316365712,
          -0.043741250775684276,
          0.14477929034230635,
          -0.002208365635855408,
          -0.06577140322808872,
          -0.18294338700865728,
          -0.014651621801328514,
          -0.00046726367461878693,
          0.06444886734833297,
          0.0908981528784465,
          -0.18420842106519847,
          -0.0020591539942457,
          -0.16891816727445952,
          -0.20375026738177632,
          -0.0037265036221747305,
          -0.14398101521252346,
          -0.2049038729709963,
          -0.09490492731497044,
          -0.005869402821527635,
          -0.051419501929006746,
          -0.14369845652837573,
          0.07350336534101624,
          0.006141803922271643,
          -0.11411732057510425,
          0.03684252163489768,
          -0.09630150964295034,
          -0.005118041128439102,
          -0.1098405824278477,
          -0.17715021500236017,
          -0.1041171768588843,
          -0.11163883397590646,
          0.006230954320395144,
          0.023338279865869296,
          0.07292702052897622,
          -0.1731042020164596,
          -0.04888259373454124,
          -0.0037265036221747305,
          -0.1066423634130815,
          0.03787076830861366,
          -0.009898794569358313,
          0.002280081510573131,
          0.004862339178555822,
          0.0015365753668150873,
          0.08618590748774765,
          0.03129366283057305,
          -0.14783810332368827,
          -0.04994412270802964,
          -0.10595240460697543,
          -0.02244839447299045,
          -0.06558230722089312,
          -0.006276154119695738,
          -0.007408096994332628,
          -0.01738358152454267,
          -0.0384048469228291,
          0.014823187550241998,
          0.08618590748774749,
          -0.21352970851590852,
          -0.025353954586446684,
          0.07350336534101623,
          -0.05675973256962951,
          0.06040700839993765,
          -0.04433665124590918,
          -0.16964124199521938,
          0.02602613385922514,
          0.07160597519248138,
          -0.056152334232225355,
          -0.1369497647882057,
          0.12626127717613309,
          -0.138642697266288,
          -0.14857245955519396,
          -0.0037265036221748307,
          -0.05830281784217796,
          -0.02644268741732463,
          -0.09257589064172059,
          -0.02021105614652602,
          -0.027087065334896222,
          0.004476672178114263,
          -0.17680630452001955,
          -0.01635556406232616,
          -0.1095215782594177,
          0.017318890827513353,
          0.033552763470506536,
          0.07167750451056884,
          -0.07310622588434204,
          -0.05616711202720543,
          0.007537524837908226,
          -0.16459203579120252,
          -0.01465162180132859,
          0.12062585899555979,
          -0.03407204666365364,
          0.004554470540590164,
          -0.056725137441942484,
          -0.1883328344007657,
          -0.04146214275242347,
          -0.026442687417324817,
          0.1536714145255565,
          0.1395574856645426,
          -0.13334506295547877,
          -0.1271188714731113,
          0.047543917991692976,
          -0.011954677820413854,
          0.043210647767016636,
          -0.0663631886973885,
          -0.026273082260385952,
          0.05454551517365412,
          -0.07810351271574245,
          0.05171199069471106,
          0.001873413575456919,
          -0.18190331195614698,
          0.013680293060297395,
          -0.10442554647150927,
          0.04438510681415971,
          -0.027254713679081475,
          -0.025287116988797445,
          -0.019281518867885157,
          -0.23481635035421292,
          -0.006974648702059659,
          -0.050523304490686774,
          -0.06713585931495722,
          0.04322683311846733,
          0.07350336534101651,
          -0.10180886615782028,
          -0.15082625379035947,
          -0.15964052900132217,
          0.18536037518069437,
          -0.009707112402432634,
          -0.12852046665130332,
          -0.23968660532383862,
          -0.11648565787194334,
          -0.0007113440452774182,
          -0.05883560704492203,
          0.0735033653410162,
          -0.034012618253231354,
          -0.02630765820295551,
          -0.056338814061848576,
          -0.16339195630208422
         ],
         "xaxis": "x",
         "y": [
          0.298278150559483,
          -0.44028502476197445,
          -0.1276311701144777,
          -0.18431024203917035,
          -0.1608713714063657,
          0.18605433711354663,
          -0.28611101260480815,
          -0.3908637055927347,
          0.07255636424462837,
          0.18133839948870725,
          0.15431709535350352,
          -0.014283864289665498,
          -0.25634401214594255,
          -0.538640547279117,
          0.27887873662286716,
          0.013186172440556322,
          0.018929395100493258,
          -0.461669265242218,
          0.15194476624191702,
          -0.11155427745750311,
          -0.07937112949517958,
          -0.12275423449045231,
          -0.022791739612820845,
          0.20761627259957383,
          0.033086597271149945,
          -0.1505105999780325,
          -0.3010522592275899,
          -0.39270418886624703,
          0.30479168124721784,
          0.05960911762079945,
          -0.3715501404651546,
          -0.058974803699561866,
          -0.46745608749814793,
          -0.2759107608935807,
          -0.1989521109109661,
          -0.5067177105148668,
          -0.5193099338793998,
          -0.32564070816264584,
          -0.49659104903293544,
          -0.5034363134004429,
          0.06653927165906702,
          -0.515815816862277,
          0.2471559207569232,
          0.20279756788330486,
          -0.5748939652222782,
          0.1268637357858709,
          0.06653927165906642,
          -0.21139097674726215,
          0.009175916251008866,
          0.31060973026261146,
          0.22143074807426133,
          -0.4606401952934585,
          0.04848431644698854,
          -0.09268736161812184,
          0.018411997896404034,
          -0.2108763894406136,
          -0.15460093308376455,
          -0.5244826503428708,
          -0.07229053845248487,
          -0.44540354526170717,
          0.1907240441490452,
          -0.4576583619337095,
          0.10771483998043054,
          -0.16717130706407274,
          -0.38776156626375335,
          -0.4384548584169177,
          0.066539271659067,
          -0.521757914035442,
          0.17708040386724203,
          0.16206372574931882,
          -0.20834871080533085,
          0.19147396812280795,
          -0.016887400113749347,
          -0.3691069431781504,
          -0.1454730125038448,
          0.21568700299179344,
          0.09421127158208807,
          -0.044975025804073726,
          0.3040645746164563,
          -0.22421238494410578,
          -0.4466863059665164,
          0.2451247982509295,
          0.16255118366205304,
          -0.5714201092184716,
          -0.06943713902587373,
          -0.18126589945860586,
          0.02336233031473645,
          -0.1328670481578885,
          -0.28550440756987194,
          -0.41158334744403874,
          0.0800048574151467,
          0.18133839948870747,
          0.23733698698759875,
          0.1760502891067959,
          0.3036058485987639,
          -0.1733393799448208,
          -0.17821410266331347,
          -0.5045050666612714,
          0.2786266929740725,
          -0.31669447160459074,
          -0.5182530091162041,
          0.2354420395300202,
          -0.17632476083565388,
          -0.4788408822192219,
          -0.5455745763352725,
          0.06653927165906674,
          0.023599997326097313,
          0.11726332750204739,
          -0.2759107608935801,
          0.16266530319684377,
          0.13672387339616238,
          0.06653927165906659,
          -0.3593391399037575,
          -0.5018807660586505,
          -0.46745608749814754,
          0.09934702423791872,
          0.24830761593181122,
          -0.03082128326122933,
          -0.5136596495527472,
          0.14596648353830277,
          -0.35563011173226156,
          -0.29530102144390047,
          0.06938989374442395,
          -0.4720838578014112,
          -0.11169409417524384,
          -0.1433113792081058,
          0.009153275669587487,
          -0.1382107171153667,
          0.009064426139971021,
          0.041409909915789404,
          0.21043541776830235,
          0.3093138118639112,
          -0.015887230791686448,
          -0.5082214910025988,
          0.06977045912977646,
          0.03797764327051971,
          -0.4059957686755173,
          -0.1347321733960597,
          -0.15328131566290898,
          0.06653927165906687,
          -0.19505490810918663,
          0.2698532785104906,
          -0.08328781446069584,
          0.28758705313596117,
          0.2982781505594834,
          0.08024690570899615,
          0.2095850828292862,
          0.17927060769451608,
          -0.10704542283950044,
          0.004136658733349733,
          0.1813383994887075,
          -0.5260648867214015,
          -0.38306361166376873,
          0.08245972948671702,
          -0.4893024454026599,
          0.03795897130742042,
          0.1702041012711878,
          -0.2993450060045325,
          -0.5158158168622765,
          0.21739282544275984,
          -0.4055813700756971,
          -0.03681459729941414,
          0.1524215987248793,
          0.11071221190101302,
          0.14019056569580085,
          0.15791860451297723,
          -0.4161917781007942,
          0.06653927165906676,
          -0.2872607988926628,
          0.02405516913236112,
          -0.363633930406281,
          -0.15010344740319587,
          -0.4939897745666007,
          -0.4687245451180433,
          -0.5067400128789222,
          0.2471559207569231,
          -0.20232851333724813,
          0.034979801501434926,
          -0.4214279844586189,
          0.12573063166800527,
          -0.10957275611777906,
          -0.03946929096229563,
          0.12455228387330253,
          -0.4349682842780711,
          0.17772628383240288,
          0.05385990539764982,
          -0.09653881256822881,
          -0.43710582326440206,
          0.06653927165906667,
          0.14596648353830266,
          -0.2906761427207089,
          -0.5232125217302215,
          0.2047853246083223,
          -0.078506184628286,
          0.2698532785104905,
          -0.1499448977639839,
          -0.4777557526105068,
          0.2033176147568916,
          -0.4975572638919186,
          -0.4195667457501859,
          -0.4921379526801987,
          0.04030239051348958,
          -0.01365141620081708,
          -0.20714682123429198,
          -0.45132225967867673,
          -0.07203340059700077,
          -0.4373448692710353,
          0.2982781505594833,
          0.1873251095340049,
          0.13155766745625028,
          0.23158389313910654,
          0.0665392716590665,
          0.2725410699747213,
          0.1800260936830438,
          -0.11641710410276172,
          0.1956921234318451,
          0.06473776832202124,
          -0.1547937695161992,
          -0.07743937629379688,
          0.02467720894571346,
          0.10803116868572286,
          0.018382163369779995,
          -0.29344116059629904,
          -0.03394339871828809,
          0.2844224592340064,
          -0.498395103452988,
          -0.056263643050776684,
          0.03751677128779842,
          0.16927384112073077,
          -0.23352603361739072,
          0.23492488072286463,
          -0.25458339817304293,
          -0.2749448978494735,
          0.24715592075692286,
          0.0325307639103194,
          0.23948239580741723,
          -0.44355578625964115,
          -0.5553615032468529,
          -0.050175751623929774,
          -0.09726916394456846,
          -0.5031814252153339,
          0.23544203953002016,
          -0.5070756896396903,
          -0.4798609400175768,
          -0.04087094670952545,
          0.11042403112709301,
          0.1459664835383031,
          -0.4394296367078465,
          0.29827815055948326,
          0.30115906521641983,
          0.0035943795199194586,
          0.004272574864786568,
          -0.4444396870601341,
          0.1395789996341081,
          -0.1627325484576287,
          -0.5152039808493418,
          -0.1555628093559044,
          -0.20572102445430474,
          0.10261106845456845,
          -0.3715501404651543,
          -0.17903626344588044,
          -0.15103597382989645,
          0.27434495319767194,
          0.23544203953002035,
          -0.3360439621158497,
          -0.4981068310041812,
          0.15677129044899854,
          0.26052362389846345,
          0.15465573420622727,
          0.0038224623646835546,
          0.05965381059978537,
          0.061107335730317104,
          -0.20108742860533196,
          -0.28751323013331,
          0.00491859189075121,
          0.049716053441209294,
          -0.06018428990217953,
          0.2256651015831574,
          0.1543170953535036,
          0.12789419858156917,
          0.037492469993669765,
          0.04947223615637514,
          0.059653810599785785,
          -0.45575464852510494,
          0.2198596381771241,
          0.2982781505594833,
          -0.15492068291806663,
          -0.06441708259623918,
          -0.12301659306020699,
          -0.2727183609969661,
          0.11421157969919864,
          0.08111160920098241,
          0.22368670661288403,
          -0.19404978656523436,
          -0.3904138871200144,
          -0.12435763739256674,
          -0.3593391399037574,
          0.23544203953002052,
          0.10691770872617745,
          0.15283560973010443,
          -0.10225727703857762,
          0.18025743521987891,
          -0.014283864289665387,
          0.263563282374294,
          -0.4676187609098204,
          0.06653927165906687,
          -0.13304270520268013,
          0.1054549455904756,
          -0.021936438377777277,
          -0.07232601327514143,
          0.025239165297521723,
          0.24732440046759466,
          -0.21104907493785058,
          -0.5495300123392608,
          0.2471559207569231,
          -0.3030879051912037,
          0.15568268001746197,
          0.29656970616286027,
          -0.10040685456083792,
          -0.33584724431212204,
          -0.024603565271181977,
          0.15283560973010474,
          -0.0184543194789983,
          -0.08009698364726087,
          -0.07702410214616529,
          -0.11841533821408029,
          -0.10233357381316883,
          0.2725410699747215,
          -0.0067161313525426,
          0.24135406363658596,
          0.09319416011115553,
          -0.46212438742973233,
          -0.20731189215652282,
          0.02906703184430001,
          0.31122375452931506,
          -0.5112580630447519,
          0.3086068681296451,
          -0.016707096535042713,
          0.106455190519384,
          0.06817273818039743,
          0.1792706076945161,
          0.08324306514371202,
          -0.5470973348909464,
          0.2960983225207558,
          0.21173228763084118,
          0.11212437503763804,
          0.065487839812707,
          0.2982781505594828,
          -0.174100052884447,
          -0.1456935256612218,
          -0.45422790636160676,
          -0.46072053020182385,
          -0.19930455717575923,
          -0.11402434611423418,
          -0.5542996775931077,
          0.05800931758759918,
          0.17298934018992593,
          -0.13341762854066488,
          0.2982781505594837,
          0.18184104702783122,
          0.14868134873823644,
          0.13747132964425254,
          -0.14331137920810594
         ],
         "yaxis": "y"
        },
        {
         "customdata": [
          [
           "portalstate.com"
          ],
          [
           "react365.com"
          ],
          [
           "newsweek.com"
          ],
          [
           "facebook.com"
          ],
          [
           "politics2020.info"
          ],
          [
           "yournewswire.com"
          ],
          [
           "activistmommy.com"
          ],
          [
           "whathappensintheusa.com"
          ],
          [
           "cnn.com"
          ],
          [
           "southernconservativextra.com"
          ],
          [
           "newscats.org"
          ],
          [
           "tmzbreaking.com"
          ],
          [
           "masscops.com"
          ],
          [
           "cvikas.com"
          ],
          [
           "teddystick.com"
          ],
          [
           "steemit.com"
          ],
          [
           "yournewswire.com"
          ],
          [
           "politicono.com"
          ],
          [
           "sportfella.com"
          ],
          [
           "snoopack.com"
          ],
          [
           "breakingnews365.net"
          ],
          [
           "boingboing.net"
          ],
          [
           "newsweek.com"
          ],
          [
           "thegoldwater.com"
          ],
          [
           "channel24news.com"
          ],
          [
           "ilovenativeamericans.us"
          ],
          [
           "fda.gov"
          ],
          [
           "washingtonsources.org"
          ],
          [
           "yournewswire.com"
          ],
          [
           "thelastlineofdefense.org"
          ],
          [
           "associatedmediacoverage.com"
          ],
          [
           "obama.trendolizer.com"
          ],
          [
           "politicot.com"
          ],
          [
           "freedomdaily.com"
          ],
          [
           "usacarry.com"
          ],
          [
           "flashnewss.club"
          ],
          [
           "theguardian.com"
          ],
          [
           "zambianobserver.com"
          ],
          [
           "thebreakingdawn.site"
          ],
          [
           "departedmedia.com"
          ],
          [
           "yournewswire.com"
          ],
          [
           "amposts.com"
          ],
          [
           "halfwaypost.com"
          ],
          [
           "worldnewsdailyreport.com"
          ],
          [
           "houstonpost.co"
          ],
          [
           "thefederalistpapers.org"
          ],
          [
           "notallowedto.com"
          ],
          [
           "usnews.com"
          ],
          [
           "dailyfeed.news"
          ],
          [
           "dailyheadlines.net"
          ],
          [
           "usawatchdog.com"
          ],
          [
           "facebook.com"
          ],
          [
           "yournewswire.com"
          ],
          [
           "nyfoxnews.co"
          ],
          [
           "conservativedailypost.com"
          ],
          [
           "our.news"
          ],
          [
           "obama.trendolizer.com"
          ],
          [
           "thehill.com"
          ],
          [
           "delta-flying.info"
          ],
          [
           "thelifebuzz.com"
          ],
          [
           "foxnews.com"
          ],
          [
           "cnn.com"
          ],
          [
           "quickening-spirit.com"
          ],
          [
           "emsnews.wordpress.com"
          ],
          [
           "patriotcrier.com"
          ],
          [
           "proxywhore.com"
          ],
          [
           "conservativestories.com"
          ],
          [
           "yournewswire.com"
          ],
          [
           "freedomcrossroads.us"
          ],
          [
           "yournewswire.com"
          ],
          [
           "usanewstoday.org"
          ],
          [
           "redstatewatcher.com"
          ],
          [
           "twentyeightmay.pw"
          ],
          [
           "babylonbee.com"
          ],
          [
           "politicsdepot.com"
          ],
          [
           "usatoday.com"
          ],
          [
           "urbanintellectuals.com"
          ],
          [
           "mainerepublicemailalert.com"
          ],
          [
           "eveningw.com"
          ],
          [
           "theglobalheadlines.net"
          ],
          [
           "rickeysmileymorningshow.com"
          ],
          [
           "usaconservativereport.com"
          ],
          [
           "uspoln.com"
          ],
          [
           "breakingnews365.net"
          ],
          [
           "nydailynews-tv.com"
          ],
          [
           "theseattletribune.com"
          ],
          [
           "genius.com"
          ],
          [
           "newsuptoday.com"
          ],
          [
           "usacarry.com"
          ],
          [
           "me.me"
          ],
          [
           "newslo.com"
          ],
          [
           "react365.com"
          ],
          [
           "facebook.com"
          ],
          [
           "puppetstringnews.com"
          ],
          [
           "econewsmedia.org"
          ],
          [
           "dailyusaupdate.com"
          ],
          [
           "me.me"
          ],
          [
           "dailynative.us"
          ],
          [
           "news.antiwar.com"
          ],
          [
           "cpsc.gov"
          ],
          [
           "trainnews.info"
          ],
          [
           "thegatewaypundit.com"
          ],
          [
           "duffelblog.com"
          ],
          [
           "archive.is"
          ],
          [
           "thesun.co.uk"
          ],
          [
           "dailybuzzlive.com"
          ],
          [
           "daily-vine.com"
          ],
          [
           "babylonbee.com"
          ],
          [
           "thenewyorkevening.com"
          ],
          [
           "facebook.com"
          ],
          [
           "actionnetwork.org"
          ],
          [
           "thehill.com"
          ],
          [
           "nbcnews.com"
          ],
          [
           "cnn.com"
          ],
          [
           "yournewswire.com"
          ],
          [
           "sfchronicle.com"
          ],
          [
           "bbc.com"
          ],
          [
           "infowars.com"
          ],
          [
           "thehill.com"
          ],
          [
           "redstatewave.com"
          ],
          [
           "usamirrornews.com"
          ],
          [
           "dailynewsforamericans.com"
          ],
          [
           "dailyusaupdate.com"
          ],
          [
           "businessinsider.com"
          ],
          [
           "politicass.com"
          ],
          [
           "neonnettle.com"
          ],
          [
           "conservativepost.com"
          ],
          [
           "yournewswire.com"
          ],
          [
           "truthexam.com"
          ],
          [
           "ecfr.gov"
          ],
          [
           "wazanews.tk"
          ],
          [
           "enhlive.com"
          ],
          [
           "nofakenews.online"
          ],
          [
           "ajeteys.com"
          ],
          [
           "rearfront.com"
          ],
          [
           "therightists.com"
          ],
          [
           "thelastlineofdefense.org"
          ],
          [
           "patrioticviralnews.com"
          ],
          [
           "defense-usa.xyz"
          ],
          [
           "wilmingtonfilm.com"
          ],
          [
           "unofficialnetworks.com"
          ],
          [
           "forums.spacebattles.com"
          ],
          [
           "politicalmayhem.news"
          ],
          [
           "snapusanews.com"
          ],
          [
           "breakingnews247.net"
          ],
          [
           "newslo.com"
          ],
          [
           "realnewsrightnow.com"
          ],
          [
           "usleader.net"
          ],
          [
           "ghanaweb.website"
          ],
          [
           "uspoln.com"
          ],
          [
           "theverge.com"
          ],
          [
           "empiresports.co"
          ],
          [
           "opreminfo.com"
          ],
          [
           "americatb.com"
          ],
          [
           "unseen-pedia.com"
          ],
          [
           "worldnewsdailyreport.com"
          ],
          [
           "alison-jackson.co.uk"
          ],
          [
           "usasnich.com"
          ],
          [
           "neonnettle.com"
          ],
          [
           "newsfeedobserver.com"
          ],
          [
           "hotgazette.com"
          ],
          [
           "religionmind.com"
          ],
          [
           "wkrg.com"
          ],
          [
           "smag31.com"
          ],
          [
           "observeronline.news"
          ],
          [
           "theuspoliticalnews.com"
          ],
          [
           "newstarget.com"
          ],
          [
           "dailyusaupdate.com"
          ],
          [
           "www2.alabamavotes.gov"
          ],
          [
           "trendolizer.com"
          ],
          [
           "zerohedge.com"
          ],
          [
           "thecommonsenseshow.com"
          ],
          [
           "flashnewss.club"
          ],
          [
           "newsexaminer.net"
          ],
          [
           "jis.gov.jm"
          ],
          [
           "now8news.com"
          ],
          [
           "uspoln.com"
          ],
          [
           "worldnewsdailyreport.com"
          ],
          [
           "me.me"
          ],
          [
           "ourvoiceny.com"
          ],
          [
           "polls.trendolizer.com"
          ],
          [
           "nyeveningnews.com"
          ],
          [
           "what-you-missed.com"
          ],
          [
           "politicspaper.com"
          ],
          [
           "twitter.com"
          ],
          [
           "nourtey.com"
          ],
          [
           "federalisttribune.com"
          ],
          [
           "yournewswire.com"
          ],
          [
           "wrpm33.com"
          ],
          [
           "breaking13news.com"
          ],
          [
           "breitbart.com"
          ],
          [
           "lidblog.com"
          ],
          [
           "newsdonaldtrumps.com"
          ],
          [
           "breitbart.com"
          ],
          [
           "observeronline.news"
          ],
          [
           "conservative-headlines.com"
          ],
          [
           "washingtonpost.com"
          ],
          [
           "time.com"
          ],
          [
           "inverse.com"
          ],
          [
           "huzlers.com"
          ],
          [
           "maga2020.us"
          ],
          [
           "mysterious-times.com"
          ],
          [
           "uspoln.com"
          ],
          [
           "miamipost.co"
          ],
          [
           "facebook.com"
          ],
          [
           "medium.com"
          ],
          [
           "breakingnews247.net"
          ],
          [
           "veterantv.com"
          ],
          [
           "blingnews.com"
          ],
          [
           "newsbreakshere.com"
          ],
          [
           "100percentfedup.com"
          ],
          [
           "politicot.com"
          ],
          [
           "allnews4us.com"
          ],
          [
           "usanewscentral.com"
          ],
          [
           "yournewswire.com"
          ],
          [
           "conservative7.com"
          ],
          [
           "exclusive103.com"
          ],
          [
           "nymag.com"
          ],
          [
           "asnowrose.wordpress.com"
          ],
          [
           "nrtonline.info"
          ],
          [
           "haaretz.com"
          ],
          [
           "usadailypost.us"
          ],
          [
           "gunrights.trendolizer.com"
          ],
          [
           "react365.com"
          ],
          [
           "wesupportdonaldtrump.com"
          ],
          [
           "nbcnews.com"
          ],
          [
           "mirror.co.uk"
          ],
          [
           "nytiwes.com"
          ],
          [
           "pegida.trendolizer.com"
          ],
          [
           "react365.com"
          ],
          [
           "neonnettle.com"
          ],
          [
           "rip.trendolizer.com"
          ],
          [
           "londonwebnews.com"
          ],
          [
           "smoaky.com"
          ],
          [
           "washingtonpost.com"
          ],
          [
           "archives.gov"
          ],
          [
           "straightstoned.com"
          ],
          [
           "mightynest.com"
          ],
          [
           "theeconomiccollapseblog.com"
          ],
          [
           "thegatewaypundit.com"
          ],
          [
           "worldnewsdailyreport.com"
          ],
          [
           "trendolizer.com"
          ],
          [
           "revolutionradio.org"
          ],
          [
           "liberalplug.com"
          ],
          [
           "americantoday.us"
          ],
          [
           "viraldevil.com"
          ],
          [
           "trendolizer.com"
          ],
          [
           "dailysidnews.com"
          ],
          [
           "houstonchronicle-tv.com"
          ],
          [
           "yournewswire.com"
          ],
          [
           "freedomcrossroads.us"
          ],
          [
           "usleader.net"
          ],
          [
           "nypost.com"
          ],
          [
           "usacarry.com"
          ],
          [
           "americanflavor.news"
          ],
          [
           "bitcoingrower.life"
          ],
          [
           "pewtrusts.org"
          ],
          [
           "soutwest-air.com"
          ],
          [
           "proudleader.com"
          ],
          [
           "forfreedomworld.com"
          ],
          [
           "inshapetoday.com"
          ],
          [
           "newsweek.com"
          ],
          [
           "houstonchronicle-tv.com"
          ],
          [
           "nypost.com"
          ],
          [
           "washingtonpress.com"
          ],
          [
           "gloria.tv"
          ],
          [
           "inspiringday.com"
          ],
          [
           "mysteriousearth.club"
          ],
          [
           "dailyfeed.news"
          ],
          [
           "proconservativenews.com"
          ],
          [
           "independent.co.uk"
          ],
          [
           "washingtonpost.com"
          ],
          [
           "world-politicus.com"
          ],
          [
           "tdtalliance.com"
          ],
          [
           "thegatewaypundit.com"
          ],
          [
           "geopolitica.ru"
          ],
          [
           "usatoday.com"
          ],
          [
           "breakingnews365.net"
          ],
          [
           "usnnetwork.com"
          ],
          [
           "politico.com"
          ],
          [
           "beforeitsnews.com"
          ],
          [
           "yournewswire.com"
          ],
          [
           "learnprogress.org"
          ],
          [
           "our.news"
          ],
          [
           "thegatewaypundit.com"
          ],
          [
           "americanproud.info"
          ],
          [
           "usatoday.com"
          ],
          [
           "usa24info.com"
          ],
          [
           "stgeorgegazette.com"
          ],
          [
           "thehill.com"
          ],
          [
           "nrtonline.info"
          ],
          [
           "patriotnetwork.one"
          ],
          [
           "our.news"
          ],
          [
           "ravinderbhalla.com"
          ],
          [
           "newsdaily12.com"
          ],
          [
           "americannews.com"
          ],
          [
           "politico.com"
          ],
          [
           "uspostman.com"
          ]
         ],
         "hovertemplate": "label=fake<br>pc1=%{x}<br>pc2=%{y}<br>baseurl=%{customdata[0]}<extra></extra>",
         "legendgroup": "fake",
         "marker": {
          "color": "#FF7F0E",
          "symbol": "circle"
         },
         "mode": "markers",
         "name": "fake",
         "orientation": "v",
         "showlegend": true,
         "type": "scatter",
         "x": [
          0.14802471678331497,
          -0.043955618859374095,
          0.10275954141169051,
          0.016629018773522325,
          0.06050616146929665,
          -0.655488357281671,
          0.12204926857308233,
          0.04665011695010491,
          0.07816686005587067,
          0.07686198762036374,
          0.21897640235761284,
          0.038431575372517256,
          -0.027571737679927388,
          0.0018734135754568187,
          0.11727601896917975,
          0.09940685754076407,
          -0.6554883572816707,
          -0.010465921542469643,
          -0.010465921542469454,
          0.11921894352694778,
          -0.05171781670970802,
          -0.023384746840110753,
          0.1247192740940851,
          0.001590326995030619,
          0.004380169236510484,
          0.1251524569538391,
          0.04797882981543438,
          -0.01249695566063688,
          -0.655488357281671,
          0.17506080390668038,
          -0.007025355541800895,
          -0.000564281529155068,
          0.03749314756383184,
          -0.002802942151487018,
          0.14434543290605092,
          0.0768146226921952,
          0.13231957966264585,
          -0.007592712293735077,
          0.06903199298010938,
          0.05010124433110069,
          -0.6554883572816708,
          0.04972140118990417,
          0.17443846998557624,
          0.05494045248121696,
          0.13506810841712405,
          0.008952937637518409,
          0.06819063867149107,
          -0.06921300827208368,
          0.08734032171589201,
          0.10619277618421705,
          0.0589214055935039,
          0.016629018773522374,
          -0.655488357281671,
          0.17729638757507332,
          0.16675188373875344,
          -0.00542146776854723,
          0.05568566496045762,
          0.13032129243139834,
          0.0006787153757034678,
          0.03749314756383184,
          0.11833922492644464,
          0.18657578823901655,
          0.06761192932684114,
          0.05483719321079751,
          0.19101147323203968,
          -0.017068883543161717,
          0.09584083625647953,
          -0.655488357281671,
          0.11653899931488074,
          -0.655488357281671,
          0.18692300276835178,
          0.0026483894910271804,
          0.2383742045262626,
          -0.12507617497341803,
          0.14636967001582865,
          -0.09391576723738346,
          0.20469827924653128,
          0.07312211976414222,
          0.12422629300221617,
          -0.004417364071665564,
          -0.01681297486055955,
          0.10549333440291647,
          0.171878017696348,
          -0.06153014783753281,
          0.12141621526504347,
          -0.015367349094313329,
          0.05207813147138342,
          0.06232116937946486,
          0.035001258281105736,
          0.06750712318200149,
          0.15736505420267413,
          -0.0349814817189069,
          0.016629018773522023,
          0.02622776969779214,
          0.20470760125014645,
          0.0882546457944797,
          -0.008247071807014238,
          -0.020437153529313863,
          0.05429891069983758,
          -0.04040430639154879,
          -0.0027408145037747566,
          0.035513625708124566,
          0.03904608503163508,
          -0.005881286795859068,
          -0.039891263114143614,
          0.06602043786463067,
          -0.011172762388806988,
          -0.07234470023570079,
          0.08636604771936325,
          0.01662901877352235,
          -0.00708728559252896,
          0.15565224004216843,
          -0.011551921837425268,
          0.069595450600045,
          -0.6554883572816712,
          0.203457496147794,
          -0.042552101425949056,
          0.10207598721715609,
          0.16946223134066435,
          0.06969024057970527,
          0.002264802802690338,
          0.026126232229748504,
          0.04769318856324387,
          0.03978727291551869,
          0.23341905181643396,
          -0.021239267724006458,
          0.04801883829612404,
          -0.6554883572816708,
          0.18624661419115304,
          -0.027367293118955933,
          0.05973627197682849,
          0.11590875324819523,
          0.11061678237192134,
          0.21319714372125603,
          -0.006696157760584512,
          0.32662899717094157,
          0.17616382067629424,
          0.08597026083565547,
          0.08524711032106898,
          0.007530224842337879,
          0.0639870175788174,
          0.22260503789827182,
          -0.00215140220452179,
          0.2216701574159484,
          -0.07025526319223833,
          0.23604052512117857,
          0.3088534668966184,
          -0.01700722006093302,
          0.09202133783557245,
          0.3073009307979781,
          0.056721172239394706,
          0.005154076261819078,
          0.1340403208333191,
          0.12901862833704786,
          -0.03334367734179373,
          0.056722591947778185,
          0.09171493472852435,
          0.11233033742094416,
          0.10741438373376026,
          0.1598579641017589,
          0.08936177584300255,
          -0.02853349853939909,
          0.11643641431137135,
          -0.09651105137786699,
          -0.021570813741219053,
          0.10932032064254134,
          0.007039460203364864,
          0.09905975823275613,
          0.0020861390202669312,
          0.011779850502758413,
          0.0018734135754568438,
          0.05431771196260043,
          0.1214461099581771,
          0.15118393886918852,
          0.012033804537166215,
          0.02911975890318329,
          0.27110134111852735,
          0.0721508068547658,
          0.029271231244231373,
          0.09582732302636834,
          0.004707447536638753,
          -0.05890777045504306,
          0.060422246878474244,
          0.19624246613289653,
          0.07350336534101655,
          0.23520549588333017,
          0.19196752940443917,
          -0.6554883572816712,
          0.13190391843844826,
          0.11082082641136516,
          0.06868058065441907,
          0.09816487546718486,
          -0.015249773906016551,
          0.07552109526202128,
          0.11689289244005181,
          0.060151465525655166,
          0.0604421707462751,
          0.17378465920126693,
          0.1615003552192995,
          0.16322130593904927,
          0.16049942459312427,
          0.10472036767952861,
          0.1721144080280183,
          0.19734840583611848,
          0.016629018773522224,
          0.16178273909532714,
          -0.04645398526384072,
          0.08465778153064574,
          0.19342040540357025,
          -0.020437153529313863,
          0.11009125539634032,
          0.03749314756383184,
          0.037493147563831784,
          0.08974194688817304,
          -0.6554883572816709,
          0.08405568124213118,
          0.001873413575456919,
          0.19265489669316843,
          0.028693333686346034,
          0.15064983739009788,
          0.24097714705475096,
          0.14120070557187342,
          0.0033527370127938196,
          -0.08571437463773177,
          0.037493147563831736,
          -0.018315111226756164,
          -0.06755787646929631,
          0.05775413284705517,
          0.0006702396699063101,
          0.0048476478841435805,
          0.030968222221124744,
          1.8380592343502434e-05,
          0.14914518049725298,
          0.018103361704823025,
          -0.006536331851180292,
          -0.015204986734063274,
          0.10191177080147716,
          -0.005707750173430633,
          0.013829531301064709,
          0.06359581320959387,
          0.047408433159335385,
          0.07043499777393852,
          0.08404074132543547,
          0.2111197515594658,
          0.09442617579307085,
          -0.01046592154246953,
          -0.00250245573842842,
          0.162023980070639,
          0.08793810239204546,
          -0.6554883572816708,
          0.09775860010128422,
          -0.017007220060932755,
          0.1359851057577971,
          0.16173677190564,
          -0.008877304354898696,
          0.0004636256885158338,
          0.002931132348427663,
          0.0018973548459181467,
          0.2281785952787379,
          0.2858894693405014,
          0.017238437071596925,
          0.14862338500636157,
          0.2192642695951432,
          0.160408438227214,
          0.19873557849793835,
          0.04519971626649706,
          -0.028422297866534742,
          0.043340898880500245,
          0.14083616027282875,
          -0.004417364071665539,
          -0.08204784526498082,
          0.03451195080342457,
          0.14399497364599226,
          0.10895515528179048,
          0.0478054264178316,
          0.10498492056670243,
          -0.04471440110605412,
          -0.037062229355674575,
          0.0018734135754570446,
          0.2849899114157012,
          0.07365885444993359,
          -0.6554883572816711,
          0.11178175668427343,
          0.060988933147983114,
          0.17152564754821087,
          0.18706028978818562,
          -0.06511668295627326,
          0.13717867624252647,
          0.22700998383676607,
          0.03821628533061053,
          0.09324557810759655,
          0.13161010600289938,
          0.0015806348473654105,
          -2.7016154800316795e-05,
          0.12288746759807277,
          0.10745439232374879,
          0.12062585899555975,
          -0.01046592154246948
         ],
         "xaxis": "x",
         "y": [
          0.06662563962593293,
          0.1194012110806583,
          -0.02976600658850584,
          0.35895869952248516,
          0.0906921372493614,
          0.4508404667093625,
          -0.008497079037569563,
          0.042660348179851995,
          0.10801064019946123,
          0.09151179789810517,
          -0.07827589018876935,
          0.18999471817816818,
          0.06920413591205396,
          0.3112237545293153,
          0.15003584536016507,
          0.2301267394481318,
          0.45084046670936206,
          0.20339378061492666,
          0.20339378061492638,
          0.03098645600203914,
          0.154239685639749,
          0.023292846951349176,
          -0.07804703554935685,
          0.17215658855093535,
          0.2708732618205934,
          0.06704843359447495,
          0.1231300407340887,
          0.2605243035137436,
          0.45084046670936234,
          -0.07443127160030112,
          0.09024132665142177,
          0.18052908436630447,
          0.37004813239827955,
          0.15732452347405293,
          -0.03644493920305638,
          -0.06251549258333738,
          -0.15665190239055563,
          0.19817657934707986,
          0.02141538387956832,
          0.15657629698709527,
          0.4508404667093622,
          0.18339153972534594,
          0.04438971836435991,
          0.14447187738942366,
          -0.011850583229655171,
          0.03686063979166902,
          0.08272873956651605,
          -0.0929590413703677,
          0.004917028748191512,
          -0.06628796519124226,
          0.09558958591752742,
          0.358958699522485,
          0.45084046670936234,
          -0.13528079420733582,
          0.26443692510514777,
          0.27468978864297716,
          0.1501618609742762,
          -0.02976360202884133,
          0.2699392987627442,
          0.37004813239827916,
          -0.01955929311052127,
          -0.038533268122816766,
          0.09050552480823358,
          -0.09674926514591736,
          -0.005103175411334632,
          0.12953717720737767,
          0.09837816397726606,
          0.4508404667093619,
          -0.07025729415863817,
          0.4508404667093622,
          -0.14031903967442177,
          0.2747442630362398,
          -0.14404197822499853,
          -0.055594056765865256,
          0.027703947699792855,
          -0.06844532751971798,
          -0.0424948144044314,
          0.04549630098203875,
          0.019110510986496305,
          0.2569129243063182,
          0.1008355165614891,
          0.04476339385770419,
          -0.07787831456229966,
          0.1688967525910086,
          0.01119443767125399,
          0.07326616250554693,
          0.22783537742079166,
          0.07122802110759319,
          -0.008543407918919624,
          0.14366932275889419,
          -0.10622481254451832,
          0.12045007112648647,
          0.3589586995224855,
          0.30076690796878514,
          -0.022957728017286495,
          0.10502573288778264,
          0.29009209757671367,
          0.31082161275027703,
          0.08985654504647951,
          0.21418335575284891,
          0.20199392417502263,
          0.08816218692668752,
          0.05995533237799769,
          0.1529864454377359,
          -0.028900032641079893,
          0.01795746387282333,
          0.18359356451097184,
          -0.03342030849276626,
          0.023792114463400724,
          0.3589586995224852,
          0.30561002980986046,
          -0.05961152805741201,
          0.07030828377651815,
          -0.09848309173993562,
          0.45084046670936234,
          -0.10341328893035938,
          0.14942675819715945,
          0.07648966539146167,
          -0.01162779683983944,
          0.23956601813805914,
          0.2356194224901031,
          0.2108202359313733,
          0.007419993640394646,
          0.13280756450808176,
          -0.17243822576579856,
          -0.10667683135287041,
          0.16843501902087887,
          0.45084046670936206,
          0.04523214896725726,
          0.20331761475689195,
          -0.03920204088019009,
          0.007572377486607482,
          0.042339988786501116,
          0.06690593450618684,
          0.13937544107175381,
          -0.09623617166810543,
          0.04213965905679077,
          -0.033396254762080746,
          0.05755491549306989,
          0.09025650798234898,
          0.15650678914523322,
          -0.04549782494283294,
          0.2256883811743621,
          -0.06837839361093417,
          0.1189682478938869,
          -0.2377390522566379,
          -0.10260327820063302,
          0.2042097491541042,
          0.012006847226797358,
          -0.16306387831459865,
          0.015688319983315407,
          0.22763659582157905,
          0.050483200289979976,
          -0.128120135600471,
          0.2829885338891331,
          0.1345656975467168,
          0.02555298558205737,
          0.04742331534865501,
          0.07702641095731398,
          -0.004440286296338829,
          0.01702534200468529,
          0.1228471895144605,
          0.07199456809432461,
          0.21846201186166547,
          0.14672677551534158,
          -0.012917077138137558,
          0.14945650922526046,
          0.05690466391246434,
          0.22717762623760984,
          0.1788046618657923,
          0.31122375452931506,
          0.2864085802484594,
          -0.19624460909228988,
          -0.04358110817509629,
          -0.022781744860114278,
          0.1389549218172295,
          -0.23713485619815644,
          0.004492700764133325,
          0.2610508086638511,
          -0.062879382085292,
          0.18758572276825758,
          0.12922761998797752,
          0.1134239180545154,
          0.08471718166183524,
          0.2982781505594828,
          -0.06258470155528865,
          -0.061113792801682464,
          0.4508404667093624,
          0.04682429238082299,
          0.07997250693089321,
          0.1357335298775525,
          -0.07059625488777599,
          0.20720695254394458,
          0.04613089203857475,
          0.11314300592525504,
          0.14443072983851676,
          0.1126947343001821,
          -0.28097592057650206,
          -0.08412033615032571,
          -0.022069689083682526,
          0.03217024263564735,
          0.02227135208070817,
          -0.054667152715962626,
          -0.10603372221829346,
          0.358958699522485,
          0.028950346961337782,
          0.1978269580945739,
          0.10629941250619349,
          -0.2671234112378121,
          0.31082161275027703,
          0.002002006346689642,
          0.37004813239827905,
          0.3700481323982795,
          0.006003275665247506,
          0.4508404667093622,
          -0.03775703114109123,
          0.3112237545293151,
          0.006223107330152756,
          0.23298903059130263,
          0.06014782247856387,
          -0.033920341528945255,
          -0.07834121127352864,
          0.19119608539825997,
          -0.11319307013933144,
          0.37004813239827955,
          -0.00561702211917521,
          -0.17296598232347288,
          0.11799574195828799,
          0.18235696352809763,
          0.2216682161437959,
          -0.007294495698130911,
          0.18616791165936553,
          0.1038985021624603,
          0.24719177155252064,
          0.05985709928102131,
          0.05117703272810671,
          0.07856266766381392,
          0.2225042669377049,
          0.019741744724399192,
          -0.04602077712883118,
          0.06689966430472996,
          0.1489425587646967,
          0.11686762309434766,
          -0.09065661072976536,
          0.11729857374913005,
          0.20339378061492655,
          0.1797414715569823,
          0.05782339198847285,
          0.06357970221649793,
          0.4508404667093619,
          0.060771502152273026,
          0.20420974915410398,
          0.03127967796311833,
          0.02390314279889084,
          0.057152709025700604,
          0.2011973876348673,
          0.10596412695680812,
          0.27019057608785946,
          -0.060657065650985206,
          0.027046180884790317,
          -0.04991563073185821,
          -0.062124919690155656,
          -0.03246712108230044,
          0.04250145016450745,
          -0.0326027643475006,
          0.18290811692126574,
          -0.03705471741404888,
          -0.04077914533719968,
          0.11220290420216986,
          0.25691292430631824,
          -0.09305568883074257,
          0.10169370995420732,
          -0.11707305024633201,
          0.019399349546468474,
          0.17429845790443133,
          0.07887140938366992,
          0.01986790489649466,
          0.1297081970872757,
          0.3112237545293148,
          -0.22099483699877823,
          0.12230774216171048,
          0.4508404667093622,
          -0.05873360648980969,
          0.17347948963667356,
          0.07269511592212652,
          0.007100754422295517,
          -0.013609335356242635,
          0.06347028283664179,
          -0.16556512119630182,
          -0.06267587954353229,
          0.03112948823767363,
          -0.13564763887774653,
          0.20078566483135213,
          0.05306731671197086,
          0.048913541472247954,
          0.11172470902212027,
          -0.30308790519120377,
          0.20339378061492744
         ],
         "yaxis": "y"
        }
       ],
       "layout": {
        "height": 350,
        "legend": {
         "title": {
          "text": "label"
         },
         "tracegroupgap": 0
        },
        "template": {
         "data": {
          "bar": [
           {
            "error_x": {
             "color": "rgb(36,36,36)"
            },
            "error_y": {
             "color": "rgb(36,36,36)"
            },
            "marker": {
             "line": {
              "color": "white",
              "width": 0.5
             },
             "pattern": {
              "fillmode": "overlay",
              "size": 10,
              "solidity": 0.2
             }
            },
            "type": "bar"
           }
          ],
          "barpolar": [
           {
            "marker": {
             "line": {
              "color": "white",
              "width": 0.5
             },
             "pattern": {
              "fillmode": "overlay",
              "size": 10,
              "solidity": 0.2
             }
            },
            "type": "barpolar"
           }
          ],
          "carpet": [
           {
            "aaxis": {
             "endlinecolor": "rgb(36,36,36)",
             "gridcolor": "white",
             "linecolor": "white",
             "minorgridcolor": "white",
             "startlinecolor": "rgb(36,36,36)"
            },
            "baxis": {
             "endlinecolor": "rgb(36,36,36)",
             "gridcolor": "white",
             "linecolor": "white",
             "minorgridcolor": "white",
             "startlinecolor": "rgb(36,36,36)"
            },
            "type": "carpet"
           }
          ],
          "choropleth": [
           {
            "colorbar": {
             "outlinewidth": 1,
             "tickcolor": "rgb(36,36,36)",
             "ticks": "outside"
            },
            "type": "choropleth"
           }
          ],
          "contour": [
           {
            "colorbar": {
             "outlinewidth": 1,
             "tickcolor": "rgb(36,36,36)",
             "ticks": "outside"
            },
            "colorscale": [
             [
              0,
              "#440154"
             ],
             [
              0.1111111111111111,
              "#482878"
             ],
             [
              0.2222222222222222,
              "#3e4989"
             ],
             [
              0.3333333333333333,
              "#31688e"
             ],
             [
              0.4444444444444444,
              "#26828e"
             ],
             [
              0.5555555555555556,
              "#1f9e89"
             ],
             [
              0.6666666666666666,
              "#35b779"
             ],
             [
              0.7777777777777778,
              "#6ece58"
             ],
             [
              0.8888888888888888,
              "#b5de2b"
             ],
             [
              1,
              "#fde725"
             ]
            ],
            "type": "contour"
           }
          ],
          "contourcarpet": [
           {
            "colorbar": {
             "outlinewidth": 1,
             "tickcolor": "rgb(36,36,36)",
             "ticks": "outside"
            },
            "type": "contourcarpet"
           }
          ],
          "heatmap": [
           {
            "colorbar": {
             "outlinewidth": 1,
             "tickcolor": "rgb(36,36,36)",
             "ticks": "outside"
            },
            "colorscale": [
             [
              0,
              "#440154"
             ],
             [
              0.1111111111111111,
              "#482878"
             ],
             [
              0.2222222222222222,
              "#3e4989"
             ],
             [
              0.3333333333333333,
              "#31688e"
             ],
             [
              0.4444444444444444,
              "#26828e"
             ],
             [
              0.5555555555555556,
              "#1f9e89"
             ],
             [
              0.6666666666666666,
              "#35b779"
             ],
             [
              0.7777777777777778,
              "#6ece58"
             ],
             [
              0.8888888888888888,
              "#b5de2b"
             ],
             [
              1,
              "#fde725"
             ]
            ],
            "type": "heatmap"
           }
          ],
          "heatmapgl": [
           {
            "colorbar": {
             "outlinewidth": 1,
             "tickcolor": "rgb(36,36,36)",
             "ticks": "outside"
            },
            "colorscale": [
             [
              0,
              "#440154"
             ],
             [
              0.1111111111111111,
              "#482878"
             ],
             [
              0.2222222222222222,
              "#3e4989"
             ],
             [
              0.3333333333333333,
              "#31688e"
             ],
             [
              0.4444444444444444,
              "#26828e"
             ],
             [
              0.5555555555555556,
              "#1f9e89"
             ],
             [
              0.6666666666666666,
              "#35b779"
             ],
             [
              0.7777777777777778,
              "#6ece58"
             ],
             [
              0.8888888888888888,
              "#b5de2b"
             ],
             [
              1,
              "#fde725"
             ]
            ],
            "type": "heatmapgl"
           }
          ],
          "histogram": [
           {
            "marker": {
             "line": {
              "color": "white",
              "width": 0.6
             }
            },
            "type": "histogram"
           }
          ],
          "histogram2d": [
           {
            "colorbar": {
             "outlinewidth": 1,
             "tickcolor": "rgb(36,36,36)",
             "ticks": "outside"
            },
            "colorscale": [
             [
              0,
              "#440154"
             ],
             [
              0.1111111111111111,
              "#482878"
             ],
             [
              0.2222222222222222,
              "#3e4989"
             ],
             [
              0.3333333333333333,
              "#31688e"
             ],
             [
              0.4444444444444444,
              "#26828e"
             ],
             [
              0.5555555555555556,
              "#1f9e89"
             ],
             [
              0.6666666666666666,
              "#35b779"
             ],
             [
              0.7777777777777778,
              "#6ece58"
             ],
             [
              0.8888888888888888,
              "#b5de2b"
             ],
             [
              1,
              "#fde725"
             ]
            ],
            "type": "histogram2d"
           }
          ],
          "histogram2dcontour": [
           {
            "colorbar": {
             "outlinewidth": 1,
             "tickcolor": "rgb(36,36,36)",
             "ticks": "outside"
            },
            "colorscale": [
             [
              0,
              "#440154"
             ],
             [
              0.1111111111111111,
              "#482878"
             ],
             [
              0.2222222222222222,
              "#3e4989"
             ],
             [
              0.3333333333333333,
              "#31688e"
             ],
             [
              0.4444444444444444,
              "#26828e"
             ],
             [
              0.5555555555555556,
              "#1f9e89"
             ],
             [
              0.6666666666666666,
              "#35b779"
             ],
             [
              0.7777777777777778,
              "#6ece58"
             ],
             [
              0.8888888888888888,
              "#b5de2b"
             ],
             [
              1,
              "#fde725"
             ]
            ],
            "type": "histogram2dcontour"
           }
          ],
          "mesh3d": [
           {
            "colorbar": {
             "outlinewidth": 1,
             "tickcolor": "rgb(36,36,36)",
             "ticks": "outside"
            },
            "type": "mesh3d"
           }
          ],
          "parcoords": [
           {
            "line": {
             "colorbar": {
              "outlinewidth": 1,
              "tickcolor": "rgb(36,36,36)",
              "ticks": "outside"
             }
            },
            "type": "parcoords"
           }
          ],
          "pie": [
           {
            "automargin": true,
            "type": "pie"
           }
          ],
          "scatter": [
           {
            "marker": {
             "colorbar": {
              "outlinewidth": 1,
              "tickcolor": "rgb(36,36,36)",
              "ticks": "outside"
             }
            },
            "type": "scatter"
           }
          ],
          "scatter3d": [
           {
            "line": {
             "colorbar": {
              "outlinewidth": 1,
              "tickcolor": "rgb(36,36,36)",
              "ticks": "outside"
             }
            },
            "marker": {
             "colorbar": {
              "outlinewidth": 1,
              "tickcolor": "rgb(36,36,36)",
              "ticks": "outside"
             }
            },
            "type": "scatter3d"
           }
          ],
          "scattercarpet": [
           {
            "marker": {
             "colorbar": {
              "outlinewidth": 1,
              "tickcolor": "rgb(36,36,36)",
              "ticks": "outside"
             }
            },
            "type": "scattercarpet"
           }
          ],
          "scattergeo": [
           {
            "marker": {
             "colorbar": {
              "outlinewidth": 1,
              "tickcolor": "rgb(36,36,36)",
              "ticks": "outside"
             }
            },
            "type": "scattergeo"
           }
          ],
          "scattergl": [
           {
            "marker": {
             "colorbar": {
              "outlinewidth": 1,
              "tickcolor": "rgb(36,36,36)",
              "ticks": "outside"
             }
            },
            "type": "scattergl"
           }
          ],
          "scattermapbox": [
           {
            "marker": {
             "colorbar": {
              "outlinewidth": 1,
              "tickcolor": "rgb(36,36,36)",
              "ticks": "outside"
             }
            },
            "type": "scattermapbox"
           }
          ],
          "scatterpolar": [
           {
            "marker": {
             "colorbar": {
              "outlinewidth": 1,
              "tickcolor": "rgb(36,36,36)",
              "ticks": "outside"
             }
            },
            "type": "scatterpolar"
           }
          ],
          "scatterpolargl": [
           {
            "marker": {
             "colorbar": {
              "outlinewidth": 1,
              "tickcolor": "rgb(36,36,36)",
              "ticks": "outside"
             }
            },
            "type": "scatterpolargl"
           }
          ],
          "scatterternary": [
           {
            "marker": {
             "colorbar": {
              "outlinewidth": 1,
              "tickcolor": "rgb(36,36,36)",
              "ticks": "outside"
             }
            },
            "type": "scatterternary"
           }
          ],
          "surface": [
           {
            "colorbar": {
             "outlinewidth": 1,
             "tickcolor": "rgb(36,36,36)",
             "ticks": "outside"
            },
            "colorscale": [
             [
              0,
              "#440154"
             ],
             [
              0.1111111111111111,
              "#482878"
             ],
             [
              0.2222222222222222,
              "#3e4989"
             ],
             [
              0.3333333333333333,
              "#31688e"
             ],
             [
              0.4444444444444444,
              "#26828e"
             ],
             [
              0.5555555555555556,
              "#1f9e89"
             ],
             [
              0.6666666666666666,
              "#35b779"
             ],
             [
              0.7777777777777778,
              "#6ece58"
             ],
             [
              0.8888888888888888,
              "#b5de2b"
             ],
             [
              1,
              "#fde725"
             ]
            ],
            "type": "surface"
           }
          ],
          "table": [
           {
            "cells": {
             "fill": {
              "color": "rgb(237,237,237)"
             },
             "line": {
              "color": "white"
             }
            },
            "header": {
             "fill": {
              "color": "rgb(217,217,217)"
             },
             "line": {
              "color": "white"
             }
            },
            "type": "table"
           }
          ]
         },
         "layout": {
          "annotationdefaults": {
           "arrowhead": 0,
           "arrowwidth": 1
          },
          "autosize": true,
          "autotypenumbers": "strict",
          "coloraxis": {
           "colorbar": {
            "outlinewidth": 1,
            "tickcolor": "rgb(36,36,36)",
            "ticks": "outside"
           }
          },
          "colorscale": {
           "diverging": [
            [
             0,
             "rgb(103,0,31)"
            ],
            [
             0.1,
             "rgb(178,24,43)"
            ],
            [
             0.2,
             "rgb(214,96,77)"
            ],
            [
             0.3,
             "rgb(244,165,130)"
            ],
            [
             0.4,
             "rgb(253,219,199)"
            ],
            [
             0.5,
             "rgb(247,247,247)"
            ],
            [
             0.6,
             "rgb(209,229,240)"
            ],
            [
             0.7,
             "rgb(146,197,222)"
            ],
            [
             0.8,
             "rgb(67,147,195)"
            ],
            [
             0.9,
             "rgb(33,102,172)"
            ],
            [
             1,
             "rgb(5,48,97)"
            ]
           ],
           "sequential": [
            [
             0,
             "#440154"
            ],
            [
             0.1111111111111111,
             "#482878"
            ],
            [
             0.2222222222222222,
             "#3e4989"
            ],
            [
             0.3333333333333333,
             "#31688e"
            ],
            [
             0.4444444444444444,
             "#26828e"
            ],
            [
             0.5555555555555556,
             "#1f9e89"
            ],
            [
             0.6666666666666666,
             "#35b779"
            ],
            [
             0.7777777777777778,
             "#6ece58"
            ],
            [
             0.8888888888888888,
             "#b5de2b"
            ],
            [
             1,
             "#fde725"
            ]
           ],
           "sequentialminus": [
            [
             0,
             "#440154"
            ],
            [
             0.1111111111111111,
             "#482878"
            ],
            [
             0.2222222222222222,
             "#3e4989"
            ],
            [
             0.3333333333333333,
             "#31688e"
            ],
            [
             0.4444444444444444,
             "#26828e"
            ],
            [
             0.5555555555555556,
             "#1f9e89"
            ],
            [
             0.6666666666666666,
             "#35b779"
            ],
            [
             0.7777777777777778,
             "#6ece58"
            ],
            [
             0.8888888888888888,
             "#b5de2b"
            ],
            [
             1,
             "#fde725"
            ]
           ]
          },
          "colorway": [
           "#1F77B4",
           "#FF7F0E",
           "#2CA02C",
           "#D62728",
           "#9467BD",
           "#8C564B",
           "#E377C2",
           "#7F7F7F",
           "#BCBD22",
           "#17BECF"
          ],
          "font": {
           "color": "rgb(36,36,36)"
          },
          "geo": {
           "bgcolor": "white",
           "lakecolor": "white",
           "landcolor": "white",
           "showlakes": true,
           "showland": true,
           "subunitcolor": "white"
          },
          "height": 250,
          "hoverlabel": {
           "align": "left"
          },
          "hovermode": "closest",
          "mapbox": {
           "style": "light"
          },
          "margin": {
           "b": 10,
           "l": 10,
           "r": 10,
           "t": 10
          },
          "paper_bgcolor": "white",
          "plot_bgcolor": "white",
          "polar": {
           "angularaxis": {
            "gridcolor": "rgb(232,232,232)",
            "linecolor": "rgb(36,36,36)",
            "showgrid": false,
            "showline": true,
            "ticks": "outside"
           },
           "bgcolor": "white",
           "radialaxis": {
            "gridcolor": "rgb(232,232,232)",
            "linecolor": "rgb(36,36,36)",
            "showgrid": false,
            "showline": true,
            "ticks": "outside"
           }
          },
          "scene": {
           "xaxis": {
            "backgroundcolor": "white",
            "gridcolor": "rgb(232,232,232)",
            "gridwidth": 2,
            "linecolor": "rgb(36,36,36)",
            "showbackground": true,
            "showgrid": false,
            "showline": true,
            "ticks": "outside",
            "zeroline": false,
            "zerolinecolor": "rgb(36,36,36)"
           },
           "yaxis": {
            "backgroundcolor": "white",
            "gridcolor": "rgb(232,232,232)",
            "gridwidth": 2,
            "linecolor": "rgb(36,36,36)",
            "showbackground": true,
            "showgrid": false,
            "showline": true,
            "ticks": "outside",
            "zeroline": false,
            "zerolinecolor": "rgb(36,36,36)"
           },
           "zaxis": {
            "backgroundcolor": "white",
            "gridcolor": "rgb(232,232,232)",
            "gridwidth": 2,
            "linecolor": "rgb(36,36,36)",
            "showbackground": true,
            "showgrid": false,
            "showline": true,
            "ticks": "outside",
            "zeroline": false,
            "zerolinecolor": "rgb(36,36,36)"
           }
          },
          "shapedefaults": {
           "fillcolor": "black",
           "line": {
            "width": 0
           },
           "opacity": 0.3
          },
          "ternary": {
           "aaxis": {
            "gridcolor": "rgb(232,232,232)",
            "linecolor": "rgb(36,36,36)",
            "showgrid": false,
            "showline": true,
            "ticks": "outside"
           },
           "baxis": {
            "gridcolor": "rgb(232,232,232)",
            "linecolor": "rgb(36,36,36)",
            "showgrid": false,
            "showline": true,
            "ticks": "outside"
           },
           "bgcolor": "white",
           "caxis": {
            "gridcolor": "rgb(232,232,232)",
            "linecolor": "rgb(36,36,36)",
            "showgrid": false,
            "showline": true,
            "ticks": "outside"
           }
          },
          "title": {
           "x": 0.5,
           "xanchor": "center"
          },
          "width": 350,
          "xaxis": {
           "automargin": true,
           "gridcolor": "rgb(232,232,232)",
           "linecolor": "rgb(36,36,36)",
           "showgrid": true,
           "showline": true,
           "ticks": "outside",
           "title": {
            "standoff": 15
           },
           "zeroline": false,
           "zerolinecolor": "rgb(36,36,36)"
          },
          "yaxis": {
           "automargin": true,
           "gridcolor": "rgb(232,232,232)",
           "linecolor": "rgb(36,36,36)",
           "showgrid": true,
           "showline": true,
           "ticks": "outside",
           "title": {
            "standoff": 15
           },
           "zeroline": false,
           "zerolinecolor": "rgb(36,36,36)"
          }
         }
        },
        "width": 550,
        "xaxis": {
         "anchor": "y",
         "autorange": true,
         "domain": [
          0,
          1
         ],
         "range": [
          -0.7224531964544615,
          0.3998948639793457
         ],
         "title": {
          "text": "pc1"
         },
         "type": "linear"
        },
        "yaxis": {
         "anchor": "x",
         "autorange": true,
         "domain": [
          0,
          1
         ],
         "range": [
          -0.6492316006667759,
          0.5251781021538602
         ],
         "title": {
          "text": "pc2"
         },
         "type": "linear"
        }
       }
      },
      "image/png": "[encoded data removed]",
      "image/svg+xml": [
       "<svg class=\"main-svg\" xmlns=\"http://www.w3.org/2000/svg\" xmlns:xlink=\"http://www.w3.org/1999/xlink\" width=\"550\" height=\"350\" style=\"\" viewBox=\"0 0 550 350\"><rect x=\"0\" y=\"0\" width=\"550\" height=\"350\" style=\"fill: rgb(255, 255, 255); fill-opacity: 1;\"/><defs id=\"defs-6bff25\"><g class=\"clips\"><clipPath id=\"clip6bff25xyplot\" class=\"plotclip\"><rect width=\"388\" height=\"282\"/></clipPath><clipPath class=\"axesclip\" id=\"clip6bff25x\"><rect x=\"73\" y=\"0\" width=\"388\" height=\"350\"/></clipPath><clipPath class=\"axesclip\" id=\"clip6bff25y\"><rect x=\"0\" y=\"10\" width=\"550\" height=\"282\"/></clipPath><clipPath class=\"axesclip\" id=\"clip6bff25xy\"><rect x=\"73\" y=\"10\" width=\"388\" height=\"282\"/></clipPath></g><g class=\"gradients\"/><g class=\"patterns\"/></defs><g class=\"bglayer\"/><g class=\"layer-below\"><g class=\"imagelayer\"/><g class=\"shapelayer\"/></g><g class=\"cartesianlayer\"><g class=\"subplot xy\"><g class=\"layer-subplot\"><g class=\"shapelayer\"/><g class=\"imagelayer\"/></g><g class=\"gridlayer\"><g class=\"x\"><path class=\"xgrid crisp\" transform=\"translate(115.33,0)\" d=\"M0,10v282\" style=\"stroke: rgb(232, 232, 232); stroke-opacity: 1; stroke-width: 1px;\"/><path class=\"xgrid crisp\" transform=\"translate(184.47,0)\" d=\"M0,10v282\" style=\"stroke: rgb(232, 232, 232); stroke-opacity: 1; stroke-width: 1px;\"/><path class=\"xgrid crisp\" transform=\"translate(253.61,0)\" d=\"M0,10v282\" style=\"stroke: rgb(232, 232, 232); stroke-opacity: 1; stroke-width: 1px;\"/><path class=\"xgrid crisp\" transform=\"translate(322.75,0)\" d=\"M0,10v282\" style=\"stroke: rgb(232, 232, 232); stroke-opacity: 1; stroke-width: 1px;\"/><path class=\"xgrid crisp\" transform=\"translate(391.9,0)\" d=\"M0,10v282\" style=\"stroke: rgb(232, 232, 232); stroke-opacity: 1; stroke-width: 1px;\"/></g><g class=\"y\"><path class=\"ygrid crisp\" transform=\"translate(0,280.18)\" d=\"M73,0h388\" style=\"stroke: rgb(232, 232, 232); stroke-opacity: 1; stroke-width: 1px;\"/><path class=\"ygrid crisp\" transform=\"translate(0,232.15)\" d=\"M73,0h388\" style=\"stroke: rgb(232, 232, 232); stroke-opacity: 1; stroke-width: 1px;\"/><path class=\"ygrid crisp\" transform=\"translate(0,184.13)\" d=\"M73,0h388\" style=\"stroke: rgb(232, 232, 232); stroke-opacity: 1; stroke-width: 1px;\"/><path class=\"ygrid crisp\" transform=\"translate(0,136.11)\" d=\"M73,0h388\" style=\"stroke: rgb(232, 232, 232); stroke-opacity: 1; stroke-width: 1px;\"/><path class=\"ygrid crisp\" transform=\"translate(0,88.08)\" d=\"M73,0h388\" style=\"stroke: rgb(232, 232, 232); stroke-opacity: 1; stroke-width: 1px;\"/><path class=\"ygrid crisp\" transform=\"translate(0,40.06)\" d=\"M73,0h388\" style=\"stroke: rgb(232, 232, 232); stroke-opacity: 1; stroke-width: 1px;\"/></g></g><g class=\"zerolinelayer\"/><path class=\"xlines-below\"/><path class=\"ylines-below\"/><g class=\"overlines-below\"/><g class=\"xaxislayer-below\"/><g class=\"yaxislayer-below\"/><g class=\"overaxes-below\"/><g class=\"plot\" transform=\"translate(73,10)\" clip-path=\"url(#clip6bff25xyplot)\"><g class=\"scatterlayer mlayer\"><g class=\"trace scatter traceec372f\" style=\"stroke-miterlimit: 2; opacity: 1;\"><g class=\"fills\"/><g class=\"errorbars\"/><g class=\"lines\"/><g class=\"points\"><path class=\"point plotly-customdata\" transform=\"translate(275.17,54.48)\" d=\"M3,0A3,3 0 1,1 0,-3A3,3 0 0,1 3,0Z\" style=\"opacity: 1; stroke-width: 0px; fill: rgb(31, 119, 180); fill-opacity: 1;\"/><path class=\"point plotly-customdata\" transform=\"translate(200.01,231.83)\" d=\"M3,0A3,3 0 1,1 0,-3A3,3 0 0,1 3,0Z\" style=\"opacity: 1; stroke-width: 0px; fill: rgb(31, 119, 180); fill-opacity: 1;\"/><path class=\"point plotly-customdata\" transform=\"translate(208.99,156.75)\" d=\"M3,0A3,3 0 1,1 0,-3A3,3 0 0,1 3,0Z\" style=\"opacity: 1; stroke-width: 0px; fill: rgb(31, 119, 180); fill-opacity: 1;\"/><path class=\"point plotly-customdata\" transform=\"translate(197.75,170.36)\" d=\"M3,0A3,3 0 1,1 0,-3A3,3 0 0,1 3,0Z\" style=\"opacity: 1; stroke-width: 0px; fill: rgb(31, 119, 180); fill-opacity: 1;\"/><path class=\"point plotly-customdata\" transform=\"translate(364.85,164.73)\" d=\"M3,0A3,3 0 1,1 0,-3A3,3 0 0,1 3,0Z\" style=\"opacity: 1; stroke-width: 0px; fill: rgb(31, 119, 180); fill-opacity: 1;\"/><path class=\"point plotly-customdata\" transform=\"translate(236.05,81.43)\" d=\"M3,0A3,3 0 1,1 0,-3A3,3 0 0,1 3,0Z\" style=\"opacity: 1; stroke-width: 0px; fill: rgb(31, 119, 180); fill-opacity: 1;\"/><path class=\"point plotly-customdata\" transform=\"translate(188.45,194.81)\" d=\"M3,0A3,3 0 1,1 0,-3A3,3 0 0,1 3,0Z\" style=\"opacity: 1; stroke-width: 0px; fill: rgb(31, 119, 180); fill-opacity: 1;\"/><path class=\"point plotly-customdata\" transform=\"translate(280.11,219.96)\" d=\"M3,0A3,3 0 1,1 0,-3A3,3 0 0,1 3,0Z\" style=\"opacity: 1; stroke-width: 0px; fill: rgb(31, 119, 180); fill-opacity: 1;\"/><path class=\"point plotly-customdata\" transform=\"translate(240.29,108.68)\" d=\"M3,0A3,3 0 1,1 0,-3A3,3 0 0,1 3,0Z\" style=\"opacity: 1; stroke-width: 0px; fill: rgb(31, 119, 180); fill-opacity: 1;\"/><path class=\"point plotly-customdata\" transform=\"translate(241.35,82.56)\" d=\"M3,0A3,3 0 1,1 0,-3A3,3 0 0,1 3,0Z\" style=\"opacity: 1; stroke-width: 0px; fill: rgb(31, 119, 180); fill-opacity: 1;\"/><path class=\"point plotly-customdata\" transform=\"translate(247.19,89.05)\" d=\"M3,0A3,3 0 1,1 0,-3A3,3 0 0,1 3,0Z\" style=\"opacity: 1; stroke-width: 0px; fill: rgb(31, 119, 180); fill-opacity: 1;\"/><path class=\"point plotly-customdata\" transform=\"translate(240.39,129.54)\" d=\"M3,0A3,3 0 1,1 0,-3A3,3 0 0,1 3,0Z\" style=\"opacity: 1; stroke-width: 0px; fill: rgb(31, 119, 180); fill-opacity: 1;\"/><path class=\"point plotly-customdata\" transform=\"translate(279.25,187.66)\" d=\"M3,0A3,3 0 1,1 0,-3A3,3 0 0,1 3,0Z\" style=\"opacity: 1; stroke-width: 0px; fill: rgb(31, 119, 180); fill-opacity: 1;\"/><path class=\"point plotly-customdata\" transform=\"translate(192.23,255.44)\" d=\"M3,0A3,3 0 1,1 0,-3A3,3 0 0,1 3,0Z\" style=\"opacity: 1; stroke-width: 0px; fill: rgb(31, 119, 180); fill-opacity: 1;\"/><path class=\"point plotly-customdata\" transform=\"translate(276.23,59.14)\" d=\"M3,0A3,3 0 1,1 0,-3A3,3 0 0,1 3,0Z\" style=\"opacity: 1; stroke-width: 0px; fill: rgb(31, 119, 180); fill-opacity: 1;\"/><path class=\"point plotly-customdata\" transform=\"translate(245.83,122.94)\" d=\"M3,0A3,3 0 1,1 0,-3A3,3 0 0,1 3,0Z\" style=\"opacity: 1; stroke-width: 0px; fill: rgb(31, 119, 180); fill-opacity: 1;\"/><path class=\"point plotly-customdata\" transform=\"translate(244.81,121.56)\" d=\"M3,0A3,3 0 1,1 0,-3A3,3 0 0,1 3,0Z\" style=\"opacity: 1; stroke-width: 0px; fill: rgb(31, 119, 180); fill-opacity: 1;\"/><path class=\"point plotly-customdata\" transform=\"translate(299.43,236.96)\" d=\"M3,0A3,3 0 1,1 0,-3A3,3 0 0,1 3,0Z\" style=\"opacity: 1; stroke-width: 0px; fill: rgb(31, 119, 180); fill-opacity: 1;\"/><path class=\"point plotly-customdata\" transform=\"translate(236.66,89.62)\" d=\"M3,0A3,3 0 1,1 0,-3A3,3 0 0,1 3,0Z\" style=\"opacity: 1; stroke-width: 0px; fill: rgb(31, 119, 180); fill-opacity: 1;\"/><path class=\"point plotly-customdata\" transform=\"translate(218.55,152.89)\" d=\"M3,0A3,3 0 1,1 0,-3A3,3 0 0,1 3,0Z\" style=\"opacity: 1; stroke-width: 0px; fill: rgb(31, 119, 180); fill-opacity: 1;\"/><path class=\"point plotly-customdata\" transform=\"translate(270.38,145.16)\" d=\"M3,0A3,3 0 1,1 0,-3A3,3 0 0,1 3,0Z\" style=\"opacity: 1; stroke-width: 0px; fill: rgb(31, 119, 180); fill-opacity: 1;\"/><path class=\"point plotly-customdata\" transform=\"translate(213.6,155.58)\" d=\"M3,0A3,3 0 1,1 0,-3A3,3 0 0,1 3,0Z\" style=\"opacity: 1; stroke-width: 0px; fill: rgb(31, 119, 180); fill-opacity: 1;\"/><path class=\"point plotly-customdata\" transform=\"translate(217.95,131.58)\" d=\"M3,0A3,3 0 1,1 0,-3A3,3 0 0,1 3,0Z\" style=\"opacity: 1; stroke-width: 0px; fill: rgb(31, 119, 180); fill-opacity: 1;\"/><path class=\"point plotly-customdata\" transform=\"translate(251.08,76.25)\" d=\"M3,0A3,3 0 1,1 0,-3A3,3 0 0,1 3,0Z\" style=\"opacity: 1; stroke-width: 0px; fill: rgb(31, 119, 180); fill-opacity: 1;\"/><path class=\"point plotly-customdata\" transform=\"translate(234.41,118.16)\" d=\"M3,0A3,3 0 1,1 0,-3A3,3 0 0,1 3,0Z\" style=\"opacity: 1; stroke-width: 0px; fill: rgb(31, 119, 180); fill-opacity: 1;\"/><path class=\"point plotly-customdata\" transform=\"translate(205.57,162.25)\" d=\"M3,0A3,3 0 1,1 0,-3A3,3 0 0,1 3,0Z\" style=\"opacity: 1; stroke-width: 0px; fill: rgb(31, 119, 180); fill-opacity: 1;\"/><path class=\"point plotly-customdata\" transform=\"translate(207.21,198.39)\" d=\"M3,0A3,3 0 1,1 0,-3A3,3 0 0,1 3,0Z\" style=\"opacity: 1; stroke-width: 0px; fill: rgb(31, 119, 180); fill-opacity: 1;\"/><path class=\"point plotly-customdata\" transform=\"translate(182.58,220.4)\" d=\"M3,0A3,3 0 1,1 0,-3A3,3 0 0,1 3,0Z\" style=\"opacity: 1; stroke-width: 0px; fill: rgb(31, 119, 180); fill-opacity: 1;\"/><path class=\"point plotly-customdata\" transform=\"translate(249.2,52.92)\" d=\"M3,0A3,3 0 1,1 0,-3A3,3 0 0,1 3,0Z\" style=\"opacity: 1; stroke-width: 0px; fill: rgb(31, 119, 180); fill-opacity: 1;\"/><path class=\"point plotly-customdata\" transform=\"translate(236.25,111.79)\" d=\"M3,0A3,3 0 1,1 0,-3A3,3 0 0,1 3,0Z\" style=\"opacity: 1; stroke-width: 0px; fill: rgb(31, 119, 180); fill-opacity: 1;\"/><path class=\"point plotly-customdata\" transform=\"translate(257.82,215.32)\" d=\"M3,0A3,3 0 1,1 0,-3A3,3 0 0,1 3,0Z\" style=\"opacity: 1; stroke-width: 0px; fill: rgb(31, 119, 180); fill-opacity: 1;\"/><path class=\"point plotly-customdata\" transform=\"translate(270.3,140.27)\" d=\"M3,0A3,3 0 1,1 0,-3A3,3 0 0,1 3,0Z\" style=\"opacity: 1; stroke-width: 0px; fill: rgb(31, 119, 180); fill-opacity: 1;\"/><path class=\"point plotly-customdata\" transform=\"translate(260.96,238.35)\" d=\"M3,0A3,3 0 1,1 0,-3A3,3 0 0,1 3,0Z\" style=\"opacity: 1; stroke-width: 0px; fill: rgb(31, 119, 180); fill-opacity: 1;\"/><path class=\"point plotly-customdata\" transform=\"translate(209.53,192.36)\" d=\"M3,0A3,3 0 1,1 0,-3A3,3 0 0,1 3,0Z\" style=\"opacity: 1; stroke-width: 0px; fill: rgb(31, 119, 180); fill-opacity: 1;\"/><path class=\"point plotly-customdata\" transform=\"translate(276.4,173.88)\" d=\"M3,0A3,3 0 1,1 0,-3A3,3 0 0,1 3,0Z\" style=\"opacity: 1; stroke-width: 0px; fill: rgb(31, 119, 180); fill-opacity: 1;\"/><path class=\"point plotly-customdata\" transform=\"translate(281.39,247.78)\" d=\"M3,0A3,3 0 1,1 0,-3A3,3 0 0,1 3,0Z\" style=\"opacity: 1; stroke-width: 0px; fill: rgb(31, 119, 180); fill-opacity: 1;\"/><path class=\"point plotly-customdata\" transform=\"translate(271.88,250.8)\" d=\"M3,0A3,3 0 1,1 0,-3A3,3 0 0,1 3,0Z\" style=\"opacity: 1; stroke-width: 0px; fill: rgb(31, 119, 180); fill-opacity: 1;\"/><path class=\"point plotly-customdata\" transform=\"translate(207.63,204.3)\" d=\"M3,0A3,3 0 1,1 0,-3A3,3 0 0,1 3,0Z\" style=\"opacity: 1; stroke-width: 0px; fill: rgb(31, 119, 180); fill-opacity: 1;\"/><path class=\"point plotly-customdata\" transform=\"translate(172.34,245.35)\" d=\"M3,0A3,3 0 1,1 0,-3A3,3 0 0,1 3,0Z\" style=\"opacity: 1; stroke-width: 0px; fill: rgb(31, 119, 180); fill-opacity: 1;\"/><path class=\"point plotly-customdata\" transform=\"translate(168.8,246.99)\" d=\"M3,0A3,3 0 1,1 0,-3A3,3 0 0,1 3,0Z\" style=\"opacity: 1; stroke-width: 0px; fill: rgb(31, 119, 180); fill-opacity: 1;\"/><path class=\"point plotly-customdata\" transform=\"translate(244.1,110.13)\" d=\"M3,0A3,3 0 1,1 0,-3A3,3 0 0,1 3,0Z\" style=\"opacity: 1; stroke-width: 0px; fill: rgb(31, 119, 180); fill-opacity: 1;\"/><path class=\"point plotly-customdata\" transform=\"translate(302.71,249.96)\" d=\"M3,0A3,3 0 1,1 0,-3A3,3 0 0,1 3,0Z\" style=\"opacity: 1; stroke-width: 0px; fill: rgb(31, 119, 180); fill-opacity: 1;\"/><path class=\"point plotly-customdata\" transform=\"translate(244.69,66.76)\" d=\"M3,0A3,3 0 1,1 0,-3A3,3 0 0,1 3,0Z\" style=\"opacity: 1; stroke-width: 0px; fill: rgb(31, 119, 180); fill-opacity: 1;\"/><path class=\"point plotly-customdata\" transform=\"translate(235.51,77.41)\" d=\"M3,0A3,3 0 1,1 0,-3A3,3 0 0,1 3,0Z\" style=\"opacity: 1; stroke-width: 0px; fill: rgb(31, 119, 180); fill-opacity: 1;\"/><path class=\"point plotly-customdata\" transform=\"translate(169.26,264.15)\" d=\"M3,0A3,3 0 1,1 0,-3A3,3 0 0,1 3,0Z\" style=\"opacity: 1; stroke-width: 0px; fill: rgb(31, 119, 180); fill-opacity: 1;\"/><path class=\"point plotly-customdata\" transform=\"translate(291.39,95.64)\" d=\"M3,0A3,3 0 1,1 0,-3A3,3 0 0,1 3,0Z\" style=\"opacity: 1; stroke-width: 0px; fill: rgb(31, 119, 180); fill-opacity: 1;\"/><path class=\"point plotly-customdata\" transform=\"translate(244.1,110.13)\" d=\"M3,0A3,3 0 1,1 0,-3A3,3 0 0,1 3,0Z\" style=\"opacity: 1; stroke-width: 0px; fill: rgb(31, 119, 180); fill-opacity: 1;\"/><path class=\"point plotly-customdata\" transform=\"translate(298.38,176.87)\" d=\"M3,0A3,3 0 1,1 0,-3A3,3 0 0,1 3,0Z\" style=\"opacity: 1; stroke-width: 0px; fill: rgb(31, 119, 180); fill-opacity: 1;\"/><path class=\"point plotly-customdata\" transform=\"translate(229.27,123.9)\" d=\"M3,0A3,3 0 1,1 0,-3A3,3 0 0,1 3,0Z\" style=\"opacity: 1; stroke-width: 0px; fill: rgb(31, 119, 180); fill-opacity: 1;\"/><path class=\"point plotly-customdata\" transform=\"translate(251.29,51.52)\" d=\"M3,0A3,3 0 1,1 0,-3A3,3 0 0,1 3,0Z\" style=\"opacity: 1; stroke-width: 0px; fill: rgb(31, 119, 180); fill-opacity: 1;\"/><path class=\"point plotly-customdata\" transform=\"translate(254.23,72.94)\" d=\"M3,0A3,3 0 1,1 0,-3A3,3 0 0,1 3,0Z\" style=\"opacity: 1; stroke-width: 0px; fill: rgb(31, 119, 180); fill-opacity: 1;\"/><path class=\"point plotly-customdata\" transform=\"translate(178.81,236.72)\" d=\"M3,0A3,3 0 1,1 0,-3A3,3 0 0,1 3,0Z\" style=\"opacity: 1; stroke-width: 0px; fill: rgb(31, 119, 180); fill-opacity: 1;\"/><path class=\"point plotly-customdata\" transform=\"translate(241.11,114.46)\" d=\"M3,0A3,3 0 1,1 0,-3A3,3 0 0,1 3,0Z\" style=\"opacity: 1; stroke-width: 0px; fill: rgb(31, 119, 180); fill-opacity: 1;\"/><path class=\"point plotly-customdata\" transform=\"translate(215.06,148.36)\" d=\"M3,0A3,3 0 1,1 0,-3A3,3 0 0,1 3,0Z\" style=\"opacity: 1; stroke-width: 0px; fill: rgb(31, 119, 180); fill-opacity: 1;\"/><path class=\"point plotly-customdata\" transform=\"translate(232.96,121.68)\" d=\"M3,0A3,3 0 1,1 0,-3A3,3 0 0,1 3,0Z\" style=\"opacity: 1; stroke-width: 0px; fill: rgb(31, 119, 180); fill-opacity: 1;\"/><path class=\"point plotly-customdata\" transform=\"translate(217.08,176.74)\" d=\"M3,0A3,3 0 1,1 0,-3A3,3 0 0,1 3,0Z\" style=\"opacity: 1; stroke-width: 0px; fill: rgb(31, 119, 180); fill-opacity: 1;\"/><path class=\"point plotly-customdata\" transform=\"translate(306.26,163.23)\" d=\"M3,0A3,3 0 1,1 0,-3A3,3 0 0,1 3,0Z\" style=\"opacity: 1; stroke-width: 0px; fill: rgb(31, 119, 180); fill-opacity: 1;\"/><path class=\"point plotly-customdata\" transform=\"translate(187.82,252.05)\" d=\"M3,0A3,3 0 1,1 0,-3A3,3 0 0,1 3,0Z\" style=\"opacity: 1; stroke-width: 0px; fill: rgb(31, 119, 180); fill-opacity: 1;\"/><path class=\"point plotly-customdata\" transform=\"translate(272.3,143.46)\" d=\"M3,0A3,3 0 1,1 0,-3A3,3 0 0,1 3,0Z\" style=\"opacity: 1; stroke-width: 0px; fill: rgb(31, 119, 180); fill-opacity: 1;\"/><path class=\"point plotly-customdata\" transform=\"translate(248.53,233.06)\" d=\"M3,0A3,3 0 1,1 0,-3A3,3 0 0,1 3,0Z\" style=\"opacity: 1; stroke-width: 0px; fill: rgb(31, 119, 180); fill-opacity: 1;\"/><path class=\"point plotly-customdata\" transform=\"translate(244.15,80.31)\" d=\"M3,0A3,3 0 1,1 0,-3A3,3 0 0,1 3,0Z\" style=\"opacity: 1; stroke-width: 0px; fill: rgb(31, 119, 180); fill-opacity: 1;\"/><path class=\"point plotly-customdata\" transform=\"translate(181.6,236)\" d=\"M3,0A3,3 0 1,1 0,-3A3,3 0 0,1 3,0Z\" style=\"opacity: 1; stroke-width: 0px; fill: rgb(31, 119, 180); fill-opacity: 1;\"/><path class=\"point plotly-customdata\" transform=\"translate(234.37,100.24)\" d=\"M3,0A3,3 0 1,1 0,-3A3,3 0 0,1 3,0Z\" style=\"opacity: 1; stroke-width: 0px; fill: rgb(31, 119, 180); fill-opacity: 1;\"/><path class=\"point plotly-customdata\" transform=\"translate(250.11,166.25)\" d=\"M3,0A3,3 0 1,1 0,-3A3,3 0 0,1 3,0Z\" style=\"opacity: 1; stroke-width: 0px; fill: rgb(31, 119, 180); fill-opacity: 1;\"/><path class=\"point plotly-customdata\" transform=\"translate(186.3,219.22)\" d=\"M3,0A3,3 0 1,1 0,-3A3,3 0 0,1 3,0Z\" style=\"opacity: 1; stroke-width: 0px; fill: rgb(31, 119, 180); fill-opacity: 1;\"/><path class=\"point plotly-customdata\" transform=\"translate(275.49,231.39)\" d=\"M3,0A3,3 0 1,1 0,-3A3,3 0 0,1 3,0Z\" style=\"opacity: 1; stroke-width: 0px; fill: rgb(31, 119, 180); fill-opacity: 1;\"/><path class=\"point plotly-customdata\" transform=\"translate(244.1,110.13)\" d=\"M3,0A3,3 0 1,1 0,-3A3,3 0 0,1 3,0Z\" style=\"opacity: 1; stroke-width: 0px; fill: rgb(31, 119, 180); fill-opacity: 1;\"/><path class=\"point plotly-customdata\" transform=\"translate(178.35,251.39)\" d=\"M3,0A3,3 0 1,1 0,-3A3,3 0 0,1 3,0Z\" style=\"opacity: 1; stroke-width: 0px; fill: rgb(31, 119, 180); fill-opacity: 1;\"/><path class=\"point plotly-customdata\" transform=\"translate(264.12,83.59)\" d=\"M3,0A3,3 0 1,1 0,-3A3,3 0 0,1 3,0Z\" style=\"opacity: 1; stroke-width: 0px; fill: rgb(31, 119, 180); fill-opacity: 1;\"/><path class=\"point plotly-customdata\" transform=\"translate(243.52,87.19)\" d=\"M3,0A3,3 0 1,1 0,-3A3,3 0 0,1 3,0Z\" style=\"opacity: 1; stroke-width: 0px; fill: rgb(31, 119, 180); fill-opacity: 1;\"/><path class=\"point plotly-customdata\" transform=\"translate(209.7,176.13)\" d=\"M3,0A3,3 0 1,1 0,-3A3,3 0 0,1 3,0Z\" style=\"opacity: 1; stroke-width: 0px; fill: rgb(31, 119, 180); fill-opacity: 1;\"/><path class=\"point plotly-customdata\" transform=\"translate(241.4,80.13)\" d=\"M3,0A3,3 0 1,1 0,-3A3,3 0 0,1 3,0Z\" style=\"opacity: 1; stroke-width: 0px; fill: rgb(31, 119, 180); fill-opacity: 1;\"/><path class=\"point plotly-customdata\" transform=\"translate(292.05,130.16)\" d=\"M3,0A3,3 0 1,1 0,-3A3,3 0 0,1 3,0Z\" style=\"opacity: 1; stroke-width: 0px; fill: rgb(31, 119, 180); fill-opacity: 1;\"/><path class=\"point plotly-customdata\" transform=\"translate(297.27,214.74)\" d=\"M3,0A3,3 0 1,1 0,-3A3,3 0 0,1 3,0Z\" style=\"opacity: 1; stroke-width: 0px; fill: rgb(31, 119, 180); fill-opacity: 1;\"/><path class=\"point plotly-customdata\" transform=\"translate(198.84,161.04)\" d=\"M3,0A3,3 0 1,1 0,-3A3,3 0 0,1 3,0Z\" style=\"opacity: 1; stroke-width: 0px; fill: rgb(31, 119, 180); fill-opacity: 1;\"/><path class=\"point plotly-customdata\" transform=\"translate(242.9,74.32)\" d=\"M3,0A3,3 0 1,1 0,-3A3,3 0 0,1 3,0Z\" style=\"opacity: 1; stroke-width: 0px; fill: rgb(31, 119, 180); fill-opacity: 1;\"/><path class=\"point plotly-customdata\" transform=\"translate(242.63,103.48)\" d=\"M3,0A3,3 0 1,1 0,-3A3,3 0 0,1 3,0Z\" style=\"opacity: 1; stroke-width: 0px; fill: rgb(31, 119, 180); fill-opacity: 1;\"/><path class=\"point plotly-customdata\" transform=\"translate(240.51,136.91)\" d=\"M3,0A3,3 0 1,1 0,-3A3,3 0 0,1 3,0Z\" style=\"opacity: 1; stroke-width: 0px; fill: rgb(31, 119, 180); fill-opacity: 1;\"/><path class=\"point plotly-customdata\" transform=\"translate(248.87,53.09)\" d=\"M3,0A3,3 0 1,1 0,-3A3,3 0 0,1 3,0Z\" style=\"opacity: 1; stroke-width: 0px; fill: rgb(31, 119, 180); fill-opacity: 1;\"/><path class=\"point plotly-customdata\" transform=\"translate(203.28,179.94)\" d=\"M3,0A3,3 0 1,1 0,-3A3,3 0 0,1 3,0Z\" style=\"opacity: 1; stroke-width: 0px; fill: rgb(31, 119, 180); fill-opacity: 1;\"/><path class=\"point plotly-customdata\" transform=\"translate(301.23,233.36)\" d=\"M3,0A3,3 0 1,1 0,-3A3,3 0 0,1 3,0Z\" style=\"opacity: 1; stroke-width: 0px; fill: rgb(31, 119, 180); fill-opacity: 1;\"/><path class=\"point plotly-customdata\" transform=\"translate(251.6,67.25)\" d=\"M3,0A3,3 0 1,1 0,-3A3,3 0 0,1 3,0Z\" style=\"opacity: 1; stroke-width: 0px; fill: rgb(31, 119, 180); fill-opacity: 1;\"/><path class=\"point plotly-customdata\" transform=\"translate(233.81,87.07)\" d=\"M3,0A3,3 0 1,1 0,-3A3,3 0 0,1 3,0Z\" style=\"opacity: 1; stroke-width: 0px; fill: rgb(31, 119, 180); fill-opacity: 1;\"/><path class=\"point plotly-customdata\" transform=\"translate(189.86,263.32)\" d=\"M3,0A3,3 0 1,1 0,-3A3,3 0 0,1 3,0Z\" style=\"opacity: 1; stroke-width: 0px; fill: rgb(31, 119, 180); fill-opacity: 1;\"/><path class=\"point plotly-customdata\" transform=\"translate(252.34,142.78)\" d=\"M3,0A3,3 0 1,1 0,-3A3,3 0 0,1 3,0Z\" style=\"opacity: 1; stroke-width: 0px; fill: rgb(31, 119, 180); fill-opacity: 1;\"/><path class=\"point plotly-customdata\" transform=\"translate(333.07,169.63)\" d=\"M3,0A3,3 0 1,1 0,-3A3,3 0 0,1 3,0Z\" style=\"opacity: 1; stroke-width: 0px; fill: rgb(31, 119, 180); fill-opacity: 1;\"/><path class=\"point plotly-customdata\" transform=\"translate(290.86,120.5)\" d=\"M3,0A3,3 0 1,1 0,-3A3,3 0 0,1 3,0Z\" style=\"opacity: 1; stroke-width: 0px; fill: rgb(31, 119, 180); fill-opacity: 1;\"/><path class=\"point plotly-customdata\" transform=\"translate(273.76,158.01)\" d=\"M3,0A3,3 0 1,1 0,-3A3,3 0 0,1 3,0Z\" style=\"opacity: 1; stroke-width: 0px; fill: rgb(31, 119, 180); fill-opacity: 1;\"/><path class=\"point plotly-customdata\" transform=\"translate(248.28,194.66)\" d=\"M3,0A3,3 0 1,1 0,-3A3,3 0 0,1 3,0Z\" style=\"opacity: 1; stroke-width: 0px; fill: rgb(31, 119, 180); fill-opacity: 1;\"/><path class=\"point plotly-customdata\" transform=\"translate(322.64,224.94)\" d=\"M3,0A3,3 0 1,1 0,-3A3,3 0 0,1 3,0Z\" style=\"opacity: 1; stroke-width: 0px; fill: rgb(31, 119, 180); fill-opacity: 1;\"/><path class=\"point plotly-customdata\" transform=\"translate(225.54,106.9)\" d=\"M3,0A3,3 0 1,1 0,-3A3,3 0 0,1 3,0Z\" style=\"opacity: 1; stroke-width: 0px; fill: rgb(31, 119, 180); fill-opacity: 1;\"/><path class=\"point plotly-customdata\" transform=\"translate(241.35,82.56)\" d=\"M3,0A3,3 0 1,1 0,-3A3,3 0 0,1 3,0Z\" style=\"opacity: 1; stroke-width: 0px; fill: rgb(31, 119, 180); fill-opacity: 1;\"/><path class=\"point plotly-customdata\" transform=\"translate(239.98,69.12)\" d=\"M3,0A3,3 0 1,1 0,-3A3,3 0 0,1 3,0Z\" style=\"opacity: 1; stroke-width: 0px; fill: rgb(31, 119, 180); fill-opacity: 1;\"/><path class=\"point plotly-customdata\" transform=\"translate(228.72,83.83)\" d=\"M3,0A3,3 0 1,1 0,-3A3,3 0 0,1 3,0Z\" style=\"opacity: 1; stroke-width: 0px; fill: rgb(31, 119, 180); fill-opacity: 1;\"/><path class=\"point plotly-customdata\" transform=\"translate(246.04,53.2)\" d=\"M3,0A3,3 0 1,1 0,-3A3,3 0 0,1 3,0Z\" style=\"opacity: 1; stroke-width: 0px; fill: rgb(31, 119, 180); fill-opacity: 1;\"/><path class=\"point plotly-customdata\" transform=\"translate(336.88,167.73)\" d=\"M3,0A3,3 0 1,1 0,-3A3,3 0 0,1 3,0Z\" style=\"opacity: 1; stroke-width: 0px; fill: rgb(31, 119, 180); fill-opacity: 1;\"/><path class=\"point plotly-customdata\" transform=\"translate(189.95,168.9)\" d=\"M3,0A3,3 0 1,1 0,-3A3,3 0 0,1 3,0Z\" style=\"opacity: 1; stroke-width: 0px; fill: rgb(31, 119, 180); fill-opacity: 1;\"/><path class=\"point plotly-customdata\" transform=\"translate(205.89,247.25)\" d=\"M3,0A3,3 0 1,1 0,-3A3,3 0 0,1 3,0Z\" style=\"opacity: 1; stroke-width: 0px; fill: rgb(31, 119, 180); fill-opacity: 1;\"/><path class=\"point plotly-customdata\" transform=\"translate(249.77,59.2)\" d=\"M3,0A3,3 0 1,1 0,-3A3,3 0 0,1 3,0Z\" style=\"opacity: 1; stroke-width: 0px; fill: rgb(31, 119, 180); fill-opacity: 1;\"/><path class=\"point plotly-customdata\" transform=\"translate(203.14,202.15)\" d=\"M3,0A3,3 0 1,1 0,-3A3,3 0 0,1 3,0Z\" style=\"opacity: 1; stroke-width: 0px; fill: rgb(31, 119, 180); fill-opacity: 1;\"/><path class=\"point plotly-customdata\" transform=\"translate(224.67,250.55)\" d=\"M3,0A3,3 0 1,1 0,-3A3,3 0 0,1 3,0Z\" style=\"opacity: 1; stroke-width: 0px; fill: rgb(31, 119, 180); fill-opacity: 1;\"/><path class=\"point plotly-customdata\" transform=\"translate(248.47,69.57)\" d=\"M3,0A3,3 0 1,1 0,-3A3,3 0 0,1 3,0Z\" style=\"opacity: 1; stroke-width: 0px; fill: rgb(31, 119, 180); fill-opacity: 1;\"/><path class=\"point plotly-customdata\" transform=\"translate(274.76,168.45)\" d=\"M3,0A3,3 0 1,1 0,-3A3,3 0 0,1 3,0Z\" style=\"opacity: 1; stroke-width: 0px; fill: rgb(31, 119, 180); fill-opacity: 1;\"/><path class=\"point plotly-customdata\" transform=\"translate(179.96,241.09)\" d=\"M3,0A3,3 0 1,1 0,-3A3,3 0 0,1 3,0Z\" style=\"opacity: 1; stroke-width: 0px; fill: rgb(31, 119, 180); fill-opacity: 1;\"/><path class=\"point plotly-customdata\" transform=\"translate(173.51,257.11)\" d=\"M3,0A3,3 0 1,1 0,-3A3,3 0 0,1 3,0Z\" style=\"opacity: 1; stroke-width: 0px; fill: rgb(31, 119, 180); fill-opacity: 1;\"/><path class=\"point plotly-customdata\" transform=\"translate(244.1,110.13)\" d=\"M3,0A3,3 0 1,1 0,-3A3,3 0 0,1 3,0Z\" style=\"opacity: 1; stroke-width: 0px; fill: rgb(31, 119, 180); fill-opacity: 1;\"/><path class=\"point plotly-customdata\" transform=\"translate(253.88,120.44)\" d=\"M3,0A3,3 0 1,1 0,-3A3,3 0 0,1 3,0Z\" style=\"opacity: 1; stroke-width: 0px; fill: rgb(31, 119, 180); fill-opacity: 1;\"/><path class=\"point plotly-customdata\" transform=\"translate(246.25,97.95)\" d=\"M3,0A3,3 0 1,1 0,-3A3,3 0 0,1 3,0Z\" style=\"opacity: 1; stroke-width: 0px; fill: rgb(31, 119, 180); fill-opacity: 1;\"/><path class=\"point plotly-customdata\" transform=\"translate(209.53,192.36)\" d=\"M3,0A3,3 0 1,1 0,-3A3,3 0 0,1 3,0Z\" style=\"opacity: 1; stroke-width: 0px; fill: rgb(31, 119, 180); fill-opacity: 1;\"/><path class=\"point plotly-customdata\" transform=\"translate(236.9,87.05)\" d=\"M3,0A3,3 0 1,1 0,-3A3,3 0 0,1 3,0Z\" style=\"opacity: 1; stroke-width: 0px; fill: rgb(31, 119, 180); fill-opacity: 1;\"/><path class=\"point plotly-customdata\" transform=\"translate(248.62,93.28)\" d=\"M3,0A3,3 0 1,1 0,-3A3,3 0 0,1 3,0Z\" style=\"opacity: 1; stroke-width: 0px; fill: rgb(31, 119, 180); fill-opacity: 1;\"/><path class=\"point plotly-customdata\" transform=\"translate(244.1,110.13)\" d=\"M3,0A3,3 0 1,1 0,-3A3,3 0 0,1 3,0Z\" style=\"opacity: 1; stroke-width: 0px; fill: rgb(31, 119, 180); fill-opacity: 1;\"/><path class=\"point plotly-customdata\" transform=\"translate(198.39,212.39)\" d=\"M3,0A3,3 0 1,1 0,-3A3,3 0 0,1 3,0Z\" style=\"opacity: 1; stroke-width: 0px; fill: rgb(31, 119, 180); fill-opacity: 1;\"/><path class=\"point plotly-customdata\" transform=\"translate(198.92,246.62)\" d=\"M3,0A3,3 0 1,1 0,-3A3,3 0 0,1 3,0Z\" style=\"opacity: 1; stroke-width: 0px; fill: rgb(31, 119, 180); fill-opacity: 1;\"/><path class=\"point plotly-customdata\" transform=\"translate(260.96,238.35)\" d=\"M3,0A3,3 0 1,1 0,-3A3,3 0 0,1 3,0Z\" style=\"opacity: 1; stroke-width: 0px; fill: rgb(31, 119, 180); fill-opacity: 1;\"/><path class=\"point plotly-customdata\" transform=\"translate(231.38,102.25)\" d=\"M3,0A3,3 0 1,1 0,-3A3,3 0 0,1 3,0Z\" style=\"opacity: 1; stroke-width: 0px; fill: rgb(31, 119, 180); fill-opacity: 1;\"/><path class=\"point plotly-customdata\" transform=\"translate(250.47,66.48)\" d=\"M3,0A3,3 0 1,1 0,-3A3,3 0 0,1 3,0Z\" style=\"opacity: 1; stroke-width: 0px; fill: rgb(31, 119, 180); fill-opacity: 1;\"/><path class=\"point plotly-customdata\" transform=\"translate(211.74,133.51)\" d=\"M3,0A3,3 0 1,1 0,-3A3,3 0 0,1 3,0Z\" style=\"opacity: 1; stroke-width: 0px; fill: rgb(31, 119, 180); fill-opacity: 1;\"/><path class=\"point plotly-customdata\" transform=\"translate(193.92,249.45)\" d=\"M3,0A3,3 0 1,1 0,-3A3,3 0 0,1 3,0Z\" style=\"opacity: 1; stroke-width: 0px; fill: rgb(31, 119, 180); fill-opacity: 1;\"/><path class=\"point plotly-customdata\" transform=\"translate(231.98,91.06)\" d=\"M3,0A3,3 0 1,1 0,-3A3,3 0 0,1 3,0Z\" style=\"opacity: 1; stroke-width: 0px; fill: rgb(31, 119, 180); fill-opacity: 1;\"/><path class=\"point plotly-customdata\" transform=\"translate(200.09,211.5)\" d=\"M3,0A3,3 0 1,1 0,-3A3,3 0 0,1 3,0Z\" style=\"opacity: 1; stroke-width: 0px; fill: rgb(31, 119, 180); fill-opacity: 1;\"/><path class=\"point plotly-customdata\" transform=\"translate(193.2,197.01)\" d=\"M3,0A3,3 0 1,1 0,-3A3,3 0 0,1 3,0Z\" style=\"opacity: 1; stroke-width: 0px; fill: rgb(31, 119, 180); fill-opacity: 1;\"/><path class=\"point plotly-customdata\" transform=\"translate(240.51,109.44)\" d=\"M3,0A3,3 0 1,1 0,-3A3,3 0 0,1 3,0Z\" style=\"opacity: 1; stroke-width: 0px; fill: rgb(31, 119, 180); fill-opacity: 1;\"/><path class=\"point plotly-customdata\" transform=\"translate(175.37,239.46)\" d=\"M3,0A3,3 0 1,1 0,-3A3,3 0 0,1 3,0Z\" style=\"opacity: 1; stroke-width: 0px; fill: rgb(31, 119, 180); fill-opacity: 1;\"/><path class=\"point plotly-customdata\" transform=\"translate(229.71,152.93)\" d=\"M3,0A3,3 0 1,1 0,-3A3,3 0 0,1 3,0Z\" style=\"opacity: 1; stroke-width: 0px; fill: rgb(31, 119, 180); fill-opacity: 1;\"/><path class=\"point plotly-customdata\" transform=\"translate(193.27,160.52)\" d=\"M3,0A3,3 0 1,1 0,-3A3,3 0 0,1 3,0Z\" style=\"opacity: 1; stroke-width: 0px; fill: rgb(31, 119, 180); fill-opacity: 1;\"/><path class=\"point plotly-customdata\" transform=\"translate(309.68,123.91)\" d=\"M3,0A3,3 0 1,1 0,-3A3,3 0 0,1 3,0Z\" style=\"opacity: 1; stroke-width: 0px; fill: rgb(31, 119, 180); fill-opacity: 1;\"/><path class=\"point plotly-customdata\" transform=\"translate(214.3,159.29)\" d=\"M3,0A3,3 0 1,1 0,-3A3,3 0 0,1 3,0Z\" style=\"opacity: 1; stroke-width: 0px; fill: rgb(31, 119, 180); fill-opacity: 1;\"/><path class=\"point plotly-customdata\" transform=\"translate(251.47,123.93)\" d=\"M3,0A3,3 0 1,1 0,-3A3,3 0 0,1 3,0Z\" style=\"opacity: 1; stroke-width: 0px; fill: rgb(31, 119, 180); fill-opacity: 1;\"/><path class=\"point plotly-customdata\" transform=\"translate(243.88,116.16)\" d=\"M3,0A3,3 0 1,1 0,-3A3,3 0 0,1 3,0Z\" style=\"opacity: 1; stroke-width: 0px; fill: rgb(31, 119, 180); fill-opacity: 1;\"/><path class=\"point plotly-customdata\" transform=\"translate(243.87,75.58)\" d=\"M3,0A3,3 0 1,1 0,-3A3,3 0 0,1 3,0Z\" style=\"opacity: 1; stroke-width: 0px; fill: rgb(31, 119, 180); fill-opacity: 1;\"/><path class=\"point plotly-customdata\" transform=\"translate(246.18,51.83)\" d=\"M3,0A3,3 0 1,1 0,-3A3,3 0 0,1 3,0Z\" style=\"opacity: 1; stroke-width: 0px; fill: rgb(31, 119, 180); fill-opacity: 1;\"/><path class=\"point plotly-customdata\" transform=\"translate(259.05,129.92)\" d=\"M3,0A3,3 0 1,1 0,-3A3,3 0 0,1 3,0Z\" style=\"opacity: 1; stroke-width: 0px; fill: rgb(31, 119, 180); fill-opacity: 1;\"/><path class=\"point plotly-customdata\" transform=\"translate(182.79,248.14)\" d=\"M3,0A3,3 0 1,1 0,-3A3,3 0 0,1 3,0Z\" style=\"opacity: 1; stroke-width: 0px; fill: rgb(31, 119, 180); fill-opacity: 1;\"/><path class=\"point plotly-customdata\" transform=\"translate(242.7,109.35)\" d=\"M3,0A3,3 0 1,1 0,-3A3,3 0 0,1 3,0Z\" style=\"opacity: 1; stroke-width: 0px; fill: rgb(31, 119, 180); fill-opacity: 1;\"/><path class=\"point plotly-customdata\" transform=\"translate(271.22,116.99)\" d=\"M3,0A3,3 0 1,1 0,-3A3,3 0 0,1 3,0Z\" style=\"opacity: 1; stroke-width: 0px; fill: rgb(31, 119, 180); fill-opacity: 1;\"/><path class=\"point plotly-customdata\" transform=\"translate(195.82,223.59)\" d=\"M3,0A3,3 0 1,1 0,-3A3,3 0 0,1 3,0Z\" style=\"opacity: 1; stroke-width: 0px; fill: rgb(31, 119, 180); fill-opacity: 1;\"/><path class=\"point plotly-customdata\" transform=\"translate(225.18,158.46)\" d=\"M3,0A3,3 0 1,1 0,-3A3,3 0 0,1 3,0Z\" style=\"opacity: 1; stroke-width: 0px; fill: rgb(31, 119, 180); fill-opacity: 1;\"/><path class=\"point plotly-customdata\" transform=\"translate(342.47,162.91)\" d=\"M3,0A3,3 0 1,1 0,-3A3,3 0 0,1 3,0Z\" style=\"opacity: 1; stroke-width: 0px; fill: rgb(31, 119, 180); fill-opacity: 1;\"/><path class=\"point plotly-customdata\" transform=\"translate(244.1,110.13)\" d=\"M3,0A3,3 0 1,1 0,-3A3,3 0 0,1 3,0Z\" style=\"opacity: 1; stroke-width: 0px; fill: rgb(31, 119, 180); fill-opacity: 1;\"/><path class=\"point plotly-customdata\" transform=\"translate(216.65,172.94)\" d=\"M3,0A3,3 0 1,1 0,-3A3,3 0 0,1 3,0Z\" style=\"opacity: 1; stroke-width: 0px; fill: rgb(31, 119, 180); fill-opacity: 1;\"/><path class=\"point plotly-customdata\" transform=\"translate(250.59,61.31)\" d=\"M3,0A3,3 0 1,1 0,-3A3,3 0 0,1 3,0Z\" style=\"opacity: 1; stroke-width: 0px; fill: rgb(31, 119, 180); fill-opacity: 1;\"/><path class=\"point plotly-customdata\" transform=\"translate(229.44,146.11)\" d=\"M3,0A3,3 0 1,1 0,-3A3,3 0 0,1 3,0Z\" style=\"opacity: 1; stroke-width: 0px; fill: rgb(31, 119, 180); fill-opacity: 1;\"/><path class=\"point plotly-customdata\" transform=\"translate(240.62,57.05)\" d=\"M3,0A3,3 0 1,1 0,-3A3,3 0 0,1 3,0Z\" style=\"opacity: 1; stroke-width: 0px; fill: rgb(31, 119, 180); fill-opacity: 1;\"/><path class=\"point plotly-customdata\" transform=\"translate(275.17,54.48)\" d=\"M3,0A3,3 0 1,1 0,-3A3,3 0 0,1 3,0Z\" style=\"opacity: 1; stroke-width: 0px; fill: rgb(31, 119, 180); fill-opacity: 1;\"/><path class=\"point plotly-customdata\" transform=\"translate(267.43,106.84)\" d=\"M3,0A3,3 0 1,1 0,-3A3,3 0 0,1 3,0Z\" style=\"opacity: 1; stroke-width: 0px; fill: rgb(31, 119, 180); fill-opacity: 1;\"/><path class=\"point plotly-customdata\" transform=\"translate(240.18,75.78)\" d=\"M3,0A3,3 0 1,1 0,-3A3,3 0 0,1 3,0Z\" style=\"opacity: 1; stroke-width: 0px; fill: rgb(31, 119, 180); fill-opacity: 1;\"/><path class=\"point plotly-customdata\" transform=\"translate(241.01,83.06)\" d=\"M3,0A3,3 0 1,1 0,-3A3,3 0 0,1 3,0Z\" style=\"opacity: 1; stroke-width: 0px; fill: rgb(31, 119, 180); fill-opacity: 1;\"/><path class=\"point plotly-customdata\" transform=\"translate(265.87,151.81)\" d=\"M3,0A3,3 0 1,1 0,-3A3,3 0 0,1 3,0Z\" style=\"opacity: 1; stroke-width: 0px; fill: rgb(31, 119, 180); fill-opacity: 1;\"/><path class=\"point plotly-customdata\" transform=\"translate(210.88,125.11)\" d=\"M3,0A3,3 0 1,1 0,-3A3,3 0 0,1 3,0Z\" style=\"opacity: 1; stroke-width: 0px; fill: rgb(31, 119, 180); fill-opacity: 1;\"/><path class=\"point plotly-customdata\" transform=\"translate(241.35,82.56)\" d=\"M3,0A3,3 0 1,1 0,-3A3,3 0 0,1 3,0Z\" style=\"opacity: 1; stroke-width: 0px; fill: rgb(31, 119, 180); fill-opacity: 1;\"/><path class=\"point plotly-customdata\" transform=\"translate(163.2,252.43)\" d=\"M3,0A3,3 0 1,1 0,-3A3,3 0 0,1 3,0Z\" style=\"opacity: 1; stroke-width: 0px; fill: rgb(31, 119, 180); fill-opacity: 1;\"/><path class=\"point plotly-customdata\" transform=\"translate(277.08,218.09)\" d=\"M3,0A3,3 0 1,1 0,-3A3,3 0 0,1 3,0Z\" style=\"opacity: 1; stroke-width: 0px; fill: rgb(31, 119, 180); fill-opacity: 1;\"/><path class=\"point plotly-customdata\" transform=\"translate(243.31,106.31)\" d=\"M3,0A3,3 0 1,1 0,-3A3,3 0 0,1 3,0Z\" style=\"opacity: 1; stroke-width: 0px; fill: rgb(31, 119, 180); fill-opacity: 1;\"/><path class=\"point plotly-customdata\" transform=\"translate(179.16,243.6)\" d=\"M3,0A3,3 0 1,1 0,-3A3,3 0 0,1 3,0Z\" style=\"opacity: 1; stroke-width: 0px; fill: rgb(31, 119, 180); fill-opacity: 1;\"/><path class=\"point plotly-customdata\" transform=\"translate(249.77,116.99)\" d=\"M3,0A3,3 0 1,1 0,-3A3,3 0 0,1 3,0Z\" style=\"opacity: 1; stroke-width: 0px; fill: rgb(31, 119, 180); fill-opacity: 1;\"/><path class=\"point plotly-customdata\" transform=\"translate(249.51,85.24)\" d=\"M3,0A3,3 0 1,1 0,-3A3,3 0 0,1 3,0Z\" style=\"opacity: 1; stroke-width: 0px; fill: rgb(31, 119, 180); fill-opacity: 1;\"/><path class=\"point plotly-customdata\" transform=\"translate(217.39,197.99)\" d=\"M3,0A3,3 0 1,1 0,-3A3,3 0 0,1 3,0Z\" style=\"opacity: 1; stroke-width: 0px; fill: rgb(31, 119, 180); fill-opacity: 1;\"/><path class=\"point plotly-customdata\" transform=\"translate(302.71,249.96)\" d=\"M3,0A3,3 0 1,1 0,-3A3,3 0 0,1 3,0Z\" style=\"opacity: 1; stroke-width: 0px; fill: rgb(31, 119, 180); fill-opacity: 1;\"/><path class=\"point plotly-customdata\" transform=\"translate(247.17,73.91)\" d=\"M3,0A3,3 0 1,1 0,-3A3,3 0 0,1 3,0Z\" style=\"opacity: 1; stroke-width: 0px; fill: rgb(31, 119, 180); fill-opacity: 1;\"/><path class=\"point plotly-customdata\" transform=\"translate(183.78,223.49)\" d=\"M3,0A3,3 0 1,1 0,-3A3,3 0 0,1 3,0Z\" style=\"opacity: 1; stroke-width: 0px; fill: rgb(31, 119, 180); fill-opacity: 1;\"/><path class=\"point plotly-customdata\" transform=\"translate(208.2,134.95)\" d=\"M3,0A3,3 0 1,1 0,-3A3,3 0 0,1 3,0Z\" style=\"opacity: 1; stroke-width: 0px; fill: rgb(31, 119, 180); fill-opacity: 1;\"/><path class=\"point plotly-customdata\" transform=\"translate(235.57,89.51)\" d=\"M3,0A3,3 0 1,1 0,-3A3,3 0 0,1 3,0Z\" style=\"opacity: 1; stroke-width: 0px; fill: rgb(31, 119, 180); fill-opacity: 1;\"/><path class=\"point plotly-customdata\" transform=\"translate(245.51,99.52)\" d=\"M3,0A3,3 0 1,1 0,-3A3,3 0 0,1 3,0Z\" style=\"opacity: 1; stroke-width: 0px; fill: rgb(31, 119, 180); fill-opacity: 1;\"/><path class=\"point plotly-customdata\" transform=\"translate(232.42,92.44)\" d=\"M3,0A3,3 0 1,1 0,-3A3,3 0 0,1 3,0Z\" style=\"opacity: 1; stroke-width: 0px; fill: rgb(31, 119, 180); fill-opacity: 1;\"/><path class=\"point plotly-customdata\" transform=\"translate(242.82,88.19)\" d=\"M3,0A3,3 0 1,1 0,-3A3,3 0 0,1 3,0Z\" style=\"opacity: 1; stroke-width: 0px; fill: rgb(31, 119, 180); fill-opacity: 1;\"/><path class=\"point plotly-customdata\" transform=\"translate(293.42,226.04)\" d=\"M3,0A3,3 0 1,1 0,-3A3,3 0 0,1 3,0Z\" style=\"opacity: 1; stroke-width: 0px; fill: rgb(31, 119, 180); fill-opacity: 1;\"/><path class=\"point plotly-customdata\" transform=\"translate(244.1,110.13)\" d=\"M3,0A3,3 0 1,1 0,-3A3,3 0 0,1 3,0Z\" style=\"opacity: 1; stroke-width: 0px; fill: rgb(31, 119, 180); fill-opacity: 1;\"/><path class=\"point plotly-customdata\" transform=\"translate(207.34,195.08)\" d=\"M3,0A3,3 0 1,1 0,-3A3,3 0 0,1 3,0Z\" style=\"opacity: 1; stroke-width: 0px; fill: rgb(31, 119, 180); fill-opacity: 1;\"/><path class=\"point plotly-customdata\" transform=\"translate(239.25,120.33)\" d=\"M3,0A3,3 0 1,1 0,-3A3,3 0 0,1 3,0Z\" style=\"opacity: 1; stroke-width: 0px; fill: rgb(31, 119, 180); fill-opacity: 1;\"/><path class=\"point plotly-customdata\" transform=\"translate(194.54,213.42)\" d=\"M3,0A3,3 0 1,1 0,-3A3,3 0 0,1 3,0Z\" style=\"opacity: 1; stroke-width: 0px; fill: rgb(31, 119, 180); fill-opacity: 1;\"/><path class=\"point plotly-customdata\" transform=\"translate(211.29,162.15)\" d=\"M3,0A3,3 0 1,1 0,-3A3,3 0 0,1 3,0Z\" style=\"opacity: 1; stroke-width: 0px; fill: rgb(31, 119, 180); fill-opacity: 1;\"/><path class=\"point plotly-customdata\" transform=\"translate(170.85,244.72)\" d=\"M3,0A3,3 0 1,1 0,-3A3,3 0 0,1 3,0Z\" style=\"opacity: 1; stroke-width: 0px; fill: rgb(31, 119, 180); fill-opacity: 1;\"/><path class=\"point plotly-customdata\" transform=\"translate(174.86,238.66)\" d=\"M3,0A3,3 0 1,1 0,-3A3,3 0 0,1 3,0Z\" style=\"opacity: 1; stroke-width: 0px; fill: rgb(31, 119, 180); fill-opacity: 1;\"/><path class=\"point plotly-customdata\" transform=\"translate(290.75,247.78)\" d=\"M3,0A3,3 0 1,1 0,-3A3,3 0 0,1 3,0Z\" style=\"opacity: 1; stroke-width: 0px; fill: rgb(31, 119, 180); fill-opacity: 1;\"/><path class=\"point plotly-customdata\" transform=\"translate(244.69,66.76)\" d=\"M3,0A3,3 0 1,1 0,-3A3,3 0 0,1 3,0Z\" style=\"opacity: 1; stroke-width: 0px; fill: rgb(31, 119, 180); fill-opacity: 1;\"/><path class=\"point plotly-customdata\" transform=\"translate(213.08,174.69)\" d=\"M3,0A3,3 0 1,1 0,-3A3,3 0 0,1 3,0Z\" style=\"opacity: 1; stroke-width: 0px; fill: rgb(31, 119, 180); fill-opacity: 1;\"/><path class=\"point plotly-customdata\" transform=\"translate(265.01,117.71)\" d=\"M3,0A3,3 0 1,1 0,-3A3,3 0 0,1 3,0Z\" style=\"opacity: 1; stroke-width: 0px; fill: rgb(31, 119, 180); fill-opacity: 1;\"/><path class=\"point plotly-customdata\" transform=\"translate(203.29,227.3)\" d=\"M3,0A3,3 0 1,1 0,-3A3,3 0 0,1 3,0Z\" style=\"opacity: 1; stroke-width: 0px; fill: rgb(31, 119, 180); fill-opacity: 1;\"/><path class=\"point plotly-customdata\" transform=\"translate(241.73,95.92)\" d=\"M3,0A3,3 0 1,1 0,-3A3,3 0 0,1 3,0Z\" style=\"opacity: 1; stroke-width: 0px; fill: rgb(31, 119, 180); fill-opacity: 1;\"/><path class=\"point plotly-customdata\" transform=\"translate(243.95,152.42)\" d=\"M3,0A3,3 0 1,1 0,-3A3,3 0 0,1 3,0Z\" style=\"opacity: 1; stroke-width: 0px; fill: rgb(31, 119, 180); fill-opacity: 1;\"/><path class=\"point plotly-customdata\" transform=\"translate(197.75,135.58)\" d=\"M3,0A3,3 0 1,1 0,-3A3,3 0 0,1 3,0Z\" style=\"opacity: 1; stroke-width: 0px; fill: rgb(31, 119, 180); fill-opacity: 1;\"/><path class=\"point plotly-customdata\" transform=\"translate(259.11,96.2)\" d=\"M3,0A3,3 0 1,1 0,-3A3,3 0 0,1 3,0Z\" style=\"opacity: 1; stroke-width: 0px; fill: rgb(31, 119, 180); fill-opacity: 1;\"/><path class=\"point plotly-customdata\" transform=\"translate(210.81,230.55)\" d=\"M3,0A3,3 0 1,1 0,-3A3,3 0 0,1 3,0Z\" style=\"opacity: 1; stroke-width: 0px; fill: rgb(31, 119, 180); fill-opacity: 1;\"/><path class=\"point plotly-customdata\" transform=\"translate(259.77,83.43)\" d=\"M3,0A3,3 0 1,1 0,-3A3,3 0 0,1 3,0Z\" style=\"opacity: 1; stroke-width: 0px; fill: rgb(31, 119, 180); fill-opacity: 1;\"/><path class=\"point plotly-customdata\" transform=\"translate(240.48,113.17)\" d=\"M3,0A3,3 0 1,1 0,-3A3,3 0 0,1 3,0Z\" style=\"opacity: 1; stroke-width: 0px; fill: rgb(31, 119, 180); fill-opacity: 1;\"/><path class=\"point plotly-customdata\" transform=\"translate(215.39,149.29)\" d=\"M3,0A3,3 0 1,1 0,-3A3,3 0 0,1 3,0Z\" style=\"opacity: 1; stroke-width: 0px; fill: rgb(31, 119, 180); fill-opacity: 1;\"/><path class=\"point plotly-customdata\" transform=\"translate(254.18,231.06)\" d=\"M3,0A3,3 0 1,1 0,-3A3,3 0 0,1 3,0Z\" style=\"opacity: 1; stroke-width: 0px; fill: rgb(31, 119, 180); fill-opacity: 1;\"/><path class=\"point plotly-customdata\" transform=\"translate(244.1,110.13)\" d=\"M3,0A3,3 0 1,1 0,-3A3,3 0 0,1 3,0Z\" style=\"opacity: 1; stroke-width: 0px; fill: rgb(31, 119, 180); fill-opacity: 1;\"/><path class=\"point plotly-customdata\" transform=\"translate(231.98,91.06)\" d=\"M3,0A3,3 0 1,1 0,-3A3,3 0 0,1 3,0Z\" style=\"opacity: 1; stroke-width: 0px; fill: rgb(31, 119, 180); fill-opacity: 1;\"/><path class=\"point plotly-customdata\" transform=\"translate(217.92,195.9)\" d=\"M3,0A3,3 0 1,1 0,-3A3,3 0 0,1 3,0Z\" style=\"opacity: 1; stroke-width: 0px; fill: rgb(31, 119, 180); fill-opacity: 1;\"/><path class=\"point plotly-customdata\" transform=\"translate(247.67,251.74)\" d=\"M3,0A3,3 0 1,1 0,-3A3,3 0 0,1 3,0Z\" style=\"opacity: 1; stroke-width: 0px; fill: rgb(31, 119, 180); fill-opacity: 1;\"/><path class=\"point plotly-customdata\" transform=\"translate(275.45,76.93)\" d=\"M3,0A3,3 0 1,1 0,-3A3,3 0 0,1 3,0Z\" style=\"opacity: 1; stroke-width: 0px; fill: rgb(31, 119, 180); fill-opacity: 1;\"/><path class=\"point plotly-customdata\" transform=\"translate(229.35,144.96)\" d=\"M3,0A3,3 0 1,1 0,-3A3,3 0 0,1 3,0Z\" style=\"opacity: 1; stroke-width: 0px; fill: rgb(31, 119, 180); fill-opacity: 1;\"/><path class=\"point plotly-customdata\" transform=\"translate(250.59,61.31)\" d=\"M3,0A3,3 0 1,1 0,-3A3,3 0 0,1 3,0Z\" style=\"opacity: 1; stroke-width: 0px; fill: rgb(31, 119, 180); fill-opacity: 1;\"/><path class=\"point plotly-customdata\" transform=\"translate(269.97,162.11)\" d=\"M3,0A3,3 0 1,1 0,-3A3,3 0 0,1 3,0Z\" style=\"opacity: 1; stroke-width: 0px; fill: rgb(31, 119, 180); fill-opacity: 1;\"/><path class=\"point plotly-customdata\" transform=\"translate(171.98,240.83)\" d=\"M3,0A3,3 0 1,1 0,-3A3,3 0 0,1 3,0Z\" style=\"opacity: 1; stroke-width: 0px; fill: rgb(31, 119, 180); fill-opacity: 1;\"/><path class=\"point plotly-customdata\" transform=\"translate(240.29,77.29)\" d=\"M3,0A3,3 0 1,1 0,-3A3,3 0 0,1 3,0Z\" style=\"opacity: 1; stroke-width: 0px; fill: rgb(31, 119, 180); fill-opacity: 1;\"/><path class=\"point plotly-customdata\" transform=\"translate(197.74,245.58)\" d=\"M3,0A3,3 0 1,1 0,-3A3,3 0 0,1 3,0Z\" style=\"opacity: 1; stroke-width: 0px; fill: rgb(31, 119, 180); fill-opacity: 1;\"/><path class=\"point plotly-customdata\" transform=\"translate(290.52,226.85)\" d=\"M3,0A3,3 0 1,1 0,-3A3,3 0 0,1 3,0Z\" style=\"opacity: 1; stroke-width: 0px; fill: rgb(31, 119, 180); fill-opacity: 1;\"/><path class=\"point plotly-customdata\" transform=\"translate(196.93,244.28)\" d=\"M3,0A3,3 0 1,1 0,-3A3,3 0 0,1 3,0Z\" style=\"opacity: 1; stroke-width: 0px; fill: rgb(31, 119, 180); fill-opacity: 1;\"/><path class=\"point plotly-customdata\" transform=\"translate(240.55,116.43)\" d=\"M3,0A3,3 0 1,1 0,-3A3,3 0 0,1 3,0Z\" style=\"opacity: 1; stroke-width: 0px; fill: rgb(31, 119, 180); fill-opacity: 1;\"/><path class=\"point plotly-customdata\" transform=\"translate(273.34,129.38)\" d=\"M3,0A3,3 0 1,1 0,-3A3,3 0 0,1 3,0Z\" style=\"opacity: 1; stroke-width: 0px; fill: rgb(31, 119, 180); fill-opacity: 1;\"/><path class=\"point plotly-customdata\" transform=\"translate(326.89,175.85)\" d=\"M3,0A3,3 0 1,1 0,-3A3,3 0 0,1 3,0Z\" style=\"opacity: 1; stroke-width: 0px; fill: rgb(31, 119, 180); fill-opacity: 1;\"/><path class=\"point plotly-customdata\" transform=\"translate(187.53,234.48)\" d=\"M3,0A3,3 0 1,1 0,-3A3,3 0 0,1 3,0Z\" style=\"opacity: 1; stroke-width: 0px; fill: rgb(31, 119, 180); fill-opacity: 1;\"/><path class=\"point plotly-customdata\" transform=\"translate(221.13,143.4)\" d=\"M3,0A3,3 0 1,1 0,-3A3,3 0 0,1 3,0Z\" style=\"opacity: 1; stroke-width: 0px; fill: rgb(31, 119, 180); fill-opacity: 1;\"/><path class=\"point plotly-customdata\" transform=\"translate(233.74,231.12)\" d=\"M3,0A3,3 0 1,1 0,-3A3,3 0 0,1 3,0Z\" style=\"opacity: 1; stroke-width: 0px; fill: rgb(31, 119, 180); fill-opacity: 1;\"/><path class=\"point plotly-customdata\" transform=\"translate(275.17,54.48)\" d=\"M3,0A3,3 0 1,1 0,-3A3,3 0 0,1 3,0Z\" style=\"opacity: 1; stroke-width: 0px; fill: rgb(31, 119, 180); fill-opacity: 1;\"/><path class=\"point plotly-customdata\" transform=\"translate(248.21,81.13)\" d=\"M3,0A3,3 0 1,1 0,-3A3,3 0 0,1 3,0Z\" style=\"opacity: 1; stroke-width: 0px; fill: rgb(31, 119, 180); fill-opacity: 1;\"/><path class=\"point plotly-customdata\" transform=\"translate(255.33,94.52)\" d=\"M3,0A3,3 0 1,1 0,-3A3,3 0 0,1 3,0Z\" style=\"opacity: 1; stroke-width: 0px; fill: rgb(31, 119, 180); fill-opacity: 1;\"/><path class=\"point plotly-customdata\" transform=\"translate(265.24,70.5)\" d=\"M3,0A3,3 0 1,1 0,-3A3,3 0 0,1 3,0Z\" style=\"opacity: 1; stroke-width: 0px; fill: rgb(31, 119, 180); fill-opacity: 1;\"/><path class=\"point plotly-customdata\" transform=\"translate(244.1,110.13)\" d=\"M3,0A3,3 0 1,1 0,-3A3,3 0 0,1 3,0Z\" style=\"opacity: 1; stroke-width: 0px; fill: rgb(31, 119, 180); fill-opacity: 1;\"/><path class=\"point plotly-customdata\" transform=\"translate(245.62,60.66)\" d=\"M3,0A3,3 0 1,1 0,-3A3,3 0 0,1 3,0Z\" style=\"opacity: 1; stroke-width: 0px; fill: rgb(31, 119, 180); fill-opacity: 1;\"/><path class=\"point plotly-customdata\" transform=\"translate(237.61,82.88)\" d=\"M3,0A3,3 0 1,1 0,-3A3,3 0 0,1 3,0Z\" style=\"opacity: 1; stroke-width: 0px; fill: rgb(31, 119, 180); fill-opacity: 1;\"/><path class=\"point plotly-customdata\" transform=\"translate(243.95,154.06)\" d=\"M3,0A3,3 0 1,1 0,-3A3,3 0 0,1 3,0Z\" style=\"opacity: 1; stroke-width: 0px; fill: rgb(31, 119, 180); fill-opacity: 1;\"/><path class=\"point plotly-customdata\" transform=\"translate(241.1,79.12)\" d=\"M3,0A3,3 0 1,1 0,-3A3,3 0 0,1 3,0Z\" style=\"opacity: 1; stroke-width: 0px; fill: rgb(31, 119, 180); fill-opacity: 1;\"/><path class=\"point plotly-customdata\" transform=\"translate(241.89,110.56)\" d=\"M3,0A3,3 0 1,1 0,-3A3,3 0 0,1 3,0Z\" style=\"opacity: 1; stroke-width: 0px; fill: rgb(31, 119, 180); fill-opacity: 1;\"/><path class=\"point plotly-customdata\" transform=\"translate(317.64,163.28)\" d=\"M3,0A3,3 0 1,1 0,-3A3,3 0 0,1 3,0Z\" style=\"opacity: 1; stroke-width: 0px; fill: rgb(31, 119, 180); fill-opacity: 1;\"/><path class=\"point plotly-customdata\" transform=\"translate(221.8,144.7)\" d=\"M3,0A3,3 0 1,1 0,-3A3,3 0 0,1 3,0Z\" style=\"opacity: 1; stroke-width: 0px; fill: rgb(31, 119, 180); fill-opacity: 1;\"/><path class=\"point plotly-customdata\" transform=\"translate(252.23,120.18)\" d=\"M3,0A3,3 0 1,1 0,-3A3,3 0 0,1 3,0Z\" style=\"opacity: 1; stroke-width: 0px; fill: rgb(31, 119, 180); fill-opacity: 1;\"/><path class=\"point plotly-customdata\" transform=\"translate(247.07,100.17)\" d=\"M3,0A3,3 0 1,1 0,-3A3,3 0 0,1 3,0Z\" style=\"opacity: 1; stroke-width: 0px; fill: rgb(31, 119, 180); fill-opacity: 1;\"/><path class=\"point plotly-customdata\" transform=\"translate(257.5,121.69)\" d=\"M3,0A3,3 0 1,1 0,-3A3,3 0 0,1 3,0Z\" style=\"opacity: 1; stroke-width: 0px; fill: rgb(31, 119, 180); fill-opacity: 1;\"/><path class=\"point plotly-customdata\" transform=\"translate(309.54,196.57)\" d=\"M3,0A3,3 0 1,1 0,-3A3,3 0 0,1 3,0Z\" style=\"opacity: 1; stroke-width: 0px; fill: rgb(31, 119, 180); fill-opacity: 1;\"/><path class=\"point plotly-customdata\" transform=\"translate(220.99,134.26)\" d=\"M3,0A3,3 0 1,1 0,-3A3,3 0 0,1 3,0Z\" style=\"opacity: 1; stroke-width: 0px; fill: rgb(31, 119, 180); fill-opacity: 1;\"/><path class=\"point plotly-customdata\" transform=\"translate(263.22,57.81)\" d=\"M3,0A3,3 0 1,1 0,-3A3,3 0 0,1 3,0Z\" style=\"opacity: 1; stroke-width: 0px; fill: rgb(31, 119, 180); fill-opacity: 1;\"/><path class=\"point plotly-customdata\" transform=\"translate(180.52,245.78)\" d=\"M3,0A3,3 0 1,1 0,-3A3,3 0 0,1 3,0Z\" style=\"opacity: 1; stroke-width: 0px; fill: rgb(31, 119, 180); fill-opacity: 1;\"/><path class=\"point plotly-customdata\" transform=\"translate(285.47,139.62)\" d=\"M3,0A3,3 0 1,1 0,-3A3,3 0 0,1 3,0Z\" style=\"opacity: 1; stroke-width: 0px; fill: rgb(31, 119, 180); fill-opacity: 1;\"/><path class=\"point plotly-customdata\" transform=\"translate(275.39,117.1)\" d=\"M3,0A3,3 0 1,1 0,-3A3,3 0 0,1 3,0Z\" style=\"opacity: 1; stroke-width: 0px; fill: rgb(31, 119, 180); fill-opacity: 1;\"/><path class=\"point plotly-customdata\" transform=\"translate(234.63,85.46)\" d=\"M3,0A3,3 0 1,1 0,-3A3,3 0 0,1 3,0Z\" style=\"opacity: 1; stroke-width: 0px; fill: rgb(31, 119, 180); fill-opacity: 1;\"/><path class=\"point plotly-customdata\" transform=\"translate(299.81,182.18)\" d=\"M3,0A3,3 0 1,1 0,-3A3,3 0 0,1 3,0Z\" style=\"opacity: 1; stroke-width: 0px; fill: rgb(31, 119, 180); fill-opacity: 1;\"/><path class=\"point plotly-customdata\" transform=\"translate(248.99,69.7)\" d=\"M3,0A3,3 0 1,1 0,-3A3,3 0 0,1 3,0Z\" style=\"opacity: 1; stroke-width: 0px; fill: rgb(31, 119, 180); fill-opacity: 1;\"/><path class=\"point plotly-customdata\" transform=\"translate(227.02,187.24)\" d=\"M3,0A3,3 0 1,1 0,-3A3,3 0 0,1 3,0Z\" style=\"opacity: 1; stroke-width: 0px; fill: rgb(31, 119, 180); fill-opacity: 1;\"/><path class=\"point plotly-customdata\" transform=\"translate(186.51,192.13)\" d=\"M3,0A3,3 0 1,1 0,-3A3,3 0 0,1 3,0Z\" style=\"opacity: 1; stroke-width: 0px; fill: rgb(31, 119, 180); fill-opacity: 1;\"/><path class=\"point plotly-customdata\" transform=\"translate(244.69,66.76)\" d=\"M3,0A3,3 0 1,1 0,-3A3,3 0 0,1 3,0Z\" style=\"opacity: 1; stroke-width: 0px; fill: rgb(31, 119, 180); fill-opacity: 1;\"/><path class=\"point plotly-customdata\" transform=\"translate(249.59,118.29)\" d=\"M3,0A3,3 0 1,1 0,-3A3,3 0 0,1 3,0Z\" style=\"opacity: 1; stroke-width: 0px; fill: rgb(31, 119, 180); fill-opacity: 1;\"/><path class=\"point plotly-customdata\" transform=\"translate(272.04,68.6)\" d=\"M3,0A3,3 0 1,1 0,-3A3,3 0 0,1 3,0Z\" style=\"opacity: 1; stroke-width: 0px; fill: rgb(31, 119, 180); fill-opacity: 1;\"/><path class=\"point plotly-customdata\" transform=\"translate(281.18,232.61)\" d=\"M3,0A3,3 0 1,1 0,-3A3,3 0 0,1 3,0Z\" style=\"opacity: 1; stroke-width: 0px; fill: rgb(31, 119, 180); fill-opacity: 1;\"/><path class=\"point plotly-customdata\" transform=\"translate(186.07,259.46)\" d=\"M3,0A3,3 0 1,1 0,-3A3,3 0 0,1 3,0Z\" style=\"opacity: 1; stroke-width: 0px; fill: rgb(31, 119, 180); fill-opacity: 1;\"/><path class=\"point plotly-customdata\" transform=\"translate(249.04,138.15)\" d=\"M3,0A3,3 0 1,1 0,-3A3,3 0 0,1 3,0Z\" style=\"opacity: 1; stroke-width: 0px; fill: rgb(31, 119, 180); fill-opacity: 1;\"/><path class=\"point plotly-customdata\" transform=\"translate(191.36,149.46)\" d=\"M3,0A3,3 0 1,1 0,-3A3,3 0 0,1 3,0Z\" style=\"opacity: 1; stroke-width: 0px; fill: rgb(31, 119, 180); fill-opacity: 1;\"/><path class=\"point plotly-customdata\" transform=\"translate(179.32,246.93)\" d=\"M3,0A3,3 0 1,1 0,-3A3,3 0 0,1 3,0Z\" style=\"opacity: 1; stroke-width: 0px; fill: rgb(31, 119, 180); fill-opacity: 1;\"/><path class=\"point plotly-customdata\" transform=\"translate(248.47,69.57)\" d=\"M3,0A3,3 0 1,1 0,-3A3,3 0 0,1 3,0Z\" style=\"opacity: 1; stroke-width: 0px; fill: rgb(31, 119, 180); fill-opacity: 1;\"/><path class=\"point plotly-customdata\" transform=\"translate(199.98,247.87)\" d=\"M3,0A3,3 0 1,1 0,-3A3,3 0 0,1 3,0Z\" style=\"opacity: 1; stroke-width: 0px; fill: rgb(31, 119, 180); fill-opacity: 1;\"/><path class=\"point plotly-customdata\" transform=\"translate(178.92,241.33)\" d=\"M3,0A3,3 0 1,1 0,-3A3,3 0 0,1 3,0Z\" style=\"opacity: 1; stroke-width: 0px; fill: rgb(31, 119, 180); fill-opacity: 1;\"/><path class=\"point plotly-customdata\" transform=\"translate(216.95,135.92)\" d=\"M3,0A3,3 0 1,1 0,-3A3,3 0 0,1 3,0Z\" style=\"opacity: 1; stroke-width: 0px; fill: rgb(31, 119, 180); fill-opacity: 1;\"/><path class=\"point plotly-customdata\" transform=\"translate(247.73,99.59)\" d=\"M3,0A3,3 0 1,1 0,-3A3,3 0 0,1 3,0Z\" style=\"opacity: 1; stroke-width: 0px; fill: rgb(31, 119, 180); fill-opacity: 1;\"/><path class=\"point plotly-customdata\" transform=\"translate(231.98,91.06)\" d=\"M3,0A3,3 0 1,1 0,-3A3,3 0 0,1 3,0Z\" style=\"opacity: 1; stroke-width: 0px; fill: rgb(31, 119, 180); fill-opacity: 1;\"/><path class=\"point plotly-customdata\" transform=\"translate(200.08,231.62)\" d=\"M3,0A3,3 0 1,1 0,-3A3,3 0 0,1 3,0Z\" style=\"opacity: 1; stroke-width: 0px; fill: rgb(31, 119, 180); fill-opacity: 1;\"/><path class=\"point plotly-customdata\" transform=\"translate(275.17,54.48)\" d=\"M3,0A3,3 0 1,1 0,-3A3,3 0 0,1 3,0Z\" style=\"opacity: 1; stroke-width: 0px; fill: rgb(31, 119, 180); fill-opacity: 1;\"/><path class=\"point plotly-customdata\" transform=\"translate(251.88,53.79)\" d=\"M3,0A3,3 0 1,1 0,-3A3,3 0 0,1 3,0Z\" style=\"opacity: 1; stroke-width: 0px; fill: rgb(31, 119, 180); fill-opacity: 1;\"/><path class=\"point plotly-customdata\" transform=\"translate(210.3,125.24)\" d=\"M3,0A3,3 0 1,1 0,-3A3,3 0 0,1 3,0Z\" style=\"opacity: 1; stroke-width: 0px; fill: rgb(31, 119, 180); fill-opacity: 1;\"/><path class=\"point plotly-customdata\" transform=\"translate(262.49,125.08)\" d=\"M3,0A3,3 0 1,1 0,-3A3,3 0 0,1 3,0Z\" style=\"opacity: 1; stroke-width: 0px; fill: rgb(31, 119, 180); fill-opacity: 1;\"/><path class=\"point plotly-customdata\" transform=\"translate(216.46,232.83)\" d=\"M3,0A3,3 0 1,1 0,-3A3,3 0 0,1 3,0Z\" style=\"opacity: 1; stroke-width: 0px; fill: rgb(31, 119, 180); fill-opacity: 1;\"/><path class=\"point plotly-customdata\" transform=\"translate(247.99,92.59)\" d=\"M3,0A3,3 0 1,1 0,-3A3,3 0 0,1 3,0Z\" style=\"opacity: 1; stroke-width: 0px; fill: rgb(31, 119, 180); fill-opacity: 1;\"/><path class=\"point plotly-customdata\" transform=\"translate(211.78,165.18)\" d=\"M3,0A3,3 0 1,1 0,-3A3,3 0 0,1 3,0Z\" style=\"opacity: 1; stroke-width: 0px; fill: rgb(31, 119, 180); fill-opacity: 1;\"/><path class=\"point plotly-customdata\" transform=\"translate(188.51,249.82)\" d=\"M3,0A3,3 0 1,1 0,-3A3,3 0 0,1 3,0Z\" style=\"opacity: 1; stroke-width: 0px; fill: rgb(31, 119, 180); fill-opacity: 1;\"/><path class=\"point plotly-customdata\" transform=\"translate(213.76,163.46)\" d=\"M3,0A3,3 0 1,1 0,-3A3,3 0 0,1 3,0Z\" style=\"opacity: 1; stroke-width: 0px; fill: rgb(31, 119, 180); fill-opacity: 1;\"/><path class=\"point plotly-customdata\" transform=\"translate(211.16,175.5)\" d=\"M3,0A3,3 0 1,1 0,-3A3,3 0 0,1 3,0Z\" style=\"opacity: 1; stroke-width: 0px; fill: rgb(31, 119, 180); fill-opacity: 1;\"/><path class=\"point plotly-customdata\" transform=\"translate(251.91,101.47)\" d=\"M3,0A3,3 0 1,1 0,-3A3,3 0 0,1 3,0Z\" style=\"opacity: 1; stroke-width: 0px; fill: rgb(31, 119, 180); fill-opacity: 1;\"/><path class=\"point plotly-customdata\" transform=\"translate(257.82,215.32)\" d=\"M3,0A3,3 0 1,1 0,-3A3,3 0 0,1 3,0Z\" style=\"opacity: 1; stroke-width: 0px; fill: rgb(31, 119, 180); fill-opacity: 1;\"/><path class=\"point plotly-customdata\" transform=\"translate(274.97,169.1)\" d=\"M3,0A3,3 0 1,1 0,-3A3,3 0 0,1 3,0Z\" style=\"opacity: 1; stroke-width: 0px; fill: rgb(31, 119, 180); fill-opacity: 1;\"/><path class=\"point plotly-customdata\" transform=\"translate(189.91,162.37)\" d=\"M3,0A3,3 0 1,1 0,-3A3,3 0 0,1 3,0Z\" style=\"opacity: 1; stroke-width: 0px; fill: rgb(31, 119, 180); fill-opacity: 1;\"/><path class=\"point plotly-customdata\" transform=\"translate(232.86,60.23)\" d=\"M3,0A3,3 0 1,1 0,-3A3,3 0 0,1 3,0Z\" style=\"opacity: 1; stroke-width: 0px; fill: rgb(31, 119, 180); fill-opacity: 1;\"/><path class=\"point plotly-customdata\" transform=\"translate(248.47,69.57)\" d=\"M3,0A3,3 0 1,1 0,-3A3,3 0 0,1 3,0Z\" style=\"opacity: 1; stroke-width: 0px; fill: rgb(31, 119, 180); fill-opacity: 1;\"/><path class=\"point plotly-customdata\" transform=\"translate(212.89,206.8)\" d=\"M3,0A3,3 0 1,1 0,-3A3,3 0 0,1 3,0Z\" style=\"opacity: 1; stroke-width: 0px; fill: rgb(31, 119, 180); fill-opacity: 1;\"/><path class=\"point plotly-customdata\" transform=\"translate(262.85,245.71)\" d=\"M3,0A3,3 0 1,1 0,-3A3,3 0 0,1 3,0Z\" style=\"opacity: 1; stroke-width: 0px; fill: rgb(31, 119, 180); fill-opacity: 1;\"/><path class=\"point plotly-customdata\" transform=\"translate(246.33,88.46)\" d=\"M3,0A3,3 0 1,1 0,-3A3,3 0 0,1 3,0Z\" style=\"opacity: 1; stroke-width: 0px; fill: rgb(31, 119, 180); fill-opacity: 1;\"/><path class=\"point plotly-customdata\" transform=\"translate(250.54,63.55)\" d=\"M3,0A3,3 0 1,1 0,-3A3,3 0 0,1 3,0Z\" style=\"opacity: 1; stroke-width: 0px; fill: rgb(31, 119, 180); fill-opacity: 1;\"/><path class=\"point plotly-customdata\" transform=\"translate(251.44,88.97)\" d=\"M3,0A3,3 0 1,1 0,-3A3,3 0 0,1 3,0Z\" style=\"opacity: 1; stroke-width: 0px; fill: rgb(31, 119, 180); fill-opacity: 1;\"/><path class=\"point plotly-customdata\" transform=\"translate(250.29,125.19)\" d=\"M3,0A3,3 0 1,1 0,-3A3,3 0 0,1 3,0Z\" style=\"opacity: 1; stroke-width: 0px; fill: rgb(31, 119, 180); fill-opacity: 1;\"/><path class=\"point plotly-customdata\" transform=\"translate(279.55,111.78)\" d=\"M3,0A3,3 0 1,1 0,-3A3,3 0 0,1 3,0Z\" style=\"opacity: 1; stroke-width: 0px; fill: rgb(31, 119, 180); fill-opacity: 1;\"/><path class=\"point plotly-customdata\" transform=\"translate(260.57,111.43)\" d=\"M3,0A3,3 0 1,1 0,-3A3,3 0 0,1 3,0Z\" style=\"opacity: 1; stroke-width: 0px; fill: rgb(31, 119, 180); fill-opacity: 1;\"/><path class=\"point plotly-customdata\" transform=\"translate(198.65,174.39)\" d=\"M3,0A3,3 0 1,1 0,-3A3,3 0 0,1 3,0Z\" style=\"opacity: 1; stroke-width: 0px; fill: rgb(31, 119, 180); fill-opacity: 1;\"/><path class=\"point plotly-customdata\" transform=\"translate(232.49,195.14)\" d=\"M3,0A3,3 0 1,1 0,-3A3,3 0 0,1 3,0Z\" style=\"opacity: 1; stroke-width: 0px; fill: rgb(31, 119, 180); fill-opacity: 1;\"/><path class=\"point plotly-customdata\" transform=\"translate(213.13,124.93)\" d=\"M3,0A3,3 0 1,1 0,-3A3,3 0 0,1 3,0Z\" style=\"opacity: 1; stroke-width: 0px; fill: rgb(31, 119, 180); fill-opacity: 1;\"/><path class=\"point plotly-customdata\" transform=\"translate(241.99,114.17)\" d=\"M3,0A3,3 0 1,1 0,-3A3,3 0 0,1 3,0Z\" style=\"opacity: 1; stroke-width: 0px; fill: rgb(31, 119, 180); fill-opacity: 1;\"/><path class=\"point plotly-customdata\" transform=\"translate(227.08,140.56)\" d=\"M3,0A3,3 0 1,1 0,-3A3,3 0 0,1 3,0Z\" style=\"opacity: 1; stroke-width: 0px; fill: rgb(31, 119, 180); fill-opacity: 1;\"/><path class=\"point plotly-customdata\" transform=\"translate(247.59,71.92)\" d=\"M3,0A3,3 0 1,1 0,-3A3,3 0 0,1 3,0Z\" style=\"opacity: 1; stroke-width: 0px; fill: rgb(31, 119, 180); fill-opacity: 1;\"/><path class=\"point plotly-customdata\" transform=\"translate(247.19,89.05)\" d=\"M3,0A3,3 0 1,1 0,-3A3,3 0 0,1 3,0Z\" style=\"opacity: 1; stroke-width: 0px; fill: rgb(31, 119, 180); fill-opacity: 1;\"/><path class=\"point plotly-customdata\" transform=\"translate(243.75,95.4)\" d=\"M3,0A3,3 0 1,1 0,-3A3,3 0 0,1 3,0Z\" style=\"opacity: 1; stroke-width: 0px; fill: rgb(31, 119, 180); fill-opacity: 1;\"/><path class=\"point plotly-customdata\" transform=\"translate(236.48,117.1)\" d=\"M3,0A3,3 0 1,1 0,-3A3,3 0 0,1 3,0Z\" style=\"opacity: 1; stroke-width: 0px; fill: rgb(31, 119, 180); fill-opacity: 1;\"/><path class=\"point plotly-customdata\" transform=\"translate(254.88,114.23)\" d=\"M3,0A3,3 0 1,1 0,-3A3,3 0 0,1 3,0Z\" style=\"opacity: 1; stroke-width: 0px; fill: rgb(31, 119, 180); fill-opacity: 1;\"/><path class=\"point plotly-customdata\" transform=\"translate(279.55,111.78)\" d=\"M3,0A3,3 0 1,1 0,-3A3,3 0 0,1 3,0Z\" style=\"opacity: 1; stroke-width: 0px; fill: rgb(31, 119, 180); fill-opacity: 1;\"/><path class=\"point plotly-customdata\" transform=\"translate(175.94,235.54)\" d=\"M3,0A3,3 0 1,1 0,-3A3,3 0 0,1 3,0Z\" style=\"opacity: 1; stroke-width: 0px; fill: rgb(31, 119, 180); fill-opacity: 1;\"/><path class=\"point plotly-customdata\" transform=\"translate(240.99,73.31)\" d=\"M3,0A3,3 0 1,1 0,-3A3,3 0 0,1 3,0Z\" style=\"opacity: 1; stroke-width: 0px; fill: rgb(31, 119, 180); fill-opacity: 1;\"/><path class=\"point plotly-customdata\" transform=\"translate(275.17,54.48)\" d=\"M3,0A3,3 0 1,1 0,-3A3,3 0 0,1 3,0Z\" style=\"opacity: 1; stroke-width: 0px; fill: rgb(31, 119, 180); fill-opacity: 1;\"/><path class=\"point plotly-customdata\" transform=\"translate(230.13,163.31)\" d=\"M3,0A3,3 0 1,1 0,-3A3,3 0 0,1 3,0Z\" style=\"opacity: 1; stroke-width: 0px; fill: rgb(31, 119, 180); fill-opacity: 1;\"/><path class=\"point plotly-customdata\" transform=\"translate(270.64,141.57)\" d=\"M3,0A3,3 0 1,1 0,-3A3,3 0 0,1 3,0Z\" style=\"opacity: 1; stroke-width: 0px; fill: rgb(31, 119, 180); fill-opacity: 1;\"/><path class=\"point plotly-customdata\" transform=\"translate(234.43,155.64)\" d=\"M3,0A3,3 0 1,1 0,-3A3,3 0 0,1 3,0Z\" style=\"opacity: 1; stroke-width: 0px; fill: rgb(31, 119, 180); fill-opacity: 1;\"/><path class=\"point plotly-customdata\" transform=\"translate(191.11,191.59)\" d=\"M3,0A3,3 0 1,1 0,-3A3,3 0 0,1 3,0Z\" style=\"opacity: 1; stroke-width: 0px; fill: rgb(31, 119, 180); fill-opacity: 1;\"/><path class=\"point plotly-customdata\" transform=\"translate(258.75,98.68)\" d=\"M3,0A3,3 0 1,1 0,-3A3,3 0 0,1 3,0Z\" style=\"opacity: 1; stroke-width: 0px; fill: rgb(31, 119, 180); fill-opacity: 1;\"/><path class=\"point plotly-customdata\" transform=\"translate(274.51,106.63)\" d=\"M3,0A3,3 0 1,1 0,-3A3,3 0 0,1 3,0Z\" style=\"opacity: 1; stroke-width: 0px; fill: rgb(31, 119, 180); fill-opacity: 1;\"/><path class=\"point plotly-customdata\" transform=\"translate(230.34,72.39)\" d=\"M3,0A3,3 0 1,1 0,-3A3,3 0 0,1 3,0Z\" style=\"opacity: 1; stroke-width: 0px; fill: rgb(31, 119, 180); fill-opacity: 1;\"/><path class=\"point plotly-customdata\" transform=\"translate(202.41,172.7)\" d=\"M3,0A3,3 0 1,1 0,-3A3,3 0 0,1 3,0Z\" style=\"opacity: 1; stroke-width: 0px; fill: rgb(31, 119, 180); fill-opacity: 1;\"/><path class=\"point plotly-customdata\" transform=\"translate(293.4,219.85)\" d=\"M3,0A3,3 0 1,1 0,-3A3,3 0 0,1 3,0Z\" style=\"opacity: 1; stroke-width: 0px; fill: rgb(31, 119, 180); fill-opacity: 1;\"/><path class=\"point plotly-customdata\" transform=\"translate(201.83,155.97)\" d=\"M3,0A3,3 0 1,1 0,-3A3,3 0 0,1 3,0Z\" style=\"opacity: 1; stroke-width: 0px; fill: rgb(31, 119, 180); fill-opacity: 1;\"/><path class=\"point plotly-customdata\" transform=\"translate(198.39,212.39)\" d=\"M3,0A3,3 0 1,1 0,-3A3,3 0 0,1 3,0Z\" style=\"opacity: 1; stroke-width: 0px; fill: rgb(31, 119, 180); fill-opacity: 1;\"/><path class=\"point plotly-customdata\" transform=\"translate(248.47,69.57)\" d=\"M3,0A3,3 0 1,1 0,-3A3,3 0 0,1 3,0Z\" style=\"opacity: 1; stroke-width: 0px; fill: rgb(31, 119, 180); fill-opacity: 1;\"/><path class=\"point plotly-customdata\" transform=\"translate(229.6,100.43)\" d=\"M3,0A3,3 0 1,1 0,-3A3,3 0 0,1 3,0Z\" style=\"opacity: 1; stroke-width: 0px; fill: rgb(31, 119, 180); fill-opacity: 1;\"/><path class=\"point plotly-customdata\" transform=\"translate(240.61,89.41)\" d=\"M3,0A3,3 0 1,1 0,-3A3,3 0 0,1 3,0Z\" style=\"opacity: 1; stroke-width: 0px; fill: rgb(31, 119, 180); fill-opacity: 1;\"/><path class=\"point plotly-customdata\" transform=\"translate(217.75,150.66)\" d=\"M3,0A3,3 0 1,1 0,-3A3,3 0 0,1 3,0Z\" style=\"opacity: 1; stroke-width: 0px; fill: rgb(31, 119, 180); fill-opacity: 1;\"/><path class=\"point plotly-customdata\" transform=\"translate(242.77,82.82)\" d=\"M3,0A3,3 0 1,1 0,-3A3,3 0 0,1 3,0Z\" style=\"opacity: 1; stroke-width: 0px; fill: rgb(31, 119, 180); fill-opacity: 1;\"/><path class=\"point plotly-customdata\" transform=\"translate(240.39,129.54)\" d=\"M3,0A3,3 0 1,1 0,-3A3,3 0 0,1 3,0Z\" style=\"opacity: 1; stroke-width: 0px; fill: rgb(31, 119, 180); fill-opacity: 1;\"/><path class=\"point plotly-customdata\" transform=\"translate(251.3,62.82)\" d=\"M3,0A3,3 0 1,1 0,-3A3,3 0 0,1 3,0Z\" style=\"opacity: 1; stroke-width: 0px; fill: rgb(31, 119, 180); fill-opacity: 1;\"/><path class=\"point plotly-customdata\" transform=\"translate(188.63,238.39)\" d=\"M3,0A3,3 0 1,1 0,-3A3,3 0 0,1 3,0Z\" style=\"opacity: 1; stroke-width: 0px; fill: rgb(31, 119, 180); fill-opacity: 1;\"/><path class=\"point plotly-customdata\" transform=\"translate(244.1,110.13)\" d=\"M3,0A3,3 0 1,1 0,-3A3,3 0 0,1 3,0Z\" style=\"opacity: 1; stroke-width: 0px; fill: rgb(31, 119, 180); fill-opacity: 1;\"/><path class=\"point plotly-customdata\" transform=\"translate(211.89,158.05)\" d=\"M3,0A3,3 0 1,1 0,-3A3,3 0 0,1 3,0Z\" style=\"opacity: 1; stroke-width: 0px; fill: rgb(31, 119, 180); fill-opacity: 1;\"/><path class=\"point plotly-customdata\" transform=\"translate(255.74,100.78)\" d=\"M3,0A3,3 0 1,1 0,-3A3,3 0 0,1 3,0Z\" style=\"opacity: 1; stroke-width: 0px; fill: rgb(31, 119, 180); fill-opacity: 1;\"/><path class=\"point plotly-customdata\" transform=\"translate(261.35,131.37)\" d=\"M3,0A3,3 0 1,1 0,-3A3,3 0 0,1 3,0Z\" style=\"opacity: 1; stroke-width: 0px; fill: rgb(31, 119, 180); fill-opacity: 1;\"/><path class=\"point plotly-customdata\" transform=\"translate(274.53,143.47)\" d=\"M3,0A3,3 0 1,1 0,-3A3,3 0 0,1 3,0Z\" style=\"opacity: 1; stroke-width: 0px; fill: rgb(31, 119, 180); fill-opacity: 1;\"/><path class=\"point plotly-customdata\" transform=\"translate(224.48,120.05)\" d=\"M3,0A3,3 0 1,1 0,-3A3,3 0 0,1 3,0Z\" style=\"opacity: 1; stroke-width: 0px; fill: rgb(31, 119, 180); fill-opacity: 1;\"/><path class=\"point plotly-customdata\" transform=\"translate(230.34,66.72)\" d=\"M3,0A3,3 0 1,1 0,-3A3,3 0 0,1 3,0Z\" style=\"opacity: 1; stroke-width: 0px; fill: rgb(31, 119, 180); fill-opacity: 1;\"/><path class=\"point plotly-customdata\" transform=\"translate(252.36,176.78)\" d=\"M3,0A3,3 0 1,1 0,-3A3,3 0 0,1 3,0Z\" style=\"opacity: 1; stroke-width: 0px; fill: rgb(31, 119, 180); fill-opacity: 1;\"/><path class=\"point plotly-customdata\" transform=\"translate(192.85,258.06)\" d=\"M3,0A3,3 0 1,1 0,-3A3,3 0 0,1 3,0Z\" style=\"opacity: 1; stroke-width: 0px; fill: rgb(31, 119, 180); fill-opacity: 1;\"/><path class=\"point plotly-customdata\" transform=\"translate(244.69,66.76)\" d=\"M3,0A3,3 0 1,1 0,-3A3,3 0 0,1 3,0Z\" style=\"opacity: 1; stroke-width: 0px; fill: rgb(31, 119, 180); fill-opacity: 1;\"/><path class=\"point plotly-customdata\" transform=\"translate(291.46,198.88)\" d=\"M3,0A3,3 0 1,1 0,-3A3,3 0 0,1 3,0Z\" style=\"opacity: 1; stroke-width: 0px; fill: rgb(31, 119, 180); fill-opacity: 1;\"/><path class=\"point plotly-customdata\" transform=\"translate(237.98,88.72)\" d=\"M3,0A3,3 0 1,1 0,-3A3,3 0 0,1 3,0Z\" style=\"opacity: 1; stroke-width: 0px; fill: rgb(31, 119, 180); fill-opacity: 1;\"/><path class=\"point plotly-customdata\" transform=\"translate(251.33,54.89)\" d=\"M3,0A3,3 0 1,1 0,-3A3,3 0 0,1 3,0Z\" style=\"opacity: 1; stroke-width: 0px; fill: rgb(31, 119, 180); fill-opacity: 1;\"/><path class=\"point plotly-customdata\" transform=\"translate(230.14,150.22)\" d=\"M3,0A3,3 0 1,1 0,-3A3,3 0 0,1 3,0Z\" style=\"opacity: 1; stroke-width: 0px; fill: rgb(31, 119, 180); fill-opacity: 1;\"/><path class=\"point plotly-customdata\" transform=\"translate(184.65,206.75)\" d=\"M3,0A3,3 0 1,1 0,-3A3,3 0 0,1 3,0Z\" style=\"opacity: 1; stroke-width: 0px; fill: rgb(31, 119, 180); fill-opacity: 1;\"/><path class=\"point plotly-customdata\" transform=\"translate(235.42,132.01)\" d=\"M3,0A3,3 0 1,1 0,-3A3,3 0 0,1 3,0Z\" style=\"opacity: 1; stroke-width: 0px; fill: rgb(31, 119, 180); fill-opacity: 1;\"/><path class=\"point plotly-customdata\" transform=\"translate(240.61,89.41)\" d=\"M3,0A3,3 0 1,1 0,-3A3,3 0 0,1 3,0Z\" style=\"opacity: 1; stroke-width: 0px; fill: rgb(31, 119, 180); fill-opacity: 1;\"/><path class=\"point plotly-customdata\" transform=\"translate(302.88,130.54)\" d=\"M3,0A3,3 0 1,1 0,-3A3,3 0 0,1 3,0Z\" style=\"opacity: 1; stroke-width: 0px; fill: rgb(31, 119, 180); fill-opacity: 1;\"/><path class=\"point plotly-customdata\" transform=\"translate(298,145.34)\" d=\"M3,0A3,3 0 1,1 0,-3A3,3 0 0,1 3,0Z\" style=\"opacity: 1; stroke-width: 0px; fill: rgb(31, 119, 180); fill-opacity: 1;\"/><path class=\"point plotly-customdata\" transform=\"translate(203.66,144.6)\" d=\"M3,0A3,3 0 1,1 0,-3A3,3 0 0,1 3,0Z\" style=\"opacity: 1; stroke-width: 0px; fill: rgb(31, 119, 180); fill-opacity: 1;\"/><path class=\"point plotly-customdata\" transform=\"translate(205.81,154.54)\" d=\"M3,0A3,3 0 1,1 0,-3A3,3 0 0,1 3,0Z\" style=\"opacity: 1; stroke-width: 0px; fill: rgb(31, 119, 180); fill-opacity: 1;\"/><path class=\"point plotly-customdata\" transform=\"translate(266.19,150.68)\" d=\"M3,0A3,3 0 1,1 0,-3A3,3 0 0,1 3,0Z\" style=\"opacity: 1; stroke-width: 0px; fill: rgb(31, 119, 180); fill-opacity: 1;\"/><path class=\"point plotly-customdata\" transform=\"translate(245.62,60.66)\" d=\"M3,0A3,3 0 1,1 0,-3A3,3 0 0,1 3,0Z\" style=\"opacity: 1; stroke-width: 0px; fill: rgb(31, 119, 180); fill-opacity: 1;\"/><path class=\"point plotly-customdata\" transform=\"translate(264.69,127.72)\" d=\"M3,0A3,3 0 1,1 0,-3A3,3 0 0,1 3,0Z\" style=\"opacity: 1; stroke-width: 0px; fill: rgb(31, 119, 180); fill-opacity: 1;\"/><path class=\"point plotly-customdata\" transform=\"translate(226.81,68.15)\" d=\"M3,0A3,3 0 1,1 0,-3A3,3 0 0,1 3,0Z\" style=\"opacity: 1; stroke-width: 0px; fill: rgb(31, 119, 180); fill-opacity: 1;\"/><path class=\"point plotly-customdata\" transform=\"translate(240.67,103.73)\" d=\"M3,0A3,3 0 1,1 0,-3A3,3 0 0,1 3,0Z\" style=\"opacity: 1; stroke-width: 0px; fill: rgb(31, 119, 180); fill-opacity: 1;\"/><path class=\"point plotly-customdata\" transform=\"translate(268.61,237.07)\" d=\"M3,0A3,3 0 1,1 0,-3A3,3 0 0,1 3,0Z\" style=\"opacity: 1; stroke-width: 0px; fill: rgb(31, 119, 180); fill-opacity: 1;\"/><path class=\"point plotly-customdata\" transform=\"translate(222.75,175.89)\" d=\"M3,0A3,3 0 1,1 0,-3A3,3 0 0,1 3,0Z\" style=\"opacity: 1; stroke-width: 0px; fill: rgb(31, 119, 180); fill-opacity: 1;\"/><path class=\"point plotly-customdata\" transform=\"translate(267.63,119.13)\" d=\"M3,0A3,3 0 1,1 0,-3A3,3 0 0,1 3,0Z\" style=\"opacity: 1; stroke-width: 0px; fill: rgb(31, 119, 180); fill-opacity: 1;\"/><path class=\"point plotly-customdata\" transform=\"translate(250.4,51.37)\" d=\"M3,0A3,3 0 1,1 0,-3A3,3 0 0,1 3,0Z\" style=\"opacity: 1; stroke-width: 0px; fill: rgb(31, 119, 180); fill-opacity: 1;\"/><path class=\"point plotly-customdata\" transform=\"translate(186.87,248.87)\" d=\"M3,0A3,3 0 1,1 0,-3A3,3 0 0,1 3,0Z\" style=\"opacity: 1; stroke-width: 0px; fill: rgb(31, 119, 180); fill-opacity: 1;\"/><path class=\"point plotly-customdata\" transform=\"translate(254.48,52)\" d=\"M3,0A3,3 0 1,1 0,-3A3,3 0 0,1 3,0Z\" style=\"opacity: 1; stroke-width: 0px; fill: rgb(31, 119, 180); fill-opacity: 1;\"/><path class=\"point plotly-customdata\" transform=\"translate(213.65,130.12)\" d=\"M3,0A3,3 0 1,1 0,-3A3,3 0 0,1 3,0Z\" style=\"opacity: 1; stroke-width: 0px; fill: rgb(31, 119, 180); fill-opacity: 1;\"/><path class=\"point plotly-customdata\" transform=\"translate(265.1,100.54)\" d=\"M3,0A3,3 0 1,1 0,-3A3,3 0 0,1 3,0Z\" style=\"opacity: 1; stroke-width: 0px; fill: rgb(31, 119, 180); fill-opacity: 1;\"/><path class=\"point plotly-customdata\" transform=\"translate(240.33,109.74)\" d=\"M3,0A3,3 0 1,1 0,-3A3,3 0 0,1 3,0Z\" style=\"opacity: 1; stroke-width: 0px; fill: rgb(31, 119, 180); fill-opacity: 1;\"/><path class=\"point plotly-customdata\" transform=\"translate(241.01,83.06)\" d=\"M3,0A3,3 0 1,1 0,-3A3,3 0 0,1 3,0Z\" style=\"opacity: 1; stroke-width: 0px; fill: rgb(31, 119, 180); fill-opacity: 1;\"/><path class=\"point plotly-customdata\" transform=\"translate(243.09,106.12)\" d=\"M3,0A3,3 0 1,1 0,-3A3,3 0 0,1 3,0Z\" style=\"opacity: 1; stroke-width: 0px; fill: rgb(31, 119, 180); fill-opacity: 1;\"/><path class=\"point plotly-customdata\" transform=\"translate(168.58,257.48)\" d=\"M3,0A3,3 0 1,1 0,-3A3,3 0 0,1 3,0Z\" style=\"opacity: 1; stroke-width: 0px; fill: rgb(31, 119, 180); fill-opacity: 1;\"/><path class=\"point plotly-customdata\" transform=\"translate(247.34,55.01)\" d=\"M3,0A3,3 0 1,1 0,-3A3,3 0 0,1 3,0Z\" style=\"opacity: 1; stroke-width: 0px; fill: rgb(31, 119, 180); fill-opacity: 1;\"/><path class=\"point plotly-customdata\" transform=\"translate(232.29,75.26)\" d=\"M3,0A3,3 0 1,1 0,-3A3,3 0 0,1 3,0Z\" style=\"opacity: 1; stroke-width: 0px; fill: rgb(31, 119, 180); fill-opacity: 1;\"/><path class=\"point plotly-customdata\" transform=\"translate(226.55,99.18)\" d=\"M3,0A3,3 0 1,1 0,-3A3,3 0 0,1 3,0Z\" style=\"opacity: 1; stroke-width: 0px; fill: rgb(31, 119, 180); fill-opacity: 1;\"/><path class=\"point plotly-customdata\" transform=\"translate(264.7,110.38)\" d=\"M3,0A3,3 0 1,1 0,-3A3,3 0 0,1 3,0Z\" style=\"opacity: 1; stroke-width: 0px; fill: rgb(31, 119, 180); fill-opacity: 1;\"/><path class=\"point plotly-customdata\" transform=\"translate(275.17,54.48)\" d=\"M3,0A3,3 0 1,1 0,-3A3,3 0 0,1 3,0Z\" style=\"opacity: 1; stroke-width: 0px; fill: rgb(31, 119, 180); fill-opacity: 1;\"/><path class=\"point plotly-customdata\" transform=\"translate(214.56,167.91)\" d=\"M3,0A3,3 0 1,1 0,-3A3,3 0 0,1 3,0Z\" style=\"opacity: 1; stroke-width: 0px; fill: rgb(31, 119, 180); fill-opacity: 1;\"/><path class=\"point plotly-customdata\" transform=\"translate(197.61,161.09)\" d=\"M3,0A3,3 0 1,1 0,-3A3,3 0 0,1 3,0Z\" style=\"opacity: 1; stroke-width: 0px; fill: rgb(31, 119, 180); fill-opacity: 1;\"/><path class=\"point plotly-customdata\" transform=\"translate(194.57,235.18)\" d=\"M3,0A3,3 0 1,1 0,-3A3,3 0 0,1 3,0Z\" style=\"opacity: 1; stroke-width: 0px; fill: rgb(31, 119, 180); fill-opacity: 1;\"/><path class=\"point plotly-customdata\" transform=\"translate(313.83,236.73)\" d=\"M3,0A3,3 0 1,1 0,-3A3,3 0 0,1 3,0Z\" style=\"opacity: 1; stroke-width: 0px; fill: rgb(31, 119, 180); fill-opacity: 1;\"/><path class=\"point plotly-customdata\" transform=\"translate(246.4,173.96)\" d=\"M3,0A3,3 0 1,1 0,-3A3,3 0 0,1 3,0Z\" style=\"opacity: 1; stroke-width: 0px; fill: rgb(31, 119, 180); fill-opacity: 1;\"/><path class=\"point plotly-customdata\" transform=\"translate(205.32,153.49)\" d=\"M3,0A3,3 0 1,1 0,-3A3,3 0 0,1 3,0Z\" style=\"opacity: 1; stroke-width: 0px; fill: rgb(31, 119, 180); fill-opacity: 1;\"/><path class=\"point plotly-customdata\" transform=\"translate(166.89,259.2)\" d=\"M3,0A3,3 0 1,1 0,-3A3,3 0 0,1 3,0Z\" style=\"opacity: 1; stroke-width: 0px; fill: rgb(31, 119, 180); fill-opacity: 1;\"/><path class=\"point plotly-customdata\" transform=\"translate(209.49,112.18)\" d=\"M3,0A3,3 0 1,1 0,-3A3,3 0 0,1 3,0Z\" style=\"opacity: 1; stroke-width: 0px; fill: rgb(31, 119, 180); fill-opacity: 1;\"/><path class=\"point plotly-customdata\" transform=\"translate(249.51,84.57)\" d=\"M3,0A3,3 0 1,1 0,-3A3,3 0 0,1 3,0Z\" style=\"opacity: 1; stroke-width: 0px; fill: rgb(31, 119, 180); fill-opacity: 1;\"/><path class=\"point plotly-customdata\" transform=\"translate(229.42,158.14)\" d=\"M3,0A3,3 0 1,1 0,-3A3,3 0 0,1 3,0Z\" style=\"opacity: 1; stroke-width: 0px; fill: rgb(31, 119, 180); fill-opacity: 1;\"/><path class=\"point plotly-customdata\" transform=\"translate(275.17,54.48)\" d=\"M3,0A3,3 0 1,1 0,-3A3,3 0 0,1 3,0Z\" style=\"opacity: 1; stroke-width: 0px; fill: rgb(31, 119, 180); fill-opacity: 1;\"/><path class=\"point plotly-customdata\" transform=\"translate(238,82.44)\" d=\"M3,0A3,3 0 1,1 0,-3A3,3 0 0,1 3,0Z\" style=\"opacity: 1; stroke-width: 0px; fill: rgb(31, 119, 180); fill-opacity: 1;\"/><path class=\"point plotly-customdata\" transform=\"translate(240.66,90.4)\" d=\"M3,0A3,3 0 1,1 0,-3A3,3 0 0,1 3,0Z\" style=\"opacity: 1; stroke-width: 0px; fill: rgb(31, 119, 180); fill-opacity: 1;\"/><path class=\"point plotly-customdata\" transform=\"translate(230.28,93.1)\" d=\"M3,0A3,3 0 1,1 0,-3A3,3 0 0,1 3,0Z\" style=\"opacity: 1; stroke-width: 0px; fill: rgb(31, 119, 180); fill-opacity: 1;\"/><path class=\"point plotly-customdata\" transform=\"translate(193.27,160.52)\" d=\"M3,0A3,3 0 1,1 0,-3A3,3 0 0,1 3,0Z\" style=\"opacity: 1; stroke-width: 0px; fill: rgb(31, 119, 180); fill-opacity: 1;\"/></g><g class=\"text\"/></g><g class=\"trace scatter trace297341\" style=\"stroke-miterlimit: 2; opacity: 1;\"><g class=\"fills\"/><g class=\"errorbars\"/><g class=\"lines\"/><g class=\"points\"><path class=\"point plotly-customdata\" transform=\"translate(300.93,110.11)\" d=\"M3,0A3,3 0 1,1 0,-3A3,3 0 0,1 3,0Z\" style=\"opacity: 1; stroke-width: 0px; fill: rgb(255, 127, 14); fill-opacity: 1;\"/><path class=\"point plotly-customdata\" transform=\"translate(234.56,97.44)\" d=\"M3,0A3,3 0 1,1 0,-3A3,3 0 0,1 3,0Z\" style=\"opacity: 1; stroke-width: 0px; fill: rgb(255, 127, 14); fill-opacity: 1;\"/><path class=\"point plotly-customdata\" transform=\"translate(285.28,133.25)\" d=\"M3,0A3,3 0 1,1 0,-3A3,3 0 0,1 3,0Z\" style=\"opacity: 1; stroke-width: 0px; fill: rgb(255, 127, 14); fill-opacity: 1;\"/><path class=\"point plotly-customdata\" transform=\"translate(255.5,39.91)\" d=\"M3,0A3,3 0 1,1 0,-3A3,3 0 0,1 3,0Z\" style=\"opacity: 1; stroke-width: 0px; fill: rgb(255, 127, 14); fill-opacity: 1;\"/><path class=\"point plotly-customdata\" transform=\"translate(270.67,104.33)\" d=\"M3,0A3,3 0 1,1 0,-3A3,3 0 0,1 3,0Z\" style=\"opacity: 1; stroke-width: 0px; fill: rgb(255, 127, 14); fill-opacity: 1;\"/><path class=\"point plotly-customdata\" transform=\"translate(23.15,17.85)\" d=\"M3,0A3,3 0 1,1 0,-3A3,3 0 0,1 3,0Z\" style=\"opacity: 1; stroke-width: 0px; fill: rgb(255, 127, 14); fill-opacity: 1;\"/><path class=\"point plotly-customdata\" transform=\"translate(291.95,128.15)\" d=\"M3,0A3,3 0 1,1 0,-3A3,3 0 0,1 3,0Z\" style=\"opacity: 1; stroke-width: 0px; fill: rgb(255, 127, 14); fill-opacity: 1;\"/><path class=\"point plotly-customdata\" transform=\"translate(265.88,115.86)\" d=\"M3,0A3,3 0 1,1 0,-3A3,3 0 0,1 3,0Z\" style=\"opacity: 1; stroke-width: 0px; fill: rgb(255, 127, 14); fill-opacity: 1;\"/><path class=\"point plotly-customdata\" transform=\"translate(276.78,100.17)\" d=\"M3,0A3,3 0 1,1 0,-3A3,3 0 0,1 3,0Z\" style=\"opacity: 1; stroke-width: 0px; fill: rgb(255, 127, 14); fill-opacity: 1;\"/><path class=\"point plotly-customdata\" transform=\"translate(276.33,104.13)\" d=\"M3,0A3,3 0 1,1 0,-3A3,3 0 0,1 3,0Z\" style=\"opacity: 1; stroke-width: 0px; fill: rgb(255, 127, 14); fill-opacity: 1;\"/><path class=\"point plotly-customdata\" transform=\"translate(325.46,144.9)\" d=\"M3,0A3,3 0 1,1 0,-3A3,3 0 0,1 3,0Z\" style=\"opacity: 1; stroke-width: 0px; fill: rgb(255, 127, 14); fill-opacity: 1;\"/><path class=\"point plotly-customdata\" transform=\"translate(263.04,80.48)\" d=\"M3,0A3,3 0 1,1 0,-3A3,3 0 0,1 3,0Z\" style=\"opacity: 1; stroke-width: 0px; fill: rgb(255, 127, 14); fill-opacity: 1;\"/><path class=\"point plotly-customdata\" transform=\"translate(240.22,109.49)\" d=\"M3,0A3,3 0 1,1 0,-3A3,3 0 0,1 3,0Z\" style=\"opacity: 1; stroke-width: 0px; fill: rgb(255, 127, 14); fill-opacity: 1;\"/><path class=\"point plotly-customdata\" transform=\"translate(250.4,51.37)\" d=\"M3,0A3,3 0 1,1 0,-3A3,3 0 0,1 3,0Z\" style=\"opacity: 1; stroke-width: 0px; fill: rgb(255, 127, 14); fill-opacity: 1;\"/><path class=\"point plotly-customdata\" transform=\"translate(290.3,90.08)\" d=\"M3,0A3,3 0 1,1 0,-3A3,3 0 0,1 3,0Z\" style=\"opacity: 1; stroke-width: 0px; fill: rgb(255, 127, 14); fill-opacity: 1;\"/><path class=\"point plotly-customdata\" transform=\"translate(284.12,70.85)\" d=\"M3,0A3,3 0 1,1 0,-3A3,3 0 0,1 3,0Z\" style=\"opacity: 1; stroke-width: 0px; fill: rgb(255, 127, 14); fill-opacity: 1;\"/><path class=\"point plotly-customdata\" transform=\"translate(23.15,17.85)\" d=\"M3,0A3,3 0 1,1 0,-3A3,3 0 0,1 3,0Z\" style=\"opacity: 1; stroke-width: 0px; fill: rgb(255, 127, 14); fill-opacity: 1;\"/><path class=\"point plotly-customdata\" transform=\"translate(246.14,77.27)\" d=\"M3,0A3,3 0 1,1 0,-3A3,3 0 0,1 3,0Z\" style=\"opacity: 1; stroke-width: 0px; fill: rgb(255, 127, 14); fill-opacity: 1;\"/><path class=\"point plotly-customdata\" transform=\"translate(246.14,77.27)\" d=\"M3,0A3,3 0 1,1 0,-3A3,3 0 0,1 3,0Z\" style=\"opacity: 1; stroke-width: 0px; fill: rgb(255, 127, 14); fill-opacity: 1;\"/><path class=\"point plotly-customdata\" transform=\"translate(290.97,118.67)\" d=\"M3,0A3,3 0 1,1 0,-3A3,3 0 0,1 3,0Z\" style=\"opacity: 1; stroke-width: 0px; fill: rgb(255, 127, 14); fill-opacity: 1;\"/><path class=\"point plotly-customdata\" transform=\"translate(231.88,89.07)\" d=\"M3,0A3,3 0 1,1 0,-3A3,3 0 0,1 3,0Z\" style=\"opacity: 1; stroke-width: 0px; fill: rgb(255, 127, 14); fill-opacity: 1;\"/><path class=\"point plotly-customdata\" transform=\"translate(241.67,120.51)\" d=\"M3,0A3,3 0 1,1 0,-3A3,3 0 0,1 3,0Z\" style=\"opacity: 1; stroke-width: 0px; fill: rgb(255, 127, 14); fill-opacity: 1;\"/><path class=\"point plotly-customdata\" transform=\"translate(292.87,144.85)\" d=\"M3,0A3,3 0 1,1 0,-3A3,3 0 0,1 3,0Z\" style=\"opacity: 1; stroke-width: 0px; fill: rgb(255, 127, 14); fill-opacity: 1;\"/><path class=\"point plotly-customdata\" transform=\"translate(250.3,84.77)\" d=\"M3,0A3,3 0 1,1 0,-3A3,3 0 0,1 3,0Z\" style=\"opacity: 1; stroke-width: 0px; fill: rgb(255, 127, 14); fill-opacity: 1;\"/><path class=\"point plotly-customdata\" transform=\"translate(251.27,61.06)\" d=\"M3,0A3,3 0 1,1 0,-3A3,3 0 0,1 3,0Z\" style=\"opacity: 1; stroke-width: 0px; fill: rgb(255, 127, 14); fill-opacity: 1;\"/><path class=\"point plotly-customdata\" transform=\"translate(293.02,110.01)\" d=\"M3,0A3,3 0 1,1 0,-3A3,3 0 0,1 3,0Z\" style=\"opacity: 1; stroke-width: 0px; fill: rgb(255, 127, 14); fill-opacity: 1;\"/><path class=\"point plotly-customdata\" transform=\"translate(266.34,96.54)\" d=\"M3,0A3,3 0 1,1 0,-3A3,3 0 0,1 3,0Z\" style=\"opacity: 1; stroke-width: 0px; fill: rgb(255, 127, 14); fill-opacity: 1;\"/><path class=\"point plotly-customdata\" transform=\"translate(245.43,63.55)\" d=\"M3,0A3,3 0 1,1 0,-3A3,3 0 0,1 3,0Z\" style=\"opacity: 1; stroke-width: 0px; fill: rgb(255, 127, 14); fill-opacity: 1;\"/><path class=\"point plotly-customdata\" transform=\"translate(23.15,17.85)\" d=\"M3,0A3,3 0 1,1 0,-3A3,3 0 0,1 3,0Z\" style=\"opacity: 1; stroke-width: 0px; fill: rgb(255, 127, 14); fill-opacity: 1;\"/><path class=\"point plotly-customdata\" transform=\"translate(310.27,143.98)\" d=\"M3,0A3,3 0 1,1 0,-3A3,3 0 0,1 3,0Z\" style=\"opacity: 1; stroke-width: 0px; fill: rgb(255, 127, 14); fill-opacity: 1;\"/><path class=\"point plotly-customdata\" transform=\"translate(247.33,104.44)\" d=\"M3,0A3,3 0 1,1 0,-3A3,3 0 0,1 3,0Z\" style=\"opacity: 1; stroke-width: 0px; fill: rgb(255, 127, 14); fill-opacity: 1;\"/><path class=\"point plotly-customdata\" transform=\"translate(249.56,82.76)\" d=\"M3,0A3,3 0 1,1 0,-3A3,3 0 0,1 3,0Z\" style=\"opacity: 1; stroke-width: 0px; fill: rgb(255, 127, 14); fill-opacity: 1;\"/><path class=\"point plotly-customdata\" transform=\"translate(262.72,37.25)\" d=\"M3,0A3,3 0 1,1 0,-3A3,3 0 0,1 3,0Z\" style=\"opacity: 1; stroke-width: 0px; fill: rgb(255, 127, 14); fill-opacity: 1;\"/><path class=\"point plotly-customdata\" transform=\"translate(248.79,88.33)\" d=\"M3,0A3,3 0 1,1 0,-3A3,3 0 0,1 3,0Z\" style=\"opacity: 1; stroke-width: 0px; fill: rgb(255, 127, 14); fill-opacity: 1;\"/><path class=\"point plotly-customdata\" transform=\"translate(299.66,134.86)\" d=\"M3,0A3,3 0 1,1 0,-3A3,3 0 0,1 3,0Z\" style=\"opacity: 1; stroke-width: 0px; fill: rgb(255, 127, 14); fill-opacity: 1;\"/><path class=\"point plotly-customdata\" transform=\"translate(276.31,141.12)\" d=\"M3,0A3,3 0 1,1 0,-3A3,3 0 0,1 3,0Z\" style=\"opacity: 1; stroke-width: 0px; fill: rgb(255, 127, 14); fill-opacity: 1;\"/><path class=\"point plotly-customdata\" transform=\"translate(295.5,163.72)\" d=\"M3,0A3,3 0 1,1 0,-3A3,3 0 0,1 3,0Z\" style=\"opacity: 1; stroke-width: 0px; fill: rgb(255, 127, 14); fill-opacity: 1;\"/><path class=\"point plotly-customdata\" transform=\"translate(247.13,78.52)\" d=\"M3,0A3,3 0 1,1 0,-3A3,3 0 0,1 3,0Z\" style=\"opacity: 1; stroke-width: 0px; fill: rgb(255, 127, 14); fill-opacity: 1;\"/><path class=\"point plotly-customdata\" transform=\"translate(273.62,120.96)\" d=\"M3,0A3,3 0 1,1 0,-3A3,3 0 0,1 3,0Z\" style=\"opacity: 1; stroke-width: 0px; fill: rgb(255, 127, 14); fill-opacity: 1;\"/><path class=\"point plotly-customdata\" transform=\"translate(267.08,88.51)\" d=\"M3,0A3,3 0 1,1 0,-3A3,3 0 0,1 3,0Z\" style=\"opacity: 1; stroke-width: 0px; fill: rgb(255, 127, 14); fill-opacity: 1;\"/><path class=\"point plotly-customdata\" transform=\"translate(23.15,17.85)\" d=\"M3,0A3,3 0 1,1 0,-3A3,3 0 0,1 3,0Z\" style=\"opacity: 1; stroke-width: 0px; fill: rgb(255, 127, 14); fill-opacity: 1;\"/><path class=\"point plotly-customdata\" transform=\"translate(266.94,82.07)\" d=\"M3,0A3,3 0 1,1 0,-3A3,3 0 0,1 3,0Z\" style=\"opacity: 1; stroke-width: 0px; fill: rgb(255, 127, 14); fill-opacity: 1;\"/><path class=\"point plotly-customdata\" transform=\"translate(310.06,115.45)\" d=\"M3,0A3,3 0 1,1 0,-3A3,3 0 0,1 3,0Z\" style=\"opacity: 1; stroke-width: 0px; fill: rgb(255, 127, 14); fill-opacity: 1;\"/><path class=\"point plotly-customdata\" transform=\"translate(268.75,91.42)\" d=\"M3,0A3,3 0 1,1 0,-3A3,3 0 0,1 3,0Z\" style=\"opacity: 1; stroke-width: 0px; fill: rgb(255, 127, 14); fill-opacity: 1;\"/><path class=\"point plotly-customdata\" transform=\"translate(296.45,128.95)\" d=\"M3,0A3,3 0 1,1 0,-3A3,3 0 0,1 3,0Z\" style=\"opacity: 1; stroke-width: 0px; fill: rgb(255, 127, 14); fill-opacity: 1;\"/><path class=\"point plotly-customdata\" transform=\"translate(252.85,117.26)\" d=\"M3,0A3,3 0 1,1 0,-3A3,3 0 0,1 3,0Z\" style=\"opacity: 1; stroke-width: 0px; fill: rgb(255, 127, 14); fill-opacity: 1;\"/><path class=\"point plotly-customdata\" transform=\"translate(273.33,106.24)\" d=\"M3,0A3,3 0 1,1 0,-3A3,3 0 0,1 3,0Z\" style=\"opacity: 1; stroke-width: 0px; fill: rgb(255, 127, 14); fill-opacity: 1;\"/><path class=\"point plotly-customdata\" transform=\"translate(225.83,148.43)\" d=\"M3,0A3,3 0 1,1 0,-3A3,3 0 0,1 3,0Z\" style=\"opacity: 1; stroke-width: 0px; fill: rgb(255, 127, 14); fill-opacity: 1;\"/><path class=\"point plotly-customdata\" transform=\"translate(279.95,124.93)\" d=\"M3,0A3,3 0 1,1 0,-3A3,3 0 0,1 3,0Z\" style=\"opacity: 1; stroke-width: 0px; fill: rgb(255, 127, 14); fill-opacity: 1;\"/><path class=\"point plotly-customdata\" transform=\"translate(286.47,142.02)\" d=\"M3,0A3,3 0 1,1 0,-3A3,3 0 0,1 3,0Z\" style=\"opacity: 1; stroke-width: 0px; fill: rgb(255, 127, 14); fill-opacity: 1;\"/><path class=\"point plotly-customdata\" transform=\"translate(270.12,103.15)\" d=\"M3,0A3,3 0 1,1 0,-3A3,3 0 0,1 3,0Z\" style=\"opacity: 1; stroke-width: 0px; fill: rgb(255, 127, 14); fill-opacity: 1;\"/><path class=\"point plotly-customdata\" transform=\"translate(255.5,39.91)\" d=\"M3,0A3,3 0 1,1 0,-3A3,3 0 0,1 3,0Z\" style=\"opacity: 1; stroke-width: 0px; fill: rgb(255, 127, 14); fill-opacity: 1;\"/><path class=\"point plotly-customdata\" transform=\"translate(23.15,17.85)\" d=\"M3,0A3,3 0 1,1 0,-3A3,3 0 0,1 3,0Z\" style=\"opacity: 1; stroke-width: 0px; fill: rgb(255, 127, 14); fill-opacity: 1;\"/><path class=\"point plotly-customdata\" transform=\"translate(311.05,158.59)\" d=\"M3,0A3,3 0 1,1 0,-3A3,3 0 0,1 3,0Z\" style=\"opacity: 1; stroke-width: 0px; fill: rgb(255, 127, 14); fill-opacity: 1;\"/><path class=\"point plotly-customdata\" transform=\"translate(307.4,62.61)\" d=\"M3,0A3,3 0 1,1 0,-3A3,3 0 0,1 3,0Z\" style=\"opacity: 1; stroke-width: 0px; fill: rgb(255, 127, 14); fill-opacity: 1;\"/><path class=\"point plotly-customdata\" transform=\"translate(247.88,60.15)\" d=\"M3,0A3,3 0 1,1 0,-3A3,3 0 0,1 3,0Z\" style=\"opacity: 1; stroke-width: 0px; fill: rgb(255, 127, 14); fill-opacity: 1;\"/><path class=\"point plotly-customdata\" transform=\"translate(269.01,90.05)\" d=\"M3,0A3,3 0 1,1 0,-3A3,3 0 0,1 3,0Z\" style=\"opacity: 1; stroke-width: 0px; fill: rgb(255, 127, 14); fill-opacity: 1;\"/><path class=\"point plotly-customdata\" transform=\"translate(294.81,133.25)\" d=\"M3,0A3,3 0 1,1 0,-3A3,3 0 0,1 3,0Z\" style=\"opacity: 1; stroke-width: 0px; fill: rgb(255, 127, 14); fill-opacity: 1;\"/><path class=\"point plotly-customdata\" transform=\"translate(249.99,61.29)\" d=\"M3,0A3,3 0 1,1 0,-3A3,3 0 0,1 3,0Z\" style=\"opacity: 1; stroke-width: 0px; fill: rgb(255, 127, 14); fill-opacity: 1;\"/><path class=\"point plotly-customdata\" transform=\"translate(262.72,37.25)\" d=\"M3,0A3,3 0 1,1 0,-3A3,3 0 0,1 3,0Z\" style=\"opacity: 1; stroke-width: 0px; fill: rgb(255, 127, 14); fill-opacity: 1;\"/><path class=\"point plotly-customdata\" transform=\"translate(290.67,130.8)\" d=\"M3,0A3,3 0 1,1 0,-3A3,3 0 0,1 3,0Z\" style=\"opacity: 1; stroke-width: 0px; fill: rgb(255, 127, 14); fill-opacity: 1;\"/><path class=\"point plotly-customdata\" transform=\"translate(314.25,135.36)\" d=\"M3,0A3,3 0 1,1 0,-3A3,3 0 0,1 3,0Z\" style=\"opacity: 1; stroke-width: 0px; fill: rgb(255, 127, 14); fill-opacity: 1;\"/><path class=\"point plotly-customdata\" transform=\"translate(273.13,104.37)\" d=\"M3,0A3,3 0 1,1 0,-3A3,3 0 0,1 3,0Z\" style=\"opacity: 1; stroke-width: 0px; fill: rgb(255, 127, 14); fill-opacity: 1;\"/><path class=\"point plotly-customdata\" transform=\"translate(268.71,149.34)\" d=\"M3,0A3,3 0 1,1 0,-3A3,3 0 0,1 3,0Z\" style=\"opacity: 1; stroke-width: 0px; fill: rgb(255, 127, 14); fill-opacity: 1;\"/><path class=\"point plotly-customdata\" transform=\"translate(315.79,127.33)\" d=\"M3,0A3,3 0 1,1 0,-3A3,3 0 0,1 3,0Z\" style=\"opacity: 1; stroke-width: 0px; fill: rgb(255, 127, 14); fill-opacity: 1;\"/><path class=\"point plotly-customdata\" transform=\"translate(243.85,95)\" d=\"M3,0A3,3 0 1,1 0,-3A3,3 0 0,1 3,0Z\" style=\"opacity: 1; stroke-width: 0px; fill: rgb(255, 127, 14); fill-opacity: 1;\"/><path class=\"point plotly-customdata\" transform=\"translate(282.89,102.48)\" d=\"M3,0A3,3 0 1,1 0,-3A3,3 0 0,1 3,0Z\" style=\"opacity: 1; stroke-width: 0px; fill: rgb(255, 127, 14); fill-opacity: 1;\"/><path class=\"point plotly-customdata\" transform=\"translate(23.15,17.85)\" d=\"M3,0A3,3 0 1,1 0,-3A3,3 0 0,1 3,0Z\" style=\"opacity: 1; stroke-width: 0px; fill: rgb(255, 127, 14); fill-opacity: 1;\"/><path class=\"point plotly-customdata\" transform=\"translate(290.04,142.98)\" d=\"M3,0A3,3 0 1,1 0,-3A3,3 0 0,1 3,0Z\" style=\"opacity: 1; stroke-width: 0px; fill: rgb(255, 127, 14); fill-opacity: 1;\"/><path class=\"point plotly-customdata\" transform=\"translate(23.15,17.85)\" d=\"M3,0A3,3 0 1,1 0,-3A3,3 0 0,1 3,0Z\" style=\"opacity: 1; stroke-width: 0px; fill: rgb(255, 127, 14); fill-opacity: 1;\"/><path class=\"point plotly-customdata\" transform=\"translate(314.37,159.8)\" d=\"M3,0A3,3 0 1,1 0,-3A3,3 0 0,1 3,0Z\" style=\"opacity: 1; stroke-width: 0px; fill: rgb(255, 127, 14); fill-opacity: 1;\"/><path class=\"point plotly-customdata\" transform=\"translate(250.67,60.13)\" d=\"M3,0A3,3 0 1,1 0,-3A3,3 0 0,1 3,0Z\" style=\"opacity: 1; stroke-width: 0px; fill: rgb(255, 127, 14); fill-opacity: 1;\"/><path class=\"point plotly-customdata\" transform=\"translate(332.16,160.69)\" d=\"M3,0A3,3 0 1,1 0,-3A3,3 0 0,1 3,0Z\" style=\"opacity: 1; stroke-width: 0px; fill: rgb(255, 127, 14); fill-opacity: 1;\"/><path class=\"point plotly-customdata\" transform=\"translate(206.52,139.46)\" d=\"M3,0A3,3 0 1,1 0,-3A3,3 0 0,1 3,0Z\" style=\"opacity: 1; stroke-width: 0px; fill: rgb(255, 127, 14); fill-opacity: 1;\"/><path class=\"point plotly-customdata\" transform=\"translate(300.36,119.45)\" d=\"M3,0A3,3 0 1,1 0,-3A3,3 0 0,1 3,0Z\" style=\"opacity: 1; stroke-width: 0px; fill: rgb(255, 127, 14); fill-opacity: 1;\"/><path class=\"point plotly-customdata\" transform=\"translate(217.29,142.54)\" d=\"M3,0A3,3 0 1,1 0,-3A3,3 0 0,1 3,0Z\" style=\"opacity: 1; stroke-width: 0px; fill: rgb(255, 127, 14); fill-opacity: 1;\"/><path class=\"point plotly-customdata\" transform=\"translate(320.52,136.31)\" d=\"M3,0A3,3 0 1,1 0,-3A3,3 0 0,1 3,0Z\" style=\"opacity: 1; stroke-width: 0px; fill: rgb(255, 127, 14); fill-opacity: 1;\"/><path class=\"point plotly-customdata\" transform=\"translate(275.03,115.18)\" d=\"M3,0A3,3 0 1,1 0,-3A3,3 0 0,1 3,0Z\" style=\"opacity: 1; stroke-width: 0px; fill: rgb(255, 127, 14); fill-opacity: 1;\"/><path class=\"point plotly-customdata\" transform=\"translate(292.7,121.52)\" d=\"M3,0A3,3 0 1,1 0,-3A3,3 0 0,1 3,0Z\" style=\"opacity: 1; stroke-width: 0px; fill: rgb(255, 127, 14); fill-opacity: 1;\"/><path class=\"point plotly-customdata\" transform=\"translate(248.23,64.42)\" d=\"M3,0A3,3 0 1,1 0,-3A3,3 0 0,1 3,0Z\" style=\"opacity: 1; stroke-width: 0px; fill: rgb(255, 127, 14); fill-opacity: 1;\"/><path class=\"point plotly-customdata\" transform=\"translate(243.94,101.89)\" d=\"M3,0A3,3 0 1,1 0,-3A3,3 0 0,1 3,0Z\" style=\"opacity: 1; stroke-width: 0px; fill: rgb(255, 127, 14); fill-opacity: 1;\"/><path class=\"point plotly-customdata\" transform=\"translate(286.22,115.36)\" d=\"M3,0A3,3 0 1,1 0,-3A3,3 0 0,1 3,0Z\" style=\"opacity: 1; stroke-width: 0px; fill: rgb(255, 127, 14); fill-opacity: 1;\"/><path class=\"point plotly-customdata\" transform=\"translate(309.17,144.81)\" d=\"M3,0A3,3 0 1,1 0,-3A3,3 0 0,1 3,0Z\" style=\"opacity: 1; stroke-width: 0px; fill: rgb(255, 127, 14); fill-opacity: 1;\"/><path class=\"point plotly-customdata\" transform=\"translate(228.48,85.55)\" d=\"M3,0A3,3 0 1,1 0,-3A3,3 0 0,1 3,0Z\" style=\"opacity: 1; stroke-width: 0px; fill: rgb(255, 127, 14); fill-opacity: 1;\"/><path class=\"point plotly-customdata\" transform=\"translate(291.73,123.42)\" d=\"M3,0A3,3 0 1,1 0,-3A3,3 0 0,1 3,0Z\" style=\"opacity: 1; stroke-width: 0px; fill: rgb(255, 127, 14); fill-opacity: 1;\"/><path class=\"point plotly-customdata\" transform=\"translate(244.44,108.51)\" d=\"M3,0A3,3 0 1,1 0,-3A3,3 0 0,1 3,0Z\" style=\"opacity: 1; stroke-width: 0px; fill: rgb(255, 127, 14); fill-opacity: 1;\"/><path class=\"point plotly-customdata\" transform=\"translate(267.76,71.4)\" d=\"M3,0A3,3 0 1,1 0,-3A3,3 0 0,1 3,0Z\" style=\"opacity: 1; stroke-width: 0px; fill: rgb(255, 127, 14); fill-opacity: 1;\"/><path class=\"point plotly-customdata\" transform=\"translate(271.3,109)\" d=\"M3,0A3,3 0 1,1 0,-3A3,3 0 0,1 3,0Z\" style=\"opacity: 1; stroke-width: 0px; fill: rgb(255, 127, 14); fill-opacity: 1;\"/><path class=\"point plotly-customdata\" transform=\"translate(261.85,128.16)\" d=\"M3,0A3,3 0 1,1 0,-3A3,3 0 0,1 3,0Z\" style=\"opacity: 1; stroke-width: 0px; fill: rgb(255, 127, 14); fill-opacity: 1;\"/><path class=\"point plotly-customdata\" transform=\"translate(273.09,91.61)\" d=\"M3,0A3,3 0 1,1 0,-3A3,3 0 0,1 3,0Z\" style=\"opacity: 1; stroke-width: 0px; fill: rgb(255, 127, 14); fill-opacity: 1;\"/><path class=\"point plotly-customdata\" transform=\"translate(304.16,151.61)\" d=\"M3,0A3,3 0 1,1 0,-3A3,3 0 0,1 3,0Z\" style=\"opacity: 1; stroke-width: 0px; fill: rgb(255, 127, 14); fill-opacity: 1;\"/><path class=\"point plotly-customdata\" transform=\"translate(237.66,97.18)\" d=\"M3,0A3,3 0 1,1 0,-3A3,3 0 0,1 3,0Z\" style=\"opacity: 1; stroke-width: 0px; fill: rgb(255, 127, 14); fill-opacity: 1;\"/><path class=\"point plotly-customdata\" transform=\"translate(255.5,39.91)\" d=\"M3,0A3,3 0 1,1 0,-3A3,3 0 0,1 3,0Z\" style=\"opacity: 1; stroke-width: 0px; fill: rgb(255, 127, 14); fill-opacity: 1;\"/><path class=\"point plotly-customdata\" transform=\"translate(258.82,53.89)\" d=\"M3,0A3,3 0 1,1 0,-3A3,3 0 0,1 3,0Z\" style=\"opacity: 1; stroke-width: 0px; fill: rgb(255, 127, 14); fill-opacity: 1;\"/><path class=\"point plotly-customdata\" transform=\"translate(320.52,131.62)\" d=\"M3,0A3,3 0 1,1 0,-3A3,3 0 0,1 3,0Z\" style=\"opacity: 1; stroke-width: 0px; fill: rgb(255, 127, 14); fill-opacity: 1;\"/><path class=\"point plotly-customdata\" transform=\"translate(280.26,100.89)\" d=\"M3,0A3,3 0 1,1 0,-3A3,3 0 0,1 3,0Z\" style=\"opacity: 1; stroke-width: 0px; fill: rgb(255, 127, 14); fill-opacity: 1;\"/><path class=\"point plotly-customdata\" transform=\"translate(246.9,56.45)\" d=\"M3,0A3,3 0 1,1 0,-3A3,3 0 0,1 3,0Z\" style=\"opacity: 1; stroke-width: 0px; fill: rgb(255, 127, 14); fill-opacity: 1;\"/><path class=\"point plotly-customdata\" transform=\"translate(242.69,51.47)\" d=\"M3,0A3,3 0 1,1 0,-3A3,3 0 0,1 3,0Z\" style=\"opacity: 1; stroke-width: 0px; fill: rgb(255, 127, 14); fill-opacity: 1;\"/><path class=\"point plotly-customdata\" transform=\"translate(268.53,104.53)\" d=\"M3,0A3,3 0 1,1 0,-3A3,3 0 0,1 3,0Z\" style=\"opacity: 1; stroke-width: 0px; fill: rgb(255, 127, 14); fill-opacity: 1;\"/><path class=\"point plotly-customdata\" transform=\"translate(235.79,74.68)\" d=\"M3,0A3,3 0 1,1 0,-3A3,3 0 0,1 3,0Z\" style=\"opacity: 1; stroke-width: 0px; fill: rgb(255, 127, 14); fill-opacity: 1;\"/><path class=\"point plotly-customdata\" transform=\"translate(248.81,77.6)\" d=\"M3,0A3,3 0 1,1 0,-3A3,3 0 0,1 3,0Z\" style=\"opacity: 1; stroke-width: 0px; fill: rgb(255, 127, 14); fill-opacity: 1;\"/><path class=\"point plotly-customdata\" transform=\"translate(262.03,104.94)\" d=\"M3,0A3,3 0 1,1 0,-3A3,3 0 0,1 3,0Z\" style=\"opacity: 1; stroke-width: 0px; fill: rgb(255, 127, 14); fill-opacity: 1;\"/><path class=\"point plotly-customdata\" transform=\"translate(263.25,111.71)\" d=\"M3,0A3,3 0 1,1 0,-3A3,3 0 0,1 3,0Z\" style=\"opacity: 1; stroke-width: 0px; fill: rgb(255, 127, 14); fill-opacity: 1;\"/><path class=\"point plotly-customdata\" transform=\"translate(247.72,89.37)\" d=\"M3,0A3,3 0 1,1 0,-3A3,3 0 0,1 3,0Z\" style=\"opacity: 1; stroke-width: 0px; fill: rgb(255, 127, 14); fill-opacity: 1;\"/><path class=\"point plotly-customdata\" transform=\"translate(235.96,133.05)\" d=\"M3,0A3,3 0 1,1 0,-3A3,3 0 0,1 3,0Z\" style=\"opacity: 1; stroke-width: 0px; fill: rgb(255, 127, 14); fill-opacity: 1;\"/><path class=\"point plotly-customdata\" transform=\"translate(272.58,121.79)\" d=\"M3,0A3,3 0 1,1 0,-3A3,3 0 0,1 3,0Z\" style=\"opacity: 1; stroke-width: 0px; fill: rgb(255, 127, 14); fill-opacity: 1;\"/><path class=\"point plotly-customdata\" transform=\"translate(245.89,82.02)\" d=\"M3,0A3,3 0 1,1 0,-3A3,3 0 0,1 3,0Z\" style=\"opacity: 1; stroke-width: 0px; fill: rgb(255, 127, 14); fill-opacity: 1;\"/><path class=\"point plotly-customdata\" transform=\"translate(224.74,134.13)\" d=\"M3,0A3,3 0 1,1 0,-3A3,3 0 0,1 3,0Z\" style=\"opacity: 1; stroke-width: 0px; fill: rgb(255, 127, 14); fill-opacity: 1;\"/><path class=\"point plotly-customdata\" transform=\"translate(279.61,120.39)\" d=\"M3,0A3,3 0 1,1 0,-3A3,3 0 0,1 3,0Z\" style=\"opacity: 1; stroke-width: 0px; fill: rgb(255, 127, 14); fill-opacity: 1;\"/><path class=\"point plotly-customdata\" transform=\"translate(255.5,39.91)\" d=\"M3,0A3,3 0 1,1 0,-3A3,3 0 0,1 3,0Z\" style=\"opacity: 1; stroke-width: 0px; fill: rgb(255, 127, 14); fill-opacity: 1;\"/><path class=\"point plotly-customdata\" transform=\"translate(247.3,52.72)\" d=\"M3,0A3,3 0 1,1 0,-3A3,3 0 0,1 3,0Z\" style=\"opacity: 1; stroke-width: 0px; fill: rgb(255, 127, 14); fill-opacity: 1;\"/><path class=\"point plotly-customdata\" transform=\"translate(303.56,140.42)\" d=\"M3,0A3,3 0 1,1 0,-3A3,3 0 0,1 3,0Z\" style=\"opacity: 1; stroke-width: 0px; fill: rgb(255, 127, 14); fill-opacity: 1;\"/><path class=\"point plotly-customdata\" transform=\"translate(245.76,109.22)\" d=\"M3,0A3,3 0 1,1 0,-3A3,3 0 0,1 3,0Z\" style=\"opacity: 1; stroke-width: 0px; fill: rgb(255, 127, 14); fill-opacity: 1;\"/><path class=\"point plotly-customdata\" transform=\"translate(273.81,149.75)\" d=\"M3,0A3,3 0 1,1 0,-3A3,3 0 0,1 3,0Z\" style=\"opacity: 1; stroke-width: 0px; fill: rgb(255, 127, 14); fill-opacity: 1;\"/><path class=\"point plotly-customdata\" transform=\"translate(23.15,17.85)\" d=\"M3,0A3,3 0 1,1 0,-3A3,3 0 0,1 3,0Z\" style=\"opacity: 1; stroke-width: 0px; fill: rgb(255, 127, 14); fill-opacity: 1;\"/><path class=\"point plotly-customdata\" transform=\"translate(320.09,150.94)\" d=\"M3,0A3,3 0 1,1 0,-3A3,3 0 0,1 3,0Z\" style=\"opacity: 1; stroke-width: 0px; fill: rgb(255, 127, 14); fill-opacity: 1;\"/><path class=\"point plotly-customdata\" transform=\"translate(235.04,90.23)\" d=\"M3,0A3,3 0 1,1 0,-3A3,3 0 0,1 3,0Z\" style=\"opacity: 1; stroke-width: 0px; fill: rgb(255, 127, 14); fill-opacity: 1;\"/><path class=\"point plotly-customdata\" transform=\"translate(285.04,107.74)\" d=\"M3,0A3,3 0 1,1 0,-3A3,3 0 0,1 3,0Z\" style=\"opacity: 1; stroke-width: 0px; fill: rgb(255, 127, 14); fill-opacity: 1;\"/><path class=\"point plotly-customdata\" transform=\"translate(308.34,128.9)\" d=\"M3,0A3,3 0 1,1 0,-3A3,3 0 0,1 3,0Z\" style=\"opacity: 1; stroke-width: 0px; fill: rgb(255, 127, 14); fill-opacity: 1;\"/><path class=\"point plotly-customdata\" transform=\"translate(273.85,68.58)\" d=\"M3,0A3,3 0 1,1 0,-3A3,3 0 0,1 3,0Z\" style=\"opacity: 1; stroke-width: 0px; fill: rgb(255, 127, 14); fill-opacity: 1;\"/><path class=\"point plotly-customdata\" transform=\"translate(250.54,69.53)\" d=\"M3,0A3,3 0 1,1 0,-3A3,3 0 0,1 3,0Z\" style=\"opacity: 1; stroke-width: 0px; fill: rgb(255, 127, 14); fill-opacity: 1;\"/><path class=\"point plotly-customdata\" transform=\"translate(258.79,75.48)\" d=\"M3,0A3,3 0 1,1 0,-3A3,3 0 0,1 3,0Z\" style=\"opacity: 1; stroke-width: 0px; fill: rgb(255, 127, 14); fill-opacity: 1;\"/><path class=\"point plotly-customdata\" transform=\"translate(266.24,124.32)\" d=\"M3,0A3,3 0 1,1 0,-3A3,3 0 0,1 3,0Z\" style=\"opacity: 1; stroke-width: 0px; fill: rgb(255, 127, 14); fill-opacity: 1;\"/><path class=\"point plotly-customdata\" transform=\"translate(263.51,94.22)\" d=\"M3,0A3,3 0 1,1 0,-3A3,3 0 0,1 3,0Z\" style=\"opacity: 1; stroke-width: 0px; fill: rgb(255, 127, 14); fill-opacity: 1;\"/><path class=\"point plotly-customdata\" transform=\"translate(330.45,167.51)\" d=\"M3,0A3,3 0 1,1 0,-3A3,3 0 0,1 3,0Z\" style=\"opacity: 1; stroke-width: 0px; fill: rgb(255, 127, 14); fill-opacity: 1;\"/><path class=\"point plotly-customdata\" transform=\"translate(242.41,151.72)\" d=\"M3,0A3,3 0 1,1 0,-3A3,3 0 0,1 3,0Z\" style=\"opacity: 1; stroke-width: 0px; fill: rgb(255, 127, 14); fill-opacity: 1;\"/><path class=\"point plotly-customdata\" transform=\"translate(266.36,85.66)\" d=\"M3,0A3,3 0 1,1 0,-3A3,3 0 0,1 3,0Z\" style=\"opacity: 1; stroke-width: 0px; fill: rgb(255, 127, 14); fill-opacity: 1;\"/><path class=\"point plotly-customdata\" transform=\"translate(23.15,17.85)\" d=\"M3,0A3,3 0 1,1 0,-3A3,3 0 0,1 3,0Z\" style=\"opacity: 1; stroke-width: 0px; fill: rgb(255, 127, 14); fill-opacity: 1;\"/><path class=\"point plotly-customdata\" transform=\"translate(314.14,115.24)\" d=\"M3,0A3,3 0 1,1 0,-3A3,3 0 0,1 3,0Z\" style=\"opacity: 1; stroke-width: 0px; fill: rgb(255, 127, 14); fill-opacity: 1;\"/><path class=\"point plotly-customdata\" transform=\"translate(240.29,77.29)\" d=\"M3,0A3,3 0 1,1 0,-3A3,3 0 0,1 3,0Z\" style=\"opacity: 1; stroke-width: 0px; fill: rgb(255, 127, 14); fill-opacity: 1;\"/><path class=\"point plotly-customdata\" transform=\"translate(270.41,135.52)\" d=\"M3,0A3,3 0 1,1 0,-3A3,3 0 0,1 3,0Z\" style=\"opacity: 1; stroke-width: 0px; fill: rgb(255, 127, 14); fill-opacity: 1;\"/><path class=\"point plotly-customdata\" transform=\"translate(289.82,124.29)\" d=\"M3,0A3,3 0 1,1 0,-3A3,3 0 0,1 3,0Z\" style=\"opacity: 1; stroke-width: 0px; fill: rgb(255, 127, 14); fill-opacity: 1;\"/><path class=\"point plotly-customdata\" transform=\"translate(288,115.94)\" d=\"M3,0A3,3 0 1,1 0,-3A3,3 0 0,1 3,0Z\" style=\"opacity: 1; stroke-width: 0px; fill: rgb(255, 127, 14); fill-opacity: 1;\"/><path class=\"point plotly-customdata\" transform=\"translate(323.46,110.04)\" d=\"M3,0A3,3 0 1,1 0,-3A3,3 0 0,1 3,0Z\" style=\"opacity: 1; stroke-width: 0px; fill: rgb(255, 127, 14); fill-opacity: 1;\"/><path class=\"point plotly-customdata\" transform=\"translate(247.44,92.64)\" d=\"M3,0A3,3 0 1,1 0,-3A3,3 0 0,1 3,0Z\" style=\"opacity: 1; stroke-width: 0px; fill: rgb(255, 127, 14); fill-opacity: 1;\"/><path class=\"point plotly-customdata\" transform=\"translate(362.67,149.21)\" d=\"M3,0A3,3 0 1,1 0,-3A3,3 0 0,1 3,0Z\" style=\"opacity: 1; stroke-width: 0px; fill: rgb(255, 127, 14); fill-opacity: 1;\"/><path class=\"point plotly-customdata\" transform=\"translate(310.66,115.99)\" d=\"M3,0A3,3 0 1,1 0,-3A3,3 0 0,1 3,0Z\" style=\"opacity: 1; stroke-width: 0px; fill: rgb(255, 127, 14); fill-opacity: 1;\"/><path class=\"point plotly-customdata\" transform=\"translate(279.48,134.13)\" d=\"M3,0A3,3 0 1,1 0,-3A3,3 0 0,1 3,0Z\" style=\"opacity: 1; stroke-width: 0px; fill: rgb(255, 127, 14); fill-opacity: 1;\"/><path class=\"point plotly-customdata\" transform=\"translate(279.23,112.29)\" d=\"M3,0A3,3 0 1,1 0,-3A3,3 0 0,1 3,0Z\" style=\"opacity: 1; stroke-width: 0px; fill: rgb(255, 127, 14); fill-opacity: 1;\"/><path class=\"point plotly-customdata\" transform=\"translate(252.36,104.43)\" d=\"M3,0A3,3 0 1,1 0,-3A3,3 0 0,1 3,0Z\" style=\"opacity: 1; stroke-width: 0px; fill: rgb(255, 127, 14); fill-opacity: 1;\"/><path class=\"point plotly-customdata\" transform=\"translate(271.88,88.53)\" d=\"M3,0A3,3 0 1,1 0,-3A3,3 0 0,1 3,0Z\" style=\"opacity: 1; stroke-width: 0px; fill: rgb(255, 127, 14); fill-opacity: 1;\"/><path class=\"point plotly-customdata\" transform=\"translate(326.71,137.03)\" d=\"M3,0A3,3 0 1,1 0,-3A3,3 0 0,1 3,0Z\" style=\"opacity: 1; stroke-width: 0px; fill: rgb(255, 127, 14); fill-opacity: 1;\"/><path class=\"point plotly-customdata\" transform=\"translate(249.01,71.91)\" d=\"M3,0A3,3 0 1,1 0,-3A3,3 0 0,1 3,0Z\" style=\"opacity: 1; stroke-width: 0px; fill: rgb(255, 127, 14); fill-opacity: 1;\"/><path class=\"point plotly-customdata\" transform=\"translate(326.39,142.53)\" d=\"M3,0A3,3 0 1,1 0,-3A3,3 0 0,1 3,0Z\" style=\"opacity: 1; stroke-width: 0px; fill: rgb(255, 127, 14); fill-opacity: 1;\"/><path class=\"point plotly-customdata\" transform=\"translate(225.47,97.54)\" d=\"M3,0A3,3 0 1,1 0,-3A3,3 0 0,1 3,0Z\" style=\"opacity: 1; stroke-width: 0px; fill: rgb(255, 127, 14); fill-opacity: 1;\"/><path class=\"point plotly-customdata\" transform=\"translate(331.35,183.19)\" d=\"M3,0A3,3 0 1,1 0,-3A3,3 0 0,1 3,0Z\" style=\"opacity: 1; stroke-width: 0px; fill: rgb(255, 127, 14); fill-opacity: 1;\"/><path class=\"point plotly-customdata\" transform=\"translate(356.53,150.74)\" d=\"M3,0A3,3 0 1,1 0,-3A3,3 0 0,1 3,0Z\" style=\"opacity: 1; stroke-width: 0px; fill: rgb(255, 127, 14); fill-opacity: 1;\"/><path class=\"point plotly-customdata\" transform=\"translate(243.88,77.07)\" d=\"M3,0A3,3 0 1,1 0,-3A3,3 0 0,1 3,0Z\" style=\"opacity: 1; stroke-width: 0px; fill: rgb(255, 127, 14); fill-opacity: 1;\"/><path class=\"point plotly-customdata\" transform=\"translate(281.57,123.22)\" d=\"M3,0A3,3 0 1,1 0,-3A3,3 0 0,1 3,0Z\" style=\"opacity: 1; stroke-width: 0px; fill: rgb(255, 127, 14); fill-opacity: 1;\"/><path class=\"point plotly-customdata\" transform=\"translate(355.99,165.26)\" d=\"M3,0A3,3 0 1,1 0,-3A3,3 0 0,1 3,0Z\" style=\"opacity: 1; stroke-width: 0px; fill: rgb(255, 127, 14); fill-opacity: 1;\"/><path class=\"point plotly-customdata\" transform=\"translate(269.36,122.34)\" d=\"M3,0A3,3 0 1,1 0,-3A3,3 0 0,1 3,0Z\" style=\"opacity: 1; stroke-width: 0px; fill: rgb(255, 127, 14); fill-opacity: 1;\"/><path class=\"point plotly-customdata\" transform=\"translate(251.54,71.45)\" d=\"M3,0A3,3 0 1,1 0,-3A3,3 0 0,1 3,0Z\" style=\"opacity: 1; stroke-width: 0px; fill: rgb(255, 127, 14); fill-opacity: 1;\"/><path class=\"point plotly-customdata\" transform=\"translate(296.09,113.98)\" d=\"M3,0A3,3 0 1,1 0,-3A3,3 0 0,1 3,0Z\" style=\"opacity: 1; stroke-width: 0px; fill: rgb(255, 127, 14); fill-opacity: 1;\"/><path class=\"point plotly-customdata\" transform=\"translate(294.36,156.87)\" d=\"M3,0A3,3 0 1,1 0,-3A3,3 0 0,1 3,0Z\" style=\"opacity: 1; stroke-width: 0px; fill: rgb(255, 127, 14); fill-opacity: 1;\"/><path class=\"point plotly-customdata\" transform=\"translate(238.23,58.15)\" d=\"M3,0A3,3 0 1,1 0,-3A3,3 0 0,1 3,0Z\" style=\"opacity: 1; stroke-width: 0px; fill: rgb(255, 127, 14); fill-opacity: 1;\"/><path class=\"point plotly-customdata\" transform=\"translate(269.36,93.79)\" d=\"M3,0A3,3 0 1,1 0,-3A3,3 0 0,1 3,0Z\" style=\"opacity: 1; stroke-width: 0px; fill: rgb(255, 127, 14); fill-opacity: 1;\"/><path class=\"point plotly-customdata\" transform=\"translate(281.46,119.97)\" d=\"M3,0A3,3 0 1,1 0,-3A3,3 0 0,1 3,0Z\" style=\"opacity: 1; stroke-width: 0px; fill: rgb(255, 127, 14); fill-opacity: 1;\"/><path class=\"point plotly-customdata\" transform=\"translate(288.59,114.72)\" d=\"M3,0A3,3 0 1,1 0,-3A3,3 0 0,1 3,0Z\" style=\"opacity: 1; stroke-width: 0px; fill: rgb(255, 127, 14); fill-opacity: 1;\"/><path class=\"point plotly-customdata\" transform=\"translate(286.89,107.61)\" d=\"M3,0A3,3 0 1,1 0,-3A3,3 0 0,1 3,0Z\" style=\"opacity: 1; stroke-width: 0px; fill: rgb(255, 127, 14); fill-opacity: 1;\"/><path class=\"point plotly-customdata\" transform=\"translate(305.02,127.17)\" d=\"M3,0A3,3 0 1,1 0,-3A3,3 0 0,1 3,0Z\" style=\"opacity: 1; stroke-width: 0px; fill: rgb(255, 127, 14); fill-opacity: 1;\"/><path class=\"point plotly-customdata\" transform=\"translate(280.65,122.02)\" d=\"M3,0A3,3 0 1,1 0,-3A3,3 0 0,1 3,0Z\" style=\"opacity: 1; stroke-width: 0px; fill: rgb(255, 127, 14); fill-opacity: 1;\"/><path class=\"point plotly-customdata\" transform=\"translate(239.89,96.61)\" d=\"M3,0A3,3 0 1,1 0,-3A3,3 0 0,1 3,0Z\" style=\"opacity: 1; stroke-width: 0px; fill: rgb(255, 127, 14); fill-opacity: 1;\"/><path class=\"point plotly-customdata\" transform=\"translate(290.01,108.82)\" d=\"M3,0A3,3 0 1,1 0,-3A3,3 0 0,1 3,0Z\" style=\"opacity: 1; stroke-width: 0px; fill: rgb(255, 127, 14); fill-opacity: 1;\"/><path class=\"point plotly-customdata\" transform=\"translate(216.39,73.65)\" d=\"M3,0A3,3 0 1,1 0,-3A3,3 0 0,1 3,0Z\" style=\"opacity: 1; stroke-width: 0px; fill: rgb(255, 127, 14); fill-opacity: 1;\"/><path class=\"point plotly-customdata\" transform=\"translate(242.3,90.87)\" d=\"M3,0A3,3 0 1,1 0,-3A3,3 0 0,1 3,0Z\" style=\"opacity: 1; stroke-width: 0px; fill: rgb(255, 127, 14); fill-opacity: 1;\"/><path class=\"point plotly-customdata\" transform=\"translate(287.55,129.21)\" d=\"M3,0A3,3 0 1,1 0,-3A3,3 0 0,1 3,0Z\" style=\"opacity: 1; stroke-width: 0px; fill: rgb(255, 127, 14); fill-opacity: 1;\"/><path class=\"point plotly-customdata\" transform=\"translate(252.19,90.22)\" d=\"M3,0A3,3 0 1,1 0,-3A3,3 0 0,1 3,0Z\" style=\"opacity: 1; stroke-width: 0px; fill: rgb(255, 127, 14); fill-opacity: 1;\"/><path class=\"point plotly-customdata\" transform=\"translate(284,112.44)\" d=\"M3,0A3,3 0 1,1 0,-3A3,3 0 0,1 3,0Z\" style=\"opacity: 1; stroke-width: 0px; fill: rgb(255, 127, 14); fill-opacity: 1;\"/><path class=\"point plotly-customdata\" transform=\"translate(250.48,71.56)\" d=\"M3,0A3,3 0 1,1 0,-3A3,3 0 0,1 3,0Z\" style=\"opacity: 1; stroke-width: 0px; fill: rgb(255, 127, 14); fill-opacity: 1;\"/><path class=\"point plotly-customdata\" transform=\"translate(253.83,83.17)\" d=\"M3,0A3,3 0 1,1 0,-3A3,3 0 0,1 3,0Z\" style=\"opacity: 1; stroke-width: 0px; fill: rgb(255, 127, 14); fill-opacity: 1;\"/><path class=\"point plotly-customdata\" transform=\"translate(250.4,51.37)\" d=\"M3,0A3,3 0 1,1 0,-3A3,3 0 0,1 3,0Z\" style=\"opacity: 1; stroke-width: 0px; fill: rgb(255, 127, 14); fill-opacity: 1;\"/><path class=\"point plotly-customdata\" transform=\"translate(268.53,57.33)\" d=\"M3,0A3,3 0 1,1 0,-3A3,3 0 0,1 3,0Z\" style=\"opacity: 1; stroke-width: 0px; fill: rgb(255, 127, 14); fill-opacity: 1;\"/><path class=\"point plotly-customdata\" transform=\"translate(291.74,173.23)\" d=\"M3,0A3,3 0 1,1 0,-3A3,3 0 0,1 3,0Z\" style=\"opacity: 1; stroke-width: 0px; fill: rgb(255, 127, 14); fill-opacity: 1;\"/><path class=\"point plotly-customdata\" transform=\"translate(302.02,136.57)\" d=\"M3,0A3,3 0 1,1 0,-3A3,3 0 0,1 3,0Z\" style=\"opacity: 1; stroke-width: 0px; fill: rgb(255, 127, 14); fill-opacity: 1;\"/><path class=\"point plotly-customdata\" transform=\"translate(253.91,131.58)\" d=\"M3,0A3,3 0 1,1 0,-3A3,3 0 0,1 3,0Z\" style=\"opacity: 1; stroke-width: 0px; fill: rgb(255, 127, 14); fill-opacity: 1;\"/><path class=\"point plotly-customdata\" transform=\"translate(259.82,92.74)\" d=\"M3,0A3,3 0 1,1 0,-3A3,3 0 0,1 3,0Z\" style=\"opacity: 1; stroke-width: 0px; fill: rgb(255, 127, 14); fill-opacity: 1;\"/><path class=\"point plotly-customdata\" transform=\"translate(343.48,183.05)\" d=\"M3,0A3,3 0 1,1 0,-3A3,3 0 0,1 3,0Z\" style=\"opacity: 1; stroke-width: 0px; fill: rgb(255, 127, 14); fill-opacity: 1;\"/><path class=\"point plotly-customdata\" transform=\"translate(274.7,125.03)\" d=\"M3,0A3,3 0 1,1 0,-3A3,3 0 0,1 3,0Z\" style=\"opacity: 1; stroke-width: 0px; fill: rgb(255, 127, 14); fill-opacity: 1;\"/><path class=\"point plotly-customdata\" transform=\"translate(259.87,63.42)\" d=\"M3,0A3,3 0 1,1 0,-3A3,3 0 0,1 3,0Z\" style=\"opacity: 1; stroke-width: 0px; fill: rgb(255, 127, 14); fill-opacity: 1;\"/><path class=\"point plotly-customdata\" transform=\"translate(282.88,141.2)\" d=\"M3,0A3,3 0 1,1 0,-3A3,3 0 0,1 3,0Z\" style=\"opacity: 1; stroke-width: 0px; fill: rgb(255, 127, 14); fill-opacity: 1;\"/><path class=\"point plotly-customdata\" transform=\"translate(251.38,81.06)\" d=\"M3,0A3,3 0 1,1 0,-3A3,3 0 0,1 3,0Z\" style=\"opacity: 1; stroke-width: 0px; fill: rgb(255, 127, 14); fill-opacity: 1;\"/><path class=\"point plotly-customdata\" transform=\"translate(229.39,95.08)\" d=\"M3,0A3,3 0 1,1 0,-3A3,3 0 0,1 3,0Z\" style=\"opacity: 1; stroke-width: 0px; fill: rgb(255, 127, 14); fill-opacity: 1;\"/><path class=\"point plotly-customdata\" transform=\"translate(270.64,98.87)\" d=\"M3,0A3,3 0 1,1 0,-3A3,3 0 0,1 3,0Z\" style=\"opacity: 1; stroke-width: 0px; fill: rgb(255, 127, 14); fill-opacity: 1;\"/><path class=\"point plotly-customdata\" transform=\"translate(317.6,105.76)\" d=\"M3,0A3,3 0 1,1 0,-3A3,3 0 0,1 3,0Z\" style=\"opacity: 1; stroke-width: 0px; fill: rgb(255, 127, 14); fill-opacity: 1;\"/><path class=\"point plotly-customdata\" transform=\"translate(275.17,54.48)\" d=\"M3,0A3,3 0 1,1 0,-3A3,3 0 0,1 3,0Z\" style=\"opacity: 1; stroke-width: 0px; fill: rgb(255, 127, 14); fill-opacity: 1;\"/><path class=\"point plotly-customdata\" transform=\"translate(331.07,141.13)\" d=\"M3,0A3,3 0 1,1 0,-3A3,3 0 0,1 3,0Z\" style=\"opacity: 1; stroke-width: 0px; fill: rgb(255, 127, 14); fill-opacity: 1;\"/><path class=\"point plotly-customdata\" transform=\"translate(316.12,140.78)\" d=\"M3,0A3,3 0 1,1 0,-3A3,3 0 0,1 3,0Z\" style=\"opacity: 1; stroke-width: 0px; fill: rgb(255, 127, 14); fill-opacity: 1;\"/><path class=\"point plotly-customdata\" transform=\"translate(23.15,17.85)\" d=\"M3,0A3,3 0 1,1 0,-3A3,3 0 0,1 3,0Z\" style=\"opacity: 1; stroke-width: 0px; fill: rgb(255, 127, 14); fill-opacity: 1;\"/><path class=\"point plotly-customdata\" transform=\"translate(295.35,114.86)\" d=\"M3,0A3,3 0 1,1 0,-3A3,3 0 0,1 3,0Z\" style=\"opacity: 1; stroke-width: 0px; fill: rgb(255, 127, 14); fill-opacity: 1;\"/><path class=\"point plotly-customdata\" transform=\"translate(288.07,106.9)\" d=\"M3,0A3,3 0 1,1 0,-3A3,3 0 0,1 3,0Z\" style=\"opacity: 1; stroke-width: 0px; fill: rgb(255, 127, 14); fill-opacity: 1;\"/><path class=\"point plotly-customdata\" transform=\"translate(273.5,93.51)\" d=\"M3,0A3,3 0 1,1 0,-3A3,3 0 0,1 3,0Z\" style=\"opacity: 1; stroke-width: 0px; fill: rgb(255, 127, 14); fill-opacity: 1;\"/><path class=\"point plotly-customdata\" transform=\"translate(283.69,143.06)\" d=\"M3,0A3,3 0 1,1 0,-3A3,3 0 0,1 3,0Z\" style=\"opacity: 1; stroke-width: 0px; fill: rgb(255, 127, 14); fill-opacity: 1;\"/><path class=\"point plotly-customdata\" transform=\"translate(244.48,76.35)\" d=\"M3,0A3,3 0 1,1 0,-3A3,3 0 0,1 3,0Z\" style=\"opacity: 1; stroke-width: 0px; fill: rgb(255, 127, 14); fill-opacity: 1;\"/><path class=\"point plotly-customdata\" transform=\"translate(275.86,115.03)\" d=\"M3,0A3,3 0 1,1 0,-3A3,3 0 0,1 3,0Z\" style=\"opacity: 1; stroke-width: 0px; fill: rgb(255, 127, 14); fill-opacity: 1;\"/><path class=\"point plotly-customdata\" transform=\"translate(290.17,98.94)\" d=\"M3,0A3,3 0 1,1 0,-3A3,3 0 0,1 3,0Z\" style=\"opacity: 1; stroke-width: 0px; fill: rgb(255, 127, 14); fill-opacity: 1;\"/><path class=\"point plotly-customdata\" transform=\"translate(270.55,91.43)\" d=\"M3,0A3,3 0 1,1 0,-3A3,3 0 0,1 3,0Z\" style=\"opacity: 1; stroke-width: 0px; fill: rgb(255, 127, 14); fill-opacity: 1;\"/><path class=\"point plotly-customdata\" transform=\"translate(270.65,99.05)\" d=\"M3,0A3,3 0 1,1 0,-3A3,3 0 0,1 3,0Z\" style=\"opacity: 1; stroke-width: 0px; fill: rgb(255, 127, 14); fill-opacity: 1;\"/><path class=\"point plotly-customdata\" transform=\"translate(309.83,193.57)\" d=\"M3,0A3,3 0 1,1 0,-3A3,3 0 0,1 3,0Z\" style=\"opacity: 1; stroke-width: 0px; fill: rgb(255, 127, 14); fill-opacity: 1;\"/><path class=\"point plotly-customdata\" transform=\"translate(305.59,146.31)\" d=\"M3,0A3,3 0 1,1 0,-3A3,3 0 0,1 3,0Z\" style=\"opacity: 1; stroke-width: 0px; fill: rgb(255, 127, 14); fill-opacity: 1;\"/><path class=\"point plotly-customdata\" transform=\"translate(306.18,131.41)\" d=\"M3,0A3,3 0 1,1 0,-3A3,3 0 0,1 3,0Z\" style=\"opacity: 1; stroke-width: 0px; fill: rgb(255, 127, 14); fill-opacity: 1;\"/><path class=\"point plotly-customdata\" transform=\"translate(305.24,118.38)\" d=\"M3,0A3,3 0 1,1 0,-3A3,3 0 0,1 3,0Z\" style=\"opacity: 1; stroke-width: 0px; fill: rgb(255, 127, 14); fill-opacity: 1;\"/><path class=\"point plotly-customdata\" transform=\"translate(285.96,120.76)\" d=\"M3,0A3,3 0 1,1 0,-3A3,3 0 0,1 3,0Z\" style=\"opacity: 1; stroke-width: 0px; fill: rgb(255, 127, 14); fill-opacity: 1;\"/><path class=\"point plotly-customdata\" transform=\"translate(309.26,139.23)\" d=\"M3,0A3,3 0 1,1 0,-3A3,3 0 0,1 3,0Z\" style=\"opacity: 1; stroke-width: 0px; fill: rgb(255, 127, 14); fill-opacity: 1;\"/><path class=\"point plotly-customdata\" transform=\"translate(317.98,151.57)\" d=\"M3,0A3,3 0 1,1 0,-3A3,3 0 0,1 3,0Z\" style=\"opacity: 1; stroke-width: 0px; fill: rgb(255, 127, 14); fill-opacity: 1;\"/><path class=\"point plotly-customdata\" transform=\"translate(255.5,39.91)\" d=\"M3,0A3,3 0 1,1 0,-3A3,3 0 0,1 3,0Z\" style=\"opacity: 1; stroke-width: 0px; fill: rgb(255, 127, 14); fill-opacity: 1;\"/><path class=\"point plotly-customdata\" transform=\"translate(305.68,119.15)\" d=\"M3,0A3,3 0 1,1 0,-3A3,3 0 0,1 3,0Z\" style=\"opacity: 1; stroke-width: 0px; fill: rgb(255, 127, 14); fill-opacity: 1;\"/><path class=\"point plotly-customdata\" transform=\"translate(233.7,78.6)\" d=\"M3,0A3,3 0 1,1 0,-3A3,3 0 0,1 3,0Z\" style=\"opacity: 1; stroke-width: 0px; fill: rgb(255, 127, 14); fill-opacity: 1;\"/><path class=\"point plotly-customdata\" transform=\"translate(279.02,100.58)\" d=\"M3,0A3,3 0 1,1 0,-3A3,3 0 0,1 3,0Z\" style=\"opacity: 1; stroke-width: 0px; fill: rgb(255, 127, 14); fill-opacity: 1;\"/><path class=\"point plotly-customdata\" transform=\"translate(316.62,190.25)\" d=\"M3,0A3,3 0 1,1 0,-3A3,3 0 0,1 3,0Z\" style=\"opacity: 1; stroke-width: 0px; fill: rgb(255, 127, 14); fill-opacity: 1;\"/><path class=\"point plotly-customdata\" transform=\"translate(242.69,51.47)\" d=\"M3,0A3,3 0 1,1 0,-3A3,3 0 0,1 3,0Z\" style=\"opacity: 1; stroke-width: 0px; fill: rgb(255, 127, 14); fill-opacity: 1;\"/><path class=\"point plotly-customdata\" transform=\"translate(287.81,125.63)\" d=\"M3,0A3,3 0 1,1 0,-3A3,3 0 0,1 3,0Z\" style=\"opacity: 1; stroke-width: 0px; fill: rgb(255, 127, 14); fill-opacity: 1;\"/><path class=\"point plotly-customdata\" transform=\"translate(262.72,37.25)\" d=\"M3,0A3,3 0 1,1 0,-3A3,3 0 0,1 3,0Z\" style=\"opacity: 1; stroke-width: 0px; fill: rgb(255, 127, 14); fill-opacity: 1;\"/><path class=\"point plotly-customdata\" transform=\"translate(262.72,37.25)\" d=\"M3,0A3,3 0 1,1 0,-3A3,3 0 0,1 3,0Z\" style=\"opacity: 1; stroke-width: 0px; fill: rgb(255, 127, 14); fill-opacity: 1;\"/><path class=\"point plotly-customdata\" transform=\"translate(280.78,124.66)\" d=\"M3,0A3,3 0 1,1 0,-3A3,3 0 0,1 3,0Z\" style=\"opacity: 1; stroke-width: 0px; fill: rgb(255, 127, 14); fill-opacity: 1;\"/><path class=\"point plotly-customdata\" transform=\"translate(23.15,17.85)\" d=\"M3,0A3,3 0 1,1 0,-3A3,3 0 0,1 3,0Z\" style=\"opacity: 1; stroke-width: 0px; fill: rgb(255, 127, 14); fill-opacity: 1;\"/><path class=\"point plotly-customdata\" transform=\"translate(278.81,135.17)\" d=\"M3,0A3,3 0 1,1 0,-3A3,3 0 0,1 3,0Z\" style=\"opacity: 1; stroke-width: 0px; fill: rgb(255, 127, 14); fill-opacity: 1;\"/><path class=\"point plotly-customdata\" transform=\"translate(250.4,51.37)\" d=\"M3,0A3,3 0 1,1 0,-3A3,3 0 0,1 3,0Z\" style=\"opacity: 1; stroke-width: 0px; fill: rgb(255, 127, 14); fill-opacity: 1;\"/><path class=\"point plotly-customdata\" transform=\"translate(316.36,124.61)\" d=\"M3,0A3,3 0 1,1 0,-3A3,3 0 0,1 3,0Z\" style=\"opacity: 1; stroke-width: 0px; fill: rgb(255, 127, 14); fill-opacity: 1;\"/><path class=\"point plotly-customdata\" transform=\"translate(259.67,70.16)\" d=\"M3,0A3,3 0 1,1 0,-3A3,3 0 0,1 3,0Z\" style=\"opacity: 1; stroke-width: 0px; fill: rgb(255, 127, 14); fill-opacity: 1;\"/><path class=\"point plotly-customdata\" transform=\"translate(301.84,111.66)\" d=\"M3,0A3,3 0 1,1 0,-3A3,3 0 0,1 3,0Z\" style=\"opacity: 1; stroke-width: 0px; fill: rgb(255, 127, 14); fill-opacity: 1;\"/><path class=\"point plotly-customdata\" transform=\"translate(333.06,134.25)\" d=\"M3,0A3,3 0 1,1 0,-3A3,3 0 0,1 3,0Z\" style=\"opacity: 1; stroke-width: 0px; fill: rgb(255, 127, 14); fill-opacity: 1;\"/><path class=\"point plotly-customdata\" transform=\"translate(298.57,144.92)\" d=\"M3,0A3,3 0 1,1 0,-3A3,3 0 0,1 3,0Z\" style=\"opacity: 1; stroke-width: 0px; fill: rgb(255, 127, 14); fill-opacity: 1;\"/><path class=\"point plotly-customdata\" transform=\"translate(250.91,80.2)\" d=\"M3,0A3,3 0 1,1 0,-3A3,3 0 0,1 3,0Z\" style=\"opacity: 1; stroke-width: 0px; fill: rgb(255, 127, 14); fill-opacity: 1;\"/><path class=\"point plotly-customdata\" transform=\"translate(220.12,153.29)\" d=\"M3,0A3,3 0 1,1 0,-3A3,3 0 0,1 3,0Z\" style=\"opacity: 1; stroke-width: 0px; fill: rgb(255, 127, 14); fill-opacity: 1;\"/><path class=\"point plotly-customdata\" transform=\"translate(262.72,37.25)\" d=\"M3,0A3,3 0 1,1 0,-3A3,3 0 0,1 3,0Z\" style=\"opacity: 1; stroke-width: 0px; fill: rgb(255, 127, 14); fill-opacity: 1;\"/><path class=\"point plotly-customdata\" transform=\"translate(243.42,127.45)\" d=\"M3,0A3,3 0 1,1 0,-3A3,3 0 0,1 3,0Z\" style=\"opacity: 1; stroke-width: 0px; fill: rgb(255, 127, 14); fill-opacity: 1;\"/><path class=\"point plotly-customdata\" transform=\"translate(226.4,167.64)\" d=\"M3,0A3,3 0 1,1 0,-3A3,3 0 0,1 3,0Z\" style=\"opacity: 1; stroke-width: 0px; fill: rgb(255, 127, 14); fill-opacity: 1;\"/><path class=\"point plotly-customdata\" transform=\"translate(269.72,97.77)\" d=\"M3,0A3,3 0 1,1 0,-3A3,3 0 0,1 3,0Z\" style=\"opacity: 1; stroke-width: 0px; fill: rgb(255, 127, 14); fill-opacity: 1;\"/><path class=\"point plotly-customdata\" transform=\"translate(249.99,82.32)\" d=\"M3,0A3,3 0 1,1 0,-3A3,3 0 0,1 3,0Z\" style=\"opacity: 1; stroke-width: 0px; fill: rgb(255, 127, 14); fill-opacity: 1;\"/><path class=\"point plotly-customdata\" transform=\"translate(251.43,72.88)\" d=\"M3,0A3,3 0 1,1 0,-3A3,3 0 0,1 3,0Z\" style=\"opacity: 1; stroke-width: 0px; fill: rgb(255, 127, 14); fill-opacity: 1;\"/><path class=\"point plotly-customdata\" transform=\"translate(260.46,127.86)\" d=\"M3,0A3,3 0 1,1 0,-3A3,3 0 0,1 3,0Z\" style=\"opacity: 1; stroke-width: 0px; fill: rgb(255, 127, 14); fill-opacity: 1;\"/><path class=\"point plotly-customdata\" transform=\"translate(249.76,81.4)\" d=\"M3,0A3,3 0 1,1 0,-3A3,3 0 0,1 3,0Z\" style=\"opacity: 1; stroke-width: 0px; fill: rgb(255, 127, 14); fill-opacity: 1;\"/><path class=\"point plotly-customdata\" transform=\"translate(301.31,101.16)\" d=\"M3,0A3,3 0 1,1 0,-3A3,3 0 0,1 3,0Z\" style=\"opacity: 1; stroke-width: 0px; fill: rgb(255, 127, 14); fill-opacity: 1;\"/><path class=\"point plotly-customdata\" transform=\"translate(256.01,66.75)\" d=\"M3,0A3,3 0 1,1 0,-3A3,3 0 0,1 3,0Z\" style=\"opacity: 1; stroke-width: 0px; fill: rgb(255, 127, 14); fill-opacity: 1;\"/><path class=\"point plotly-customdata\" transform=\"translate(247.5,111.73)\" d=\"M3,0A3,3 0 1,1 0,-3A3,3 0 0,1 3,0Z\" style=\"opacity: 1; stroke-width: 0px; fill: rgb(255, 127, 14); fill-opacity: 1;\"/><path class=\"point plotly-customdata\" transform=\"translate(244.5,113.82)\" d=\"M3,0A3,3 0 1,1 0,-3A3,3 0 0,1 3,0Z\" style=\"opacity: 1; stroke-width: 0px; fill: rgb(255, 127, 14); fill-opacity: 1;\"/><path class=\"point plotly-customdata\" transform=\"translate(284.99,107.24)\" d=\"M3,0A3,3 0 1,1 0,-3A3,3 0 0,1 3,0Z\" style=\"opacity: 1; stroke-width: 0px; fill: rgb(255, 127, 14); fill-opacity: 1;\"/><path class=\"point plotly-customdata\" transform=\"translate(247.78,72.68)\" d=\"M3,0A3,3 0 1,1 0,-3A3,3 0 0,1 3,0Z\" style=\"opacity: 1; stroke-width: 0px; fill: rgb(255, 127, 14); fill-opacity: 1;\"/><path class=\"point plotly-customdata\" transform=\"translate(254.54,121.37)\" d=\"M3,0A3,3 0 1,1 0,-3A3,3 0 0,1 3,0Z\" style=\"opacity: 1; stroke-width: 0px; fill: rgb(255, 127, 14); fill-opacity: 1;\"/><path class=\"point plotly-customdata\" transform=\"translate(271.74,137.16)\" d=\"M3,0A3,3 0 1,1 0,-3A3,3 0 0,1 3,0Z\" style=\"opacity: 1; stroke-width: 0px; fill: rgb(255, 127, 14); fill-opacity: 1;\"/><path class=\"point plotly-customdata\" transform=\"translate(266.14,110.04)\" d=\"M3,0A3,3 0 1,1 0,-3A3,3 0 0,1 3,0Z\" style=\"opacity: 1; stroke-width: 0px; fill: rgb(255, 127, 14); fill-opacity: 1;\"/><path class=\"point plotly-customdata\" transform=\"translate(274.1,90.34)\" d=\"M3,0A3,3 0 1,1 0,-3A3,3 0 0,1 3,0Z\" style=\"opacity: 1; stroke-width: 0px; fill: rgb(255, 127, 14); fill-opacity: 1;\"/><path class=\"point plotly-customdata\" transform=\"translate(278.81,98.04)\" d=\"M3,0A3,3 0 1,1 0,-3A3,3 0 0,1 3,0Z\" style=\"opacity: 1; stroke-width: 0px; fill: rgb(255, 127, 14); fill-opacity: 1;\"/><path class=\"point plotly-customdata\" transform=\"translate(322.74,147.87)\" d=\"M3,0A3,3 0 1,1 0,-3A3,3 0 0,1 3,0Z\" style=\"opacity: 1; stroke-width: 0px; fill: rgb(255, 127, 14); fill-opacity: 1;\"/><path class=\"point plotly-customdata\" transform=\"translate(282.4,97.94)\" d=\"M3,0A3,3 0 1,1 0,-3A3,3 0 0,1 3,0Z\" style=\"opacity: 1; stroke-width: 0px; fill: rgb(255, 127, 14); fill-opacity: 1;\"/><path class=\"point plotly-customdata\" transform=\"translate(246.14,77.27)\" d=\"M3,0A3,3 0 1,1 0,-3A3,3 0 0,1 3,0Z\" style=\"opacity: 1; stroke-width: 0px; fill: rgb(255, 127, 14); fill-opacity: 1;\"/><path class=\"point plotly-customdata\" transform=\"translate(248.89,82.95)\" d=\"M3,0A3,3 0 1,1 0,-3A3,3 0 0,1 3,0Z\" style=\"opacity: 1; stroke-width: 0px; fill: rgb(255, 127, 14); fill-opacity: 1;\"/><path class=\"point plotly-customdata\" transform=\"translate(305.77,112.22)\" d=\"M3,0A3,3 0 1,1 0,-3A3,3 0 0,1 3,0Z\" style=\"opacity: 1; stroke-width: 0px; fill: rgb(255, 127, 14); fill-opacity: 1;\"/><path class=\"point plotly-customdata\" transform=\"translate(280.16,110.84)\" d=\"M3,0A3,3 0 1,1 0,-3A3,3 0 0,1 3,0Z\" style=\"opacity: 1; stroke-width: 0px; fill: rgb(255, 127, 14); fill-opacity: 1;\"/><path class=\"point plotly-customdata\" transform=\"translate(23.15,17.85)\" d=\"M3,0A3,3 0 1,1 0,-3A3,3 0 0,1 3,0Z\" style=\"opacity: 1; stroke-width: 0px; fill: rgb(255, 127, 14); fill-opacity: 1;\"/><path class=\"point plotly-customdata\" transform=\"translate(283.55,111.51)\" d=\"M3,0A3,3 0 1,1 0,-3A3,3 0 0,1 3,0Z\" style=\"opacity: 1; stroke-width: 0px; fill: rgb(255, 127, 14); fill-opacity: 1;\"/><path class=\"point plotly-customdata\" transform=\"translate(243.88,77.07)\" d=\"M3,0A3,3 0 1,1 0,-3A3,3 0 0,1 3,0Z\" style=\"opacity: 1; stroke-width: 0px; fill: rgb(255, 127, 14); fill-opacity: 1;\"/><path class=\"point plotly-customdata\" transform=\"translate(296.77,118.6)\" d=\"M3,0A3,3 0 1,1 0,-3A3,3 0 0,1 3,0Z\" style=\"opacity: 1; stroke-width: 0px; fill: rgb(255, 127, 14); fill-opacity: 1;\"/><path class=\"point plotly-customdata\" transform=\"translate(305.67,120.37)\" d=\"M3,0A3,3 0 1,1 0,-3A3,3 0 0,1 3,0Z\" style=\"opacity: 1; stroke-width: 0px; fill: rgb(255, 127, 14); fill-opacity: 1;\"/><path class=\"point plotly-customdata\" transform=\"translate(246.69,112.38)\" d=\"M3,0A3,3 0 1,1 0,-3A3,3 0 0,1 3,0Z\" style=\"opacity: 1; stroke-width: 0px; fill: rgb(255, 127, 14); fill-opacity: 1;\"/><path class=\"point plotly-customdata\" transform=\"translate(249.92,77.79)\" d=\"M3,0A3,3 0 1,1 0,-3A3,3 0 0,1 3,0Z\" style=\"opacity: 1; stroke-width: 0px; fill: rgb(255, 127, 14); fill-opacity: 1;\"/><path class=\"point plotly-customdata\" transform=\"translate(250.77,100.66)\" d=\"M3,0A3,3 0 1,1 0,-3A3,3 0 0,1 3,0Z\" style=\"opacity: 1; stroke-width: 0px; fill: rgb(255, 127, 14); fill-opacity: 1;\"/><path class=\"point plotly-customdata\" transform=\"translate(250.41,61.23)\" d=\"M3,0A3,3 0 1,1 0,-3A3,3 0 0,1 3,0Z\" style=\"opacity: 1; stroke-width: 0px; fill: rgb(255, 127, 14); fill-opacity: 1;\"/><path class=\"point plotly-customdata\" transform=\"translate(328.64,140.67)\" d=\"M3,0A3,3 0 1,1 0,-3A3,3 0 0,1 3,0Z\" style=\"opacity: 1; stroke-width: 0px; fill: rgb(255, 127, 14); fill-opacity: 1;\"/><path class=\"point plotly-customdata\" transform=\"translate(348.59,119.61)\" d=\"M3,0A3,3 0 1,1 0,-3A3,3 0 0,1 3,0Z\" style=\"opacity: 1; stroke-width: 0px; fill: rgb(255, 127, 14); fill-opacity: 1;\"/><path class=\"point plotly-customdata\" transform=\"translate(255.71,138.09)\" d=\"M3,0A3,3 0 1,1 0,-3A3,3 0 0,1 3,0Z\" style=\"opacity: 1; stroke-width: 0px; fill: rgb(255, 127, 14); fill-opacity: 1;\"/><path class=\"point plotly-customdata\" transform=\"translate(301.13,141.02)\" d=\"M3,0A3,3 0 1,1 0,-3A3,3 0 0,1 3,0Z\" style=\"opacity: 1; stroke-width: 0px; fill: rgb(255, 127, 14); fill-opacity: 1;\"/><path class=\"point plotly-customdata\" transform=\"translate(325.56,133.9)\" d=\"M3,0A3,3 0 1,1 0,-3A3,3 0 0,1 3,0Z\" style=\"opacity: 1; stroke-width: 0px; fill: rgb(255, 127, 14); fill-opacity: 1;\"/><path class=\"point plotly-customdata\" transform=\"translate(305.21,115.9)\" d=\"M3,0A3,3 0 1,1 0,-3A3,3 0 0,1 3,0Z\" style=\"opacity: 1; stroke-width: 0px; fill: rgb(255, 127, 14); fill-opacity: 1;\"/><path class=\"point plotly-customdata\" transform=\"translate(318.46,133.93)\" d=\"M3,0A3,3 0 1,1 0,-3A3,3 0 0,1 3,0Z\" style=\"opacity: 1; stroke-width: 0px; fill: rgb(255, 127, 14); fill-opacity: 1;\"/><path class=\"point plotly-customdata\" transform=\"translate(265.38,82.19)\" d=\"M3,0A3,3 0 1,1 0,-3A3,3 0 0,1 3,0Z\" style=\"opacity: 1; stroke-width: 0px; fill: rgb(255, 127, 14); fill-opacity: 1;\"/><path class=\"point plotly-customdata\" transform=\"translate(239.93,135)\" d=\"M3,0A3,3 0 1,1 0,-3A3,3 0 0,1 3,0Z\" style=\"opacity: 1; stroke-width: 0px; fill: rgb(255, 127, 14); fill-opacity: 1;\"/><path class=\"point plotly-customdata\" transform=\"translate(264.74,135.9)\" d=\"M3,0A3,3 0 1,1 0,-3A3,3 0 0,1 3,0Z\" style=\"opacity: 1; stroke-width: 0px; fill: rgb(255, 127, 14); fill-opacity: 1;\"/><path class=\"point plotly-customdata\" transform=\"translate(298.44,99.16)\" d=\"M3,0A3,3 0 1,1 0,-3A3,3 0 0,1 3,0Z\" style=\"opacity: 1; stroke-width: 0px; fill: rgb(255, 127, 14); fill-opacity: 1;\"/><path class=\"point plotly-customdata\" transform=\"translate(248.23,64.42)\" d=\"M3,0A3,3 0 1,1 0,-3A3,3 0 0,1 3,0Z\" style=\"opacity: 1; stroke-width: 0px; fill: rgb(255, 127, 14); fill-opacity: 1;\"/><path class=\"point plotly-customdata\" transform=\"translate(221.39,148.45)\" d=\"M3,0A3,3 0 1,1 0,-3A3,3 0 0,1 3,0Z\" style=\"opacity: 1; stroke-width: 0px; fill: rgb(255, 127, 14); fill-opacity: 1;\"/><path class=\"point plotly-customdata\" transform=\"translate(261.69,101.69)\" d=\"M3,0A3,3 0 1,1 0,-3A3,3 0 0,1 3,0Z\" style=\"opacity: 1; stroke-width: 0px; fill: rgb(255, 127, 14); fill-opacity: 1;\"/><path class=\"point plotly-customdata\" transform=\"translate(299.53,154.22)\" d=\"M3,0A3,3 0 1,1 0,-3A3,3 0 0,1 3,0Z\" style=\"opacity: 1; stroke-width: 0px; fill: rgb(255, 127, 14); fill-opacity: 1;\"/><path class=\"point plotly-customdata\" transform=\"translate(287.42,121.45)\" d=\"M3,0A3,3 0 1,1 0,-3A3,3 0 0,1 3,0Z\" style=\"opacity: 1; stroke-width: 0px; fill: rgb(255, 127, 14); fill-opacity: 1;\"/><path class=\"point plotly-customdata\" transform=\"translate(266.28,84.25)\" d=\"M3,0A3,3 0 1,1 0,-3A3,3 0 0,1 3,0Z\" style=\"opacity: 1; stroke-width: 0px; fill: rgb(255, 127, 14); fill-opacity: 1;\"/><path class=\"point plotly-customdata\" transform=\"translate(286.05,107.17)\" d=\"M3,0A3,3 0 1,1 0,-3A3,3 0 0,1 3,0Z\" style=\"opacity: 1; stroke-width: 0px; fill: rgb(255, 127, 14); fill-opacity: 1;\"/><path class=\"point plotly-customdata\" transform=\"translate(234.3,121.34)\" d=\"M3,0A3,3 0 1,1 0,-3A3,3 0 0,1 3,0Z\" style=\"opacity: 1; stroke-width: 0px; fill: rgb(255, 127, 14); fill-opacity: 1;\"/><path class=\"point plotly-customdata\" transform=\"translate(236.94,94.96)\" d=\"M3,0A3,3 0 1,1 0,-3A3,3 0 0,1 3,0Z\" style=\"opacity: 1; stroke-width: 0px; fill: rgb(255, 127, 14); fill-opacity: 1;\"/><path class=\"point plotly-customdata\" transform=\"translate(250.4,51.37)\" d=\"M3,0A3,3 0 1,1 0,-3A3,3 0 0,1 3,0Z\" style=\"opacity: 1; stroke-width: 0px; fill: rgb(255, 127, 14); fill-opacity: 1;\"/><path class=\"point plotly-customdata\" transform=\"translate(348.28,179.17)\" d=\"M3,0A3,3 0 1,1 0,-3A3,3 0 0,1 3,0Z\" style=\"opacity: 1; stroke-width: 0px; fill: rgb(255, 127, 14); fill-opacity: 1;\"/><path class=\"point plotly-customdata\" transform=\"translate(275.22,96.74)\" d=\"M3,0A3,3 0 1,1 0,-3A3,3 0 0,1 3,0Z\" style=\"opacity: 1; stroke-width: 0px; fill: rgb(255, 127, 14); fill-opacity: 1;\"/><path class=\"point plotly-customdata\" transform=\"translate(23.15,17.85)\" d=\"M3,0A3,3 0 1,1 0,-3A3,3 0 0,1 3,0Z\" style=\"opacity: 1; stroke-width: 0px; fill: rgb(255, 127, 14); fill-opacity: 1;\"/><path class=\"point plotly-customdata\" transform=\"translate(288.4,140.21)\" d=\"M3,0A3,3 0 1,1 0,-3A3,3 0 0,1 3,0Z\" style=\"opacity: 1; stroke-width: 0px; fill: rgb(255, 127, 14); fill-opacity: 1;\"/><path class=\"point plotly-customdata\" transform=\"translate(270.84,84.45)\" d=\"M3,0A3,3 0 1,1 0,-3A3,3 0 0,1 3,0Z\" style=\"opacity: 1; stroke-width: 0px; fill: rgb(255, 127, 14); fill-opacity: 1;\"/><path class=\"point plotly-customdata\" transform=\"translate(309.05,108.65)\" d=\"M3,0A3,3 0 1,1 0,-3A3,3 0 0,1 3,0Z\" style=\"opacity: 1; stroke-width: 0px; fill: rgb(255, 127, 14); fill-opacity: 1;\"/><path class=\"point plotly-customdata\" transform=\"translate(314.42,124.4)\" d=\"M3,0A3,3 0 1,1 0,-3A3,3 0 0,1 3,0Z\" style=\"opacity: 1; stroke-width: 0px; fill: rgb(255, 127, 14); fill-opacity: 1;\"/><path class=\"point plotly-customdata\" transform=\"translate(227.24,129.37)\" d=\"M3,0A3,3 0 1,1 0,-3A3,3 0 0,1 3,0Z\" style=\"opacity: 1; stroke-width: 0px; fill: rgb(255, 127, 14); fill-opacity: 1;\"/><path class=\"point plotly-customdata\" transform=\"translate(297.18,110.87)\" d=\"M3,0A3,3 0 1,1 0,-3A3,3 0 0,1 3,0Z\" style=\"opacity: 1; stroke-width: 0px; fill: rgb(255, 127, 14); fill-opacity: 1;\"/><path class=\"point plotly-customdata\" transform=\"translate(328.23,165.86)\" d=\"M3,0A3,3 0 1,1 0,-3A3,3 0 0,1 3,0Z\" style=\"opacity: 1; stroke-width: 0px; fill: rgb(255, 127, 14); fill-opacity: 1;\"/><path class=\"point plotly-customdata\" transform=\"translate(262.97,141.16)\" d=\"M3,0A3,3 0 1,1 0,-3A3,3 0 0,1 3,0Z\" style=\"opacity: 1; stroke-width: 0px; fill: rgb(255, 127, 14); fill-opacity: 1;\"/><path class=\"point plotly-customdata\" transform=\"translate(281.99,118.63)\" d=\"M3,0A3,3 0 1,1 0,-3A3,3 0 0,1 3,0Z\" style=\"opacity: 1; stroke-width: 0px; fill: rgb(255, 127, 14); fill-opacity: 1;\"/><path class=\"point plotly-customdata\" transform=\"translate(295.25,158.68)\" d=\"M3,0A3,3 0 1,1 0,-3A3,3 0 0,1 3,0Z\" style=\"opacity: 1; stroke-width: 0px; fill: rgb(255, 127, 14); fill-opacity: 1;\"/><path class=\"point plotly-customdata\" transform=\"translate(250.3,77.89)\" d=\"M3,0A3,3 0 1,1 0,-3A3,3 0 0,1 3,0Z\" style=\"opacity: 1; stroke-width: 0px; fill: rgb(255, 127, 14); fill-opacity: 1;\"/><path class=\"point plotly-customdata\" transform=\"translate(249.75,113.36)\" d=\"M3,0A3,3 0 1,1 0,-3A3,3 0 0,1 3,0Z\" style=\"opacity: 1; stroke-width: 0px; fill: rgb(255, 127, 14); fill-opacity: 1;\"/><path class=\"point plotly-customdata\" transform=\"translate(292.24,114.36)\" d=\"M3,0A3,3 0 1,1 0,-3A3,3 0 0,1 3,0Z\" style=\"opacity: 1; stroke-width: 0px; fill: rgb(255, 127, 14); fill-opacity: 1;\"/><path class=\"point plotly-customdata\" transform=\"translate(286.9,99.28)\" d=\"M3,0A3,3 0 1,1 0,-3A3,3 0 0,1 3,0Z\" style=\"opacity: 1; stroke-width: 0px; fill: rgb(255, 127, 14); fill-opacity: 1;\"/><path class=\"point plotly-customdata\" transform=\"translate(291.46,198.88)\" d=\"M3,0A3,3 0 1,1 0,-3A3,3 0 0,1 3,0Z\" style=\"opacity: 1; stroke-width: 0px; fill: rgb(255, 127, 14); fill-opacity: 1;\"/><path class=\"point plotly-customdata\" transform=\"translate(246.14,77.27)\" d=\"M3,0A3,3 0 1,1 0,-3A3,3 0 0,1 3,0Z\" style=\"opacity: 1; stroke-width: 0px; fill: rgb(255, 127, 14); fill-opacity: 1;\"/></g><g class=\"text\"/></g></g></g><g class=\"overplot\"/><path class=\"xlines-above crisp\" d=\"M72,292.5H461\" style=\"fill: none; stroke-width: 1px; stroke: rgb(36, 36, 36); stroke-opacity: 1;\"/><path class=\"ylines-above crisp\" d=\"M72.5,10V292\" style=\"fill: none; stroke-width: 1px; stroke: rgb(36, 36, 36); stroke-opacity: 1;\"/><g class=\"overlines-above\"/><g class=\"xaxislayer-above\"><path class=\"xtick ticks crisp\" d=\"M0,293v5\" transform=\"translate(115.33,0)\" style=\"stroke: rgb(68, 68, 68); stroke-opacity: 1; stroke-width: 1px;\"/><path class=\"xtick ticks crisp\" d=\"M0,293v5\" transform=\"translate(184.47,0)\" style=\"stroke: rgb(68, 68, 68); stroke-opacity: 1; stroke-width: 1px;\"/><path class=\"xtick ticks crisp\" d=\"M0,293v5\" transform=\"translate(253.61,0)\" style=\"stroke: rgb(68, 68, 68); stroke-opacity: 1; stroke-width: 1px;\"/><path class=\"xtick ticks crisp\" d=\"M0,293v5\" transform=\"translate(322.75,0)\" style=\"stroke: rgb(68, 68, 68); stroke-opacity: 1; stroke-width: 1px;\"/><path class=\"xtick ticks crisp\" d=\"M0,293v5\" transform=\"translate(391.9,0)\" style=\"stroke: rgb(68, 68, 68); stroke-opacity: 1; stroke-width: 1px;\"/><path class=\"xtick ticks crisp\" d=\"M0,293v5\" transform=\"translate(461.04,0)\" style=\"stroke: rgb(68, 68, 68); stroke-opacity: 1; stroke-width: 1px;\"/><g class=\"xtick\"><text text-anchor=\"middle\" x=\"0\" y=\"312.4\" transform=\"translate(115.33,0)\" style=\"font-family: 'Open Sans', verdana, arial, sans-serif; font-size: 12px; fill: rgb(36, 36, 36); fill-opacity: 1; white-space: pre; opacity: 1;\">−0.6</text></g><g class=\"xtick\"><text text-anchor=\"middle\" x=\"0\" y=\"312.4\" style=\"font-family: 'Open Sans', verdana, arial, sans-serif; font-size: 12px; fill: rgb(36, 36, 36); fill-opacity: 1; white-space: pre; opacity: 1;\" transform=\"translate(184.47,0)\">−0.4</text></g><g class=\"xtick\"><text text-anchor=\"middle\" x=\"0\" y=\"312.4\" style=\"font-family: 'Open Sans', verdana, arial, sans-serif; font-size: 12px; fill: rgb(36, 36, 36); fill-opacity: 1; white-space: pre; opacity: 1;\" transform=\"translate(253.61,0)\">−0.2</text></g><g class=\"xtick\"><text text-anchor=\"middle\" x=\"0\" y=\"312.4\" style=\"font-family: 'Open Sans', verdana, arial, sans-serif; font-size: 12px; fill: rgb(36, 36, 36); fill-opacity: 1; white-space: pre; opacity: 1;\" transform=\"translate(322.75,0)\">0</text></g><g class=\"xtick\"><text text-anchor=\"middle\" x=\"0\" y=\"312.4\" style=\"font-family: 'Open Sans', verdana, arial, sans-serif; font-size: 12px; fill: rgb(36, 36, 36); fill-opacity: 1; white-space: pre; opacity: 1;\" transform=\"translate(391.9,0)\">0.2</text></g><g class=\"xtick\"><text text-anchor=\"middle\" x=\"0\" y=\"312.4\" style=\"font-family: 'Open Sans', verdana, arial, sans-serif; font-size: 12px; fill: rgb(36, 36, 36); fill-opacity: 1; white-space: pre; opacity: 1;\" transform=\"translate(461.04,0)\">0.4</text></g></g><g class=\"yaxislayer-above\"><path class=\"ytick ticks crisp\" d=\"M72,0h-5\" transform=\"translate(0,280.18)\" style=\"stroke: rgb(68, 68, 68); stroke-opacity: 1; stroke-width: 1px;\"/><path class=\"ytick ticks crisp\" d=\"M72,0h-5\" transform=\"translate(0,232.15)\" style=\"stroke: rgb(68, 68, 68); stroke-opacity: 1; stroke-width: 1px;\"/><path class=\"ytick ticks crisp\" d=\"M72,0h-5\" transform=\"translate(0,184.13)\" style=\"stroke: rgb(68, 68, 68); stroke-opacity: 1; stroke-width: 1px;\"/><path class=\"ytick ticks crisp\" d=\"M72,0h-5\" transform=\"translate(0,136.11)\" style=\"stroke: rgb(68, 68, 68); stroke-opacity: 1; stroke-width: 1px;\"/><path class=\"ytick ticks crisp\" d=\"M72,0h-5\" transform=\"translate(0,88.08)\" style=\"stroke: rgb(68, 68, 68); stroke-opacity: 1; stroke-width: 1px;\"/><path class=\"ytick ticks crisp\" d=\"M72,0h-5\" transform=\"translate(0,40.06)\" style=\"stroke: rgb(68, 68, 68); stroke-opacity: 1; stroke-width: 1px;\"/><g class=\"ytick\"><text text-anchor=\"end\" x=\"64.6\" y=\"4.199999999999999\" transform=\"translate(0,280.18)\" style=\"font-family: 'Open Sans', verdana, arial, sans-serif; font-size: 12px; fill: rgb(36, 36, 36); fill-opacity: 1; white-space: pre; opacity: 1;\">−0.6</text></g><g class=\"ytick\"><text text-anchor=\"end\" x=\"64.6\" y=\"4.199999999999999\" style=\"font-family: 'Open Sans', verdana, arial, sans-serif; font-size: 12px; fill: rgb(36, 36, 36); fill-opacity: 1; white-space: pre; opacity: 1;\" transform=\"translate(0,232.15)\">−0.4</text></g><g class=\"ytick\"><text text-anchor=\"end\" x=\"64.6\" y=\"4.199999999999999\" style=\"font-family: 'Open Sans', verdana, arial, sans-serif; font-size: 12px; fill: rgb(36, 36, 36); fill-opacity: 1; white-space: pre; opacity: 1;\" transform=\"translate(0,184.13)\">−0.2</text></g><g class=\"ytick\"><text text-anchor=\"end\" x=\"64.6\" y=\"4.199999999999999\" style=\"font-family: 'Open Sans', verdana, arial, sans-serif; font-size: 12px; fill: rgb(36, 36, 36); fill-opacity: 1; white-space: pre; opacity: 1;\" transform=\"translate(0,136.11)\">0</text></g><g class=\"ytick\"><text text-anchor=\"end\" x=\"64.6\" y=\"4.199999999999999\" style=\"font-family: 'Open Sans', verdana, arial, sans-serif; font-size: 12px; fill: rgb(36, 36, 36); fill-opacity: 1; white-space: pre; opacity: 1;\" transform=\"translate(0,88.08)\">0.2</text></g><g class=\"ytick\"><text text-anchor=\"end\" x=\"64.6\" y=\"4.199999999999999\" style=\"font-family: 'Open Sans', verdana, arial, sans-serif; font-size: 12px; fill: rgb(36, 36, 36); fill-opacity: 1; white-space: pre; opacity: 1;\" transform=\"translate(0,40.06)\">0.4</text></g></g><g class=\"overaxes-above\"/></g></g><g class=\"polarlayer\"/><g class=\"smithlayer\"/><g class=\"ternarylayer\"/><g class=\"geolayer\"/><g class=\"funnelarealayer\"/><g class=\"pielayer\"/><g class=\"iciclelayer\"/><g class=\"treemaplayer\"/><g class=\"sunburstlayer\"/><g class=\"glimages\"/><defs id=\"topdefs-6bff25\"><g class=\"clips\"/><clipPath id=\"legend6bff25\"><rect width=\"71\" height=\"67\" x=\"0\" y=\"0\"/></clipPath></defs><g class=\"layer-above\"><g class=\"imagelayer\"/><g class=\"shapelayer\"/></g><g class=\"infolayer\"><g class=\"legend\" pointer-events=\"all\" transform=\"translate(468.76,10)\"><rect class=\"bg\" shape-rendering=\"crispEdges\" style=\"stroke: rgb(68, 68, 68); stroke-opacity: 1; fill: rgb(255, 255, 255); fill-opacity: 1; stroke-width: 0px;\" width=\"71\" height=\"67\" x=\"0\" y=\"0\"/><g class=\"scrollbox\" transform=\"\" clip-path=\"url(#legend6bff25)\"><text class=\"legendtitletext\" text-anchor=\"start\" x=\"2\" y=\"18.2\" style=\"font-family: 'Open Sans', verdana, arial, sans-serif; font-size: 14px; fill: rgb(36, 36, 36); fill-opacity: 1; white-space: pre;\">label</text><g class=\"groups\" transform=\"\"><g class=\"traces\" transform=\"translate(0,32.7)\" style=\"opacity: 1;\"><text class=\"legendtext\" text-anchor=\"start\" x=\"40\" y=\"4.680000000000001\" style=\"font-family: 'Open Sans', verdana, arial, sans-serif; font-size: 12px; fill: rgb(36, 36, 36); fill-opacity: 1; white-space: pre;\">real</text><g class=\"layers\" style=\"opacity: 1;\"><g class=\"legendfill\"/><g class=\"legendlines\"/><g class=\"legendsymbols\"><g class=\"legendpoints\"><path class=\"scatterpts\" transform=\"translate(20,0)\" d=\"M3,0A3,3 0 1,1 0,-3A3,3 0 0,1 3,0Z\" style=\"opacity: 1; stroke-width: 0px; fill: rgb(31, 119, 180); fill-opacity: 1;\"/></g></g></g><rect class=\"legendtoggle\" x=\"0\" y=\"-9.5\" width=\"65.6875\" height=\"19\" style=\"fill: rgb(0, 0, 0); fill-opacity: 0;\"/></g></g><g class=\"groups\" transform=\"\"><g class=\"traces\" transform=\"translate(0,51.7)\" style=\"opacity: 1;\"><text class=\"legendtext\" text-anchor=\"start\" x=\"40\" y=\"4.680000000000001\" style=\"font-family: 'Open Sans', verdana, arial, sans-serif; font-size: 12px; fill: rgb(36, 36, 36); fill-opacity: 1; white-space: pre;\">fake</text><g class=\"layers\" style=\"opacity: 1;\"><g class=\"legendfill\"/><g class=\"legendlines\"/><g class=\"legendsymbols\"><g class=\"legendpoints\"><path class=\"scatterpts\" transform=\"translate(20,0)\" d=\"M3,0A3,3 0 1,1 0,-3A3,3 0 0,1 3,0Z\" style=\"opacity: 1; stroke-width: 0px; fill: rgb(255, 127, 14); fill-opacity: 1;\"/></g></g></g><rect class=\"legendtoggle\" x=\"0\" y=\"-9.5\" width=\"65.6875\" height=\"19\" style=\"fill: rgb(0, 0, 0); fill-opacity: 0;\"/></g></g></g><rect class=\"scrollbar\" rx=\"20\" ry=\"3\" width=\"0\" height=\"0\" style=\"fill: rgb(128, 139, 164); fill-opacity: 1;\" x=\"0\" y=\"0\"/></g><g class=\"g-gtitle\"/><g class=\"g-xtitle\"><text class=\"xtitle\" x=\"267\" y=\"339.70625\" text-anchor=\"middle\" style=\"font-family: 'Open Sans', verdana, arial, sans-serif; font-size: 14px; fill: rgb(36, 36, 36); opacity: 1; font-weight: normal; white-space: pre;\">pc1</text></g><g class=\"g-ytitle\" transform=\"translate(3.6435546875,0)\"><text class=\"ytitle\" transform=\"rotate(-90,10.356250000000003,151)\" x=\"10.356250000000003\" y=\"151\" text-anchor=\"middle\" style=\"font-family: 'Open Sans', verdana, arial, sans-serif; font-size: 14px; fill: rgb(36, 36, 36); opacity: 1; font-weight: normal; white-space: pre;\">pc2</text></g></g></svg>"
      ]
     },
     "metadata": {},
     "output_type": "display_data"
    }
   ],
   "source": [
    "fig = px.scatter(with_pcs1, x='pc1', y='pc2',\n",
    "                 color='label',\n",
    "                 hover_data=['baseurl'],\n",
    "                 width=550, height=350)\n",
    "fig"
   ]
  },
  {
   "cell_type": "markdown",
   "id": "dd8c22bf-1e1c-4a22-b396-400375ef6bb0",
   "metadata": {},
   "source": [
    "## log reg using tf-idf"
   ]
  },
  {
   "cell_type": "code",
   "execution_count": 7,
   "id": "284b0c19-8642-42a3-b8a1-e9b18518e083",
   "metadata": {},
   "outputs": [],
   "source": [
    "from sklearn.pipeline import make_pipeline\n",
    "from sklearn.compose import make_column_transformer\n",
    "from sklearn.linear_model import LogisticRegression, LogisticRegressionCV"
   ]
  },
  {
   "cell_type": "code",
   "execution_count": 8,
   "id": "c87891c5-66d6-40ed-909b-3c4cf28e784e",
   "metadata": {},
   "outputs": [
    {
     "data": {
      "text/html": [
       "<div>\n",
       "<style scoped>\n",
       "    .dataframe tbody tr th:only-of-type {\n",
       "        vertical-align: middle;\n",
       "    }\n",
       "\n",
       "    .dataframe tbody tr th {\n",
       "        vertical-align: top;\n",
       "    }\n",
       "\n",
       "    .dataframe thead th {\n",
       "        text-align: right;\n",
       "    }\n",
       "</style>\n",
       "<table border=\"1\" class=\"dataframe\">\n",
       "  <thead>\n",
       "    <tr style=\"text-align: right;\">\n",
       "      <th></th>\n",
       "      <th>baseurl</th>\n",
       "      <th>content</th>\n",
       "    </tr>\n",
       "  </thead>\n",
       "  <tbody>\n",
       "    <tr>\n",
       "      <th>529</th>\n",
       "      <td>twitter.com</td>\n",
       "      <td>\\njavascript is not available.\\n\\nwe’ve detect...</td>\n",
       "    </tr>\n",
       "    <tr>\n",
       "      <th>596</th>\n",
       "      <td>whitehouse.gov</td>\n",
       "      <td>remarks by the president at campaign event -- ...</td>\n",
       "    </tr>\n",
       "    <tr>\n",
       "      <th>396</th>\n",
       "      <td>web.archive.org</td>\n",
       "      <td>the committee on energy and commerce\\nbarton: ...</td>\n",
       "    </tr>\n",
       "    <tr>\n",
       "      <th>...</th>\n",
       "      <td>...</td>\n",
       "      <td>...</td>\n",
       "    </tr>\n",
       "    <tr>\n",
       "      <th>270</th>\n",
       "      <td>politico.com</td>\n",
       "      <td>full text: jeff flake on trump speech transcri...</td>\n",
       "    </tr>\n",
       "    <tr>\n",
       "      <th>435</th>\n",
       "      <td>pol.moveon.org</td>\n",
       "      <td>moveon.org political action: 10 things to know...</td>\n",
       "    </tr>\n",
       "    <tr>\n",
       "      <th>102</th>\n",
       "      <td>uspostman.com</td>\n",
       "      <td>uspostman.com is for sale\\nyes, you can transf...</td>\n",
       "    </tr>\n",
       "  </tbody>\n",
       "</table>\n",
       "<p>661 rows × 2 columns</p>\n",
       "</div>"
      ],
      "text/plain": [
       "             baseurl                                            content\n",
       "529      twitter.com  \\njavascript is not available.\\n\\nwe’ve detect...\n",
       "596   whitehouse.gov  remarks by the president at campaign event -- ...\n",
       "396  web.archive.org  the committee on energy and commerce\\nbarton: ...\n",
       "..               ...                                                ...\n",
       "270     politico.com  full text: jeff flake on trump speech transcri...\n",
       "435   pol.moveon.org  moveon.org political action: 10 things to know...\n",
       "102    uspostman.com  uspostman.com is for sale\\nyes, you can transf...\n",
       "\n",
       "[661 rows x 2 columns]"
      ]
     },
     "execution_count": 8,
     "metadata": {},
     "output_type": "execute_result"
    }
   ],
   "source": [
    "X_train"
   ]
  },
  {
   "cell_type": "code",
   "execution_count": 25,
   "id": "4d524320-ebd6-4d5e-9c10-c8a82a55f264",
   "metadata": {},
   "outputs": [],
   "source": [
    "clf = make_pipeline(\n",
    "    make_column_transformer((tfidf, 'content')),\n",
    "    LogisticRegressionCV(Cs=10,\n",
    "                         solver='saga',\n",
    "                         n_jobs=4,\n",
    "                         max_iter=1000),\n",
    ")"
   ]
  },
  {
   "cell_type": "markdown",
   "id": "658c9917-0e99-48f7-9fbb-d93ce145b712",
   "metadata": {},
   "source": [
    "takes about 30 seconds to run:"
   ]
  },
  {
   "cell_type": "code",
   "execution_count": 26,
   "id": "39cd92ff-dd44-412f-96aa-2e104776fd67",
   "metadata": {},
   "outputs": [
    {
     "name": "stdout",
     "output_type": "stream",
     "text": [
      "CPU times: user 35.6 s, sys: 200 ms, total: 35.8 s\n",
      "Wall time: 25.2 s\n"
     ]
    },
    {
     "data": {
      "text/plain": [
       "0.9036144578313253"
      ]
     },
     "execution_count": 26,
     "metadata": {},
     "output_type": "execute_result"
    }
   ],
   "source": [
    "%%time\n",
    "\n",
    "clf.fit(X_train, y_train)\n",
    "clf.score(X_test, y_test)"
   ]
  },
  {
   "cell_type": "markdown",
   "id": "51523255-dd63-46f8-9f1a-75a4167f3c17",
   "metadata": {},
   "source": [
    "confusion matrix"
   ]
  },
  {
   "cell_type": "code",
   "execution_count": 30,
   "id": "38716ac9-b3a7-4fec-af20-d011b6760eb5",
   "metadata": {},
   "outputs": [
    {
     "data": {
      "image/svg+xml": [
       "<?xml version=\"1.0\" encoding=\"utf-8\" standalone=\"no\"?>\n",
       "<!DOCTYPE svg PUBLIC \"-//W3C//DTD SVG 1.1//EN\"\n",
       "  \"http://www.w3.org/Graphics/SVG/1.1/DTD/svg11.dtd\">\n",
       "<!-- Created with matplotlib (https://matplotlib.org/) -->\n",
       "<svg height=\"206.770625pt\" version=\"1.1\" viewBox=\"0 0 253.961187 206.770625\" width=\"253.961187pt\" xmlns=\"http://www.w3.org/2000/svg\" xmlns:xlink=\"http://www.w3.org/1999/xlink\">\n",
       " <metadata>\n",
       "  <rdf:RDF xmlns:cc=\"http://creativecommons.org/ns#\" xmlns:dc=\"http://purl.org/dc/elements/1.1/\" xmlns:rdf=\"http://www.w3.org/1999/02/22-rdf-syntax-ns#\">\n",
       "   <cc:Work>\n",
       "    <dc:type rdf:resource=\"http://purl.org/dc/dcmitype/StillImage\"/>\n",
       "    <dc:date>2022-12-15T15:48:03.388247</dc:date>\n",
       "    <dc:format>image/svg+xml</dc:format>\n",
       "    <dc:creator>\n",
       "     <cc:Agent>\n",
       "      <dc:title>Matplotlib v3.3.4, https://matplotlib.org/</dc:title>\n",
       "     </cc:Agent>\n",
       "    </dc:creator>\n",
       "   </cc:Work>\n",
       "  </rdf:RDF>\n",
       " </metadata>\n",
       " <defs>\n",
       "  <style type=\"text/css\">*{stroke-linecap:butt;stroke-linejoin:round;}</style>\n",
       " </defs>\n",
       " <g id=\"figure_1\">\n",
       "  <g id=\"patch_1\">\n",
       "   <path d=\"M 0 206.770625 \n",
       "L 253.961187 206.770625 \n",
       "L 253.961187 0 \n",
       "L 0 0 \n",
       "z\n",
       "\" style=\"fill:#ffffff;\"/>\n",
       "  </g>\n",
       "  <g id=\"axes_1\">\n",
       "   <g id=\"patch_2\">\n",
       "    <path d=\"M 46.245313 170.28 \n",
       "L 209.325313 170.28 \n",
       "L 209.325313 7.2 \n",
       "L 46.245313 7.2 \n",
       "z\n",
       "\" style=\"fill:#ffffff;\"/>\n",
       "   </g>\n",
       "   <g clip-path=\"url(#pae4a7bfb00)\">\n",
       "    <image height=\"164\" id=\"imagedaa7c7ec89\" transform=\"scale(1 -1)translate(0 -164)\" width=\"164\" x=\"46.245313\" xlink:href=\"data:image/png;base64,\n",
       "iVBORw0KGgoAAAANSUhEUgAAAKQAAACkCAYAAAAZtYVBAAAB8UlEQVR4nO3UoRECQQAEQR6FJRMCICM8gXxSxEIECMRh3yNu6qo7ghVTu32+Y5z42/X+nD1hCefZA+BIkKQIkhRBkiJIUgRJiiBJESQpgiRFkKQIkhRBkiJIUgRJiiBJESQpgiRFkKQIkhRBkiJIUgRJiiBJESQpgiRFkKQIkhRBkiJIUgRJiiBJESQpgiRFkKQIkhRBkiJIUgRJiiBJESQpgiRFkKQIkhRBkiJIUgRJiiBJESQpgiRFkKQIkhRBkiJIUgRJiiBJESQpgiRFkKQIkhRBkiJIUgRJiiBJESQpgiRFkKQIkhRBkiJIUgRJiiBJESQpgiRFkKQIkhRBkiJIUgRJiiBJESQpgiRlu9weY/aIFbxf++wJS/CQpAiSFEGSIkhSBEmKIEkRJCmCJEWQpAiSFEGSIkhSBEmKIEkRJCmCJEWQpAiSFEGSIkhSBEmKIEkRJCmCJEWQpAiSFEGSIkhSBEmKIEkRJCmCJEWQpAiSFEGSIkhSBEmKIEkRJCmCJEWQpAiSFEGSIkhSBEmKIEkRJCmCJEWQpAiSFEGSIkhSBEmKIEkRJCmCJEWQpAiSFEGSIkhSBEmKIEkRJCmCJEWQpAiSFEGSIkhSBEmKIEkRJCmCJEWQpAiSFEGSIkhSBEmKIEkRJCmCJEWQpPwA0uQJ3nrP4a4AAAAASUVORK5CYII=\" y=\"-6.28\"/>\n",
       "   </g>\n",
       "   <g id=\"matplotlib.axis_1\">\n",
       "    <g id=\"xtick_1\">\n",
       "     <g id=\"text_1\">\n",
       "      <!-- fake -->\n",
       "      <g style=\"fill:#262626;\" transform=\"translate(77.565313 184.437813)scale(0.1 -0.1)\">\n",
       "       <defs>\n",
       "        <path d=\"M 8.6875 0 \n",
       "L 8.6875 45.015625 \n",
       "L 0.921875 45.015625 \n",
       "L 0.921875 51.859375 \n",
       "L 8.6875 51.859375 \n",
       "L 8.6875 57.375 \n",
       "Q 8.6875 62.59375 9.625 65.140625 \n",
       "Q 10.890625 68.5625 14.078125 70.671875 \n",
       "Q 17.28125 72.796875 23.046875 72.796875 \n",
       "Q 26.765625 72.796875 31.25 71.921875 \n",
       "L 29.9375 64.265625 \n",
       "Q 27.203125 64.75 24.75 64.75 \n",
       "Q 20.75 64.75 19.09375 63.03125 \n",
       "Q 17.4375 61.328125 17.4375 56.640625 \n",
       "L 17.4375 51.859375 \n",
       "L 27.546875 51.859375 \n",
       "L 27.546875 45.015625 \n",
       "L 17.4375 45.015625 \n",
       "L 17.4375 0 \n",
       "z\n",
       "\" id=\"ArialMT-102\"/>\n",
       "        <path d=\"M 40.4375 6.390625 \n",
       "Q 35.546875 2.25 31.03125 0.53125 \n",
       "Q 26.515625 -1.171875 21.34375 -1.171875 \n",
       "Q 12.796875 -1.171875 8.203125 3 \n",
       "Q 3.609375 7.171875 3.609375 13.671875 \n",
       "Q 3.609375 17.484375 5.34375 20.625 \n",
       "Q 7.078125 23.78125 9.890625 25.6875 \n",
       "Q 12.703125 27.59375 16.21875 28.5625 \n",
       "Q 18.796875 29.25 24.03125 29.890625 \n",
       "Q 34.671875 31.15625 39.703125 32.90625 \n",
       "Q 39.75 34.71875 39.75 35.203125 \n",
       "Q 39.75 40.578125 37.25 42.78125 \n",
       "Q 33.890625 45.75 27.25 45.75 \n",
       "Q 21.046875 45.75 18.09375 43.578125 \n",
       "Q 15.140625 41.40625 13.71875 35.890625 \n",
       "L 5.125 37.0625 \n",
       "Q 6.296875 42.578125 8.984375 45.96875 \n",
       "Q 11.671875 49.359375 16.75 51.1875 \n",
       "Q 21.828125 53.03125 28.515625 53.03125 \n",
       "Q 35.15625 53.03125 39.296875 51.46875 \n",
       "Q 43.453125 49.90625 45.40625 47.53125 \n",
       "Q 47.359375 45.171875 48.140625 41.546875 \n",
       "Q 48.578125 39.3125 48.578125 33.453125 \n",
       "L 48.578125 21.734375 \n",
       "Q 48.578125 9.46875 49.140625 6.21875 \n",
       "Q 49.703125 2.984375 51.375 0 \n",
       "L 42.1875 0 \n",
       "Q 40.828125 2.734375 40.4375 6.390625 \n",
       "z\n",
       "M 39.703125 26.03125 \n",
       "Q 34.90625 24.078125 25.34375 22.703125 \n",
       "Q 19.921875 21.921875 17.671875 20.9375 \n",
       "Q 15.4375 19.96875 14.203125 18.09375 \n",
       "Q 12.984375 16.21875 12.984375 13.921875 \n",
       "Q 12.984375 10.40625 15.640625 8.0625 \n",
       "Q 18.3125 5.71875 23.4375 5.71875 \n",
       "Q 28.515625 5.71875 32.46875 7.9375 \n",
       "Q 36.421875 10.15625 38.28125 14.015625 \n",
       "Q 39.703125 17 39.703125 22.796875 \n",
       "z\n",
       "\" id=\"ArialMT-97\"/>\n",
       "        <path d=\"M 6.640625 0 \n",
       "L 6.640625 71.578125 \n",
       "L 15.4375 71.578125 \n",
       "L 15.4375 30.765625 \n",
       "L 36.234375 51.859375 \n",
       "L 47.609375 51.859375 \n",
       "L 27.78125 32.625 \n",
       "L 49.609375 0 \n",
       "L 38.765625 0 \n",
       "L 21.625 26.515625 \n",
       "L 15.4375 20.5625 \n",
       "L 15.4375 0 \n",
       "z\n",
       "\" id=\"ArialMT-107\"/>\n",
       "        <path d=\"M 42.09375 16.703125 \n",
       "L 51.171875 15.578125 \n",
       "Q 49.03125 7.625 43.21875 3.21875 \n",
       "Q 37.40625 -1.171875 28.375 -1.171875 \n",
       "Q 17 -1.171875 10.328125 5.828125 \n",
       "Q 3.65625 12.84375 3.65625 25.484375 \n",
       "Q 3.65625 38.578125 10.390625 45.796875 \n",
       "Q 17.140625 53.03125 27.875 53.03125 \n",
       "Q 38.28125 53.03125 44.875 45.953125 \n",
       "Q 51.46875 38.875 51.46875 26.03125 \n",
       "Q 51.46875 25.25 51.421875 23.6875 \n",
       "L 12.75 23.6875 \n",
       "Q 13.234375 15.140625 17.578125 10.59375 \n",
       "Q 21.921875 6.0625 28.421875 6.0625 \n",
       "Q 33.25 6.0625 36.671875 8.59375 \n",
       "Q 40.09375 11.140625 42.09375 16.703125 \n",
       "z\n",
       "M 13.234375 30.90625 \n",
       "L 42.1875 30.90625 \n",
       "Q 41.609375 37.453125 38.875 40.71875 \n",
       "Q 34.671875 45.796875 27.984375 45.796875 \n",
       "Q 21.921875 45.796875 17.796875 41.75 \n",
       "Q 13.671875 37.703125 13.234375 30.90625 \n",
       "z\n",
       "\" id=\"ArialMT-101\"/>\n",
       "       </defs>\n",
       "       <use xlink:href=\"#ArialMT-102\"/>\n",
       "       <use x=\"27.783203\" xlink:href=\"#ArialMT-97\"/>\n",
       "       <use x=\"83.398438\" xlink:href=\"#ArialMT-107\"/>\n",
       "       <use x=\"133.398438\" xlink:href=\"#ArialMT-101\"/>\n",
       "      </g>\n",
       "     </g>\n",
       "    </g>\n",
       "    <g id=\"xtick_2\">\n",
       "     <g id=\"text_2\">\n",
       "      <!-- real -->\n",
       "      <g style=\"fill:#262626;\" transform=\"translate(160.218594 184.437813)scale(0.1 -0.1)\">\n",
       "       <defs>\n",
       "        <path d=\"M 6.5 0 \n",
       "L 6.5 51.859375 \n",
       "L 14.40625 51.859375 \n",
       "L 14.40625 44 \n",
       "Q 17.4375 49.515625 20 51.265625 \n",
       "Q 22.5625 53.03125 25.640625 53.03125 \n",
       "Q 30.078125 53.03125 34.671875 50.203125 \n",
       "L 31.640625 42.046875 \n",
       "Q 28.421875 43.953125 25.203125 43.953125 \n",
       "Q 22.3125 43.953125 20.015625 42.21875 \n",
       "Q 17.71875 40.484375 16.75 37.40625 \n",
       "Q 15.28125 32.71875 15.28125 27.15625 \n",
       "L 15.28125 0 \n",
       "z\n",
       "\" id=\"ArialMT-114\"/>\n",
       "        <path d=\"M 6.390625 0 \n",
       "L 6.390625 71.578125 \n",
       "L 15.1875 71.578125 \n",
       "L 15.1875 0 \n",
       "z\n",
       "\" id=\"ArialMT-108\"/>\n",
       "       </defs>\n",
       "       <use xlink:href=\"#ArialMT-114\"/>\n",
       "       <use x=\"33.300781\" xlink:href=\"#ArialMT-101\"/>\n",
       "       <use x=\"88.916016\" xlink:href=\"#ArialMT-97\"/>\n",
       "       <use x=\"144.53125\" xlink:href=\"#ArialMT-108\"/>\n",
       "      </g>\n",
       "     </g>\n",
       "    </g>\n",
       "    <g id=\"text_3\">\n",
       "     <!-- Predicted label -->\n",
       "     <g style=\"fill:#262626;\" transform=\"translate(94.711094 197.583125)scale(0.1 -0.1)\">\n",
       "      <defs>\n",
       "       <path d=\"M 7.71875 0 \n",
       "L 7.71875 71.578125 \n",
       "L 34.71875 71.578125 \n",
       "Q 41.84375 71.578125 45.609375 70.90625 \n",
       "Q 50.875 70.015625 54.4375 67.546875 \n",
       "Q 58.015625 65.09375 60.1875 60.640625 \n",
       "Q 62.359375 56.203125 62.359375 50.875 \n",
       "Q 62.359375 41.75 56.546875 35.421875 \n",
       "Q 50.734375 29.109375 35.546875 29.109375 \n",
       "L 17.1875 29.109375 \n",
       "L 17.1875 0 \n",
       "z\n",
       "M 17.1875 37.546875 \n",
       "L 35.6875 37.546875 \n",
       "Q 44.875 37.546875 48.734375 40.96875 \n",
       "Q 52.59375 44.390625 52.59375 50.59375 \n",
       "Q 52.59375 55.078125 50.3125 58.265625 \n",
       "Q 48.046875 61.46875 44.34375 62.5 \n",
       "Q 41.9375 63.140625 35.5 63.140625 \n",
       "L 17.1875 63.140625 \n",
       "z\n",
       "\" id=\"ArialMT-80\"/>\n",
       "       <path d=\"M 40.234375 0 \n",
       "L 40.234375 6.546875 \n",
       "Q 35.296875 -1.171875 25.734375 -1.171875 \n",
       "Q 19.53125 -1.171875 14.328125 2.25 \n",
       "Q 9.125 5.671875 6.265625 11.796875 \n",
       "Q 3.421875 17.921875 3.421875 25.875 \n",
       "Q 3.421875 33.640625 6 39.96875 \n",
       "Q 8.59375 46.296875 13.765625 49.65625 \n",
       "Q 18.953125 53.03125 25.34375 53.03125 \n",
       "Q 30.03125 53.03125 33.6875 51.046875 \n",
       "Q 37.359375 49.078125 39.65625 45.90625 \n",
       "L 39.65625 71.578125 \n",
       "L 48.390625 71.578125 \n",
       "L 48.390625 0 \n",
       "z\n",
       "M 12.453125 25.875 \n",
       "Q 12.453125 15.921875 16.640625 10.984375 \n",
       "Q 20.84375 6.0625 26.5625 6.0625 \n",
       "Q 32.328125 6.0625 36.34375 10.765625 \n",
       "Q 40.375 15.484375 40.375 25.140625 \n",
       "Q 40.375 35.796875 36.265625 40.765625 \n",
       "Q 32.171875 45.75 26.171875 45.75 \n",
       "Q 20.3125 45.75 16.375 40.96875 \n",
       "Q 12.453125 36.1875 12.453125 25.875 \n",
       "z\n",
       "\" id=\"ArialMT-100\"/>\n",
       "       <path d=\"M 6.640625 61.46875 \n",
       "L 6.640625 71.578125 \n",
       "L 15.4375 71.578125 \n",
       "L 15.4375 61.46875 \n",
       "z\n",
       "M 6.640625 0 \n",
       "L 6.640625 51.859375 \n",
       "L 15.4375 51.859375 \n",
       "L 15.4375 0 \n",
       "z\n",
       "\" id=\"ArialMT-105\"/>\n",
       "       <path d=\"M 40.4375 19 \n",
       "L 49.078125 17.875 \n",
       "Q 47.65625 8.9375 41.8125 3.875 \n",
       "Q 35.984375 -1.171875 27.484375 -1.171875 \n",
       "Q 16.84375 -1.171875 10.375 5.78125 \n",
       "Q 3.90625 12.75 3.90625 25.734375 \n",
       "Q 3.90625 34.125 6.6875 40.421875 \n",
       "Q 9.46875 46.734375 15.15625 49.875 \n",
       "Q 20.84375 53.03125 27.546875 53.03125 \n",
       "Q 35.984375 53.03125 41.359375 48.75 \n",
       "Q 46.734375 44.484375 48.25 36.625 \n",
       "L 39.703125 35.296875 \n",
       "Q 38.484375 40.53125 35.375 43.15625 \n",
       "Q 32.28125 45.796875 27.875 45.796875 \n",
       "Q 21.234375 45.796875 17.078125 41.03125 \n",
       "Q 12.9375 36.28125 12.9375 25.984375 \n",
       "Q 12.9375 15.53125 16.9375 10.796875 \n",
       "Q 20.953125 6.0625 27.390625 6.0625 \n",
       "Q 32.5625 6.0625 36.03125 9.234375 \n",
       "Q 39.5 12.40625 40.4375 19 \n",
       "z\n",
       "\" id=\"ArialMT-99\"/>\n",
       "       <path d=\"M 25.78125 7.859375 \n",
       "L 27.046875 0.09375 \n",
       "Q 23.34375 -0.6875 20.40625 -0.6875 \n",
       "Q 15.625 -0.6875 12.984375 0.828125 \n",
       "Q 10.359375 2.34375 9.28125 4.8125 \n",
       "Q 8.203125 7.28125 8.203125 15.1875 \n",
       "L 8.203125 45.015625 \n",
       "L 1.765625 45.015625 \n",
       "L 1.765625 51.859375 \n",
       "L 8.203125 51.859375 \n",
       "L 8.203125 64.703125 \n",
       "L 16.9375 69.96875 \n",
       "L 16.9375 51.859375 \n",
       "L 25.78125 51.859375 \n",
       "L 25.78125 45.015625 \n",
       "L 16.9375 45.015625 \n",
       "L 16.9375 14.703125 \n",
       "Q 16.9375 10.9375 17.40625 9.859375 \n",
       "Q 17.875 8.796875 18.921875 8.15625 \n",
       "Q 19.96875 7.515625 21.921875 7.515625 \n",
       "Q 23.390625 7.515625 25.78125 7.859375 \n",
       "z\n",
       "\" id=\"ArialMT-116\"/>\n",
       "       <path id=\"ArialMT-32\"/>\n",
       "       <path d=\"M 14.703125 0 \n",
       "L 6.546875 0 \n",
       "L 6.546875 71.578125 \n",
       "L 15.328125 71.578125 \n",
       "L 15.328125 46.046875 \n",
       "Q 20.90625 53.03125 29.546875 53.03125 \n",
       "Q 34.328125 53.03125 38.59375 51.09375 \n",
       "Q 42.875 49.171875 45.625 45.671875 \n",
       "Q 48.390625 42.1875 49.953125 37.25 \n",
       "Q 51.515625 32.328125 51.515625 26.703125 \n",
       "Q 51.515625 13.375 44.921875 6.09375 \n",
       "Q 38.328125 -1.171875 29.109375 -1.171875 \n",
       "Q 19.921875 -1.171875 14.703125 6.5 \n",
       "z\n",
       "M 14.59375 26.3125 \n",
       "Q 14.59375 17 17.140625 12.84375 \n",
       "Q 21.296875 6.0625 28.375 6.0625 \n",
       "Q 34.125 6.0625 38.328125 11.0625 \n",
       "Q 42.53125 16.0625 42.53125 25.984375 \n",
       "Q 42.53125 36.140625 38.5 40.96875 \n",
       "Q 34.46875 45.796875 28.765625 45.796875 \n",
       "Q 23 45.796875 18.796875 40.796875 \n",
       "Q 14.59375 35.796875 14.59375 26.3125 \n",
       "z\n",
       "\" id=\"ArialMT-98\"/>\n",
       "      </defs>\n",
       "      <use xlink:href=\"#ArialMT-80\"/>\n",
       "      <use x=\"66.699219\" xlink:href=\"#ArialMT-114\"/>\n",
       "      <use x=\"100\" xlink:href=\"#ArialMT-101\"/>\n",
       "      <use x=\"155.615234\" xlink:href=\"#ArialMT-100\"/>\n",
       "      <use x=\"211.230469\" xlink:href=\"#ArialMT-105\"/>\n",
       "      <use x=\"233.447266\" xlink:href=\"#ArialMT-99\"/>\n",
       "      <use x=\"283.447266\" xlink:href=\"#ArialMT-116\"/>\n",
       "      <use x=\"311.230469\" xlink:href=\"#ArialMT-101\"/>\n",
       "      <use x=\"366.845703\" xlink:href=\"#ArialMT-100\"/>\n",
       "      <use x=\"422.460938\" xlink:href=\"#ArialMT-32\"/>\n",
       "      <use x=\"450.244141\" xlink:href=\"#ArialMT-108\"/>\n",
       "      <use x=\"472.460938\" xlink:href=\"#ArialMT-97\"/>\n",
       "      <use x=\"528.076172\" xlink:href=\"#ArialMT-98\"/>\n",
       "      <use x=\"583.691406\" xlink:href=\"#ArialMT-101\"/>\n",
       "      <use x=\"639.306641\" xlink:href=\"#ArialMT-108\"/>\n",
       "     </g>\n",
       "    </g>\n",
       "   </g>\n",
       "   <g id=\"matplotlib.axis_2\">\n",
       "    <g id=\"ytick_1\">\n",
       "     <g id=\"text_4\">\n",
       "      <!-- fake -->\n",
       "      <g style=\"fill:#262626;\" transform=\"translate(20.345313 51.548906)scale(0.1 -0.1)\">\n",
       "       <use xlink:href=\"#ArialMT-102\"/>\n",
       "       <use x=\"27.783203\" xlink:href=\"#ArialMT-97\"/>\n",
       "       <use x=\"83.398438\" xlink:href=\"#ArialMT-107\"/>\n",
       "       <use x=\"133.398438\" xlink:href=\"#ArialMT-101\"/>\n",
       "      </g>\n",
       "     </g>\n",
       "    </g>\n",
       "    <g id=\"ytick_2\">\n",
       "     <g id=\"text_5\">\n",
       "      <!-- real -->\n",
       "      <g style=\"fill:#262626;\" transform=\"translate(22.571875 133.088906)scale(0.1 -0.1)\">\n",
       "       <use xlink:href=\"#ArialMT-114\"/>\n",
       "       <use x=\"33.300781\" xlink:href=\"#ArialMT-101\"/>\n",
       "       <use x=\"88.916016\" xlink:href=\"#ArialMT-97\"/>\n",
       "       <use x=\"144.53125\" xlink:href=\"#ArialMT-108\"/>\n",
       "      </g>\n",
       "     </g>\n",
       "    </g>\n",
       "    <g id=\"text_6\">\n",
       "     <!-- True label -->\n",
       "     <g style=\"fill:#262626;\" transform=\"translate(14.357813 110.784531)rotate(-90)scale(0.1 -0.1)\">\n",
       "      <defs>\n",
       "       <path d=\"M 25.921875 0 \n",
       "L 25.921875 63.140625 \n",
       "L 2.34375 63.140625 \n",
       "L 2.34375 71.578125 \n",
       "L 59.078125 71.578125 \n",
       "L 59.078125 63.140625 \n",
       "L 35.40625 63.140625 \n",
       "L 35.40625 0 \n",
       "z\n",
       "\" id=\"ArialMT-84\"/>\n",
       "       <path d=\"M 40.578125 0 \n",
       "L 40.578125 7.625 \n",
       "Q 34.515625 -1.171875 24.125 -1.171875 \n",
       "Q 19.53125 -1.171875 15.546875 0.578125 \n",
       "Q 11.578125 2.34375 9.640625 5 \n",
       "Q 7.71875 7.671875 6.9375 11.53125 \n",
       "Q 6.390625 14.109375 6.390625 19.734375 \n",
       "L 6.390625 51.859375 \n",
       "L 15.1875 51.859375 \n",
       "L 15.1875 23.09375 \n",
       "Q 15.1875 16.21875 15.71875 13.8125 \n",
       "Q 16.546875 10.359375 19.234375 8.375 \n",
       "Q 21.921875 6.390625 25.875 6.390625 \n",
       "Q 29.828125 6.390625 33.296875 8.421875 \n",
       "Q 36.765625 10.453125 38.203125 13.9375 \n",
       "Q 39.65625 17.4375 39.65625 24.078125 \n",
       "L 39.65625 51.859375 \n",
       "L 48.4375 51.859375 \n",
       "L 48.4375 0 \n",
       "z\n",
       "\" id=\"ArialMT-117\"/>\n",
       "      </defs>\n",
       "      <use xlink:href=\"#ArialMT-84\"/>\n",
       "      <use x=\"57.333984\" xlink:href=\"#ArialMT-114\"/>\n",
       "      <use x=\"90.634766\" xlink:href=\"#ArialMT-117\"/>\n",
       "      <use x=\"146.25\" xlink:href=\"#ArialMT-101\"/>\n",
       "      <use x=\"201.865234\" xlink:href=\"#ArialMT-32\"/>\n",
       "      <use x=\"229.648438\" xlink:href=\"#ArialMT-108\"/>\n",
       "      <use x=\"251.865234\" xlink:href=\"#ArialMT-97\"/>\n",
       "      <use x=\"307.480469\" xlink:href=\"#ArialMT-98\"/>\n",
       "      <use x=\"363.095703\" xlink:href=\"#ArialMT-101\"/>\n",
       "      <use x=\"418.710938\" xlink:href=\"#ArialMT-108\"/>\n",
       "     </g>\n",
       "    </g>\n",
       "   </g>\n",
       "   <g id=\"patch_3\">\n",
       "    <path d=\"M 46.245313 170.28 \n",
       "L 46.245313 7.2 \n",
       "\" style=\"fill:none;stroke:#cccccc;stroke-linecap:square;stroke-linejoin:miter;stroke-width:0.8;\"/>\n",
       "   </g>\n",
       "   <g id=\"patch_4\">\n",
       "    <path d=\"M 209.325313 170.28 \n",
       "L 209.325313 7.2 \n",
       "\" style=\"fill:none;stroke:#cccccc;stroke-linecap:square;stroke-linejoin:miter;stroke-width:0.8;\"/>\n",
       "   </g>\n",
       "   <g id=\"patch_5\">\n",
       "    <path d=\"M 46.245313 170.28 \n",
       "L 209.325312 170.28 \n",
       "\" style=\"fill:none;stroke:#cccccc;stroke-linecap:square;stroke-linejoin:miter;stroke-width:0.8;\"/>\n",
       "   </g>\n",
       "   <g id=\"patch_6\">\n",
       "    <path d=\"M 46.245313 7.2 \n",
       "L 209.325312 7.2 \n",
       "\" style=\"fill:none;stroke:#cccccc;stroke-linecap:square;stroke-linejoin:miter;stroke-width:0.8;\"/>\n",
       "   </g>\n",
       "   <g id=\"text_7\">\n",
       "    <!-- 76 -->\n",
       "    <g style=\"fill:#f7fbff;\" transform=\"translate(81.454375 50.555156)scale(0.1 -0.1)\">\n",
       "     <defs>\n",
       "      <path d=\"M 4.734375 62.203125 \n",
       "L 4.734375 70.65625 \n",
       "L 51.078125 70.65625 \n",
       "L 51.078125 63.8125 \n",
       "Q 44.234375 56.546875 37.515625 44.484375 \n",
       "Q 30.8125 32.421875 27.15625 19.671875 \n",
       "Q 24.515625 10.6875 23.78125 0 \n",
       "L 14.75 0 \n",
       "Q 14.890625 8.453125 18.0625 20.40625 \n",
       "Q 21.234375 32.375 27.171875 43.484375 \n",
       "Q 33.109375 54.59375 39.796875 62.203125 \n",
       "z\n",
       "\" id=\"ArialMT-55\"/>\n",
       "      <path d=\"M 49.75 54.046875 \n",
       "L 41.015625 53.375 \n",
       "Q 39.84375 58.546875 37.703125 60.890625 \n",
       "Q 34.125 64.65625 28.90625 64.65625 \n",
       "Q 24.703125 64.65625 21.53125 62.3125 \n",
       "Q 17.390625 59.28125 14.984375 53.46875 \n",
       "Q 12.59375 47.65625 12.5 36.921875 \n",
       "Q 15.671875 41.75 20.265625 44.09375 \n",
       "Q 24.859375 46.4375 29.890625 46.4375 \n",
       "Q 38.671875 46.4375 44.84375 39.96875 \n",
       "Q 51.03125 33.5 51.03125 23.25 \n",
       "Q 51.03125 16.5 48.125 10.71875 \n",
       "Q 45.21875 4.9375 40.140625 1.859375 \n",
       "Q 35.0625 -1.21875 28.609375 -1.21875 \n",
       "Q 17.625 -1.21875 10.6875 6.859375 \n",
       "Q 3.765625 14.9375 3.765625 33.5 \n",
       "Q 3.765625 54.25 11.421875 63.671875 \n",
       "Q 18.109375 71.875 29.4375 71.875 \n",
       "Q 37.890625 71.875 43.28125 67.140625 \n",
       "Q 48.6875 62.40625 49.75 54.046875 \n",
       "z\n",
       "M 13.875 23.1875 \n",
       "Q 13.875 18.65625 15.796875 14.5 \n",
       "Q 17.71875 10.359375 21.1875 8.171875 \n",
       "Q 24.65625 6 28.46875 6 \n",
       "Q 34.03125 6 38.03125 10.484375 \n",
       "Q 42.046875 14.984375 42.046875 22.703125 \n",
       "Q 42.046875 30.125 38.078125 34.390625 \n",
       "Q 34.125 38.671875 28.125 38.671875 \n",
       "Q 22.171875 38.671875 18.015625 34.390625 \n",
       "Q 13.875 30.125 13.875 23.1875 \n",
       "z\n",
       "\" id=\"ArialMT-54\"/>\n",
       "     </defs>\n",
       "     <use xlink:href=\"#ArialMT-55\"/>\n",
       "     <use x=\"55.615234\" xlink:href=\"#ArialMT-54\"/>\n",
       "    </g>\n",
       "   </g>\n",
       "   <g id=\"text_8\">\n",
       "    <!-- 9 -->\n",
       "    <g style=\"fill:#08306b;\" transform=\"translate(165.774844 50.555156)scale(0.1 -0.1)\">\n",
       "     <defs>\n",
       "      <path d=\"M 5.46875 16.546875 \n",
       "L 13.921875 17.328125 \n",
       "Q 14.984375 11.375 18.015625 8.6875 \n",
       "Q 21.046875 6 25.78125 6 \n",
       "Q 29.828125 6 32.875 7.859375 \n",
       "Q 35.9375 9.71875 37.890625 12.8125 \n",
       "Q 39.84375 15.921875 41.15625 21.1875 \n",
       "Q 42.484375 26.46875 42.484375 31.9375 \n",
       "Q 42.484375 32.515625 42.4375 33.6875 \n",
       "Q 39.796875 29.5 35.234375 26.875 \n",
       "Q 30.671875 24.265625 25.34375 24.265625 \n",
       "Q 16.453125 24.265625 10.296875 30.703125 \n",
       "Q 4.15625 37.15625 4.15625 47.703125 \n",
       "Q 4.15625 58.59375 10.578125 65.234375 \n",
       "Q 17 71.875 26.65625 71.875 \n",
       "Q 33.640625 71.875 39.421875 68.109375 \n",
       "Q 45.21875 64.359375 48.21875 57.390625 \n",
       "Q 51.21875 50.4375 51.21875 37.25 \n",
       "Q 51.21875 23.53125 48.234375 15.40625 \n",
       "Q 45.265625 7.28125 39.375 3.03125 \n",
       "Q 33.5 -1.21875 25.59375 -1.21875 \n",
       "Q 17.1875 -1.21875 11.859375 3.4375 \n",
       "Q 6.546875 8.109375 5.46875 16.546875 \n",
       "z\n",
       "M 41.453125 48.140625 \n",
       "Q 41.453125 55.71875 37.421875 60.15625 \n",
       "Q 33.40625 64.59375 27.734375 64.59375 \n",
       "Q 21.875 64.59375 17.53125 59.8125 \n",
       "Q 13.1875 55.03125 13.1875 47.40625 \n",
       "Q 13.1875 40.578125 17.3125 36.296875 \n",
       "Q 21.4375 32.03125 27.484375 32.03125 \n",
       "Q 33.59375 32.03125 37.515625 36.296875 \n",
       "Q 41.453125 40.578125 41.453125 48.140625 \n",
       "z\n",
       "\" id=\"ArialMT-57\"/>\n",
       "     </defs>\n",
       "     <use xlink:href=\"#ArialMT-57\"/>\n",
       "    </g>\n",
       "   </g>\n",
       "   <g id=\"text_9\">\n",
       "    <!-- 7 -->\n",
       "    <g style=\"fill:#08306b;\" transform=\"translate(84.234844 132.095156)scale(0.1 -0.1)\">\n",
       "     <use xlink:href=\"#ArialMT-55\"/>\n",
       "    </g>\n",
       "   </g>\n",
       "   <g id=\"text_10\">\n",
       "    <!-- 74 -->\n",
       "    <g style=\"fill:#f7fbff;\" transform=\"translate(162.994375 132.095156)scale(0.1 -0.1)\">\n",
       "     <defs>\n",
       "      <path d=\"M 32.328125 0 \n",
       "L 32.328125 17.140625 \n",
       "L 1.265625 17.140625 \n",
       "L 1.265625 25.203125 \n",
       "L 33.9375 71.578125 \n",
       "L 41.109375 71.578125 \n",
       "L 41.109375 25.203125 \n",
       "L 50.78125 25.203125 \n",
       "L 50.78125 17.140625 \n",
       "L 41.109375 17.140625 \n",
       "L 41.109375 0 \n",
       "z\n",
       "M 32.328125 25.203125 \n",
       "L 32.328125 57.46875 \n",
       "L 9.90625 25.203125 \n",
       "z\n",
       "\" id=\"ArialMT-52\"/>\n",
       "     </defs>\n",
       "     <use xlink:href=\"#ArialMT-55\"/>\n",
       "     <use x=\"55.615234\" xlink:href=\"#ArialMT-52\"/>\n",
       "    </g>\n",
       "   </g>\n",
       "  </g>\n",
       "  <g id=\"axes_2\">\n",
       "   <g id=\"patch_7\">\n",
       "    <path clip-path=\"url(#p9bf91973bf)\" d=\"M 220.485313 170.28 \n",
       "L 220.485313 169.642969 \n",
       "L 220.485313 7.837031 \n",
       "L 220.485313 7.2 \n",
       "L 228.639313 7.2 \n",
       "L 228.639313 7.837031 \n",
       "L 228.639313 169.642969 \n",
       "L 228.639313 170.28 \n",
       "z\n",
       "\" style=\"fill:#ffffff;stroke:#ffffff;stroke-linejoin:miter;stroke-width:0.01;\"/>\n",
       "   </g>\n",
       "   <g id=\"matplotlib.axis_3\"/>\n",
       "   <g id=\"matplotlib.axis_4\">\n",
       "    <g id=\"ytick_3\">\n",
       "     <g id=\"line2d_1\">\n",
       "      <defs>\n",
       "       <path d=\"M 0 0 \n",
       "L 3.5 0 \n",
       "\" id=\"m7b95779ff1\" style=\"stroke:#262626;stroke-width:0.8;\"/>\n",
       "      </defs>\n",
       "      <g>\n",
       "       <use style=\"fill:#262626;stroke:#262626;stroke-width:0.8;\" x=\"228.639313\" xlink:href=\"#m7b95779ff1\" y=\"163.189565\"/>\n",
       "      </g>\n",
       "     </g>\n",
       "     <g id=\"text_11\">\n",
       "      <!-- 10 -->\n",
       "      <g style=\"fill:#262626;\" transform=\"translate(235.639313 166.768471)scale(0.1 -0.1)\">\n",
       "       <defs>\n",
       "        <path d=\"M 37.25 0 \n",
       "L 28.46875 0 \n",
       "L 28.46875 56 \n",
       "Q 25.296875 52.984375 20.140625 49.953125 \n",
       "Q 14.984375 46.921875 10.890625 45.40625 \n",
       "L 10.890625 53.90625 \n",
       "Q 18.265625 57.375 23.78125 62.296875 \n",
       "Q 29.296875 67.234375 31.59375 71.875 \n",
       "L 37.25 71.875 \n",
       "z\n",
       "\" id=\"ArialMT-49\"/>\n",
       "        <path d=\"M 4.15625 35.296875 \n",
       "Q 4.15625 48 6.765625 55.734375 \n",
       "Q 9.375 63.484375 14.515625 67.671875 \n",
       "Q 19.671875 71.875 27.484375 71.875 \n",
       "Q 33.25 71.875 37.59375 69.546875 \n",
       "Q 41.9375 67.234375 44.765625 62.859375 \n",
       "Q 47.609375 58.5 49.21875 52.21875 \n",
       "Q 50.828125 45.953125 50.828125 35.296875 \n",
       "Q 50.828125 22.703125 48.234375 14.96875 \n",
       "Q 45.65625 7.234375 40.5 3 \n",
       "Q 35.359375 -1.21875 27.484375 -1.21875 \n",
       "Q 17.140625 -1.21875 11.234375 6.203125 \n",
       "Q 4.15625 15.140625 4.15625 35.296875 \n",
       "z\n",
       "M 13.1875 35.296875 \n",
       "Q 13.1875 17.671875 17.3125 11.828125 \n",
       "Q 21.4375 6 27.484375 6 \n",
       "Q 33.546875 6 37.671875 11.859375 \n",
       "Q 41.796875 17.71875 41.796875 35.296875 \n",
       "Q 41.796875 52.984375 37.671875 58.78125 \n",
       "Q 33.546875 64.59375 27.390625 64.59375 \n",
       "Q 21.34375 64.59375 17.71875 59.46875 \n",
       "Q 13.1875 52.9375 13.1875 35.296875 \n",
       "z\n",
       "\" id=\"ArialMT-48\"/>\n",
       "       </defs>\n",
       "       <use xlink:href=\"#ArialMT-49\"/>\n",
       "       <use x=\"55.615234\" xlink:href=\"#ArialMT-48\"/>\n",
       "      </g>\n",
       "     </g>\n",
       "    </g>\n",
       "    <g id=\"ytick_4\">\n",
       "     <g id=\"line2d_2\">\n",
       "      <g>\n",
       "       <use style=\"fill:#262626;stroke:#262626;stroke-width:0.8;\" x=\"228.639313\" xlink:href=\"#m7b95779ff1\" y=\"139.554783\"/>\n",
       "      </g>\n",
       "     </g>\n",
       "     <g id=\"text_12\">\n",
       "      <!-- 20 -->\n",
       "      <g style=\"fill:#262626;\" transform=\"translate(235.639313 143.133689)scale(0.1 -0.1)\">\n",
       "       <defs>\n",
       "        <path d=\"M 50.34375 8.453125 \n",
       "L 50.34375 0 \n",
       "L 3.03125 0 \n",
       "Q 2.9375 3.171875 4.046875 6.109375 \n",
       "Q 5.859375 10.9375 9.828125 15.625 \n",
       "Q 13.8125 20.3125 21.34375 26.46875 \n",
       "Q 33.015625 36.03125 37.109375 41.625 \n",
       "Q 41.21875 47.21875 41.21875 52.203125 \n",
       "Q 41.21875 57.421875 37.46875 61 \n",
       "Q 33.734375 64.59375 27.734375 64.59375 \n",
       "Q 21.390625 64.59375 17.578125 60.78125 \n",
       "Q 13.765625 56.984375 13.71875 50.25 \n",
       "L 4.6875 51.171875 \n",
       "Q 5.609375 61.28125 11.65625 66.578125 \n",
       "Q 17.71875 71.875 27.9375 71.875 \n",
       "Q 38.234375 71.875 44.234375 66.15625 \n",
       "Q 50.25 60.453125 50.25 52 \n",
       "Q 50.25 47.703125 48.484375 43.546875 \n",
       "Q 46.734375 39.40625 42.65625 34.8125 \n",
       "Q 38.578125 30.21875 29.109375 22.21875 \n",
       "Q 21.1875 15.578125 18.9375 13.203125 \n",
       "Q 16.703125 10.84375 15.234375 8.453125 \n",
       "z\n",
       "\" id=\"ArialMT-50\"/>\n",
       "       </defs>\n",
       "       <use xlink:href=\"#ArialMT-50\"/>\n",
       "       <use x=\"55.615234\" xlink:href=\"#ArialMT-48\"/>\n",
       "      </g>\n",
       "     </g>\n",
       "    </g>\n",
       "    <g id=\"ytick_5\">\n",
       "     <g id=\"line2d_3\">\n",
       "      <g>\n",
       "       <use style=\"fill:#262626;stroke:#262626;stroke-width:0.8;\" x=\"228.639313\" xlink:href=\"#m7b95779ff1\" y=\"115.92\"/>\n",
       "      </g>\n",
       "     </g>\n",
       "     <g id=\"text_13\">\n",
       "      <!-- 30 -->\n",
       "      <g style=\"fill:#262626;\" transform=\"translate(235.639313 119.498906)scale(0.1 -0.1)\">\n",
       "       <defs>\n",
       "        <path d=\"M 4.203125 18.890625 \n",
       "L 12.984375 20.0625 \n",
       "Q 14.5 12.59375 18.140625 9.296875 \n",
       "Q 21.78125 6 27 6 \n",
       "Q 33.203125 6 37.46875 10.296875 \n",
       "Q 41.75 14.59375 41.75 20.953125 \n",
       "Q 41.75 27 37.796875 30.921875 \n",
       "Q 33.84375 34.859375 27.734375 34.859375 \n",
       "Q 25.25 34.859375 21.53125 33.890625 \n",
       "L 22.515625 41.609375 \n",
       "Q 23.390625 41.5 23.921875 41.5 \n",
       "Q 29.546875 41.5 34.03125 44.421875 \n",
       "Q 38.53125 47.359375 38.53125 53.46875 \n",
       "Q 38.53125 58.296875 35.25 61.46875 \n",
       "Q 31.984375 64.65625 26.8125 64.65625 \n",
       "Q 21.6875 64.65625 18.265625 61.421875 \n",
       "Q 14.84375 58.203125 13.875 51.765625 \n",
       "L 5.078125 53.328125 \n",
       "Q 6.6875 62.15625 12.390625 67.015625 \n",
       "Q 18.109375 71.875 26.609375 71.875 \n",
       "Q 32.46875 71.875 37.390625 69.359375 \n",
       "Q 42.328125 66.84375 44.9375 62.5 \n",
       "Q 47.5625 58.15625 47.5625 53.265625 \n",
       "Q 47.5625 48.640625 45.0625 44.828125 \n",
       "Q 42.578125 41.015625 37.703125 38.765625 \n",
       "Q 44.046875 37.3125 47.5625 32.6875 \n",
       "Q 51.078125 28.078125 51.078125 21.140625 \n",
       "Q 51.078125 11.765625 44.234375 5.25 \n",
       "Q 37.40625 -1.265625 26.953125 -1.265625 \n",
       "Q 17.53125 -1.265625 11.296875 4.34375 \n",
       "Q 5.078125 9.96875 4.203125 18.890625 \n",
       "z\n",
       "\" id=\"ArialMT-51\"/>\n",
       "       </defs>\n",
       "       <use xlink:href=\"#ArialMT-51\"/>\n",
       "       <use x=\"55.615234\" xlink:href=\"#ArialMT-48\"/>\n",
       "      </g>\n",
       "     </g>\n",
       "    </g>\n",
       "    <g id=\"ytick_6\">\n",
       "     <g id=\"line2d_4\">\n",
       "      <g>\n",
       "       <use style=\"fill:#262626;stroke:#262626;stroke-width:0.8;\" x=\"228.639313\" xlink:href=\"#m7b95779ff1\" y=\"92.285217\"/>\n",
       "      </g>\n",
       "     </g>\n",
       "     <g id=\"text_14\">\n",
       "      <!-- 40 -->\n",
       "      <g style=\"fill:#262626;\" transform=\"translate(235.639313 95.864124)scale(0.1 -0.1)\">\n",
       "       <use xlink:href=\"#ArialMT-52\"/>\n",
       "       <use x=\"55.615234\" xlink:href=\"#ArialMT-48\"/>\n",
       "      </g>\n",
       "     </g>\n",
       "    </g>\n",
       "    <g id=\"ytick_7\">\n",
       "     <g id=\"line2d_5\">\n",
       "      <g>\n",
       "       <use style=\"fill:#262626;stroke:#262626;stroke-width:0.8;\" x=\"228.639313\" xlink:href=\"#m7b95779ff1\" y=\"68.650435\"/>\n",
       "      </g>\n",
       "     </g>\n",
       "     <g id=\"text_15\">\n",
       "      <!-- 50 -->\n",
       "      <g style=\"fill:#262626;\" transform=\"translate(235.639313 72.229341)scale(0.1 -0.1)\">\n",
       "       <defs>\n",
       "        <path d=\"M 4.15625 18.75 \n",
       "L 13.375 19.53125 \n",
       "Q 14.40625 12.796875 18.140625 9.390625 \n",
       "Q 21.875 6 27.15625 6 \n",
       "Q 33.5 6 37.890625 10.78125 \n",
       "Q 42.28125 15.578125 42.28125 23.484375 \n",
       "Q 42.28125 31 38.0625 35.34375 \n",
       "Q 33.84375 39.703125 27 39.703125 \n",
       "Q 22.75 39.703125 19.328125 37.765625 \n",
       "Q 15.921875 35.84375 13.96875 32.765625 \n",
       "L 5.71875 33.84375 \n",
       "L 12.640625 70.609375 \n",
       "L 48.25 70.609375 \n",
       "L 48.25 62.203125 \n",
       "L 19.671875 62.203125 \n",
       "L 15.828125 42.96875 \n",
       "Q 22.265625 47.46875 29.34375 47.46875 \n",
       "Q 38.71875 47.46875 45.15625 40.96875 \n",
       "Q 51.609375 34.46875 51.609375 24.265625 \n",
       "Q 51.609375 14.546875 45.953125 7.46875 \n",
       "Q 39.0625 -1.21875 27.15625 -1.21875 \n",
       "Q 17.390625 -1.21875 11.203125 4.25 \n",
       "Q 5.03125 9.71875 4.15625 18.75 \n",
       "z\n",
       "\" id=\"ArialMT-53\"/>\n",
       "       </defs>\n",
       "       <use xlink:href=\"#ArialMT-53\"/>\n",
       "       <use x=\"55.615234\" xlink:href=\"#ArialMT-48\"/>\n",
       "      </g>\n",
       "     </g>\n",
       "    </g>\n",
       "    <g id=\"ytick_8\">\n",
       "     <g id=\"line2d_6\">\n",
       "      <g>\n",
       "       <use style=\"fill:#262626;stroke:#262626;stroke-width:0.8;\" x=\"228.639313\" xlink:href=\"#m7b95779ff1\" y=\"45.015652\"/>\n",
       "      </g>\n",
       "     </g>\n",
       "     <g id=\"text_16\">\n",
       "      <!-- 60 -->\n",
       "      <g style=\"fill:#262626;\" transform=\"translate(235.639313 48.594558)scale(0.1 -0.1)\">\n",
       "       <use xlink:href=\"#ArialMT-54\"/>\n",
       "       <use x=\"55.615234\" xlink:href=\"#ArialMT-48\"/>\n",
       "      </g>\n",
       "     </g>\n",
       "    </g>\n",
       "    <g id=\"ytick_9\">\n",
       "     <g id=\"line2d_7\">\n",
       "      <g>\n",
       "       <use style=\"fill:#262626;stroke:#262626;stroke-width:0.8;\" x=\"228.639313\" xlink:href=\"#m7b95779ff1\" y=\"21.38087\"/>\n",
       "      </g>\n",
       "     </g>\n",
       "     <g id=\"text_17\">\n",
       "      <!-- 70 -->\n",
       "      <g style=\"fill:#262626;\" transform=\"translate(235.639313 24.959776)scale(0.1 -0.1)\">\n",
       "       <use xlink:href=\"#ArialMT-55\"/>\n",
       "       <use x=\"55.615234\" xlink:href=\"#ArialMT-48\"/>\n",
       "      </g>\n",
       "     </g>\n",
       "    </g>\n",
       "   </g>\n",
       "   <image height=\"164\" id=\"image28df463a27\" transform=\"scale(1 -1)translate(0 -164)\" width=\"9\" x=\"220\" xlink:href=\"data:image/png;base64,\n",
       "iVBORw0KGgoAAAANSUhEUgAAAAkAAACkCAYAAABFEwQgAAAA5UlEQVR4nO2XOQ7DQAwDlWD//90U8cp5gqYYEGsgrglqQB22X5/vfdfwrJ41tWrW1Goiukk5YATBgYaKQAZmBEeCI5FWjoCLOT12MrPgj70FIrg2mR74zoaJckJOEJwwNWFi59BqsNcW5ATBtbYcGMEGo8nAL80J9o44ESYkYuWy4GIE3n0iVwWt1KU5hRehWe88kcUEI4ieQzFMtgjaEfPCDE+mBh53GjWnRjBqajX4XhMj2OCVcGQE7L+FOIXLsf87cTIJk1YuDX4ik1auegOR6EQWATmFy4Uj2P8IrCl4j4qq+gEug5A9Wqa0KgAAAABJRU5ErkJggg==\" y=\"-6\"/>\n",
       "   <g id=\"patch_8\">\n",
       "    <path d=\"M 220.485313 170.28 \n",
       "L 220.485313 169.642969 \n",
       "L 220.485313 7.837031 \n",
       "L 220.485313 7.2 \n",
       "L 228.639313 7.2 \n",
       "L 228.639313 7.837031 \n",
       "L 228.639313 169.642969 \n",
       "L 228.639313 170.28 \n",
       "z\n",
       "\" style=\"fill:none;stroke:#cccccc;stroke-linejoin:miter;stroke-width:0.8;\"/>\n",
       "   </g>\n",
       "  </g>\n",
       " </g>\n",
       " <defs>\n",
       "  <clipPath id=\"pae4a7bfb00\">\n",
       "   <rect height=\"163.08\" width=\"163.08\" x=\"46.245313\" y=\"7.2\"/>\n",
       "  </clipPath>\n",
       "  <clipPath id=\"p9bf91973bf\">\n",
       "   <rect height=\"163.08\" width=\"8.154\" x=\"220.485313\" y=\"7.2\"/>\n",
       "  </clipPath>\n",
       " </defs>\n",
       "</svg>\n"
      ],
      "text/plain": [
       "<Figure size 288x216 with 2 Axes>"
      ]
     },
     "metadata": {},
     "output_type": "display_data"
    }
   ],
   "source": [
    "from sklearn.metrics import plot_confusion_matrix\n",
    "\n",
    "plot_confusion_matrix(clf, X_test, y_test,\n",
    "                      cmap=plt.cm.Blues)\n",
    "plt.grid(False);"
   ]
  },
  {
   "cell_type": "code",
   "execution_count": 31,
   "id": "2e455c87-343b-4805-bade-3fe11ba6c7a5",
   "metadata": {},
   "outputs": [
    {
     "data": {
      "text/plain": [
       "array([    0.  ,     0.  ,     0.01,     0.05,     0.36,     2.78,\n",
       "          21.54,   166.81,  1291.55, 10000.  ])"
      ]
     },
     "execution_count": 31,
     "metadata": {},
     "output_type": "execute_result"
    }
   ],
   "source": [
    "log_reg = clf.named_steps['logisticregressioncv']\n",
    "log_reg.Cs_"
   ]
  },
  {
   "cell_type": "code",
   "execution_count": 32,
   "id": "87124e86-81cf-4504-8a5d-2e500f55c8d3",
   "metadata": {},
   "outputs": [
    {
     "data": {
      "text/html": [
       "<div>\n",
       "<style scoped>\n",
       "    .dataframe tbody tr th:only-of-type {\n",
       "        vertical-align: middle;\n",
       "    }\n",
       "\n",
       "    .dataframe tbody tr th {\n",
       "        vertical-align: top;\n",
       "    }\n",
       "\n",
       "    .dataframe thead th {\n",
       "        text-align: right;\n",
       "    }\n",
       "</style>\n",
       "<table border=\"1\" class=\"dataframe\">\n",
       "  <thead>\n",
       "    <tr style=\"text-align: right;\">\n",
       "      <th></th>\n",
       "      <th>word</th>\n",
       "      <th>coef</th>\n",
       "    </tr>\n",
       "  </thead>\n",
       "  <tbody>\n",
       "    <tr>\n",
       "      <th>0</th>\n",
       "      <td>!</td>\n",
       "      <td>-7.74</td>\n",
       "    </tr>\n",
       "    <tr>\n",
       "      <th>1</th>\n",
       "      <td>#</td>\n",
       "      <td>-1.47</td>\n",
       "    </tr>\n",
       "    <tr>\n",
       "      <th>2</th>\n",
       "      <td>$</td>\n",
       "      <td>-2.16</td>\n",
       "    </tr>\n",
       "    <tr>\n",
       "      <th>...</th>\n",
       "      <td>...</td>\n",
       "      <td>...</td>\n",
       "    </tr>\n",
       "    <tr>\n",
       "      <th>27901</th>\n",
       "      <td>日新丸</td>\n",
       "      <td>-0.16</td>\n",
       "    </tr>\n",
       "    <tr>\n",
       "      <th>27902</th>\n",
       "      <td>澳门老百汇4001登录</td>\n",
       "      <td>-1.79</td>\n",
       "    </tr>\n",
       "    <tr>\n",
       "      <th>27903</th>\n",
       "      <td>﻿</td>\n",
       "      <td>-0.37</td>\n",
       "    </tr>\n",
       "  </tbody>\n",
       "</table>\n",
       "<p>27904 rows × 2 columns</p>\n",
       "</div>"
      ],
      "text/plain": [
       "              word  coef\n",
       "0                ! -7.74\n",
       "1                # -1.47\n",
       "2                $ -2.16\n",
       "...            ...   ...\n",
       "27901          日新丸 -0.16\n",
       "27902  澳门老百汇4001登录 -1.79\n",
       "27903            ﻿ -0.37\n",
       "\n",
       "[27904 rows x 2 columns]"
      ]
     },
     "execution_count": 32,
     "metadata": {},
     "output_type": "execute_result"
    }
   ],
   "source": [
    "coefs = (pd.DataFrame(tfidf.vocabulary_.keys(),\n",
    "                      columns=['word'],\n",
    "                      index=tfidf.vocabulary_.values())\n",
    "         .sort_index()\n",
    "         .assign(coef=log_reg.coef_[0])\n",
    "        )\n",
    "coefs\n",
    "# coef = np.abs(clf.coef_)"
   ]
  },
  {
   "cell_type": "code",
   "execution_count": 13,
   "id": "13150d47-2f42-4fbd-988a-6489e04961d4",
   "metadata": {},
   "outputs": [
    {
     "data": {
      "application/vnd.jupyter.widget-view+json": {
       "model_id": "2e053d2a0f71483794d3b2e3a2ccc2c9",
       "version_major": 2,
       "version_minor": 0
      },
      "text/plain": [
       "interactive(children=(IntSlider(value=0, description='row', max=3799, step=7), Output()), _dom_classes=('widge…"
      ]
     },
     "metadata": {},
     "output_type": "display_data"
    },
    {
     "name": "stdout",
     "output_type": "stream",
     "text": [
      "(3799 rows, 2 columns) total\n"
     ]
    }
   ],
   "source": [
    "df_interact(coefs.query('coef < -0.5 or coef > 0.5').sort_values('coef'))"
   ]
  },
  {
   "cell_type": "markdown",
   "id": "0791f9cf-dca9-4c8e-8b8b-e88e6006384e",
   "metadata": {},
   "source": [
    "## log reg using one word feature"
   ]
  },
  {
   "cell_type": "code",
   "execution_count": 33,
   "id": "15960df9-0347-43ae-9ee8-e6ac06b6f37d",
   "metadata": {},
   "outputs": [],
   "source": [
    "word_features = [\n",
    "    'trump',\n",
    "]"
   ]
  },
  {
   "cell_type": "code",
   "execution_count": 34,
   "id": "f801f440-4137-404b-8cbe-28f263fef698",
   "metadata": {},
   "outputs": [],
   "source": [
    "def make_word_features(df, words=word_features):\n",
    "    features = { word: df['content'].str.contains(word) for word in words }\n",
    "    return pd.DataFrame(features)"
   ]
  },
  {
   "cell_type": "code",
   "execution_count": 35,
   "id": "215c79b0-4ed4-4829-8936-1e01a80f8c2f",
   "metadata": {},
   "outputs": [],
   "source": [
    "from sklearn.preprocessing import FunctionTransformer\n",
    "\n",
    "clf = make_pipeline(\n",
    "    FunctionTransformer(make_word_features, kw_args={'words': word_features}),\n",
    "    LogisticRegressionCV(Cs=10,\n",
    "                         solver='saga',\n",
    "                         n_jobs=4,\n",
    "                         max_iter=10000)\n",
    ")"
   ]
  },
  {
   "cell_type": "code",
   "execution_count": 36,
   "id": "0198dc39-a2d2-4108-a679-dba32eb70f65",
   "metadata": {},
   "outputs": [
    {
     "name": "stdout",
     "output_type": "stream",
     "text": [
      "0.6325301204819277\n",
      "CPU times: user 70.8 ms, sys: 11.5 ms, total: 82.4 ms\n",
      "Wall time: 58.2 ms\n"
     ]
    }
   ],
   "source": [
    "%%time\n",
    "\n",
    "clf.fit(X_train, y_train)\n",
    "print(clf.score(X_test, y_test))"
   ]
  },
  {
   "cell_type": "code",
   "execution_count": 37,
   "id": "a11cb9d5-85fa-4f1f-afa4-1e47ccd1891c",
   "metadata": {},
   "outputs": [
    {
     "data": {
      "image/svg+xml": [
       "<?xml version=\"1.0\" encoding=\"utf-8\" standalone=\"no\"?>\n",
       "<!DOCTYPE svg PUBLIC \"-//W3C//DTD SVG 1.1//EN\"\n",
       "  \"http://www.w3.org/Graphics/SVG/1.1/DTD/svg11.dtd\">\n",
       "<!-- Created with matplotlib (https://matplotlib.org/) -->\n",
       "<svg height=\"210.349531pt\" version=\"1.1\" viewBox=\"0 0 253.961187 210.349531\" width=\"253.961187pt\" xmlns=\"http://www.w3.org/2000/svg\" xmlns:xlink=\"http://www.w3.org/1999/xlink\">\n",
       " <metadata>\n",
       "  <rdf:RDF xmlns:cc=\"http://creativecommons.org/ns#\" xmlns:dc=\"http://purl.org/dc/elements/1.1/\" xmlns:rdf=\"http://www.w3.org/1999/02/22-rdf-syntax-ns#\">\n",
       "   <cc:Work>\n",
       "    <dc:type rdf:resource=\"http://purl.org/dc/dcmitype/StillImage\"/>\n",
       "    <dc:date>2022-12-15T15:50:10.223937</dc:date>\n",
       "    <dc:format>image/svg+xml</dc:format>\n",
       "    <dc:creator>\n",
       "     <cc:Agent>\n",
       "      <dc:title>Matplotlib v3.3.4, https://matplotlib.org/</dc:title>\n",
       "     </cc:Agent>\n",
       "    </dc:creator>\n",
       "   </cc:Work>\n",
       "  </rdf:RDF>\n",
       " </metadata>\n",
       " <defs>\n",
       "  <style type=\"text/css\">*{stroke-linecap:butt;stroke-linejoin:round;}</style>\n",
       " </defs>\n",
       " <g id=\"figure_1\">\n",
       "  <g id=\"patch_1\">\n",
       "   <path d=\"M 0 210.349531 \n",
       "L 253.961187 210.349531 \n",
       "L 253.961187 0 \n",
       "L 0 0 \n",
       "z\n",
       "\" style=\"fill:#ffffff;\"/>\n",
       "  </g>\n",
       "  <g id=\"axes_1\">\n",
       "   <g id=\"patch_2\">\n",
       "    <path d=\"M 46.245313 173.858906 \n",
       "L 209.325313 173.858906 \n",
       "L 209.325313 10.778906 \n",
       "L 46.245313 10.778906 \n",
       "z\n",
       "\" style=\"fill:#ffffff;\"/>\n",
       "   </g>\n",
       "   <g clip-path=\"url(#pcfc8351d04)\">\n",
       "    <image height=\"164\" id=\"imagecce1b9c464\" transform=\"scale(1 -1)translate(0 -164)\" width=\"164\" x=\"46.245313\" xlink:href=\"data:image/png;base64,\n",
       "iVBORw0KGgoAAAANSUhEUgAAAKQAAACkCAYAAAAZtYVBAAAB8UlEQVR4nO3UMRECQQAEQR4HiMEVYpCBDoKXQYAJAoIj/Zzgpq66FWwwtdvnO8aJv12ut9kTlnCePQCOBEmKIEkRJCmCJEWQpAiSFEGSIkhSBEmKIEkRJCmCJEWQpAiSFEGSIkhSBEmKIEkRJCmCJEWQpAiSFEGSIkhSBEmKIEkRJCmCJEWQpAiSFEGSIkhSBEmKIEkRJCmCJEWQpAiSFEGSIkhSBEmKIEkRJCmCJEWQpAiSFEGSIkhSBEmKIEkRJCmCJEWQpAiSFEGSIkhSBEmKIEkRJCmCJEWQpAiSFEGSIkhSBEmKIEkRJCmCJEWQpAiSFEGSIkhSBEmKIEkRJCmCJEWQpAiSFEGSIkhStvvzNWaPWMFjf8+esAQPSYogSREkKYIkRZCkCJIUQZIiSFIESYogSREkKYIkRZCkCJIUQZIiSFIESYogSREkKYIkRZCkCJIUQZIiSFIESYogSREkKYIkRZCkCJIUQZIiSFIESYogSREkKYIkRZCkCJIUQZIiSFIESYogSREkKYIkRZCkCJIUQZIiSFIESYogSREkKYIkRZCkCJIUQZIiSFIESYogSREkKYIkRZCkCJIUQZIiSFIESYogSREkKYIkRZCkCJIUQZIiSFIESYogSREkKYIkRZCkCJIUQZIiSFIEScoPz0ILaK3fCeoAAAAASUVORK5CYII=\" y=\"-9.858906\"/>\n",
       "   </g>\n",
       "   <g id=\"matplotlib.axis_1\">\n",
       "    <g id=\"xtick_1\">\n",
       "     <g id=\"text_1\">\n",
       "      <!-- fake -->\n",
       "      <g style=\"fill:#262626;\" transform=\"translate(77.565313 188.016719)scale(0.1 -0.1)\">\n",
       "       <defs>\n",
       "        <path d=\"M 8.6875 0 \n",
       "L 8.6875 45.015625 \n",
       "L 0.921875 45.015625 \n",
       "L 0.921875 51.859375 \n",
       "L 8.6875 51.859375 \n",
       "L 8.6875 57.375 \n",
       "Q 8.6875 62.59375 9.625 65.140625 \n",
       "Q 10.890625 68.5625 14.078125 70.671875 \n",
       "Q 17.28125 72.796875 23.046875 72.796875 \n",
       "Q 26.765625 72.796875 31.25 71.921875 \n",
       "L 29.9375 64.265625 \n",
       "Q 27.203125 64.75 24.75 64.75 \n",
       "Q 20.75 64.75 19.09375 63.03125 \n",
       "Q 17.4375 61.328125 17.4375 56.640625 \n",
       "L 17.4375 51.859375 \n",
       "L 27.546875 51.859375 \n",
       "L 27.546875 45.015625 \n",
       "L 17.4375 45.015625 \n",
       "L 17.4375 0 \n",
       "z\n",
       "\" id=\"ArialMT-102\"/>\n",
       "        <path d=\"M 40.4375 6.390625 \n",
       "Q 35.546875 2.25 31.03125 0.53125 \n",
       "Q 26.515625 -1.171875 21.34375 -1.171875 \n",
       "Q 12.796875 -1.171875 8.203125 3 \n",
       "Q 3.609375 7.171875 3.609375 13.671875 \n",
       "Q 3.609375 17.484375 5.34375 20.625 \n",
       "Q 7.078125 23.78125 9.890625 25.6875 \n",
       "Q 12.703125 27.59375 16.21875 28.5625 \n",
       "Q 18.796875 29.25 24.03125 29.890625 \n",
       "Q 34.671875 31.15625 39.703125 32.90625 \n",
       "Q 39.75 34.71875 39.75 35.203125 \n",
       "Q 39.75 40.578125 37.25 42.78125 \n",
       "Q 33.890625 45.75 27.25 45.75 \n",
       "Q 21.046875 45.75 18.09375 43.578125 \n",
       "Q 15.140625 41.40625 13.71875 35.890625 \n",
       "L 5.125 37.0625 \n",
       "Q 6.296875 42.578125 8.984375 45.96875 \n",
       "Q 11.671875 49.359375 16.75 51.1875 \n",
       "Q 21.828125 53.03125 28.515625 53.03125 \n",
       "Q 35.15625 53.03125 39.296875 51.46875 \n",
       "Q 43.453125 49.90625 45.40625 47.53125 \n",
       "Q 47.359375 45.171875 48.140625 41.546875 \n",
       "Q 48.578125 39.3125 48.578125 33.453125 \n",
       "L 48.578125 21.734375 \n",
       "Q 48.578125 9.46875 49.140625 6.21875 \n",
       "Q 49.703125 2.984375 51.375 0 \n",
       "L 42.1875 0 \n",
       "Q 40.828125 2.734375 40.4375 6.390625 \n",
       "z\n",
       "M 39.703125 26.03125 \n",
       "Q 34.90625 24.078125 25.34375 22.703125 \n",
       "Q 19.921875 21.921875 17.671875 20.9375 \n",
       "Q 15.4375 19.96875 14.203125 18.09375 \n",
       "Q 12.984375 16.21875 12.984375 13.921875 \n",
       "Q 12.984375 10.40625 15.640625 8.0625 \n",
       "Q 18.3125 5.71875 23.4375 5.71875 \n",
       "Q 28.515625 5.71875 32.46875 7.9375 \n",
       "Q 36.421875 10.15625 38.28125 14.015625 \n",
       "Q 39.703125 17 39.703125 22.796875 \n",
       "z\n",
       "\" id=\"ArialMT-97\"/>\n",
       "        <path d=\"M 6.640625 0 \n",
       "L 6.640625 71.578125 \n",
       "L 15.4375 71.578125 \n",
       "L 15.4375 30.765625 \n",
       "L 36.234375 51.859375 \n",
       "L 47.609375 51.859375 \n",
       "L 27.78125 32.625 \n",
       "L 49.609375 0 \n",
       "L 38.765625 0 \n",
       "L 21.625 26.515625 \n",
       "L 15.4375 20.5625 \n",
       "L 15.4375 0 \n",
       "z\n",
       "\" id=\"ArialMT-107\"/>\n",
       "        <path d=\"M 42.09375 16.703125 \n",
       "L 51.171875 15.578125 \n",
       "Q 49.03125 7.625 43.21875 3.21875 \n",
       "Q 37.40625 -1.171875 28.375 -1.171875 \n",
       "Q 17 -1.171875 10.328125 5.828125 \n",
       "Q 3.65625 12.84375 3.65625 25.484375 \n",
       "Q 3.65625 38.578125 10.390625 45.796875 \n",
       "Q 17.140625 53.03125 27.875 53.03125 \n",
       "Q 38.28125 53.03125 44.875 45.953125 \n",
       "Q 51.46875 38.875 51.46875 26.03125 \n",
       "Q 51.46875 25.25 51.421875 23.6875 \n",
       "L 12.75 23.6875 \n",
       "Q 13.234375 15.140625 17.578125 10.59375 \n",
       "Q 21.921875 6.0625 28.421875 6.0625 \n",
       "Q 33.25 6.0625 36.671875 8.59375 \n",
       "Q 40.09375 11.140625 42.09375 16.703125 \n",
       "z\n",
       "M 13.234375 30.90625 \n",
       "L 42.1875 30.90625 \n",
       "Q 41.609375 37.453125 38.875 40.71875 \n",
       "Q 34.671875 45.796875 27.984375 45.796875 \n",
       "Q 21.921875 45.796875 17.796875 41.75 \n",
       "Q 13.671875 37.703125 13.234375 30.90625 \n",
       "z\n",
       "\" id=\"ArialMT-101\"/>\n",
       "       </defs>\n",
       "       <use xlink:href=\"#ArialMT-102\"/>\n",
       "       <use x=\"27.783203\" xlink:href=\"#ArialMT-97\"/>\n",
       "       <use x=\"83.398438\" xlink:href=\"#ArialMT-107\"/>\n",
       "       <use x=\"133.398438\" xlink:href=\"#ArialMT-101\"/>\n",
       "      </g>\n",
       "     </g>\n",
       "    </g>\n",
       "    <g id=\"xtick_2\">\n",
       "     <g id=\"text_2\">\n",
       "      <!-- real -->\n",
       "      <g style=\"fill:#262626;\" transform=\"translate(160.218594 188.016719)scale(0.1 -0.1)\">\n",
       "       <defs>\n",
       "        <path d=\"M 6.5 0 \n",
       "L 6.5 51.859375 \n",
       "L 14.40625 51.859375 \n",
       "L 14.40625 44 \n",
       "Q 17.4375 49.515625 20 51.265625 \n",
       "Q 22.5625 53.03125 25.640625 53.03125 \n",
       "Q 30.078125 53.03125 34.671875 50.203125 \n",
       "L 31.640625 42.046875 \n",
       "Q 28.421875 43.953125 25.203125 43.953125 \n",
       "Q 22.3125 43.953125 20.015625 42.21875 \n",
       "Q 17.71875 40.484375 16.75 37.40625 \n",
       "Q 15.28125 32.71875 15.28125 27.15625 \n",
       "L 15.28125 0 \n",
       "z\n",
       "\" id=\"ArialMT-114\"/>\n",
       "        <path d=\"M 6.390625 0 \n",
       "L 6.390625 71.578125 \n",
       "L 15.1875 71.578125 \n",
       "L 15.1875 0 \n",
       "z\n",
       "\" id=\"ArialMT-108\"/>\n",
       "       </defs>\n",
       "       <use xlink:href=\"#ArialMT-114\"/>\n",
       "       <use x=\"33.300781\" xlink:href=\"#ArialMT-101\"/>\n",
       "       <use x=\"88.916016\" xlink:href=\"#ArialMT-97\"/>\n",
       "       <use x=\"144.53125\" xlink:href=\"#ArialMT-108\"/>\n",
       "      </g>\n",
       "     </g>\n",
       "    </g>\n",
       "    <g id=\"text_3\">\n",
       "     <!-- Predicted label -->\n",
       "     <g style=\"fill:#262626;\" transform=\"translate(94.711094 201.162031)scale(0.1 -0.1)\">\n",
       "      <defs>\n",
       "       <path d=\"M 7.71875 0 \n",
       "L 7.71875 71.578125 \n",
       "L 34.71875 71.578125 \n",
       "Q 41.84375 71.578125 45.609375 70.90625 \n",
       "Q 50.875 70.015625 54.4375 67.546875 \n",
       "Q 58.015625 65.09375 60.1875 60.640625 \n",
       "Q 62.359375 56.203125 62.359375 50.875 \n",
       "Q 62.359375 41.75 56.546875 35.421875 \n",
       "Q 50.734375 29.109375 35.546875 29.109375 \n",
       "L 17.1875 29.109375 \n",
       "L 17.1875 0 \n",
       "z\n",
       "M 17.1875 37.546875 \n",
       "L 35.6875 37.546875 \n",
       "Q 44.875 37.546875 48.734375 40.96875 \n",
       "Q 52.59375 44.390625 52.59375 50.59375 \n",
       "Q 52.59375 55.078125 50.3125 58.265625 \n",
       "Q 48.046875 61.46875 44.34375 62.5 \n",
       "Q 41.9375 63.140625 35.5 63.140625 \n",
       "L 17.1875 63.140625 \n",
       "z\n",
       "\" id=\"ArialMT-80\"/>\n",
       "       <path d=\"M 40.234375 0 \n",
       "L 40.234375 6.546875 \n",
       "Q 35.296875 -1.171875 25.734375 -1.171875 \n",
       "Q 19.53125 -1.171875 14.328125 2.25 \n",
       "Q 9.125 5.671875 6.265625 11.796875 \n",
       "Q 3.421875 17.921875 3.421875 25.875 \n",
       "Q 3.421875 33.640625 6 39.96875 \n",
       "Q 8.59375 46.296875 13.765625 49.65625 \n",
       "Q 18.953125 53.03125 25.34375 53.03125 \n",
       "Q 30.03125 53.03125 33.6875 51.046875 \n",
       "Q 37.359375 49.078125 39.65625 45.90625 \n",
       "L 39.65625 71.578125 \n",
       "L 48.390625 71.578125 \n",
       "L 48.390625 0 \n",
       "z\n",
       "M 12.453125 25.875 \n",
       "Q 12.453125 15.921875 16.640625 10.984375 \n",
       "Q 20.84375 6.0625 26.5625 6.0625 \n",
       "Q 32.328125 6.0625 36.34375 10.765625 \n",
       "Q 40.375 15.484375 40.375 25.140625 \n",
       "Q 40.375 35.796875 36.265625 40.765625 \n",
       "Q 32.171875 45.75 26.171875 45.75 \n",
       "Q 20.3125 45.75 16.375 40.96875 \n",
       "Q 12.453125 36.1875 12.453125 25.875 \n",
       "z\n",
       "\" id=\"ArialMT-100\"/>\n",
       "       <path d=\"M 6.640625 61.46875 \n",
       "L 6.640625 71.578125 \n",
       "L 15.4375 71.578125 \n",
       "L 15.4375 61.46875 \n",
       "z\n",
       "M 6.640625 0 \n",
       "L 6.640625 51.859375 \n",
       "L 15.4375 51.859375 \n",
       "L 15.4375 0 \n",
       "z\n",
       "\" id=\"ArialMT-105\"/>\n",
       "       <path d=\"M 40.4375 19 \n",
       "L 49.078125 17.875 \n",
       "Q 47.65625 8.9375 41.8125 3.875 \n",
       "Q 35.984375 -1.171875 27.484375 -1.171875 \n",
       "Q 16.84375 -1.171875 10.375 5.78125 \n",
       "Q 3.90625 12.75 3.90625 25.734375 \n",
       "Q 3.90625 34.125 6.6875 40.421875 \n",
       "Q 9.46875 46.734375 15.15625 49.875 \n",
       "Q 20.84375 53.03125 27.546875 53.03125 \n",
       "Q 35.984375 53.03125 41.359375 48.75 \n",
       "Q 46.734375 44.484375 48.25 36.625 \n",
       "L 39.703125 35.296875 \n",
       "Q 38.484375 40.53125 35.375 43.15625 \n",
       "Q 32.28125 45.796875 27.875 45.796875 \n",
       "Q 21.234375 45.796875 17.078125 41.03125 \n",
       "Q 12.9375 36.28125 12.9375 25.984375 \n",
       "Q 12.9375 15.53125 16.9375 10.796875 \n",
       "Q 20.953125 6.0625 27.390625 6.0625 \n",
       "Q 32.5625 6.0625 36.03125 9.234375 \n",
       "Q 39.5 12.40625 40.4375 19 \n",
       "z\n",
       "\" id=\"ArialMT-99\"/>\n",
       "       <path d=\"M 25.78125 7.859375 \n",
       "L 27.046875 0.09375 \n",
       "Q 23.34375 -0.6875 20.40625 -0.6875 \n",
       "Q 15.625 -0.6875 12.984375 0.828125 \n",
       "Q 10.359375 2.34375 9.28125 4.8125 \n",
       "Q 8.203125 7.28125 8.203125 15.1875 \n",
       "L 8.203125 45.015625 \n",
       "L 1.765625 45.015625 \n",
       "L 1.765625 51.859375 \n",
       "L 8.203125 51.859375 \n",
       "L 8.203125 64.703125 \n",
       "L 16.9375 69.96875 \n",
       "L 16.9375 51.859375 \n",
       "L 25.78125 51.859375 \n",
       "L 25.78125 45.015625 \n",
       "L 16.9375 45.015625 \n",
       "L 16.9375 14.703125 \n",
       "Q 16.9375 10.9375 17.40625 9.859375 \n",
       "Q 17.875 8.796875 18.921875 8.15625 \n",
       "Q 19.96875 7.515625 21.921875 7.515625 \n",
       "Q 23.390625 7.515625 25.78125 7.859375 \n",
       "z\n",
       "\" id=\"ArialMT-116\"/>\n",
       "       <path id=\"ArialMT-32\"/>\n",
       "       <path d=\"M 14.703125 0 \n",
       "L 6.546875 0 \n",
       "L 6.546875 71.578125 \n",
       "L 15.328125 71.578125 \n",
       "L 15.328125 46.046875 \n",
       "Q 20.90625 53.03125 29.546875 53.03125 \n",
       "Q 34.328125 53.03125 38.59375 51.09375 \n",
       "Q 42.875 49.171875 45.625 45.671875 \n",
       "Q 48.390625 42.1875 49.953125 37.25 \n",
       "Q 51.515625 32.328125 51.515625 26.703125 \n",
       "Q 51.515625 13.375 44.921875 6.09375 \n",
       "Q 38.328125 -1.171875 29.109375 -1.171875 \n",
       "Q 19.921875 -1.171875 14.703125 6.5 \n",
       "z\n",
       "M 14.59375 26.3125 \n",
       "Q 14.59375 17 17.140625 12.84375 \n",
       "Q 21.296875 6.0625 28.375 6.0625 \n",
       "Q 34.125 6.0625 38.328125 11.0625 \n",
       "Q 42.53125 16.0625 42.53125 25.984375 \n",
       "Q 42.53125 36.140625 38.5 40.96875 \n",
       "Q 34.46875 45.796875 28.765625 45.796875 \n",
       "Q 23 45.796875 18.796875 40.796875 \n",
       "Q 14.59375 35.796875 14.59375 26.3125 \n",
       "z\n",
       "\" id=\"ArialMT-98\"/>\n",
       "      </defs>\n",
       "      <use xlink:href=\"#ArialMT-80\"/>\n",
       "      <use x=\"66.699219\" xlink:href=\"#ArialMT-114\"/>\n",
       "      <use x=\"100\" xlink:href=\"#ArialMT-101\"/>\n",
       "      <use x=\"155.615234\" xlink:href=\"#ArialMT-100\"/>\n",
       "      <use x=\"211.230469\" xlink:href=\"#ArialMT-105\"/>\n",
       "      <use x=\"233.447266\" xlink:href=\"#ArialMT-99\"/>\n",
       "      <use x=\"283.447266\" xlink:href=\"#ArialMT-116\"/>\n",
       "      <use x=\"311.230469\" xlink:href=\"#ArialMT-101\"/>\n",
       "      <use x=\"366.845703\" xlink:href=\"#ArialMT-100\"/>\n",
       "      <use x=\"422.460938\" xlink:href=\"#ArialMT-32\"/>\n",
       "      <use x=\"450.244141\" xlink:href=\"#ArialMT-108\"/>\n",
       "      <use x=\"472.460938\" xlink:href=\"#ArialMT-97\"/>\n",
       "      <use x=\"528.076172\" xlink:href=\"#ArialMT-98\"/>\n",
       "      <use x=\"583.691406\" xlink:href=\"#ArialMT-101\"/>\n",
       "      <use x=\"639.306641\" xlink:href=\"#ArialMT-108\"/>\n",
       "     </g>\n",
       "    </g>\n",
       "   </g>\n",
       "   <g id=\"matplotlib.axis_2\">\n",
       "    <g id=\"ytick_1\">\n",
       "     <g id=\"text_4\">\n",
       "      <!-- fake -->\n",
       "      <g style=\"fill:#262626;\" transform=\"translate(20.345313 55.127812)scale(0.1 -0.1)\">\n",
       "       <use xlink:href=\"#ArialMT-102\"/>\n",
       "       <use x=\"27.783203\" xlink:href=\"#ArialMT-97\"/>\n",
       "       <use x=\"83.398438\" xlink:href=\"#ArialMT-107\"/>\n",
       "       <use x=\"133.398438\" xlink:href=\"#ArialMT-101\"/>\n",
       "      </g>\n",
       "     </g>\n",
       "    </g>\n",
       "    <g id=\"ytick_2\">\n",
       "     <g id=\"text_5\">\n",
       "      <!-- real -->\n",
       "      <g style=\"fill:#262626;\" transform=\"translate(22.571875 136.667812)scale(0.1 -0.1)\">\n",
       "       <use xlink:href=\"#ArialMT-114\"/>\n",
       "       <use x=\"33.300781\" xlink:href=\"#ArialMT-101\"/>\n",
       "       <use x=\"88.916016\" xlink:href=\"#ArialMT-97\"/>\n",
       "       <use x=\"144.53125\" xlink:href=\"#ArialMT-108\"/>\n",
       "      </g>\n",
       "     </g>\n",
       "    </g>\n",
       "    <g id=\"text_6\">\n",
       "     <!-- True label -->\n",
       "     <g style=\"fill:#262626;\" transform=\"translate(14.357813 114.363437)rotate(-90)scale(0.1 -0.1)\">\n",
       "      <defs>\n",
       "       <path d=\"M 25.921875 0 \n",
       "L 25.921875 63.140625 \n",
       "L 2.34375 63.140625 \n",
       "L 2.34375 71.578125 \n",
       "L 59.078125 71.578125 \n",
       "L 59.078125 63.140625 \n",
       "L 35.40625 63.140625 \n",
       "L 35.40625 0 \n",
       "z\n",
       "\" id=\"ArialMT-84\"/>\n",
       "       <path d=\"M 40.578125 0 \n",
       "L 40.578125 7.625 \n",
       "Q 34.515625 -1.171875 24.125 -1.171875 \n",
       "Q 19.53125 -1.171875 15.546875 0.578125 \n",
       "Q 11.578125 2.34375 9.640625 5 \n",
       "Q 7.71875 7.671875 6.9375 11.53125 \n",
       "Q 6.390625 14.109375 6.390625 19.734375 \n",
       "L 6.390625 51.859375 \n",
       "L 15.1875 51.859375 \n",
       "L 15.1875 23.09375 \n",
       "Q 15.1875 16.21875 15.71875 13.8125 \n",
       "Q 16.546875 10.359375 19.234375 8.375 \n",
       "Q 21.921875 6.390625 25.875 6.390625 \n",
       "Q 29.828125 6.390625 33.296875 8.421875 \n",
       "Q 36.765625 10.453125 38.203125 13.9375 \n",
       "Q 39.65625 17.4375 39.65625 24.078125 \n",
       "L 39.65625 51.859375 \n",
       "L 48.4375 51.859375 \n",
       "L 48.4375 0 \n",
       "z\n",
       "\" id=\"ArialMT-117\"/>\n",
       "      </defs>\n",
       "      <use xlink:href=\"#ArialMT-84\"/>\n",
       "      <use x=\"57.333984\" xlink:href=\"#ArialMT-114\"/>\n",
       "      <use x=\"90.634766\" xlink:href=\"#ArialMT-117\"/>\n",
       "      <use x=\"146.25\" xlink:href=\"#ArialMT-101\"/>\n",
       "      <use x=\"201.865234\" xlink:href=\"#ArialMT-32\"/>\n",
       "      <use x=\"229.648438\" xlink:href=\"#ArialMT-108\"/>\n",
       "      <use x=\"251.865234\" xlink:href=\"#ArialMT-97\"/>\n",
       "      <use x=\"307.480469\" xlink:href=\"#ArialMT-98\"/>\n",
       "      <use x=\"363.095703\" xlink:href=\"#ArialMT-101\"/>\n",
       "      <use x=\"418.710938\" xlink:href=\"#ArialMT-108\"/>\n",
       "     </g>\n",
       "    </g>\n",
       "   </g>\n",
       "   <g id=\"patch_3\">\n",
       "    <path d=\"M 46.245313 173.858906 \n",
       "L 46.245313 10.778906 \n",
       "\" style=\"fill:none;stroke:#cccccc;stroke-linecap:square;stroke-linejoin:miter;stroke-width:0.8;\"/>\n",
       "   </g>\n",
       "   <g id=\"patch_4\">\n",
       "    <path d=\"M 209.325313 173.858906 \n",
       "L 209.325313 10.778906 \n",
       "\" style=\"fill:none;stroke:#cccccc;stroke-linecap:square;stroke-linejoin:miter;stroke-width:0.8;\"/>\n",
       "   </g>\n",
       "   <g id=\"patch_5\">\n",
       "    <path d=\"M 46.245313 173.858906 \n",
       "L 209.325312 173.858906 \n",
       "\" style=\"fill:none;stroke:#cccccc;stroke-linecap:square;stroke-linejoin:miter;stroke-width:0.8;\"/>\n",
       "   </g>\n",
       "   <g id=\"patch_6\">\n",
       "    <path d=\"M 46.245313 10.778906 \n",
       "L 209.325312 10.778906 \n",
       "\" style=\"fill:none;stroke:#cccccc;stroke-linecap:square;stroke-linejoin:miter;stroke-width:0.8;\"/>\n",
       "   </g>\n",
       "   <g id=\"text_7\">\n",
       "    <!-- 35 -->\n",
       "    <g style=\"fill:#08306b;\" transform=\"translate(81.454375 54.134062)scale(0.1 -0.1)\">\n",
       "     <defs>\n",
       "      <path d=\"M 4.203125 18.890625 \n",
       "L 12.984375 20.0625 \n",
       "Q 14.5 12.59375 18.140625 9.296875 \n",
       "Q 21.78125 6 27 6 \n",
       "Q 33.203125 6 37.46875 10.296875 \n",
       "Q 41.75 14.59375 41.75 20.953125 \n",
       "Q 41.75 27 37.796875 30.921875 \n",
       "Q 33.84375 34.859375 27.734375 34.859375 \n",
       "Q 25.25 34.859375 21.53125 33.890625 \n",
       "L 22.515625 41.609375 \n",
       "Q 23.390625 41.5 23.921875 41.5 \n",
       "Q 29.546875 41.5 34.03125 44.421875 \n",
       "Q 38.53125 47.359375 38.53125 53.46875 \n",
       "Q 38.53125 58.296875 35.25 61.46875 \n",
       "Q 31.984375 64.65625 26.8125 64.65625 \n",
       "Q 21.6875 64.65625 18.265625 61.421875 \n",
       "Q 14.84375 58.203125 13.875 51.765625 \n",
       "L 5.078125 53.328125 \n",
       "Q 6.6875 62.15625 12.390625 67.015625 \n",
       "Q 18.109375 71.875 26.609375 71.875 \n",
       "Q 32.46875 71.875 37.390625 69.359375 \n",
       "Q 42.328125 66.84375 44.9375 62.5 \n",
       "Q 47.5625 58.15625 47.5625 53.265625 \n",
       "Q 47.5625 48.640625 45.0625 44.828125 \n",
       "Q 42.578125 41.015625 37.703125 38.765625 \n",
       "Q 44.046875 37.3125 47.5625 32.6875 \n",
       "Q 51.078125 28.078125 51.078125 21.140625 \n",
       "Q 51.078125 11.765625 44.234375 5.25 \n",
       "Q 37.40625 -1.265625 26.953125 -1.265625 \n",
       "Q 17.53125 -1.265625 11.296875 4.34375 \n",
       "Q 5.078125 9.96875 4.203125 18.890625 \n",
       "z\n",
       "\" id=\"ArialMT-51\"/>\n",
       "      <path d=\"M 4.15625 18.75 \n",
       "L 13.375 19.53125 \n",
       "Q 14.40625 12.796875 18.140625 9.390625 \n",
       "Q 21.875 6 27.15625 6 \n",
       "Q 33.5 6 37.890625 10.78125 \n",
       "Q 42.28125 15.578125 42.28125 23.484375 \n",
       "Q 42.28125 31 38.0625 35.34375 \n",
       "Q 33.84375 39.703125 27 39.703125 \n",
       "Q 22.75 39.703125 19.328125 37.765625 \n",
       "Q 15.921875 35.84375 13.96875 32.765625 \n",
       "L 5.71875 33.84375 \n",
       "L 12.640625 70.609375 \n",
       "L 48.25 70.609375 \n",
       "L 48.25 62.203125 \n",
       "L 19.671875 62.203125 \n",
       "L 15.828125 42.96875 \n",
       "Q 22.265625 47.46875 29.34375 47.46875 \n",
       "Q 38.71875 47.46875 45.15625 40.96875 \n",
       "Q 51.609375 34.46875 51.609375 24.265625 \n",
       "Q 51.609375 14.546875 45.953125 7.46875 \n",
       "Q 39.0625 -1.21875 27.15625 -1.21875 \n",
       "Q 17.390625 -1.21875 11.203125 4.25 \n",
       "Q 5.03125 9.71875 4.15625 18.75 \n",
       "z\n",
       "\" id=\"ArialMT-53\"/>\n",
       "     </defs>\n",
       "     <use xlink:href=\"#ArialMT-51\"/>\n",
       "     <use x=\"55.615234\" xlink:href=\"#ArialMT-53\"/>\n",
       "    </g>\n",
       "   </g>\n",
       "   <g id=\"text_8\">\n",
       "    <!-- 50 -->\n",
       "    <g style=\"fill:#f7fbff;\" transform=\"translate(162.994375 54.134062)scale(0.1 -0.1)\">\n",
       "     <defs>\n",
       "      <path d=\"M 4.15625 35.296875 \n",
       "Q 4.15625 48 6.765625 55.734375 \n",
       "Q 9.375 63.484375 14.515625 67.671875 \n",
       "Q 19.671875 71.875 27.484375 71.875 \n",
       "Q 33.25 71.875 37.59375 69.546875 \n",
       "Q 41.9375 67.234375 44.765625 62.859375 \n",
       "Q 47.609375 58.5 49.21875 52.21875 \n",
       "Q 50.828125 45.953125 50.828125 35.296875 \n",
       "Q 50.828125 22.703125 48.234375 14.96875 \n",
       "Q 45.65625 7.234375 40.5 3 \n",
       "Q 35.359375 -1.21875 27.484375 -1.21875 \n",
       "Q 17.140625 -1.21875 11.234375 6.203125 \n",
       "Q 4.15625 15.140625 4.15625 35.296875 \n",
       "z\n",
       "M 13.1875 35.296875 \n",
       "Q 13.1875 17.671875 17.3125 11.828125 \n",
       "Q 21.4375 6 27.484375 6 \n",
       "Q 33.546875 6 37.671875 11.859375 \n",
       "Q 41.796875 17.71875 41.796875 35.296875 \n",
       "Q 41.796875 52.984375 37.671875 58.78125 \n",
       "Q 33.546875 64.59375 27.390625 64.59375 \n",
       "Q 21.34375 64.59375 17.71875 59.46875 \n",
       "Q 13.1875 52.9375 13.1875 35.296875 \n",
       "z\n",
       "\" id=\"ArialMT-48\"/>\n",
       "     </defs>\n",
       "     <use xlink:href=\"#ArialMT-53\"/>\n",
       "     <use x=\"55.615234\" xlink:href=\"#ArialMT-48\"/>\n",
       "    </g>\n",
       "   </g>\n",
       "   <g id=\"text_9\">\n",
       "    <!-- 11 -->\n",
       "    <g style=\"fill:#08306b;\" transform=\"translate(81.823125 135.674062)scale(0.1 -0.1)\">\n",
       "     <defs>\n",
       "      <path d=\"M 37.25 0 \n",
       "L 28.46875 0 \n",
       "L 28.46875 56 \n",
       "Q 25.296875 52.984375 20.140625 49.953125 \n",
       "Q 14.984375 46.921875 10.890625 45.40625 \n",
       "L 10.890625 53.90625 \n",
       "Q 18.265625 57.375 23.78125 62.296875 \n",
       "Q 29.296875 67.234375 31.59375 71.875 \n",
       "L 37.25 71.875 \n",
       "z\n",
       "\" id=\"ArialMT-49\"/>\n",
       "     </defs>\n",
       "     <use xlink:href=\"#ArialMT-49\"/>\n",
       "     <use x=\"48.240234\" xlink:href=\"#ArialMT-49\"/>\n",
       "    </g>\n",
       "   </g>\n",
       "   <g id=\"text_10\">\n",
       "    <!-- 70 -->\n",
       "    <g style=\"fill:#f7fbff;\" transform=\"translate(162.994375 135.674062)scale(0.1 -0.1)\">\n",
       "     <defs>\n",
       "      <path d=\"M 4.734375 62.203125 \n",
       "L 4.734375 70.65625 \n",
       "L 51.078125 70.65625 \n",
       "L 51.078125 63.8125 \n",
       "Q 44.234375 56.546875 37.515625 44.484375 \n",
       "Q 30.8125 32.421875 27.15625 19.671875 \n",
       "Q 24.515625 10.6875 23.78125 0 \n",
       "L 14.75 0 \n",
       "Q 14.890625 8.453125 18.0625 20.40625 \n",
       "Q 21.234375 32.375 27.171875 43.484375 \n",
       "Q 33.109375 54.59375 39.796875 62.203125 \n",
       "z\n",
       "\" id=\"ArialMT-55\"/>\n",
       "     </defs>\n",
       "     <use xlink:href=\"#ArialMT-55\"/>\n",
       "     <use x=\"55.615234\" xlink:href=\"#ArialMT-48\"/>\n",
       "    </g>\n",
       "   </g>\n",
       "  </g>\n",
       "  <g id=\"axes_2\">\n",
       "   <g id=\"patch_7\">\n",
       "    <path clip-path=\"url(#p9a6e04433a)\" d=\"M 220.485313 173.858906 \n",
       "L 220.485313 173.221875 \n",
       "L 220.485313 11.415937 \n",
       "L 220.485313 10.778906 \n",
       "L 228.639313 10.778906 \n",
       "L 228.639313 11.415937 \n",
       "L 228.639313 173.221875 \n",
       "L 228.639313 173.858906 \n",
       "z\n",
       "\" style=\"fill:#ffffff;stroke:#ffffff;stroke-linejoin:miter;stroke-width:0.01;\"/>\n",
       "   </g>\n",
       "   <g id=\"matplotlib.axis_3\"/>\n",
       "   <g id=\"matplotlib.axis_4\">\n",
       "    <g id=\"ytick_3\">\n",
       "     <g id=\"line2d_1\">\n",
       "      <defs>\n",
       "       <path d=\"M 0 0 \n",
       "L 3.5 0 \n",
       "\" id=\"m470e98cffa\" style=\"stroke:#262626;stroke-width:0.8;\"/>\n",
       "      </defs>\n",
       "      <g>\n",
       "       <use style=\"fill:#262626;stroke:#262626;stroke-width:0.8;\" x=\"228.639313\" xlink:href=\"#m470e98cffa\" y=\"148.982296\"/>\n",
       "      </g>\n",
       "     </g>\n",
       "     <g id=\"text_11\">\n",
       "      <!-- 20 -->\n",
       "      <g style=\"fill:#262626;\" transform=\"translate(235.639313 152.561202)scale(0.1 -0.1)\">\n",
       "       <defs>\n",
       "        <path d=\"M 50.34375 8.453125 \n",
       "L 50.34375 0 \n",
       "L 3.03125 0 \n",
       "Q 2.9375 3.171875 4.046875 6.109375 \n",
       "Q 5.859375 10.9375 9.828125 15.625 \n",
       "Q 13.8125 20.3125 21.34375 26.46875 \n",
       "Q 33.015625 36.03125 37.109375 41.625 \n",
       "Q 41.21875 47.21875 41.21875 52.203125 \n",
       "Q 41.21875 57.421875 37.46875 61 \n",
       "Q 33.734375 64.59375 27.734375 64.59375 \n",
       "Q 21.390625 64.59375 17.578125 60.78125 \n",
       "Q 13.765625 56.984375 13.71875 50.25 \n",
       "L 4.6875 51.171875 \n",
       "Q 5.609375 61.28125 11.65625 66.578125 \n",
       "Q 17.71875 71.875 27.9375 71.875 \n",
       "Q 38.234375 71.875 44.234375 66.15625 \n",
       "Q 50.25 60.453125 50.25 52 \n",
       "Q 50.25 47.703125 48.484375 43.546875 \n",
       "Q 46.734375 39.40625 42.65625 34.8125 \n",
       "Q 38.578125 30.21875 29.109375 22.21875 \n",
       "Q 21.1875 15.578125 18.9375 13.203125 \n",
       "Q 16.703125 10.84375 15.234375 8.453125 \n",
       "z\n",
       "\" id=\"ArialMT-50\"/>\n",
       "       </defs>\n",
       "       <use xlink:href=\"#ArialMT-50\"/>\n",
       "       <use x=\"55.615234\" xlink:href=\"#ArialMT-48\"/>\n",
       "      </g>\n",
       "     </g>\n",
       "    </g>\n",
       "    <g id=\"ytick_4\">\n",
       "     <g id=\"line2d_2\">\n",
       "      <g>\n",
       "       <use style=\"fill:#262626;stroke:#262626;stroke-width:0.8;\" x=\"228.639313\" xlink:href=\"#m470e98cffa\" y=\"121.341618\"/>\n",
       "      </g>\n",
       "     </g>\n",
       "     <g id=\"text_12\">\n",
       "      <!-- 30 -->\n",
       "      <g style=\"fill:#262626;\" transform=\"translate(235.639313 124.920524)scale(0.1 -0.1)\">\n",
       "       <use xlink:href=\"#ArialMT-51\"/>\n",
       "       <use x=\"55.615234\" xlink:href=\"#ArialMT-48\"/>\n",
       "      </g>\n",
       "     </g>\n",
       "    </g>\n",
       "    <g id=\"ytick_5\">\n",
       "     <g id=\"line2d_3\">\n",
       "      <g>\n",
       "       <use style=\"fill:#262626;stroke:#262626;stroke-width:0.8;\" x=\"228.639313\" xlink:href=\"#m470e98cffa\" y=\"93.70094\"/>\n",
       "      </g>\n",
       "     </g>\n",
       "     <g id=\"text_13\">\n",
       "      <!-- 40 -->\n",
       "      <g style=\"fill:#262626;\" transform=\"translate(235.639313 97.279846)scale(0.1 -0.1)\">\n",
       "       <defs>\n",
       "        <path d=\"M 32.328125 0 \n",
       "L 32.328125 17.140625 \n",
       "L 1.265625 17.140625 \n",
       "L 1.265625 25.203125 \n",
       "L 33.9375 71.578125 \n",
       "L 41.109375 71.578125 \n",
       "L 41.109375 25.203125 \n",
       "L 50.78125 25.203125 \n",
       "L 50.78125 17.140625 \n",
       "L 41.109375 17.140625 \n",
       "L 41.109375 0 \n",
       "z\n",
       "M 32.328125 25.203125 \n",
       "L 32.328125 57.46875 \n",
       "L 9.90625 25.203125 \n",
       "z\n",
       "\" id=\"ArialMT-52\"/>\n",
       "       </defs>\n",
       "       <use xlink:href=\"#ArialMT-52\"/>\n",
       "       <use x=\"55.615234\" xlink:href=\"#ArialMT-48\"/>\n",
       "      </g>\n",
       "     </g>\n",
       "    </g>\n",
       "    <g id=\"ytick_6\">\n",
       "     <g id=\"line2d_4\">\n",
       "      <g>\n",
       "       <use style=\"fill:#262626;stroke:#262626;stroke-width:0.8;\" x=\"228.639313\" xlink:href=\"#m470e98cffa\" y=\"66.060262\"/>\n",
       "      </g>\n",
       "     </g>\n",
       "     <g id=\"text_14\">\n",
       "      <!-- 50 -->\n",
       "      <g style=\"fill:#262626;\" transform=\"translate(235.639313 69.639168)scale(0.1 -0.1)\">\n",
       "       <use xlink:href=\"#ArialMT-53\"/>\n",
       "       <use x=\"55.615234\" xlink:href=\"#ArialMT-48\"/>\n",
       "      </g>\n",
       "     </g>\n",
       "    </g>\n",
       "    <g id=\"ytick_7\">\n",
       "     <g id=\"line2d_5\">\n",
       "      <g>\n",
       "       <use style=\"fill:#262626;stroke:#262626;stroke-width:0.8;\" x=\"228.639313\" xlink:href=\"#m470e98cffa\" y=\"38.419584\"/>\n",
       "      </g>\n",
       "     </g>\n",
       "     <g id=\"text_15\">\n",
       "      <!-- 60 -->\n",
       "      <g style=\"fill:#262626;\" transform=\"translate(235.639313 41.99849)scale(0.1 -0.1)\">\n",
       "       <defs>\n",
       "        <path d=\"M 49.75 54.046875 \n",
       "L 41.015625 53.375 \n",
       "Q 39.84375 58.546875 37.703125 60.890625 \n",
       "Q 34.125 64.65625 28.90625 64.65625 \n",
       "Q 24.703125 64.65625 21.53125 62.3125 \n",
       "Q 17.390625 59.28125 14.984375 53.46875 \n",
       "Q 12.59375 47.65625 12.5 36.921875 \n",
       "Q 15.671875 41.75 20.265625 44.09375 \n",
       "Q 24.859375 46.4375 29.890625 46.4375 \n",
       "Q 38.671875 46.4375 44.84375 39.96875 \n",
       "Q 51.03125 33.5 51.03125 23.25 \n",
       "Q 51.03125 16.5 48.125 10.71875 \n",
       "Q 45.21875 4.9375 40.140625 1.859375 \n",
       "Q 35.0625 -1.21875 28.609375 -1.21875 \n",
       "Q 17.625 -1.21875 10.6875 6.859375 \n",
       "Q 3.765625 14.9375 3.765625 33.5 \n",
       "Q 3.765625 54.25 11.421875 63.671875 \n",
       "Q 18.109375 71.875 29.4375 71.875 \n",
       "Q 37.890625 71.875 43.28125 67.140625 \n",
       "Q 48.6875 62.40625 49.75 54.046875 \n",
       "z\n",
       "M 13.875 23.1875 \n",
       "Q 13.875 18.65625 15.796875 14.5 \n",
       "Q 17.71875 10.359375 21.1875 8.171875 \n",
       "Q 24.65625 6 28.46875 6 \n",
       "Q 34.03125 6 38.03125 10.484375 \n",
       "Q 42.046875 14.984375 42.046875 22.703125 \n",
       "Q 42.046875 30.125 38.078125 34.390625 \n",
       "Q 34.125 38.671875 28.125 38.671875 \n",
       "Q 22.171875 38.671875 18.015625 34.390625 \n",
       "Q 13.875 30.125 13.875 23.1875 \n",
       "z\n",
       "\" id=\"ArialMT-54\"/>\n",
       "       </defs>\n",
       "       <use xlink:href=\"#ArialMT-54\"/>\n",
       "       <use x=\"55.615234\" xlink:href=\"#ArialMT-48\"/>\n",
       "      </g>\n",
       "     </g>\n",
       "    </g>\n",
       "    <g id=\"ytick_8\">\n",
       "     <g id=\"line2d_6\">\n",
       "      <g>\n",
       "       <use style=\"fill:#262626;stroke:#262626;stroke-width:0.8;\" x=\"228.639313\" xlink:href=\"#m470e98cffa\" y=\"10.778906\"/>\n",
       "      </g>\n",
       "     </g>\n",
       "     <g id=\"text_16\">\n",
       "      <!-- 70 -->\n",
       "      <g style=\"fill:#262626;\" transform=\"translate(235.639313 14.357812)scale(0.1 -0.1)\">\n",
       "       <use xlink:href=\"#ArialMT-55\"/>\n",
       "       <use x=\"55.615234\" xlink:href=\"#ArialMT-48\"/>\n",
       "      </g>\n",
       "     </g>\n",
       "    </g>\n",
       "   </g>\n",
       "   <image height=\"164\" id=\"image37ad0b9adf\" transform=\"scale(1 -1)translate(0 -164)\" width=\"9\" x=\"220\" xlink:href=\"data:image/png;base64,\n",
       "iVBORw0KGgoAAAANSUhEUgAAAAkAAACkCAYAAABFEwQgAAAA5UlEQVR4nO2XOQ7DQAwDlWD//90U8cp5gqYYEGsgrglqQB22X5/vfdfwrJ41tWrW1Goiukk5YATBgYaKQAZmBEeCI5FWjoCLOT12MrPgj70FIrg2mR74zoaJckJOEJwwNWFi59BqsNcW5ATBtbYcGMEGo8nAL80J9o44ESYkYuWy4GIE3n0iVwWt1KU5hRehWe88kcUEI4ieQzFMtgjaEfPCDE+mBh53GjWnRjBqajX4XhMj2OCVcGQE7L+FOIXLsf87cTIJk1YuDX4ik1auegOR6EQWATmFy4Uj2P8IrCl4j4qq+gEug5A9Wqa0KgAAAABJRU5ErkJggg==\" y=\"-10\"/>\n",
       "   <g id=\"patch_8\">\n",
       "    <path d=\"M 220.485313 173.858906 \n",
       "L 220.485313 173.221875 \n",
       "L 220.485313 11.415937 \n",
       "L 220.485313 10.778906 \n",
       "L 228.639313 10.778906 \n",
       "L 228.639313 11.415937 \n",
       "L 228.639313 173.221875 \n",
       "L 228.639313 173.858906 \n",
       "z\n",
       "\" style=\"fill:none;stroke:#cccccc;stroke-linejoin:miter;stroke-width:0.8;\"/>\n",
       "   </g>\n",
       "  </g>\n",
       " </g>\n",
       " <defs>\n",
       "  <clipPath id=\"pcfc8351d04\">\n",
       "   <rect height=\"163.08\" width=\"163.08\" x=\"46.245313\" y=\"10.778906\"/>\n",
       "  </clipPath>\n",
       "  <clipPath id=\"p9a6e04433a\">\n",
       "   <rect height=\"163.08\" width=\"8.154\" x=\"220.485313\" y=\"10.778906\"/>\n",
       "  </clipPath>\n",
       " </defs>\n",
       "</svg>\n"
      ],
      "text/plain": [
       "<Figure size 288x216 with 2 Axes>"
      ]
     },
     "metadata": {},
     "output_type": "display_data"
    }
   ],
   "source": [
    "plot_confusion_matrix(clf, X_test, y_test,\n",
    "                      cmap=plt.cm.Blues)\n",
    "plt.grid(False);"
   ]
  },
  {
   "cell_type": "code",
   "execution_count": 39,
   "id": "df6f344a-074b-4d67-9740-7436ad226837",
   "metadata": {},
   "outputs": [
    {
     "data": {
      "text/plain": [
       "array([    0.  ,     0.  ,     0.01,     0.05,     0.36,     2.78,\n",
       "          21.54,   166.81,  1291.55, 10000.  ])"
      ]
     },
     "execution_count": 39,
     "metadata": {},
     "output_type": "execute_result"
    }
   ],
   "source": [
    "log_reg = clf.named_steps['logisticregressioncv']\n",
    "log_reg.Cs_"
   ]
  },
  {
   "cell_type": "code",
   "execution_count": 40,
   "id": "57653fe8-cc31-4a40-afe3-445f4ce00a09",
   "metadata": {},
   "outputs": [
    {
     "data": {
      "text/html": [
       "<div>\n",
       "<style scoped>\n",
       "    .dataframe tbody tr th:only-of-type {\n",
       "        vertical-align: middle;\n",
       "    }\n",
       "\n",
       "    .dataframe tbody tr th {\n",
       "        vertical-align: top;\n",
       "    }\n",
       "\n",
       "    .dataframe thead th {\n",
       "        text-align: right;\n",
       "    }\n",
       "</style>\n",
       "<table border=\"1\" class=\"dataframe\">\n",
       "  <thead>\n",
       "    <tr style=\"text-align: right;\">\n",
       "      <th></th>\n",
       "      <th>coef</th>\n",
       "    </tr>\n",
       "    <tr>\n",
       "      <th>word</th>\n",
       "      <th></th>\n",
       "    </tr>\n",
       "  </thead>\n",
       "  <tbody>\n",
       "    <tr>\n",
       "      <th>trump</th>\n",
       "      <td>-0.92</td>\n",
       "    </tr>\n",
       "  </tbody>\n",
       "</table>\n",
       "</div>"
      ],
      "text/plain": [
       "       coef\n",
       "word       \n",
       "trump -0.92"
      ]
     },
     "execution_count": 40,
     "metadata": {},
     "output_type": "execute_result"
    }
   ],
   "source": [
    "coefs = (pd.DataFrame({'word': word_features, 'coef': log_reg.coef_[0]})\n",
    "         .set_index('word')\n",
    "         .sort_values('coef')\n",
    "        )\n",
    "coefs"
   ]
  },
  {
   "cell_type": "markdown",
   "id": "711ef1a2-2922-41f3-ac68-023c07f7d1e3",
   "metadata": {},
   "source": [
    "## log reg with multiple word features"
   ]
  },
  {
   "cell_type": "code",
   "execution_count": 41,
   "id": "4ec0b214-b1ac-4c02-a1df-dd378cf6e502",
   "metadata": {},
   "outputs": [],
   "source": [
    "word_features = [\n",
    "    'military',\n",
    "    'state',\n",
    "    'vote',\n",
    "    'congress',\n",
    "    'fbi',\n",
    "    'shutdown',\n",
    "    'investig',\n",
    "    'antifa',\n",
    "\n",
    "    'joke',\n",
    "    'princ',\n",
    "    'homeless',\n",
    "    'cnn',\n",
    "\n",
    "    'trump',\n",
    "    'donald',\n",
    "    'hillary',\n",
    "    'clinton'\n",
    "]"
   ]
  },
  {
   "cell_type": "code",
   "execution_count": 42,
   "id": "56bca4f9-640a-489f-9a94-a4823e4c5ce2",
   "metadata": {},
   "outputs": [],
   "source": [
    "clf = make_pipeline(\n",
    "    FunctionTransformer(make_word_features, kw_args={'words': word_features}),\n",
    "    LogisticRegressionCV(Cs=10,\n",
    "                         solver='saga',\n",
    "                         n_jobs=4,\n",
    "                         max_iter=10000)\n",
    ")"
   ]
  },
  {
   "cell_type": "code",
   "execution_count": 43,
   "id": "d914a1f7-31ae-483d-90ba-d3103a027c14",
   "metadata": {},
   "outputs": [
    {
     "name": "stdout",
     "output_type": "stream",
     "text": [
      "0.7409638554216867\n",
      "CPU times: user 1.65 s, sys: 9.73 ms, total: 1.66 s\n",
      "Wall time: 616 ms\n"
     ]
    }
   ],
   "source": [
    "%%time\n",
    "\n",
    "clf.fit(X_train, y_train)\n",
    "print(clf.score(X_test, y_test))"
   ]
  },
  {
   "cell_type": "code",
   "execution_count": 45,
   "id": "6ccc90a2-08a9-446e-9e99-0e870b0d33f7",
   "metadata": {},
   "outputs": [
    {
     "data": {
      "image/svg+xml": [
       "<?xml version=\"1.0\" encoding=\"utf-8\" standalone=\"no\"?>\n",
       "<!DOCTYPE svg PUBLIC \"-//W3C//DTD SVG 1.1//EN\"\n",
       "  \"http://www.w3.org/Graphics/SVG/1.1/DTD/svg11.dtd\">\n",
       "<!-- Created with matplotlib (https://matplotlib.org/) -->\n",
       "<svg height=\"207.488479pt\" version=\"1.1\" viewBox=\"0 0 253.961187 207.488479\" width=\"253.961187pt\" xmlns=\"http://www.w3.org/2000/svg\" xmlns:xlink=\"http://www.w3.org/1999/xlink\">\n",
       " <metadata>\n",
       "  <rdf:RDF xmlns:cc=\"http://creativecommons.org/ns#\" xmlns:dc=\"http://purl.org/dc/elements/1.1/\" xmlns:rdf=\"http://www.w3.org/1999/02/22-rdf-syntax-ns#\">\n",
       "   <cc:Work>\n",
       "    <dc:type rdf:resource=\"http://purl.org/dc/dcmitype/StillImage\"/>\n",
       "    <dc:date>2022-12-15T15:50:36.273423</dc:date>\n",
       "    <dc:format>image/svg+xml</dc:format>\n",
       "    <dc:creator>\n",
       "     <cc:Agent>\n",
       "      <dc:title>Matplotlib v3.3.4, https://matplotlib.org/</dc:title>\n",
       "     </cc:Agent>\n",
       "    </dc:creator>\n",
       "   </cc:Work>\n",
       "  </rdf:RDF>\n",
       " </metadata>\n",
       " <defs>\n",
       "  <style type=\"text/css\">*{stroke-linecap:butt;stroke-linejoin:round;}</style>\n",
       " </defs>\n",
       " <g id=\"figure_1\">\n",
       "  <g id=\"patch_1\">\n",
       "   <path d=\"M 0 207.488479 \n",
       "L 253.961187 207.488479 \n",
       "L 253.961187 0 \n",
       "L 0 0 \n",
       "z\n",
       "\" style=\"fill:#ffffff;\"/>\n",
       "  </g>\n",
       "  <g id=\"axes_1\">\n",
       "   <g id=\"patch_2\">\n",
       "    <path d=\"M 46.245313 170.997854 \n",
       "L 209.325313 170.997854 \n",
       "L 209.325313 7.917854 \n",
       "L 46.245313 7.917854 \n",
       "z\n",
       "\" style=\"fill:#ffffff;\"/>\n",
       "   </g>\n",
       "   <g clip-path=\"url(#pc83e4cab73)\">\n",
       "    <image height=\"164\" id=\"image339a4b72c2\" transform=\"scale(1 -1)translate(0 -164)\" width=\"164\" x=\"46.245313\" xlink:href=\"data:image/png;base64,\n",
       "iVBORw0KGgoAAAANSUhEUgAAAKQAAACkCAYAAAAZtYVBAAAB8klEQVR4nO3UoRHCUAAFQYKiHPrCU0nqoIdoJIoiGEpILB7xb/7sVvDEzVu292c/8bf74zV6whTOowfAL0GSIkhSBEmKIEkRJCmCJEWQpAiSFEGSIkhSBEmKIEkRJCmCJEWQpAiSFEGSIkhSBEmKIEkRJCmCJEWQpAiSFEGSIkhSBEmKIEkRJCmCJEWQpAiSFEGSIkhSBEmKIEkRJCmCJEWQpAiSFEGSIkhSBEmKIEkRJCmCJEWQpAiSFEGSIkhSBEmKIEkRJCmCJEWQpAiSFEGSIkhSBEmKIEkRJCmCJEWQpAiSFEGSIkhSBEmKIEkRJCmCJEWQpAiSFEGSIkhSBEmKIEkRJCmCJEWQpAiSlOVyve2jR8zg+1xHT5iChyRFkKQIkhRBkiJIUgRJiiBJESQpgiRFkKQIkhRBkiJIUgRJiiBJESQpgiRFkKQIkhRBkiJIUgRJiiBJESQpgiRFkKQIkhRBkiJIUgRJiiBJESQpgiRFkKQIkhRBkiJIUgRJiiBJESQpgiRFkKQIkhRBkiJIUgRJiiBJESQpgiRFkKQIkhRBkiJIUgRJiiBJESQpgiRFkKQIkhRBkiJIUgRJiiBJESQpgiRFkKQIkhRBkiJIUgRJiiBJESQpgiRFkKQIkhRBkiJIUgRJiiBJESQpgiTlAERbCrT6JFxyAAAAAElFTkSuQmCC\" y=\"-6.997854\"/>\n",
       "   </g>\n",
       "   <g id=\"matplotlib.axis_1\">\n",
       "    <g id=\"xtick_1\">\n",
       "     <g id=\"text_1\">\n",
       "      <!-- fake -->\n",
       "      <g style=\"fill:#262626;\" transform=\"translate(77.565313 185.155666)scale(0.1 -0.1)\">\n",
       "       <defs>\n",
       "        <path d=\"M 8.6875 0 \n",
       "L 8.6875 45.015625 \n",
       "L 0.921875 45.015625 \n",
       "L 0.921875 51.859375 \n",
       "L 8.6875 51.859375 \n",
       "L 8.6875 57.375 \n",
       "Q 8.6875 62.59375 9.625 65.140625 \n",
       "Q 10.890625 68.5625 14.078125 70.671875 \n",
       "Q 17.28125 72.796875 23.046875 72.796875 \n",
       "Q 26.765625 72.796875 31.25 71.921875 \n",
       "L 29.9375 64.265625 \n",
       "Q 27.203125 64.75 24.75 64.75 \n",
       "Q 20.75 64.75 19.09375 63.03125 \n",
       "Q 17.4375 61.328125 17.4375 56.640625 \n",
       "L 17.4375 51.859375 \n",
       "L 27.546875 51.859375 \n",
       "L 27.546875 45.015625 \n",
       "L 17.4375 45.015625 \n",
       "L 17.4375 0 \n",
       "z\n",
       "\" id=\"ArialMT-102\"/>\n",
       "        <path d=\"M 40.4375 6.390625 \n",
       "Q 35.546875 2.25 31.03125 0.53125 \n",
       "Q 26.515625 -1.171875 21.34375 -1.171875 \n",
       "Q 12.796875 -1.171875 8.203125 3 \n",
       "Q 3.609375 7.171875 3.609375 13.671875 \n",
       "Q 3.609375 17.484375 5.34375 20.625 \n",
       "Q 7.078125 23.78125 9.890625 25.6875 \n",
       "Q 12.703125 27.59375 16.21875 28.5625 \n",
       "Q 18.796875 29.25 24.03125 29.890625 \n",
       "Q 34.671875 31.15625 39.703125 32.90625 \n",
       "Q 39.75 34.71875 39.75 35.203125 \n",
       "Q 39.75 40.578125 37.25 42.78125 \n",
       "Q 33.890625 45.75 27.25 45.75 \n",
       "Q 21.046875 45.75 18.09375 43.578125 \n",
       "Q 15.140625 41.40625 13.71875 35.890625 \n",
       "L 5.125 37.0625 \n",
       "Q 6.296875 42.578125 8.984375 45.96875 \n",
       "Q 11.671875 49.359375 16.75 51.1875 \n",
       "Q 21.828125 53.03125 28.515625 53.03125 \n",
       "Q 35.15625 53.03125 39.296875 51.46875 \n",
       "Q 43.453125 49.90625 45.40625 47.53125 \n",
       "Q 47.359375 45.171875 48.140625 41.546875 \n",
       "Q 48.578125 39.3125 48.578125 33.453125 \n",
       "L 48.578125 21.734375 \n",
       "Q 48.578125 9.46875 49.140625 6.21875 \n",
       "Q 49.703125 2.984375 51.375 0 \n",
       "L 42.1875 0 \n",
       "Q 40.828125 2.734375 40.4375 6.390625 \n",
       "z\n",
       "M 39.703125 26.03125 \n",
       "Q 34.90625 24.078125 25.34375 22.703125 \n",
       "Q 19.921875 21.921875 17.671875 20.9375 \n",
       "Q 15.4375 19.96875 14.203125 18.09375 \n",
       "Q 12.984375 16.21875 12.984375 13.921875 \n",
       "Q 12.984375 10.40625 15.640625 8.0625 \n",
       "Q 18.3125 5.71875 23.4375 5.71875 \n",
       "Q 28.515625 5.71875 32.46875 7.9375 \n",
       "Q 36.421875 10.15625 38.28125 14.015625 \n",
       "Q 39.703125 17 39.703125 22.796875 \n",
       "z\n",
       "\" id=\"ArialMT-97\"/>\n",
       "        <path d=\"M 6.640625 0 \n",
       "L 6.640625 71.578125 \n",
       "L 15.4375 71.578125 \n",
       "L 15.4375 30.765625 \n",
       "L 36.234375 51.859375 \n",
       "L 47.609375 51.859375 \n",
       "L 27.78125 32.625 \n",
       "L 49.609375 0 \n",
       "L 38.765625 0 \n",
       "L 21.625 26.515625 \n",
       "L 15.4375 20.5625 \n",
       "L 15.4375 0 \n",
       "z\n",
       "\" id=\"ArialMT-107\"/>\n",
       "        <path d=\"M 42.09375 16.703125 \n",
       "L 51.171875 15.578125 \n",
       "Q 49.03125 7.625 43.21875 3.21875 \n",
       "Q 37.40625 -1.171875 28.375 -1.171875 \n",
       "Q 17 -1.171875 10.328125 5.828125 \n",
       "Q 3.65625 12.84375 3.65625 25.484375 \n",
       "Q 3.65625 38.578125 10.390625 45.796875 \n",
       "Q 17.140625 53.03125 27.875 53.03125 \n",
       "Q 38.28125 53.03125 44.875 45.953125 \n",
       "Q 51.46875 38.875 51.46875 26.03125 \n",
       "Q 51.46875 25.25 51.421875 23.6875 \n",
       "L 12.75 23.6875 \n",
       "Q 13.234375 15.140625 17.578125 10.59375 \n",
       "Q 21.921875 6.0625 28.421875 6.0625 \n",
       "Q 33.25 6.0625 36.671875 8.59375 \n",
       "Q 40.09375 11.140625 42.09375 16.703125 \n",
       "z\n",
       "M 13.234375 30.90625 \n",
       "L 42.1875 30.90625 \n",
       "Q 41.609375 37.453125 38.875 40.71875 \n",
       "Q 34.671875 45.796875 27.984375 45.796875 \n",
       "Q 21.921875 45.796875 17.796875 41.75 \n",
       "Q 13.671875 37.703125 13.234375 30.90625 \n",
       "z\n",
       "\" id=\"ArialMT-101\"/>\n",
       "       </defs>\n",
       "       <use xlink:href=\"#ArialMT-102\"/>\n",
       "       <use x=\"27.783203\" xlink:href=\"#ArialMT-97\"/>\n",
       "       <use x=\"83.398438\" xlink:href=\"#ArialMT-107\"/>\n",
       "       <use x=\"133.398438\" xlink:href=\"#ArialMT-101\"/>\n",
       "      </g>\n",
       "     </g>\n",
       "    </g>\n",
       "    <g id=\"xtick_2\">\n",
       "     <g id=\"text_2\">\n",
       "      <!-- real -->\n",
       "      <g style=\"fill:#262626;\" transform=\"translate(160.218594 185.155666)scale(0.1 -0.1)\">\n",
       "       <defs>\n",
       "        <path d=\"M 6.5 0 \n",
       "L 6.5 51.859375 \n",
       "L 14.40625 51.859375 \n",
       "L 14.40625 44 \n",
       "Q 17.4375 49.515625 20 51.265625 \n",
       "Q 22.5625 53.03125 25.640625 53.03125 \n",
       "Q 30.078125 53.03125 34.671875 50.203125 \n",
       "L 31.640625 42.046875 \n",
       "Q 28.421875 43.953125 25.203125 43.953125 \n",
       "Q 22.3125 43.953125 20.015625 42.21875 \n",
       "Q 17.71875 40.484375 16.75 37.40625 \n",
       "Q 15.28125 32.71875 15.28125 27.15625 \n",
       "L 15.28125 0 \n",
       "z\n",
       "\" id=\"ArialMT-114\"/>\n",
       "        <path d=\"M 6.390625 0 \n",
       "L 6.390625 71.578125 \n",
       "L 15.1875 71.578125 \n",
       "L 15.1875 0 \n",
       "z\n",
       "\" id=\"ArialMT-108\"/>\n",
       "       </defs>\n",
       "       <use xlink:href=\"#ArialMT-114\"/>\n",
       "       <use x=\"33.300781\" xlink:href=\"#ArialMT-101\"/>\n",
       "       <use x=\"88.916016\" xlink:href=\"#ArialMT-97\"/>\n",
       "       <use x=\"144.53125\" xlink:href=\"#ArialMT-108\"/>\n",
       "      </g>\n",
       "     </g>\n",
       "    </g>\n",
       "    <g id=\"text_3\">\n",
       "     <!-- Predicted label -->\n",
       "     <g style=\"fill:#262626;\" transform=\"translate(94.711094 198.300979)scale(0.1 -0.1)\">\n",
       "      <defs>\n",
       "       <path d=\"M 7.71875 0 \n",
       "L 7.71875 71.578125 \n",
       "L 34.71875 71.578125 \n",
       "Q 41.84375 71.578125 45.609375 70.90625 \n",
       "Q 50.875 70.015625 54.4375 67.546875 \n",
       "Q 58.015625 65.09375 60.1875 60.640625 \n",
       "Q 62.359375 56.203125 62.359375 50.875 \n",
       "Q 62.359375 41.75 56.546875 35.421875 \n",
       "Q 50.734375 29.109375 35.546875 29.109375 \n",
       "L 17.1875 29.109375 \n",
       "L 17.1875 0 \n",
       "z\n",
       "M 17.1875 37.546875 \n",
       "L 35.6875 37.546875 \n",
       "Q 44.875 37.546875 48.734375 40.96875 \n",
       "Q 52.59375 44.390625 52.59375 50.59375 \n",
       "Q 52.59375 55.078125 50.3125 58.265625 \n",
       "Q 48.046875 61.46875 44.34375 62.5 \n",
       "Q 41.9375 63.140625 35.5 63.140625 \n",
       "L 17.1875 63.140625 \n",
       "z\n",
       "\" id=\"ArialMT-80\"/>\n",
       "       <path d=\"M 40.234375 0 \n",
       "L 40.234375 6.546875 \n",
       "Q 35.296875 -1.171875 25.734375 -1.171875 \n",
       "Q 19.53125 -1.171875 14.328125 2.25 \n",
       "Q 9.125 5.671875 6.265625 11.796875 \n",
       "Q 3.421875 17.921875 3.421875 25.875 \n",
       "Q 3.421875 33.640625 6 39.96875 \n",
       "Q 8.59375 46.296875 13.765625 49.65625 \n",
       "Q 18.953125 53.03125 25.34375 53.03125 \n",
       "Q 30.03125 53.03125 33.6875 51.046875 \n",
       "Q 37.359375 49.078125 39.65625 45.90625 \n",
       "L 39.65625 71.578125 \n",
       "L 48.390625 71.578125 \n",
       "L 48.390625 0 \n",
       "z\n",
       "M 12.453125 25.875 \n",
       "Q 12.453125 15.921875 16.640625 10.984375 \n",
       "Q 20.84375 6.0625 26.5625 6.0625 \n",
       "Q 32.328125 6.0625 36.34375 10.765625 \n",
       "Q 40.375 15.484375 40.375 25.140625 \n",
       "Q 40.375 35.796875 36.265625 40.765625 \n",
       "Q 32.171875 45.75 26.171875 45.75 \n",
       "Q 20.3125 45.75 16.375 40.96875 \n",
       "Q 12.453125 36.1875 12.453125 25.875 \n",
       "z\n",
       "\" id=\"ArialMT-100\"/>\n",
       "       <path d=\"M 6.640625 61.46875 \n",
       "L 6.640625 71.578125 \n",
       "L 15.4375 71.578125 \n",
       "L 15.4375 61.46875 \n",
       "z\n",
       "M 6.640625 0 \n",
       "L 6.640625 51.859375 \n",
       "L 15.4375 51.859375 \n",
       "L 15.4375 0 \n",
       "z\n",
       "\" id=\"ArialMT-105\"/>\n",
       "       <path d=\"M 40.4375 19 \n",
       "L 49.078125 17.875 \n",
       "Q 47.65625 8.9375 41.8125 3.875 \n",
       "Q 35.984375 -1.171875 27.484375 -1.171875 \n",
       "Q 16.84375 -1.171875 10.375 5.78125 \n",
       "Q 3.90625 12.75 3.90625 25.734375 \n",
       "Q 3.90625 34.125 6.6875 40.421875 \n",
       "Q 9.46875 46.734375 15.15625 49.875 \n",
       "Q 20.84375 53.03125 27.546875 53.03125 \n",
       "Q 35.984375 53.03125 41.359375 48.75 \n",
       "Q 46.734375 44.484375 48.25 36.625 \n",
       "L 39.703125 35.296875 \n",
       "Q 38.484375 40.53125 35.375 43.15625 \n",
       "Q 32.28125 45.796875 27.875 45.796875 \n",
       "Q 21.234375 45.796875 17.078125 41.03125 \n",
       "Q 12.9375 36.28125 12.9375 25.984375 \n",
       "Q 12.9375 15.53125 16.9375 10.796875 \n",
       "Q 20.953125 6.0625 27.390625 6.0625 \n",
       "Q 32.5625 6.0625 36.03125 9.234375 \n",
       "Q 39.5 12.40625 40.4375 19 \n",
       "z\n",
       "\" id=\"ArialMT-99\"/>\n",
       "       <path d=\"M 25.78125 7.859375 \n",
       "L 27.046875 0.09375 \n",
       "Q 23.34375 -0.6875 20.40625 -0.6875 \n",
       "Q 15.625 -0.6875 12.984375 0.828125 \n",
       "Q 10.359375 2.34375 9.28125 4.8125 \n",
       "Q 8.203125 7.28125 8.203125 15.1875 \n",
       "L 8.203125 45.015625 \n",
       "L 1.765625 45.015625 \n",
       "L 1.765625 51.859375 \n",
       "L 8.203125 51.859375 \n",
       "L 8.203125 64.703125 \n",
       "L 16.9375 69.96875 \n",
       "L 16.9375 51.859375 \n",
       "L 25.78125 51.859375 \n",
       "L 25.78125 45.015625 \n",
       "L 16.9375 45.015625 \n",
       "L 16.9375 14.703125 \n",
       "Q 16.9375 10.9375 17.40625 9.859375 \n",
       "Q 17.875 8.796875 18.921875 8.15625 \n",
       "Q 19.96875 7.515625 21.921875 7.515625 \n",
       "Q 23.390625 7.515625 25.78125 7.859375 \n",
       "z\n",
       "\" id=\"ArialMT-116\"/>\n",
       "       <path id=\"ArialMT-32\"/>\n",
       "       <path d=\"M 14.703125 0 \n",
       "L 6.546875 0 \n",
       "L 6.546875 71.578125 \n",
       "L 15.328125 71.578125 \n",
       "L 15.328125 46.046875 \n",
       "Q 20.90625 53.03125 29.546875 53.03125 \n",
       "Q 34.328125 53.03125 38.59375 51.09375 \n",
       "Q 42.875 49.171875 45.625 45.671875 \n",
       "Q 48.390625 42.1875 49.953125 37.25 \n",
       "Q 51.515625 32.328125 51.515625 26.703125 \n",
       "Q 51.515625 13.375 44.921875 6.09375 \n",
       "Q 38.328125 -1.171875 29.109375 -1.171875 \n",
       "Q 19.921875 -1.171875 14.703125 6.5 \n",
       "z\n",
       "M 14.59375 26.3125 \n",
       "Q 14.59375 17 17.140625 12.84375 \n",
       "Q 21.296875 6.0625 28.375 6.0625 \n",
       "Q 34.125 6.0625 38.328125 11.0625 \n",
       "Q 42.53125 16.0625 42.53125 25.984375 \n",
       "Q 42.53125 36.140625 38.5 40.96875 \n",
       "Q 34.46875 45.796875 28.765625 45.796875 \n",
       "Q 23 45.796875 18.796875 40.796875 \n",
       "Q 14.59375 35.796875 14.59375 26.3125 \n",
       "z\n",
       "\" id=\"ArialMT-98\"/>\n",
       "      </defs>\n",
       "      <use xlink:href=\"#ArialMT-80\"/>\n",
       "      <use x=\"66.699219\" xlink:href=\"#ArialMT-114\"/>\n",
       "      <use x=\"100\" xlink:href=\"#ArialMT-101\"/>\n",
       "      <use x=\"155.615234\" xlink:href=\"#ArialMT-100\"/>\n",
       "      <use x=\"211.230469\" xlink:href=\"#ArialMT-105\"/>\n",
       "      <use x=\"233.447266\" xlink:href=\"#ArialMT-99\"/>\n",
       "      <use x=\"283.447266\" xlink:href=\"#ArialMT-116\"/>\n",
       "      <use x=\"311.230469\" xlink:href=\"#ArialMT-101\"/>\n",
       "      <use x=\"366.845703\" xlink:href=\"#ArialMT-100\"/>\n",
       "      <use x=\"422.460938\" xlink:href=\"#ArialMT-32\"/>\n",
       "      <use x=\"450.244141\" xlink:href=\"#ArialMT-108\"/>\n",
       "      <use x=\"472.460938\" xlink:href=\"#ArialMT-97\"/>\n",
       "      <use x=\"528.076172\" xlink:href=\"#ArialMT-98\"/>\n",
       "      <use x=\"583.691406\" xlink:href=\"#ArialMT-101\"/>\n",
       "      <use x=\"639.306641\" xlink:href=\"#ArialMT-108\"/>\n",
       "     </g>\n",
       "    </g>\n",
       "   </g>\n",
       "   <g id=\"matplotlib.axis_2\">\n",
       "    <g id=\"ytick_1\">\n",
       "     <g id=\"text_4\">\n",
       "      <!-- fake -->\n",
       "      <g style=\"fill:#262626;\" transform=\"translate(20.345313 52.26676)scale(0.1 -0.1)\">\n",
       "       <use xlink:href=\"#ArialMT-102\"/>\n",
       "       <use x=\"27.783203\" xlink:href=\"#ArialMT-97\"/>\n",
       "       <use x=\"83.398438\" xlink:href=\"#ArialMT-107\"/>\n",
       "       <use x=\"133.398438\" xlink:href=\"#ArialMT-101\"/>\n",
       "      </g>\n",
       "     </g>\n",
       "    </g>\n",
       "    <g id=\"ytick_2\">\n",
       "     <g id=\"text_5\">\n",
       "      <!-- real -->\n",
       "      <g style=\"fill:#262626;\" transform=\"translate(22.571875 133.80676)scale(0.1 -0.1)\">\n",
       "       <use xlink:href=\"#ArialMT-114\"/>\n",
       "       <use x=\"33.300781\" xlink:href=\"#ArialMT-101\"/>\n",
       "       <use x=\"88.916016\" xlink:href=\"#ArialMT-97\"/>\n",
       "       <use x=\"144.53125\" xlink:href=\"#ArialMT-108\"/>\n",
       "      </g>\n",
       "     </g>\n",
       "    </g>\n",
       "    <g id=\"text_6\">\n",
       "     <!-- True label -->\n",
       "     <g style=\"fill:#262626;\" transform=\"translate(14.357813 111.502385)rotate(-90)scale(0.1 -0.1)\">\n",
       "      <defs>\n",
       "       <path d=\"M 25.921875 0 \n",
       "L 25.921875 63.140625 \n",
       "L 2.34375 63.140625 \n",
       "L 2.34375 71.578125 \n",
       "L 59.078125 71.578125 \n",
       "L 59.078125 63.140625 \n",
       "L 35.40625 63.140625 \n",
       "L 35.40625 0 \n",
       "z\n",
       "\" id=\"ArialMT-84\"/>\n",
       "       <path d=\"M 40.578125 0 \n",
       "L 40.578125 7.625 \n",
       "Q 34.515625 -1.171875 24.125 -1.171875 \n",
       "Q 19.53125 -1.171875 15.546875 0.578125 \n",
       "Q 11.578125 2.34375 9.640625 5 \n",
       "Q 7.71875 7.671875 6.9375 11.53125 \n",
       "Q 6.390625 14.109375 6.390625 19.734375 \n",
       "L 6.390625 51.859375 \n",
       "L 15.1875 51.859375 \n",
       "L 15.1875 23.09375 \n",
       "Q 15.1875 16.21875 15.71875 13.8125 \n",
       "Q 16.546875 10.359375 19.234375 8.375 \n",
       "Q 21.921875 6.390625 25.875 6.390625 \n",
       "Q 29.828125 6.390625 33.296875 8.421875 \n",
       "Q 36.765625 10.453125 38.203125 13.9375 \n",
       "Q 39.65625 17.4375 39.65625 24.078125 \n",
       "L 39.65625 51.859375 \n",
       "L 48.4375 51.859375 \n",
       "L 48.4375 0 \n",
       "z\n",
       "\" id=\"ArialMT-117\"/>\n",
       "      </defs>\n",
       "      <use xlink:href=\"#ArialMT-84\"/>\n",
       "      <use x=\"57.333984\" xlink:href=\"#ArialMT-114\"/>\n",
       "      <use x=\"90.634766\" xlink:href=\"#ArialMT-117\"/>\n",
       "      <use x=\"146.25\" xlink:href=\"#ArialMT-101\"/>\n",
       "      <use x=\"201.865234\" xlink:href=\"#ArialMT-32\"/>\n",
       "      <use x=\"229.648438\" xlink:href=\"#ArialMT-108\"/>\n",
       "      <use x=\"251.865234\" xlink:href=\"#ArialMT-97\"/>\n",
       "      <use x=\"307.480469\" xlink:href=\"#ArialMT-98\"/>\n",
       "      <use x=\"363.095703\" xlink:href=\"#ArialMT-101\"/>\n",
       "      <use x=\"418.710938\" xlink:href=\"#ArialMT-108\"/>\n",
       "     </g>\n",
       "    </g>\n",
       "   </g>\n",
       "   <g id=\"patch_3\">\n",
       "    <path d=\"M 46.245313 170.997854 \n",
       "L 46.245313 7.917854 \n",
       "\" style=\"fill:none;stroke:#cccccc;stroke-linecap:square;stroke-linejoin:miter;stroke-width:0.8;\"/>\n",
       "   </g>\n",
       "   <g id=\"patch_4\">\n",
       "    <path d=\"M 209.325313 170.997854 \n",
       "L 209.325313 7.917854 \n",
       "\" style=\"fill:none;stroke:#cccccc;stroke-linecap:square;stroke-linejoin:miter;stroke-width:0.8;\"/>\n",
       "   </g>\n",
       "   <g id=\"patch_5\">\n",
       "    <path d=\"M 46.245313 170.997854 \n",
       "L 209.325312 170.997854 \n",
       "\" style=\"fill:none;stroke:#cccccc;stroke-linecap:square;stroke-linejoin:miter;stroke-width:0.8;\"/>\n",
       "   </g>\n",
       "   <g id=\"patch_6\">\n",
       "    <path d=\"M 46.245313 7.917854 \n",
       "L 209.325312 7.917854 \n",
       "\" style=\"fill:none;stroke:#cccccc;stroke-linecap:square;stroke-linejoin:miter;stroke-width:0.8;\"/>\n",
       "   </g>\n",
       "   <g id=\"text_7\">\n",
       "    <!-- 71 -->\n",
       "    <g style=\"fill:#f7fbff;\" transform=\"translate(81.454375 51.27301)scale(0.1 -0.1)\">\n",
       "     <defs>\n",
       "      <path d=\"M 4.734375 62.203125 \n",
       "L 4.734375 70.65625 \n",
       "L 51.078125 70.65625 \n",
       "L 51.078125 63.8125 \n",
       "Q 44.234375 56.546875 37.515625 44.484375 \n",
       "Q 30.8125 32.421875 27.15625 19.671875 \n",
       "Q 24.515625 10.6875 23.78125 0 \n",
       "L 14.75 0 \n",
       "Q 14.890625 8.453125 18.0625 20.40625 \n",
       "Q 21.234375 32.375 27.171875 43.484375 \n",
       "Q 33.109375 54.59375 39.796875 62.203125 \n",
       "z\n",
       "\" id=\"ArialMT-55\"/>\n",
       "      <path d=\"M 37.25 0 \n",
       "L 28.46875 0 \n",
       "L 28.46875 56 \n",
       "Q 25.296875 52.984375 20.140625 49.953125 \n",
       "Q 14.984375 46.921875 10.890625 45.40625 \n",
       "L 10.890625 53.90625 \n",
       "Q 18.265625 57.375 23.78125 62.296875 \n",
       "Q 29.296875 67.234375 31.59375 71.875 \n",
       "L 37.25 71.875 \n",
       "z\n",
       "\" id=\"ArialMT-49\"/>\n",
       "     </defs>\n",
       "     <use xlink:href=\"#ArialMT-55\"/>\n",
       "     <use x=\"55.615234\" xlink:href=\"#ArialMT-49\"/>\n",
       "    </g>\n",
       "   </g>\n",
       "   <g id=\"text_8\">\n",
       "    <!-- 14 -->\n",
       "    <g style=\"fill:#08306b;\" transform=\"translate(162.994375 51.27301)scale(0.1 -0.1)\">\n",
       "     <defs>\n",
       "      <path d=\"M 32.328125 0 \n",
       "L 32.328125 17.140625 \n",
       "L 1.265625 17.140625 \n",
       "L 1.265625 25.203125 \n",
       "L 33.9375 71.578125 \n",
       "L 41.109375 71.578125 \n",
       "L 41.109375 25.203125 \n",
       "L 50.78125 25.203125 \n",
       "L 50.78125 17.140625 \n",
       "L 41.109375 17.140625 \n",
       "L 41.109375 0 \n",
       "z\n",
       "M 32.328125 25.203125 \n",
       "L 32.328125 57.46875 \n",
       "L 9.90625 25.203125 \n",
       "z\n",
       "\" id=\"ArialMT-52\"/>\n",
       "     </defs>\n",
       "     <use xlink:href=\"#ArialMT-49\"/>\n",
       "     <use x=\"55.615234\" xlink:href=\"#ArialMT-52\"/>\n",
       "    </g>\n",
       "   </g>\n",
       "   <g id=\"text_9\">\n",
       "    <!-- 29 -->\n",
       "    <g style=\"fill:#08306b;\" transform=\"translate(81.454375 132.81301)scale(0.1 -0.1)\">\n",
       "     <defs>\n",
       "      <path d=\"M 50.34375 8.453125 \n",
       "L 50.34375 0 \n",
       "L 3.03125 0 \n",
       "Q 2.9375 3.171875 4.046875 6.109375 \n",
       "Q 5.859375 10.9375 9.828125 15.625 \n",
       "Q 13.8125 20.3125 21.34375 26.46875 \n",
       "Q 33.015625 36.03125 37.109375 41.625 \n",
       "Q 41.21875 47.21875 41.21875 52.203125 \n",
       "Q 41.21875 57.421875 37.46875 61 \n",
       "Q 33.734375 64.59375 27.734375 64.59375 \n",
       "Q 21.390625 64.59375 17.578125 60.78125 \n",
       "Q 13.765625 56.984375 13.71875 50.25 \n",
       "L 4.6875 51.171875 \n",
       "Q 5.609375 61.28125 11.65625 66.578125 \n",
       "Q 17.71875 71.875 27.9375 71.875 \n",
       "Q 38.234375 71.875 44.234375 66.15625 \n",
       "Q 50.25 60.453125 50.25 52 \n",
       "Q 50.25 47.703125 48.484375 43.546875 \n",
       "Q 46.734375 39.40625 42.65625 34.8125 \n",
       "Q 38.578125 30.21875 29.109375 22.21875 \n",
       "Q 21.1875 15.578125 18.9375 13.203125 \n",
       "Q 16.703125 10.84375 15.234375 8.453125 \n",
       "z\n",
       "\" id=\"ArialMT-50\"/>\n",
       "      <path d=\"M 5.46875 16.546875 \n",
       "L 13.921875 17.328125 \n",
       "Q 14.984375 11.375 18.015625 8.6875 \n",
       "Q 21.046875 6 25.78125 6 \n",
       "Q 29.828125 6 32.875 7.859375 \n",
       "Q 35.9375 9.71875 37.890625 12.8125 \n",
       "Q 39.84375 15.921875 41.15625 21.1875 \n",
       "Q 42.484375 26.46875 42.484375 31.9375 \n",
       "Q 42.484375 32.515625 42.4375 33.6875 \n",
       "Q 39.796875 29.5 35.234375 26.875 \n",
       "Q 30.671875 24.265625 25.34375 24.265625 \n",
       "Q 16.453125 24.265625 10.296875 30.703125 \n",
       "Q 4.15625 37.15625 4.15625 47.703125 \n",
       "Q 4.15625 58.59375 10.578125 65.234375 \n",
       "Q 17 71.875 26.65625 71.875 \n",
       "Q 33.640625 71.875 39.421875 68.109375 \n",
       "Q 45.21875 64.359375 48.21875 57.390625 \n",
       "Q 51.21875 50.4375 51.21875 37.25 \n",
       "Q 51.21875 23.53125 48.234375 15.40625 \n",
       "Q 45.265625 7.28125 39.375 3.03125 \n",
       "Q 33.5 -1.21875 25.59375 -1.21875 \n",
       "Q 17.1875 -1.21875 11.859375 3.4375 \n",
       "Q 6.546875 8.109375 5.46875 16.546875 \n",
       "z\n",
       "M 41.453125 48.140625 \n",
       "Q 41.453125 55.71875 37.421875 60.15625 \n",
       "Q 33.40625 64.59375 27.734375 64.59375 \n",
       "Q 21.875 64.59375 17.53125 59.8125 \n",
       "Q 13.1875 55.03125 13.1875 47.40625 \n",
       "Q 13.1875 40.578125 17.3125 36.296875 \n",
       "Q 21.4375 32.03125 27.484375 32.03125 \n",
       "Q 33.59375 32.03125 37.515625 36.296875 \n",
       "Q 41.453125 40.578125 41.453125 48.140625 \n",
       "z\n",
       "\" id=\"ArialMT-57\"/>\n",
       "     </defs>\n",
       "     <use xlink:href=\"#ArialMT-50\"/>\n",
       "     <use x=\"55.615234\" xlink:href=\"#ArialMT-57\"/>\n",
       "    </g>\n",
       "   </g>\n",
       "   <g id=\"text_10\">\n",
       "    <!-- 52 -->\n",
       "    <g style=\"fill:#f7fbff;\" transform=\"translate(162.994375 132.81301)scale(0.1 -0.1)\">\n",
       "     <defs>\n",
       "      <path d=\"M 4.15625 18.75 \n",
       "L 13.375 19.53125 \n",
       "Q 14.40625 12.796875 18.140625 9.390625 \n",
       "Q 21.875 6 27.15625 6 \n",
       "Q 33.5 6 37.890625 10.78125 \n",
       "Q 42.28125 15.578125 42.28125 23.484375 \n",
       "Q 42.28125 31 38.0625 35.34375 \n",
       "Q 33.84375 39.703125 27 39.703125 \n",
       "Q 22.75 39.703125 19.328125 37.765625 \n",
       "Q 15.921875 35.84375 13.96875 32.765625 \n",
       "L 5.71875 33.84375 \n",
       "L 12.640625 70.609375 \n",
       "L 48.25 70.609375 \n",
       "L 48.25 62.203125 \n",
       "L 19.671875 62.203125 \n",
       "L 15.828125 42.96875 \n",
       "Q 22.265625 47.46875 29.34375 47.46875 \n",
       "Q 38.71875 47.46875 45.15625 40.96875 \n",
       "Q 51.609375 34.46875 51.609375 24.265625 \n",
       "Q 51.609375 14.546875 45.953125 7.46875 \n",
       "Q 39.0625 -1.21875 27.15625 -1.21875 \n",
       "Q 17.390625 -1.21875 11.203125 4.25 \n",
       "Q 5.03125 9.71875 4.15625 18.75 \n",
       "z\n",
       "\" id=\"ArialMT-53\"/>\n",
       "     </defs>\n",
       "     <use xlink:href=\"#ArialMT-53\"/>\n",
       "     <use x=\"55.615234\" xlink:href=\"#ArialMT-50\"/>\n",
       "    </g>\n",
       "   </g>\n",
       "  </g>\n",
       "  <g id=\"axes_2\">\n",
       "   <g id=\"patch_7\">\n",
       "    <path clip-path=\"url(#p7a59e6fbff)\" d=\"M 220.485313 170.997854 \n",
       "L 220.485313 170.360822 \n",
       "L 220.485313 8.554885 \n",
       "L 220.485313 7.917854 \n",
       "L 228.639313 7.917854 \n",
       "L 228.639313 8.554885 \n",
       "L 228.639313 170.360822 \n",
       "L 228.639313 170.997854 \n",
       "z\n",
       "\" style=\"fill:#ffffff;stroke:#ffffff;stroke-linejoin:miter;stroke-width:0.01;\"/>\n",
       "   </g>\n",
       "   <g id=\"matplotlib.axis_3\"/>\n",
       "   <g id=\"matplotlib.axis_4\">\n",
       "    <g id=\"ytick_3\">\n",
       "     <g id=\"line2d_1\">\n",
       "      <defs>\n",
       "       <path d=\"M 0 0 \n",
       "L 3.5 0 \n",
       "\" id=\"m384128806d\" style=\"stroke:#262626;stroke-width:0.8;\"/>\n",
       "      </defs>\n",
       "      <g>\n",
       "       <use style=\"fill:#262626;stroke:#262626;stroke-width:0.8;\" x=\"228.639313\" xlink:href=\"#m384128806d\" y=\"153.831538\"/>\n",
       "      </g>\n",
       "     </g>\n",
       "     <g id=\"text_11\">\n",
       "      <!-- 20 -->\n",
       "      <g style=\"fill:#262626;\" transform=\"translate(235.639313 157.410444)scale(0.1 -0.1)\">\n",
       "       <defs>\n",
       "        <path d=\"M 4.15625 35.296875 \n",
       "Q 4.15625 48 6.765625 55.734375 \n",
       "Q 9.375 63.484375 14.515625 67.671875 \n",
       "Q 19.671875 71.875 27.484375 71.875 \n",
       "Q 33.25 71.875 37.59375 69.546875 \n",
       "Q 41.9375 67.234375 44.765625 62.859375 \n",
       "Q 47.609375 58.5 49.21875 52.21875 \n",
       "Q 50.828125 45.953125 50.828125 35.296875 \n",
       "Q 50.828125 22.703125 48.234375 14.96875 \n",
       "Q 45.65625 7.234375 40.5 3 \n",
       "Q 35.359375 -1.21875 27.484375 -1.21875 \n",
       "Q 17.140625 -1.21875 11.234375 6.203125 \n",
       "Q 4.15625 15.140625 4.15625 35.296875 \n",
       "z\n",
       "M 13.1875 35.296875 \n",
       "Q 13.1875 17.671875 17.3125 11.828125 \n",
       "Q 21.4375 6 27.484375 6 \n",
       "Q 33.546875 6 37.671875 11.859375 \n",
       "Q 41.796875 17.71875 41.796875 35.296875 \n",
       "Q 41.796875 52.984375 37.671875 58.78125 \n",
       "Q 33.546875 64.59375 27.390625 64.59375 \n",
       "Q 21.34375 64.59375 17.71875 59.46875 \n",
       "Q 13.1875 52.9375 13.1875 35.296875 \n",
       "z\n",
       "\" id=\"ArialMT-48\"/>\n",
       "       </defs>\n",
       "       <use xlink:href=\"#ArialMT-50\"/>\n",
       "       <use x=\"55.615234\" xlink:href=\"#ArialMT-48\"/>\n",
       "      </g>\n",
       "     </g>\n",
       "    </g>\n",
       "    <g id=\"ytick_4\">\n",
       "     <g id=\"line2d_2\">\n",
       "      <g>\n",
       "       <use style=\"fill:#262626;stroke:#262626;stroke-width:0.8;\" x=\"228.639313\" xlink:href=\"#m384128806d\" y=\"125.221012\"/>\n",
       "      </g>\n",
       "     </g>\n",
       "     <g id=\"text_12\">\n",
       "      <!-- 30 -->\n",
       "      <g style=\"fill:#262626;\" transform=\"translate(235.639313 128.799918)scale(0.1 -0.1)\">\n",
       "       <defs>\n",
       "        <path d=\"M 4.203125 18.890625 \n",
       "L 12.984375 20.0625 \n",
       "Q 14.5 12.59375 18.140625 9.296875 \n",
       "Q 21.78125 6 27 6 \n",
       "Q 33.203125 6 37.46875 10.296875 \n",
       "Q 41.75 14.59375 41.75 20.953125 \n",
       "Q 41.75 27 37.796875 30.921875 \n",
       "Q 33.84375 34.859375 27.734375 34.859375 \n",
       "Q 25.25 34.859375 21.53125 33.890625 \n",
       "L 22.515625 41.609375 \n",
       "Q 23.390625 41.5 23.921875 41.5 \n",
       "Q 29.546875 41.5 34.03125 44.421875 \n",
       "Q 38.53125 47.359375 38.53125 53.46875 \n",
       "Q 38.53125 58.296875 35.25 61.46875 \n",
       "Q 31.984375 64.65625 26.8125 64.65625 \n",
       "Q 21.6875 64.65625 18.265625 61.421875 \n",
       "Q 14.84375 58.203125 13.875 51.765625 \n",
       "L 5.078125 53.328125 \n",
       "Q 6.6875 62.15625 12.390625 67.015625 \n",
       "Q 18.109375 71.875 26.609375 71.875 \n",
       "Q 32.46875 71.875 37.390625 69.359375 \n",
       "Q 42.328125 66.84375 44.9375 62.5 \n",
       "Q 47.5625 58.15625 47.5625 53.265625 \n",
       "Q 47.5625 48.640625 45.0625 44.828125 \n",
       "Q 42.578125 41.015625 37.703125 38.765625 \n",
       "Q 44.046875 37.3125 47.5625 32.6875 \n",
       "Q 51.078125 28.078125 51.078125 21.140625 \n",
       "Q 51.078125 11.765625 44.234375 5.25 \n",
       "Q 37.40625 -1.265625 26.953125 -1.265625 \n",
       "Q 17.53125 -1.265625 11.296875 4.34375 \n",
       "Q 5.078125 9.96875 4.203125 18.890625 \n",
       "z\n",
       "\" id=\"ArialMT-51\"/>\n",
       "       </defs>\n",
       "       <use xlink:href=\"#ArialMT-51\"/>\n",
       "       <use x=\"55.615234\" xlink:href=\"#ArialMT-48\"/>\n",
       "      </g>\n",
       "     </g>\n",
       "    </g>\n",
       "    <g id=\"ytick_5\">\n",
       "     <g id=\"line2d_3\">\n",
       "      <g>\n",
       "       <use style=\"fill:#262626;stroke:#262626;stroke-width:0.8;\" x=\"228.639313\" xlink:href=\"#m384128806d\" y=\"96.610485\"/>\n",
       "      </g>\n",
       "     </g>\n",
       "     <g id=\"text_13\">\n",
       "      <!-- 40 -->\n",
       "      <g style=\"fill:#262626;\" transform=\"translate(235.639313 100.189391)scale(0.1 -0.1)\">\n",
       "       <use xlink:href=\"#ArialMT-52\"/>\n",
       "       <use x=\"55.615234\" xlink:href=\"#ArialMT-48\"/>\n",
       "      </g>\n",
       "     </g>\n",
       "    </g>\n",
       "    <g id=\"ytick_6\">\n",
       "     <g id=\"line2d_4\">\n",
       "      <g>\n",
       "       <use style=\"fill:#262626;stroke:#262626;stroke-width:0.8;\" x=\"228.639313\" xlink:href=\"#m384128806d\" y=\"67.999959\"/>\n",
       "      </g>\n",
       "     </g>\n",
       "     <g id=\"text_14\">\n",
       "      <!-- 50 -->\n",
       "      <g style=\"fill:#262626;\" transform=\"translate(235.639313 71.578865)scale(0.1 -0.1)\">\n",
       "       <use xlink:href=\"#ArialMT-53\"/>\n",
       "       <use x=\"55.615234\" xlink:href=\"#ArialMT-48\"/>\n",
       "      </g>\n",
       "     </g>\n",
       "    </g>\n",
       "    <g id=\"ytick_7\">\n",
       "     <g id=\"line2d_5\">\n",
       "      <g>\n",
       "       <use style=\"fill:#262626;stroke:#262626;stroke-width:0.8;\" x=\"228.639313\" xlink:href=\"#m384128806d\" y=\"39.389433\"/>\n",
       "      </g>\n",
       "     </g>\n",
       "     <g id=\"text_15\">\n",
       "      <!-- 60 -->\n",
       "      <g style=\"fill:#262626;\" transform=\"translate(235.639313 42.968339)scale(0.1 -0.1)\">\n",
       "       <defs>\n",
       "        <path d=\"M 49.75 54.046875 \n",
       "L 41.015625 53.375 \n",
       "Q 39.84375 58.546875 37.703125 60.890625 \n",
       "Q 34.125 64.65625 28.90625 64.65625 \n",
       "Q 24.703125 64.65625 21.53125 62.3125 \n",
       "Q 17.390625 59.28125 14.984375 53.46875 \n",
       "Q 12.59375 47.65625 12.5 36.921875 \n",
       "Q 15.671875 41.75 20.265625 44.09375 \n",
       "Q 24.859375 46.4375 29.890625 46.4375 \n",
       "Q 38.671875 46.4375 44.84375 39.96875 \n",
       "Q 51.03125 33.5 51.03125 23.25 \n",
       "Q 51.03125 16.5 48.125 10.71875 \n",
       "Q 45.21875 4.9375 40.140625 1.859375 \n",
       "Q 35.0625 -1.21875 28.609375 -1.21875 \n",
       "Q 17.625 -1.21875 10.6875 6.859375 \n",
       "Q 3.765625 14.9375 3.765625 33.5 \n",
       "Q 3.765625 54.25 11.421875 63.671875 \n",
       "Q 18.109375 71.875 29.4375 71.875 \n",
       "Q 37.890625 71.875 43.28125 67.140625 \n",
       "Q 48.6875 62.40625 49.75 54.046875 \n",
       "z\n",
       "M 13.875 23.1875 \n",
       "Q 13.875 18.65625 15.796875 14.5 \n",
       "Q 17.71875 10.359375 21.1875 8.171875 \n",
       "Q 24.65625 6 28.46875 6 \n",
       "Q 34.03125 6 38.03125 10.484375 \n",
       "Q 42.046875 14.984375 42.046875 22.703125 \n",
       "Q 42.046875 30.125 38.078125 34.390625 \n",
       "Q 34.125 38.671875 28.125 38.671875 \n",
       "Q 22.171875 38.671875 18.015625 34.390625 \n",
       "Q 13.875 30.125 13.875 23.1875 \n",
       "z\n",
       "\" id=\"ArialMT-54\"/>\n",
       "       </defs>\n",
       "       <use xlink:href=\"#ArialMT-54\"/>\n",
       "       <use x=\"55.615234\" xlink:href=\"#ArialMT-48\"/>\n",
       "      </g>\n",
       "     </g>\n",
       "    </g>\n",
       "    <g id=\"ytick_8\">\n",
       "     <g id=\"line2d_6\">\n",
       "      <g>\n",
       "       <use style=\"fill:#262626;stroke:#262626;stroke-width:0.8;\" x=\"228.639313\" xlink:href=\"#m384128806d\" y=\"10.778906\"/>\n",
       "      </g>\n",
       "     </g>\n",
       "     <g id=\"text_16\">\n",
       "      <!-- 70 -->\n",
       "      <g style=\"fill:#262626;\" transform=\"translate(235.639313 14.357812)scale(0.1 -0.1)\">\n",
       "       <use xlink:href=\"#ArialMT-55\"/>\n",
       "       <use x=\"55.615234\" xlink:href=\"#ArialMT-48\"/>\n",
       "      </g>\n",
       "     </g>\n",
       "    </g>\n",
       "   </g>\n",
       "   <image height=\"164\" id=\"image976ddd47dc\" transform=\"scale(1 -1)translate(0 -164)\" width=\"9\" x=\"220\" xlink:href=\"data:image/png;base64,\n",
       "iVBORw0KGgoAAAANSUhEUgAAAAkAAACkCAYAAABFEwQgAAAA5UlEQVR4nO2XOQ7DQAwDlWD//90U8cp5gqYYEGsgrglqQB22X5/vfdfwrJ41tWrW1Goiukk5YATBgYaKQAZmBEeCI5FWjoCLOT12MrPgj70FIrg2mR74zoaJckJOEJwwNWFi59BqsNcW5ATBtbYcGMEGo8nAL80J9o44ESYkYuWy4GIE3n0iVwWt1KU5hRehWe88kcUEI4ieQzFMtgjaEfPCDE+mBh53GjWnRjBqajX4XhMj2OCVcGQE7L+FOIXLsf87cTIJk1YuDX4ik1auegOR6EQWATmFy4Uj2P8IrCl4j4qq+gEug5A9Wqa0KgAAAABJRU5ErkJggg==\" y=\"-7\"/>\n",
       "   <g id=\"patch_8\">\n",
       "    <path d=\"M 220.485313 170.997854 \n",
       "L 220.485313 170.360822 \n",
       "L 220.485313 8.554885 \n",
       "L 220.485313 7.917854 \n",
       "L 228.639313 7.917854 \n",
       "L 228.639313 8.554885 \n",
       "L 228.639313 170.360822 \n",
       "L 228.639313 170.997854 \n",
       "z\n",
       "\" style=\"fill:none;stroke:#cccccc;stroke-linejoin:miter;stroke-width:0.8;\"/>\n",
       "   </g>\n",
       "  </g>\n",
       " </g>\n",
       " <defs>\n",
       "  <clipPath id=\"pc83e4cab73\">\n",
       "   <rect height=\"163.08\" width=\"163.08\" x=\"46.245313\" y=\"7.917854\"/>\n",
       "  </clipPath>\n",
       "  <clipPath id=\"p7a59e6fbff\">\n",
       "   <rect height=\"163.08\" width=\"8.154\" x=\"220.485313\" y=\"7.917854\"/>\n",
       "  </clipPath>\n",
       " </defs>\n",
       "</svg>\n"
      ],
      "text/plain": [
       "<Figure size 288x216 with 2 Axes>"
      ]
     },
     "metadata": {},
     "output_type": "display_data"
    }
   ],
   "source": [
    "plot_confusion_matrix(clf, X_test, y_test,\n",
    "                      cmap=plt.cm.Blues)\n",
    "plt.grid(False);"
   ]
  },
  {
   "cell_type": "code",
   "execution_count": 46,
   "id": "4eddce84-e16c-47c5-bc9a-c90320a7ddf6",
   "metadata": {},
   "outputs": [
    {
     "data": {
      "text/plain": [
       "array([    0.  ,     0.  ,     0.01,     0.05,     0.36,     2.78,\n",
       "          21.54,   166.81,  1291.55, 10000.  ])"
      ]
     },
     "execution_count": 46,
     "metadata": {},
     "output_type": "execute_result"
    }
   ],
   "source": [
    "log_reg = clf.named_steps['logisticregressioncv']\n",
    "log_reg.Cs_"
   ]
  },
  {
   "cell_type": "code",
   "execution_count": 47,
   "id": "b7443769-d514-49c7-88b2-ea60dfb7dee0",
   "metadata": {},
   "outputs": [
    {
     "data": {
      "text/html": [
       "<div>\n",
       "<style scoped>\n",
       "    .dataframe tbody tr th:only-of-type {\n",
       "        vertical-align: middle;\n",
       "    }\n",
       "\n",
       "    .dataframe tbody tr th {\n",
       "        vertical-align: top;\n",
       "    }\n",
       "\n",
       "    .dataframe thead th {\n",
       "        text-align: right;\n",
       "    }\n",
       "</style>\n",
       "<table border=\"1\" class=\"dataframe\">\n",
       "  <thead>\n",
       "    <tr style=\"text-align: right;\">\n",
       "      <th></th>\n",
       "      <th>coef</th>\n",
       "    </tr>\n",
       "    <tr>\n",
       "      <th>word</th>\n",
       "      <th></th>\n",
       "    </tr>\n",
       "  </thead>\n",
       "  <tbody>\n",
       "    <tr>\n",
       "      <th>trump</th>\n",
       "      <td>-2.28</td>\n",
       "    </tr>\n",
       "    <tr>\n",
       "      <th>joke</th>\n",
       "      <td>-1.39</td>\n",
       "    </tr>\n",
       "    <tr>\n",
       "      <th>antifa</th>\n",
       "      <td>-0.98</td>\n",
       "    </tr>\n",
       "    <tr>\n",
       "      <th>investig</th>\n",
       "      <td>-0.79</td>\n",
       "    </tr>\n",
       "    <tr>\n",
       "      <th>fbi</th>\n",
       "      <td>-0.71</td>\n",
       "    </tr>\n",
       "    <tr>\n",
       "      <th>donald</th>\n",
       "      <td>-0.37</td>\n",
       "    </tr>\n",
       "    <tr>\n",
       "      <th>cnn</th>\n",
       "      <td>-0.26</td>\n",
       "    </tr>\n",
       "    <tr>\n",
       "      <th>state</th>\n",
       "      <td>0.13</td>\n",
       "    </tr>\n",
       "    <tr>\n",
       "      <th>clinton</th>\n",
       "      <td>0.13</td>\n",
       "    </tr>\n",
       "    <tr>\n",
       "      <th>homeless</th>\n",
       "      <td>0.43</td>\n",
       "    </tr>\n",
       "    <tr>\n",
       "      <th>hillary</th>\n",
       "      <td>0.49</td>\n",
       "    </tr>\n",
       "    <tr>\n",
       "      <th>military</th>\n",
       "      <td>0.61</td>\n",
       "    </tr>\n",
       "    <tr>\n",
       "      <th>shutdown</th>\n",
       "      <td>0.93</td>\n",
       "    </tr>\n",
       "    <tr>\n",
       "      <th>princ</th>\n",
       "      <td>1.14</td>\n",
       "    </tr>\n",
       "    <tr>\n",
       "      <th>vote</th>\n",
       "      <td>1.46</td>\n",
       "    </tr>\n",
       "    <tr>\n",
       "      <th>congress</th>\n",
       "      <td>1.69</td>\n",
       "    </tr>\n",
       "  </tbody>\n",
       "</table>\n",
       "</div>"
      ],
      "text/plain": [
       "          coef\n",
       "word          \n",
       "trump    -2.28\n",
       "joke     -1.39\n",
       "antifa   -0.98\n",
       "investig -0.79\n",
       "fbi      -0.71\n",
       "donald   -0.37\n",
       "cnn      -0.26\n",
       "state     0.13\n",
       "clinton   0.13\n",
       "homeless  0.43\n",
       "hillary   0.49\n",
       "military  0.61\n",
       "shutdown  0.93\n",
       "princ     1.14\n",
       "vote      1.46\n",
       "congress  1.69"
      ]
     },
     "metadata": {},
     "output_type": "display_data"
    }
   ],
   "source": [
    "coefs = (pd.DataFrame({'word': word_features, 'coef': log_reg.coef_[0]})\n",
    "         .set_index('word')\n",
    "         .sort_values('coef')\n",
    "        )\n",
    "display_df(coefs, 16)"
   ]
  },
  {
   "cell_type": "code",
   "execution_count": null,
   "id": "477732c5-09e6-4179-883b-6cfa02aee283",
   "metadata": {},
   "outputs": [],
   "source": []
  }
 ],
 "metadata": {
  "kernelspec": {
   "display_name": "Python 3",
   "language": "python",
   "name": "python3"
  },
  "language_info": {
   "codemirror_mode": {
    "name": "ipython",
    "version": 3
   },
   "file_extension": ".py",
   "mimetype": "text/x-python",
   "name": "python",
   "nbconvert_exporter": "python",
   "pygments_lexer": "ipython3",
   "version": "3.9.4"
  }
 },
 "nbformat": 4,
 "nbformat_minor": 5
}
